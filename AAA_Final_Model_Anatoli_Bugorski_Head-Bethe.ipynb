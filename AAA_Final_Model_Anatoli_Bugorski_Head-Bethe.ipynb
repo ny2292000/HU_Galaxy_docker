{
 "cells": [
  {
   "cell_type": "markdown",
   "id": "1b76ee87",
   "metadata": {},
   "source": [
    "Anatoli Bugorski's accident is a fascinating case involving a high-energy proton beam. We can calculate the energy deposited in his brain using the Bethe-Bloch equation. Here’s the plan:\n",
    "\n",
    "### Step 1: Bethe-Bloch Equation\n",
    "The Bethe-Bloch equation describes the energy loss per unit length ($ -\\frac{dE}{dx}$ ) for charged particles as they travel through matter:\n",
    "\n",
    "$$-\\frac{dE}{dx} = K \\cdot z^2 \\cdot \\frac{1}{\\beta^2} \\cdot \\left[\\frac{1}{2} \\ln\\left(\\frac{2 m_e c^2 \\beta^2 \\gamma^2 T_{max}}{I^2}\\right) - \\beta^2\\right]$$\n",
    "\n",
    "Where:\n",
    "- $ K = 0.307 \\, \\mathrm{MeV} \\, \\mathrm{cm}^2 / \\mathrm{g}$ ,\n",
    "- $ z = 1$  (charge of the proton),\n",
    "- $ \\beta = v/c$  (velocity of the particle),\n",
    "- $ \\gamma = (1 - \\beta^2)^{-1/2}$ ,\n",
    "- $ m_e c^2 = 0.511 \\, \\mathrm{MeV}$  (electron rest energy),\n",
    "- $ T_{max} = 2 m_e c^2 \\beta^2 \\gamma^2$  (maximum energy transfer to an electron),\n",
    "- $ I = 75 \\, \\mathrm{eV}$  (mean excitation energy of brain tissue).\n",
    "\n",
    "### Step 2: Input Parameters\n",
    "The proton beam in Bugorski's accident had an energy of approximately $ 76 \\, \\mathrm{GeV}$ . This corresponds to:\n",
    "- $ \\gamma = \\frac{E}{m_p c^2} \\approx \\frac{76 \\, \\mathrm{GeV}}{0.938 \\, \\mathrm{GeV}} \\approx 81$ ,\n",
    "- $ \\beta = \\sqrt{1 - \\frac{1}{\\gamma^2}} \\approx 0.9999$ .\n",
    "\n",
    "### Step 3: Energy Loss Per Unit Length\n",
    "We calculate $ -\\frac{dE}{dx}$  for brain tissue with a density of approximately $ 1.04 \\, \\mathrm{g/cm^3}$ .\n",
    "\n",
    "### Step 4: Total Energy Deposited\n",
    "To find the total energy deposited, multiply $ -\\frac{dE}{dx}$  by the path length $ L = 10 \\, \\mathrm{cm}$ .\n",
    "\n",
    "\n",
    "The total energy deposited in Anatoli Bugorski's brain over a 10 cm path length, calculated using the Bethe-Bloch equation, is approximately **55.27 MeV**. This energy deposition is significant and aligns with the physical implications of the accident."
   ]
  },
  {
   "cell_type": "markdown",
   "id": "8713a6cb",
   "metadata": {},
   "source": [
    "### Bethe-Bloch Equation\n",
    "\n",
    "The Bethe-Bloch equation describes the energy loss $  \\frac{dE}{dx} $  of charged particles (such as protons) due to ionization and excitation in a material:\n",
    "\n",
    "$$  \\frac{dE}{dx} = k \\cdot \\frac{Z}{A} \\cdot \\frac{1}{\\beta^2} \\left[ \\ln \\left( \\frac{2 m_e c^2 \\beta^2 \\gamma^2}{I} \\right) - \\beta^2 \\right] $$ \n",
    "\n",
    "#### Variables and Constants:\n",
    "- $  \\frac{dE}{dx} $ : Energy loss per unit length (in $  \\text{MeV/cm} $ ).\n",
    "- $  k = 4 \\pi \\alpha r_e^2 N_A $ : Bethe-Bloch constant, where:\n",
    "  - $  \\alpha $ : Fine-structure constant ($  \\approx 1/137 $ ).\n",
    "  - $  r_e $ : Classical electron radius ($  \\approx 2.817 \\, \\text{fm} $ ).\n",
    "  - $  N_A $ : Avogadro's number ($  \\approx 6.022 \\times 10^{23} \\, \\text{mol}^{-1} $ ).\n",
    "- $  Z $ : Atomic number of the target material.\n",
    "- $  A $ : Atomic mass of the target material (in $  \\text{g/mol} $ ).\n",
    "- $  \\beta = v/c $ : Velocity of the particle as a fraction of the speed of light.\n",
    "- $  \\gamma = 1 / \\sqrt{1 - \\beta^2} $ : Lorentz factor.\n",
    "- $  m_e $ : Electron mass ($  \\approx 511 \\, \\text{keV/c}^2 $ ).\n",
    "- $  I $ : Mean excitation potential of the material (in $  \\text{eV} $ ).\n",
    "\n",
    "---\n",
    "\n",
    "### Transformation to Solve for $  \\gamma $ \n",
    "To rewrite the equation in terms of $  \\gamma $ , we consider the relationship between the kinetic energy of the particle and $  \\gamma $ :\n",
    "\n",
    "$$  E_{\\text{kinetic}} = (\\gamma - 1) m_p c^2 $$ \n",
    "\n",
    "This relates the energy loss $  \\frac{dE}{dx} $  to $  \\frac{d\\gamma}{dx} $ :\n",
    "\n",
    "$$  \\frac{d\\gamma}{dx} = -\\frac{k}{m_p c^2} \\cdot \\frac{Z}{A} \\cdot \\frac{1}{\\beta^2} \\left[ \\ln \\left( \\frac{2 m_e c^2 \\beta^2 \\gamma^2}{I} \\right) - \\beta^2 \\right] $$ \n",
    "\n",
    "#### Units Consistency:\n",
    "- The term $  \\frac{k}{m_p c^2} $  has units of $  \\text{cm}^{-1} $ , ensuring that $  \\frac{d\\gamma}{dx} $  is dimensionless.\n",
    "\n",
    "#### Final Numerical Integration:\n",
    "The equation $  \\frac{d\\gamma}{dx} $  is integrated numerically to determine the evolution of $  \\gamma $  over a specified material thickness $  x $ . "
   ]
  },
  {
   "cell_type": "code",
   "execution_count": 40,
   "id": "b07a734b",
   "metadata": {},
   "outputs": [
    {
     "data": {
      "text/plain": [
       "55.2715822168212"
      ]
     },
     "execution_count": 40,
     "metadata": {},
     "output_type": "execute_result"
    }
   ],
   "source": [
    "import numpy as np\n",
    "\n",
    "# Constants\n",
    "K = 0.307  # MeV cm^2 / g\n",
    "z = 1  # Charge of the proton\n",
    "m_e_c2 = 0.511  # MeV, electron rest energy\n",
    "m_p_c2 = 938.272  # MeV, proton rest energy\n",
    "I = 75e-6  # MeV, mean excitation energy for brain tissue\n",
    "density_brain = 1.04  # g/cm^3, density of brain tissue\n",
    "path_length = 10  # cm, assumed path length of proton beam\n",
    "\n",
    "# Proton energy in Bugorski's case\n",
    "E_proton = 76e3  # MeV (76 GeV)\n",
    "gamma = E_proton / m_p_c2  # Relativistic gamma\n",
    "beta = np.sqrt(1 - 1 / gamma**2)  # Relativistic beta\n",
    "\n",
    "# Maximum energy transfer to a single electron\n",
    "T_max = 2 * m_e_c2 * beta**2 * gamma**2\n",
    "\n",
    "# Bethe-Bloch equation components\n",
    "log_term = np.log((2 * m_e_c2 * beta**2 * gamma**2 * T_max) / I**2)\n",
    "stopping_power = K * z**2 * (1 / beta**2) * (0.5 * log_term - beta**2)\n",
    "\n",
    "# Total energy deposited\n",
    "energy_deposited = stopping_power * density_brain * path_length  # MeV\n",
    "\n",
    "energy_deposited\n"
   ]
  },
  {
   "cell_type": "code",
   "execution_count": 41,
   "id": "d05a4b74",
   "metadata": {},
   "outputs": [
    {
     "data": {
      "text/plain": [
       "(55271582216821.2, 8.85550235961466)"
      ]
     },
     "execution_count": 41,
     "metadata": {},
     "output_type": "execute_result"
    }
   ],
   "source": [
    "# Proton beam flux (protons per second, typical synchrotron value)\n",
    "flux_protons = 1e12  # protons/second\n",
    "\n",
    "# Energy deposited per proton (previously calculated)\n",
    "energy_per_proton = energy_deposited  # MeV\n",
    "\n",
    "# Total energy deposited in 1 second of exposure\n",
    "total_energy_deposited = flux_protons * energy_per_proton  # MeV\n",
    "\n",
    "# Convert to Joules (1 MeV = 1.60218e-13 Joules)\n",
    "total_energy_deposited_joules = total_energy_deposited * 1.60218e-13\n",
    "\n",
    "total_energy_deposited, total_energy_deposited_joules\n"
   ]
  },
  {
   "cell_type": "code",
   "execution_count": null,
   "id": "c9596a77",
   "metadata": {},
   "outputs": [],
   "source": []
  }
 ],
 "metadata": {
  "kernelspec": {
   "display_name": "Python [conda env:Cosmos3020]",
   "language": "python",
   "name": "conda-env-Cosmos3020-py"
  },
  "language_info": {
   "codemirror_mode": {
    "name": "ipython",
    "version": 3
   },
   "file_extension": ".py",
   "mimetype": "text/x-python",
   "name": "python",
   "nbconvert_exporter": "python",
   "pygments_lexer": "ipython3",
   "version": "3.11.9"
  }
 },
 "nbformat": 4,
 "nbformat_minor": 5
}
