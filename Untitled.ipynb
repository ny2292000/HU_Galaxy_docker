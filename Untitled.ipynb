{
 "cells": [
  {
   "cell_type": "code",
   "execution_count": null,
   "id": "4ff38073-75d3-4da2-8efb-50ecc4689042",
   "metadata": {},
   "outputs": [],
   "source": [
    "import sympy as sp\n",
    "\n",
    "\n",
    "\n",
    "def cleanForce(Force):\n",
    "    Force_latex = sp.latex(Force)\n",
    "    Force_latex = Force_latex.replace(\"V_{1 hat}\", \"\\hat{V}_1\")\n",
    "    Force_latex = Force_latex.replace(\"V_{2 hat}\", \"\\hat{V}_2\")\n",
    "    Force_latex = Force_latex.replace(\"R_{0 hat}\", \"\\hat{R}_0\")\n",
    "    Force_latex = Force_latex.replace(\"r_{hat}\", \"\\hat{r}\")\n",
    "    Force_latex = Force_latex.replace(\"+ 0 \\hat{r}\", \"\")\n",
    "    Force_latex = Force_latex.replace(\"^{T}\", \"\")\n",
    "    print(Force_latex)\n",
    "\n",
    "# Define symbols\n",
    "pi, m_0, x, Q, lambda1, R0, c, N, v1, v2, gamma_v1, gamma_v2, P1, P2 = sp.symbols(\n",
    "    'pi m_0 x Q lambda1 R0 c N v1 v2 gamma_v1 gamma_v2 P1 P2', real=True, positive=True)\n",
    "alpha = sp.symbols('alpha', real=True, positive=True)\n",
    "\n",
    "# Define MatrixSymbols for arbitrary unit vectors\n",
    "V1_hat = sp.MatrixSymbol('V1_hat', 3, 1)  # 3x1 Matrix Symbol for Unit vector along V1\n",
    "V2_hat = sp.MatrixSymbol('V2_hat', 3, 1)  # 3x1 Matrix Symbol for Unit vector along V2\n",
    "R0_hat = sp.MatrixSymbol('R0_hat', 3, 1)  # 3x1 Matrix Symbol for Unit vector along R0\n",
    "r_hat = sp.MatrixSymbol('r_hat', 3, 1)    # 3x1 Matrix Symbol for general unit vector for position adjustments\n",
    "\n",
    "# Identity matrix for space dimension\n",
    "One = sp.MatrixSymbol('One', 3, 3) # Correct usage of Identity Matrix\n",
    "\n",
    "# Velocity vectors\n",
    "V1 = v1 * V1_hat\n",
    "V2 = v2 * V2_hat\n",
    "R0_vect = R0 * R0_hat\n",
    "\n",
    "# Position vectors\n",
    "r1 = V1 * R0 / c + x * r_hat\n",
    "r2 = V1 * R0 / c - R0_vect + x * r_hat\n",
    "\n",
    "# Projection matrices and Lorentz transformation matrices\n",
    "# 1+(GAMMA-1)P = (1-P) + GAMMA*P\n",
    "# P IS THE PROJECTOR TO THE V1 AND V2 DIRECTIONS \n",
    "\n",
    "M1 = One + (gamma_v1 - 1) * V1 * V1.T / (v1**2)\n",
    "M2 = One + (gamma_v2 - 1) * V2 * V2.T / (v2**2)\n",
    "\n",
    "# Wave vectors\n",
    "k1 = (2 * pi / lambda1) * r1.T* M1  / P1\n",
    "k2 = (2 * pi / lambda1) * r2.T * M2 / P2\n",
    "\n",
    "# Fields definitions\n",
    "k1path = ( k1 * r1 )\n",
    "Phi1 = sp.cos(k1path)\n",
    "first_derivative = sp.diff(k1path, x)\n",
    "second_derivative = sp.diff(first_derivative, x)\n",
    "# Took the second derivative to extract the coefficient of x\n",
    "k1path_diff = second_derivative\n",
    "k1path=k1path.subs(x,0)\n",
    "k1path"
   ]
  },
  {
   "cell_type": "markdown",
   "id": "1586dc51-efdd-4443-867e-75e438b13551",
   "metadata": {},
   "source": [
    "# Calculate $ \\frac{d\\Phi_1}{dr} $"
   ]
  },
  {
   "cell_type": "code",
   "execution_count": null,
   "id": "2fe9dc57-d6c8-4a33-8b42-32c92f02d769",
   "metadata": {},
   "outputs": [],
   "source": [
    "# Derivatives - Here we used diff(cos(k.x) = -ksin(kx) = -k**2x\n",
    "Phi1_diff = k1path.T*k1path_diff\n",
    "Phi1_diff"
   ]
  },
  {
   "cell_type": "markdown",
   "id": "0c088e31-7a71-4321-b546-650caaddde35",
   "metadata": {},
   "source": [
    "# Calculate $ \\frac{d\\Phi_2}{dr} $"
   ]
  },
  {
   "cell_type": "code",
   "execution_count": null,
   "id": "d9419378-d875-41aa-8aa5-80f3093c2f65",
   "metadata": {},
   "outputs": [],
   "source": [
    "k2path = ( k2 * r2 )\n",
    "k2path =Q * k2path/(2*pi)\n",
    "k2path_diff = sp.diff(k2path,x,2)\n",
    "Phi2 = N / (1 + k2path[0].subs(x,0))\n",
    "# Derivatives\n",
    "Phi2_diff = -N *k2path_diff / (k2path.subs(x,0))**2 \n",
    "Phi2_diff"
   ]
  },
  {
   "cell_type": "markdown",
   "id": "8d09c9a1-a7a6-4752-a5de-c5a82e9928d7",
   "metadata": {},
   "source": [
    "# Calculate Force\n",
    "$ \\vec{F} = m_0\\frac{dv}{dt} = m_0 c^2 \\frac{d(\\frac{v}{c})}{dr}=  m_0 c^2 \\frac{dtanh(\\alpha)}{dr}$ \n",
    "\n",
    "Where\n",
    " $ tanh(\\alpha)= \\frac{v}{ic} $\n",
    "\n",
    "$ \\vec{F} = m_0 c^2 (1-\\frac{v_1^2}{c^2}) \\frac{d(\\frac{v}{c})}{cdt} $\n",
    "\n",
    "$ \\vec{F} = m_0 c^2 (1+tanh^2(\\alpha))\\frac{d\\alpha}{dr} $\n",
    "\n",
    "$ \\alpha = \\frac{x}{\\lambda_1} $\n",
    "\n",
    "$ \\frac{d\\alpha}{dr} =\\frac{\\alpha}{\\lambda_1} $\n",
    "\n",
    "$ \\vec{F} = m_0 c^2 (1-\\frac{v_1^2}{c^2})\\frac{\\alpha}{\\lambda_1^2} $"
   ]
  },
  {
   "cell_type": "code",
   "execution_count": null,
   "id": "0db71919-cae8-4b52-86c6-0f0f44118908",
   "metadata": {},
   "outputs": [],
   "source": []
  },
  {
   "cell_type": "code",
   "execution_count": null,
   "id": "239da52d-9541-46c3-b802-df7fdb76a5c9",
   "metadata": {},
   "outputs": [],
   "source": [
    "# Display results\n",
    "x_result = Phi2_diff/Phi1_diff\n",
    "Force = m_0*c**2*(1-v1**2/c**2)*x_result/lambda1**2\n",
    "Force = Force.subs(Q, 1/(2*pi*alpha))\n",
    "Force = Force.subs(x,0).simplify()\n",
    "Force"
   ]
  },
  {
   "cell_type": "code",
   "execution_count": null,
   "id": "7d4d808b-e65e-447b-9b0f-a54d8876ec54",
   "metadata": {},
   "outputs": [],
   "source": [
    "print(Force)"
   ]
  },
  {
   "cell_type": "code",
   "execution_count": null,
   "id": "4ac12306-dc84-43aa-b010-6516f7c6bdd9",
   "metadata": {},
   "outputs": [],
   "source": [
    "cleanForce(Force)"
   ]
  },
  {
   "cell_type": "code",
   "execution_count": null,
   "id": "ab0fe1fc-8212-4ecf-a99a-36778f1f18ce",
   "metadata": {},
   "outputs": [],
   "source": []
  },
  {
   "cell_type": "code",
   "execution_count": null,
   "id": "c4e1abb1-13be-42b1-aa36-cd47e31fff3f",
   "metadata": {},
   "outputs": [],
   "source": [
    "latex_str = sp.latex(Force, mode='plain')\n",
    "# Write to a file\n",
    "with open('./Drawing For Publications/Force.tex', 'w') as file:\n",
    "    file.write(latex_str)"
   ]
  },
  {
   "cell_type": "code",
   "execution_count": null,
   "id": "8c4fa6b7-436e-47b0-af8c-d3db6ebc4439",
   "metadata": {},
   "outputs": [],
   "source": [
    "AA =(r_hat.T*((gamma_v2 - 1)*V2_hat*V2_hat.T + One)*r_hat)/(r_hat.T*((gamma_v1 - 1)*V1_hat*V1_hat.T + One)*r_hat)\n",
    "BB =((8*pi**2*R0**2*v1**2/(P1**2*c**2*lambda1**2))*V1_hat.T*((gamma_v1 - 1)*V1_hat*V1_hat.T + One.T)*V1_hat)\n",
    "CC=((1/(2*pi*P2*alpha*lambda1))*((-R0)*R0_hat.T + (R0*v1/c)*V1_hat.T)*((gamma_v2 - 1)*V2_hat*V2_hat.T + One)*((-R0)*R0_hat + (R0*v1/c)*V1_hat))\n",
    "\n",
    "expression = (N*m_0*(-c**2 + v1**2)/(pi*P2*alpha*lambda1**3)) # *AA/CC**2/BB\n",
    "cleanForce(expression)"
   ]
  },
  {
   "cell_type": "code",
   "execution_count": null,
   "id": "8b619f25-2f03-4d8a-a1dd-45654a712a6f",
   "metadata": {},
   "outputs": [],
   "source": [
    "Force"
   ]
  },
  {
   "cell_type": "code",
   "execution_count": null,
   "id": "54d692e5-44e0-4771-b402-566d3c2654ba",
   "metadata": {},
   "outputs": [],
   "source": [
    "cleanForce(sp.expand(CC))"
   ]
  },
  {
   "cell_type": "code",
   "execution_count": null,
   "id": "e915c21c-d75f-4d28-ac66-17d497b50e9c",
   "metadata": {},
   "outputs": [],
   "source": [
    "cleanForce(sp.expand(BB))"
   ]
  },
  {
   "cell_type": "code",
   "execution_count": null,
   "id": "e58ed45a-2db5-47d5-b3d8-51cec91cc24a",
   "metadata": {},
   "outputs": [],
   "source": [
    "cleanForce(sp.expand(AA))"
   ]
  },
  {
   "cell_type": "code",
   "execution_count": null,
   "id": "bb3f07ae-adba-4ebb-afef-b0e0a081e6c5",
   "metadata": {},
   "outputs": [],
   "source": []
  }
 ],
 "metadata": {
  "kernelspec": {
   "display_name": "Python [conda env:Cosmos3020]",
   "language": "python",
   "name": "conda-env-Cosmos3020-py"
  },
  "language_info": {
   "codemirror_mode": {
    "name": "ipython",
    "version": 3
   },
   "file_extension": ".py",
   "mimetype": "text/x-python",
   "name": "python",
   "nbconvert_exporter": "python",
   "pygments_lexer": "ipython3",
   "version": "3.11.8"
  }
 },
 "nbformat": 4,
 "nbformat_minor": 5
}
