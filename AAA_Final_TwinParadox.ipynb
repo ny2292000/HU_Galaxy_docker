{
 "cells": [
  {
   "cell_type": "code",
   "execution_count": 6,
   "id": "9103723f",
   "metadata": {},
   "outputs": [
    {
     "data": {
      "text/latex": [
       "$\\displaystyle \\frac{t_{0} \\sqrt{- a^{2} t_{0}^{2} + c^{2}}}{2 c} + \\frac{c \\operatorname{asin}{\\left(\\frac{a t_{0}}{c} \\right)}}{2 a}$"
      ],
      "text/plain": [
       "t0*sqrt(-a**2*t0**2 + c**2)/(2*c) + c*asin(a*t0/c)/(2*a)"
      ]
     },
     "execution_count": 6,
     "metadata": {},
     "output_type": "execute_result"
    }
   ],
   "source": [
    "from sympy import symbols, cosh, integrate, atanh, solve, simplify, Abs, Piecewise, diff, limit, asin\n",
    "import sympy as sp\n",
    "\n",
    "# Define new symbols for acceleration (a), speed of light (c), velocity (v), time (t) and t1\n",
    "a, c, v, t, t0, t1, x = symbols('a c v t t0 t1 x', real=True, positive=True)\n",
    "\n",
    "# Update the definition of alpha(t) for variable acceleration using tanh\n",
    "alpha_t = atanh(a * t / c)\n",
    "\n",
    "# Update the integral expression using cosh from the updated alpha(t)\n",
    "integral_expr_varying_alpha = 1 / cosh(alpha_t)\n",
    "\n",
    "# Compute the definite integral from 0 to t0\n",
    "integral_result_varying_alpha = integrate(integral_expr_varying_alpha, (t, 0, t0))\n",
    "\n",
    "# We need to make sure that a*t < c (for the velocity to be less than the speed of light) and a != 0\n",
    "# Applying these conditions to the integral result\n",
    "assumptions = (a != 0) & (a * t0 < c)  # assuming maximum a*t1 is less than c\n",
    "\n",
    "# Simplify the result under these assumptions\n",
    "simplified_integral = simplify(integral_result_varying_alpha.subs(a * t1 < c, True))\n",
    "simplified_integral\n"
   ]
  },
  {
   "cell_type": "code",
   "execution_count": 7,
   "id": "be03ea7b",
   "metadata": {},
   "outputs": [
    {
     "data": {
      "text/latex": [
       "$\\displaystyle \\frac{\\sqrt{- a^{2} t_{0}^{2} + c^{2}}}{c}$"
      ],
      "text/plain": [
       "sqrt(-a**2*t0**2 + c**2)/c"
      ]
     },
     "execution_count": 7,
     "metadata": {},
     "output_type": "execute_result"
    }
   ],
   "source": [
    "aa= diff(simplified_integral, t0).simplify()\n",
    "aa"
   ]
  },
  {
   "cell_type": "code",
   "execution_count": 8,
   "id": "98e701d1",
   "metadata": {},
   "outputs": [
    {
     "data": {
      "text/latex": [
       "$\\displaystyle 0$"
      ],
      "text/plain": [
       "0"
      ]
     },
     "execution_count": 8,
     "metadata": {},
     "output_type": "execute_result"
    }
   ],
   "source": [
    "limit(asin(x)/x, x, sp.oo)"
   ]
  },
  {
   "cell_type": "code",
   "execution_count": 9,
   "id": "0ae2eac6",
   "metadata": {},
   "outputs": [
    {
     "data": {
      "text/latex": [
       "$\\displaystyle \\frac{\\sqrt{- a^{2} t_{0}^{2} + c^{2}}}{c}$"
      ],
      "text/plain": [
       "sqrt(-a**2*t0**2 + c**2)/c"
      ]
     },
     "execution_count": 9,
     "metadata": {},
     "output_type": "execute_result"
    }
   ],
   "source": [
    "x, k = symbols(\"x k\")\n",
    "b = aa.subs(t1, c*x/a).simplify()\n",
    "b"
   ]
  },
  {
   "cell_type": "code",
   "execution_count": 10,
   "id": "b02fac19",
   "metadata": {},
   "outputs": [
    {
     "data": {
      "text/latex": [
       "$\\displaystyle \\frac{\\operatorname{asin}{\\left(\\frac{a t_{0}}{c} \\right)}}{2} + \\frac{t_{0} \\sqrt{- a^{2} t_{0}^{2} + c^{2}}}{172800 c}$"
      ],
      "text/plain": [
       "asin(a*t0/c)/2 + t0*sqrt(-a**2*t0**2 + c**2)/(172800*c)"
      ]
     },
     "execution_count": 10,
     "metadata": {},
     "output_type": "execute_result"
    }
   ],
   "source": [
    "# Time dilation during accelerated section with a duration of ONE DAY\n",
    "simplified_integral.subs(a*t1, 0.9999*c).subs(t1,24*3600).subs(c/a, 24*3600)/(24*3600)"
   ]
  },
  {
   "cell_type": "code",
   "execution_count": 11,
   "id": "939b1616",
   "metadata": {},
   "outputs": [
    {
     "data": {
      "text/latex": [
       "$\\displaystyle \\frac{t_{0} \\sqrt{- a^{2} t_{0}^{2} + c^{2}}}{2 c} + \\frac{c \\operatorname{asin}{\\left(\\frac{a t_{0}}{c} \\right)}}{2 a}$"
      ],
      "text/plain": [
       "t0*sqrt(-a**2*t0**2 + c**2)/(2*c) + c*asin(a*t0/c)/(2*a)"
      ]
     },
     "execution_count": 11,
     "metadata": {},
     "output_type": "execute_result"
    }
   ],
   "source": [
    "simplified_integral = simplified_integral.subs(t1, v/a)\n",
    "simplified_integral\n"
   ]
  },
  {
   "cell_type": "code",
   "execution_count": 14,
   "id": "2bbc936a",
   "metadata": {},
   "outputs": [
    {
     "data": {
      "text/plain": [
       "np.float64(258100.427724488)"
      ]
     },
     "execution_count": 14,
     "metadata": {},
     "output_type": "execute_result"
    }
   ],
   "source": [
    "import numpy as np\n",
    "# Time dilation during coasting section with a duration of 10 YEARS\n",
    "DeltaTau = 10*365/np.sqrt(1-0.9999**2)\n",
    "DeltaTau"
   ]
  },
  {
   "cell_type": "code",
   "execution_count": 15,
   "id": "560216bd",
   "metadata": {},
   "outputs": [
    {
     "name": "stdout",
     "output_type": "stream",
     "text": [
      "20.01\n"
     ]
    }
   ],
   "source": [
    "#Duration on Spacecraft\n",
    "DeltaT = 1+2+1 + 2*10*365\n",
    "print(f\"{DeltaT/365:.2f}\")"
   ]
  },
  {
   "cell_type": "code",
   "execution_count": 16,
   "id": "a009989f",
   "metadata": {},
   "outputs": [
    {
     "ename": "TypeError",
     "evalue": "unsupported format string passed to Add.__format__",
     "output_type": "error",
     "traceback": [
      "\u001b[0;31m---------------------------------------------------------------------------\u001b[0m",
      "\u001b[0;31mTypeError\u001b[0m                                 Traceback (most recent call last)",
      "Cell \u001b[0;32mIn[16], line 3\u001b[0m\n\u001b[1;32m      1\u001b[0m \u001b[38;5;66;03m#Duration on Earth\u001b[39;00m\n\u001b[1;32m      2\u001b[0m DeltaTau \u001b[38;5;241m=\u001b[39m \u001b[38;5;241m4\u001b[39m \u001b[38;5;241m*\u001b[39m simplified_integral\u001b[38;5;241m.\u001b[39msubs(a\u001b[38;5;241m*\u001b[39mt1, \u001b[38;5;241m0.9999\u001b[39m\u001b[38;5;241m*\u001b[39mc)\u001b[38;5;241m.\u001b[39msubs(t1,\u001b[38;5;241m24\u001b[39m\u001b[38;5;241m*\u001b[39m\u001b[38;5;241m3600\u001b[39m)\u001b[38;5;241m.\u001b[39msubs(c\u001b[38;5;241m/\u001b[39ma, \u001b[38;5;241m24\u001b[39m\u001b[38;5;241m*\u001b[39m\u001b[38;5;241m3600\u001b[39m)\u001b[38;5;241m/\u001b[39m(\u001b[38;5;241m24\u001b[39m\u001b[38;5;241m*\u001b[39m\u001b[38;5;241m3600\u001b[39m) \u001b[38;5;241m+\u001b[39m\u001b[38;5;241m2\u001b[39m\u001b[38;5;241m*\u001b[39m\u001b[38;5;241m10\u001b[39m\u001b[38;5;241m*\u001b[39m\u001b[38;5;241m365\u001b[39m\u001b[38;5;241m/\u001b[39mnp\u001b[38;5;241m.\u001b[39msqrt(\u001b[38;5;241m1\u001b[39m\u001b[38;5;241m-\u001b[39m\u001b[38;5;241m0.9999\u001b[39m\u001b[38;5;241m*\u001b[39m\u001b[38;5;241m*\u001b[39m\u001b[38;5;241m2\u001b[39m)\n\u001b[0;32m----> 3\u001b[0m \u001b[38;5;28mprint\u001b[39m(\u001b[38;5;124mf\u001b[39m\u001b[38;5;124m\"\u001b[39m\u001b[38;5;132;43;01m{\u001b[39;49;00m\u001b[43mDeltaTau\u001b[49m\u001b[38;5;241;43m/\u001b[39;49m\u001b[38;5;241;43m365\u001b[39;49m\u001b[38;5;132;43;01m:\u001b[39;49;00m\u001b[38;5;124;43m.2f\u001b[39;49m\u001b[38;5;132;43;01m}\u001b[39;49;00m\u001b[38;5;124m\"\u001b[39m)\n",
      "File \u001b[0;32m/myvenv/lib/python3.12/site-packages/sympy/core/expr.py:383\u001b[0m, in \u001b[0;36mExpr.__format__\u001b[0;34m(self, format_spec)\u001b[0m\n\u001b[1;32m    381\u001b[0m         \u001b[38;5;28;01mif\u001b[39;00m rounded\u001b[38;5;241m.\u001b[39mis_Float:\n\u001b[1;32m    382\u001b[0m             \u001b[38;5;28;01mreturn\u001b[39;00m \u001b[38;5;28mformat\u001b[39m(rounded, format_spec)\n\u001b[0;32m--> 383\u001b[0m \u001b[38;5;28;01mreturn\u001b[39;00m \u001b[38;5;28;43msuper\u001b[39;49m\u001b[43m(\u001b[49m\u001b[43m)\u001b[49m\u001b[38;5;241;43m.\u001b[39;49m\u001b[38;5;21;43m__format__\u001b[39;49m\u001b[43m(\u001b[49m\u001b[43mformat_spec\u001b[49m\u001b[43m)\u001b[49m\n",
      "\u001b[0;31mTypeError\u001b[0m: unsupported format string passed to Add.__format__"
     ]
    }
   ],
   "source": [
    "#Duration on Earth\n",
    "DeltaTau = 4 * simplified_integral.subs(a*t1, 0.9999*c).subs(t1,24*3600).subs(c/a, 24*3600)/(24*3600) +2*10*365/np.sqrt(1-0.9999**2)\n",
    "print(f\"{DeltaTau/365:.2f}\")"
   ]
  },
  {
   "cell_type": "code",
   "execution_count": 17,
   "id": "db800edf",
   "metadata": {},
   "outputs": [
    {
     "data": {
      "text/latex": [
       "$\\displaystyle 2 \\operatorname{asin}{\\left(\\frac{a t_{0}}{c} \\right)} + 516200.855448976 + \\frac{t_{0} \\sqrt{- a^{2} t_{0}^{2} + c^{2}}}{43200 c}$"
      ],
      "text/plain": [
       "2*asin(a*t0/c) + 516200.855448976 + t0*sqrt(-a**2*t0**2 + c**2)/(43200*c)"
      ]
     },
     "execution_count": 17,
     "metadata": {},
     "output_type": "execute_result"
    }
   ],
   "source": [
    "DeltaTau"
   ]
  },
  {
   "cell_type": "code",
   "execution_count": null,
   "id": "2ad26eb8-5e17-49bf-aee5-c6130eac3f87",
   "metadata": {},
   "outputs": [],
   "source": []
  },
  {
   "cell_type": "code",
   "execution_count": null,
   "id": "47839228-d94a-4143-942c-07910335d3c1",
   "metadata": {},
   "outputs": [],
   "source": []
  },
  {
   "cell_type": "code",
   "execution_count": null,
   "id": "cfc3cb09-8e90-4c1d-b0ce-671561374ba0",
   "metadata": {},
   "outputs": [],
   "source": []
  },
  {
   "cell_type": "code",
   "execution_count": null,
   "id": "89b21a42-82fd-44e9-aa8d-e4afc2fb3505",
   "metadata": {},
   "outputs": [],
   "source": []
  },
  {
   "cell_type": "code",
   "execution_count": null,
   "id": "3034cfeb-d4cf-44de-9cf9-1c1a7a15dd1e",
   "metadata": {},
   "outputs": [],
   "source": []
  }
 ],
 "metadata": {
  "kernelspec": {
   "display_name": "HU_Env",
   "language": "python",
   "name": "myvenv"
  },
  "language_info": {
   "codemirror_mode": {
    "name": "ipython",
    "version": 3
   },
   "file_extension": ".py",
   "mimetype": "text/x-python",
   "name": "python",
   "nbconvert_exporter": "python",
   "pygments_lexer": "ipython3",
   "version": "3.12.3"
  }
 },
 "nbformat": 4,
 "nbformat_minor": 5
}
