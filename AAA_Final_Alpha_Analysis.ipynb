{
 "cells": [
  {
   "cell_type": "code",
   "execution_count": null,
   "metadata": {
    "jupyter": {
     "outputs_hidden": false
    }
   },
   "outputs": [],
   "source": [
    "import numpy as np\n",
    "from astropy import constants as cc, units as uu"
   ]
  },
  {
   "cell_type": "code",
   "execution_count": null,
   "metadata": {},
   "outputs": [],
   "source": [
    "# fine constant\n",
    "alpha=(1/4/np.pi/cc.eps0*cc.e.si**2/cc.hbar/cc.c).si"
   ]
  },
  {
   "cell_type": "code",
   "execution_count": null,
   "metadata": {},
   "outputs": [],
   "source": [
    "m_H = (cc.m_p+cc.m_e)/2\n",
    "N = (uu.kg/m_H).si\n",
    "lambda_1_value= cc.h/(m_H*cc.c)\n",
    "P=(cc.eps0*cc.c**2*lambda_1_value/(2*np.pi**2)/N/cc.e.si**2*uu.kg).si * (2*np.pi)\n",
    "B= 1/(4*np.pi**2*alpha)\n",
    "lambda_1_value, N, P * (2*np.pi*alpha)"
   ]
  },
  {
   "cell_type": "code",
   "execution_count": null,
   "metadata": {},
   "outputs": [],
   "source": [
    "1/2 * np.pi * alpha "
   ]
  },
  {
   "cell_type": "code",
   "execution_count": null,
   "metadata": {},
   "outputs": [],
   "source": [
    "from sympy import symbols, cos, diff, pi, simplify, sin, init_printing, solve\n",
    "init_printing()\n",
    "\n",
    "# Define variables and constants\n",
    "r, R, lambda_1, lambda_2, alpha, N, P, e, epsilon_0, h,c  = symbols('r R lambda_1 lambda_2 alpha N P e epsilon_0 h c')\n",
    "k1 = 2 * pi / lambda_1\n",
    "k2 = 2 * pi * N / lambda_1\n",
    "lambda_2 = lambda_1/N\n",
    "P = 1 / (2 * pi * alpha)\n",
    "\n",
    "# Define the envelope for Phi_2 with simplification for highly oscillatory function\n",
    "Phi_2 = 1 / (1 + P * (R - r)/lambda_1)\n",
    "# Derivative of Phi_2 after simplification (R>>r, alpha*k2*R >>1)\n",
    "dPhi_2_dr_simplified =  (lambda_1**2/lambda_2) / (P* R**2)\n",
    "alpha = e**2/(2*epsilon_0*h*c)\n",
    "# Define Phi_1 with consideration of small angle (sin(k1*r) ≈ k1*r)\n",
    "Phi_1 = cos(k1 * r) / (1 + P/lambda_1 * r )\n",
    "# Simplified derivative of Phi_1 considering dcos(k1 * r)/dr = -k1*sin(k1*r) ≈ -k1^2*r and 1+alpha*k1*r ≈ 1 for very small r\n",
    "# one also considers that the envelope varies slowly within the small distances defined by r\n",
    "dPhi_1_dr_simplified = -k1**2 * r \n",
    "\n",
    "# Sum the simplified derivatives to get the total derivative\n",
    "dPhi_total_dr_simplified = dPhi_1_dr_simplified + dPhi_2_dr_simplified\n",
    "\n",
    "# Solve the simplified total derivative for r\n",
    "solution_r = solve(dPhi_total_dr_simplified, r)\n",
    "x= solution_r[0]\n",
    "# x = x.subs(P, 1/(2*pi*alpha)) #.subs(alpha,e**2/(2*epsilon_0*h*c)) \n",
    "# x = x.subs( P, 1/(2*pi*alpha))\n",
    "dPhi_1_dr_simplified , dPhi_2_dr_simplified, x"
   ]
  },
  {
   "cell_type": "code",
   "execution_count": null,
   "metadata": {},
   "outputs": [],
   "source": []
  },
  {
   "cell_type": "code",
   "execution_count": null,
   "metadata": {},
   "outputs": [],
   "source": [
    "# Define the symbols\n",
    "m_0, c, lambda_1, N, R, alpha, kg, epsilon_0, e, v, h, kg = symbols('m_0 c lambda_1 N R alpha kg epsilon_0 e v h kg')\n",
    "init_printing()\n",
    "\n",
    "\n",
    "\n",
    "# tanh(theta) = v/c acceleration felt by a single dilator actuated by N dilators is given by:\n",
    "#acceleration = c dtanh(tetha)/dr= c (1-tanh(theta)**2) * dtheta/dr \n",
    "#acceleration = c (1-tanh(theta)**2) * x/lambda1**2\n",
    "# Force is given by c (1-v**2/c**2) * lambda_1**3/(8*pi**3*N*R**2*alpha)/lambda1**2\n",
    "# The force is given by kg*acceleration. where m0 = Fundamental Dilator 4D mass = 1 kg/N\n",
    "# That is the force between 1 kg of dilators and one dilator\n",
    "# Given the force equation for electromagnetic interaction\n",
    "F = (m_0 * c**2 * x/lambda_1**2)\n",
    "F"
   ]
  },
  {
   "cell_type": "code",
   "execution_count": null,
   "metadata": {},
   "outputs": [],
   "source": [
    "\n",
    "# Substitute m_0 with 1/N, where N is the number of dilators in 1 kg\n",
    "F_substituted = F.subs(kg, N*h/c/lambda_1)\n",
    "# Simplify the expression\n",
    "F_simplified = simplify(F_substituted)\n",
    "alpha_expr = e**2 / (2 * epsilon_0 * h * c)\n",
    "F_simplified = F_simplified.subs(alpha, alpha_expr)\n",
    "F_simplified = F_simplified.subs(m_0, h/c/lambda_1)\n",
    "# This will print the simplified force equation\n",
    "F_simplified\n"
   ]
  },
  {
   "cell_type": "markdown",
   "metadata": {},
   "source": [
    "# Beginning of Universe Thickness Calculation"
   ]
  },
  {
   "cell_type": "code",
   "execution_count": null,
   "metadata": {},
   "outputs": [],
   "source": [
    "t1 = lambda_1_value/cc.c\n",
    "alpha_value = cc.e.si**2 / (2 * cc.eps0 * cc.h * cc.c)\n",
    "A =1/(2*np.pi*alpha_value)\n",
    "B = 2*np.pi**2\n",
    "TotalRadius = (A/ (2*np.pi**2))**(1/3)\n",
    "UniverseThickness = (TotalRadius-1)/4\n",
    "print(\"Compton Values\", lambda_1_value, t1, \"\\n\")\n",
    "print(\"Universe Thickness\",  UniverseThickness.si)\n",
    "print(\"State Life\", (t1*UniverseThickness).si)\n",
    "print(\"Compton Period\", t1.si)\n",
    "print(\"4D electron radius\", TotalRadius)"
   ]
  },
  {
   "cell_type": "markdown",
   "metadata": {},
   "source": [
    "# END"
   ]
  },
  {
   "cell_type": "code",
   "execution_count": null,
   "metadata": {},
   "outputs": [],
   "source": [
    "def mom_inertia0(r, h):\n",
    "    return 1/12*(3*r**2+h)\n",
    "\n",
    "def mom_inertia1(r):\n",
    "    return 1/2*r**2\n",
    "    \n",
    "r_p = 8.414e-16\n",
    "r_e = r_p*cc.m_e/cc.m_p\n",
    "g_e = mom_inertia1(r_e)/mom_inertia0(r_e, UniverseThickness)\n",
    "g_p = mom_inertia1(r_p)/mom_inertia0(r_p, UniverseThickness)\n",
    "print(\"Radii\")\n",
    "print( r_e, r_p)\n",
    "print(\"Moments of Inertia\")\n",
    "print( mom_inertia0(r_e, UniverseThickness),mom_inertia0(r_p, UniverseThickness),mom_inertia1(r_e),mom_inertia1(r_p))"
   ]
  },
  {
   "cell_type": "code",
   "execution_count": null,
   "metadata": {},
   "outputs": [],
   "source": [
    "(2*np.pi*alpha_value), 1/(2*np.pi**2)"
   ]
  },
  {
   "cell_type": "markdown",
   "metadata": {},
   "source": [
    "# The Energy of the Fundamental Dilator is being modeled by circles.\n",
    "# At each expansion step with length $\\lambda_1$, the energy (valued at 1 or unit) is distributed\n",
    "# over a hyperspherical hypersurface of radius $\\lambda_1$, which is normalized to One\n",
    "$$ 2 \\pi \\alpha = \\frac{1}{2 \\pi^2 r^3} $$\n",
    "or\n",
    "$$ r = ( \\frac{1}{4 \\pi^3 \\alpha } ) ^{1/3} $$\n"
   ]
  },
  {
   "cell_type": "code",
   "execution_count": null,
   "metadata": {},
   "outputs": [],
   "source": [
    "T_lambda = (lambda_1_value/cc.c).si\n",
    "StateLifetime_4D_radius = 1/(4*np.pi**3*alpha_value)**(1/3)\n",
    "StateLifetime_4D_radius_seconds = (StateLifetime_4D_radius*T_lambda).si\n",
    "StateLifetime_seconds = ((StateLifetime_4D_radius-1)*lambda_1_value/cc.c).si\n",
    "# A hydrogen atom has twice the 4D mass of a Fundamental Dilator\n",
    "DeltaE = 0.5*m_H*cc.c**2\n",
    "DeltaT_HeisenbergPrinciple = (cc.h/(4*np.pi)/DeltaE).si\n",
    "# Comparison between the Compton Period of 0.5 Hydrogen atom  # T_lambda\n",
    "# with the observed period extracted from 1/(2*pi*alpha)=2*pi**2*r**3  # StateLifetime_4D_radius_seconds\n",
    "# and compared with 4 appearances of the 4D mass per period # 4* DeltaT_HeisenbergPrinciple\n",
    "T_lambda, StateLifetime_4D_radius_seconds, (4* DeltaT_HeisenbergPrinciple)"
   ]
  },
  {
   "cell_type": "markdown",
   "metadata": {},
   "source": []
  },
  {
   "cell_type": "code",
   "execution_count": null,
   "metadata": {},
   "outputs": [],
   "source": [
    "!pip freeze > requirements.txt\n"
   ]
  }
 ],
 "metadata": {
  "anaconda-cloud": {},
  "kernelspec": {
   "display_name": "Python [conda env:Cosmos3020]",
   "language": "python",
   "name": "conda-env-Cosmos3020-py"
  },
  "language_info": {
   "codemirror_mode": {
    "name": "ipython",
    "version": 3
   },
   "file_extension": ".py",
   "mimetype": "text/x-python",
   "name": "python",
   "nbconvert_exporter": "python",
   "pygments_lexer": "ipython3",
   "version": "3.11.9"
  }
 },
 "nbformat": 4,
 "nbformat_minor": 4
}
