{
 "cells": [
  {
   "cell_type": "code",
   "execution_count": 2,
   "id": "91eadd77",
   "metadata": {},
   "outputs": [
    {
     "data": {
      "text/latex": [
       "$\\displaystyle 1.75010007039063$"
      ],
      "text/plain": [
       "1.75010007039063"
      ]
     },
     "execution_count": 2,
     "metadata": {},
     "output_type": "execute_result"
    }
   ],
   "source": [
    "from sympy import symbols, integrate, oo, sqrt, sin\n",
    "import sympy as sp\n",
    "import numpy as np\n",
    "\n",
    "# Defining symbols\n",
    "G, M, m, c, b, x = symbols('G M m c b x', real=True, positive=True)\n",
    "# Define numerical values for the parameters\n",
    "G_val = 6.67430e-11  # gravitational constant in m^3 kg^-1 s^-2\n",
    "M_val = 1.989e30  # mass of the sun in kg\n",
    "m_val = 1  # mass of a photon (arbitrarily set to 1)\n",
    "c_val = 299792458  # speed of light in m/s\n",
    "b_val = 696.34E6  # sun radius in meters\n",
    "\n",
    "\n",
    "# Expression for differential of potential energy\n",
    "integrand = G * M * m / (b**2 + x**2)**(3/2)*b\n",
    "\n",
    "# Calculating the integral from -infinity to infinity\n",
    "integral_result = integrate(integrand, (x, -oo, oo))\n",
    "\n",
    "# Expression for maximum possible energy\n",
    "P_max = m * c**2 / 2\n",
    "\n",
    "# Calculating the deflection angle as ΔP / P_max\n",
    "deflection_angle = integral_result / P_max\n",
    "integral_result, deflection_angle.simplify()\n",
    "deflection_angle_numeric = deflection_angle.subs({m: m_val, c: c_val, b: b_val, G:G_val, M:M_val, sp.pi:np.pi})\n",
    "deflection_angle_numeric*180/np.pi*3600"
   ]
  },
  {
   "cell_type": "code",
   "execution_count": null,
   "id": "18335e7d-4d24-49b8-8803-23538c15020d",
   "metadata": {},
   "outputs": [],
   "source": []
  }
 ],
 "metadata": {
  "kernelspec": {
   "display_name": "Python [conda env:Cosmos3020]",
   "language": "python",
   "name": "conda-env-Cosmos3020-py"
  },
  "language_info": {
   "codemirror_mode": {
    "name": "ipython",
    "version": 3
   },
   "file_extension": ".py",
   "mimetype": "text/x-python",
   "name": "python",
   "nbconvert_exporter": "python",
   "pygments_lexer": "ipython3",
   "version": "3.11.9"
  }
 },
 "nbformat": 4,
 "nbformat_minor": 5
}
