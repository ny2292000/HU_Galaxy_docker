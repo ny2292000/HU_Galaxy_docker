{
 "cells": [
  {
   "cell_type": "code",
   "execution_count": null,
   "id": "c67fb30d",
   "metadata": {},
   "outputs": [],
   "source": [
    "from astropy import constants as cc\n",
    "from astropy import units as uu\n",
    "from scipy.constants import physical_constants as ccc\n",
    "import numpy as np\n",
    "from particle import PDGID, Particle\n",
    "me = cc.m_e\n",
    "mp = cc.m_p\n",
    "alpha = cc.alpha\n",
    "\n",
    "#. https://docs.scipy.org/doc/scipy/reference/constants.html#id1"
   ]
  },
  {
   "cell_type": "code",
   "execution_count": null,
   "id": "cc848f27",
   "metadata": {},
   "outputs": [],
   "source": [
    "pid = PDGID(211)\n",
    "pid.is_meson"
   ]
  },
  {
   "cell_type": "code",
   "execution_count": null,
   "id": "fa421416",
   "metadata": {},
   "outputs": [],
   "source": [
    "pi_plus = Particle.from_name(\"pi+\")\n",
    "pi_plus.mass\n"
   ]
  },
  {
   "cell_type": "code",
   "execution_count": null,
   "id": "162d01b9",
   "metadata": {},
   "outputs": [],
   "source": [
    "# Print out all particles with asymmetric decay width uncertainties\n",
    "ps = Particle.finditer(lambda p: p.width_lower != p.width_upper)\n",
    "for p in ps:\n",
    "    print(p.name, p.pdgid, p.width_lower, p.width_upper)\n",
    "\n",
    "# Find all antiparticles with 'Omega' in the name\n",
    "Particle.finditer('Omega', particle=False)   # several found\n",
    "\n",
    "# Find all antiparticles of name=='Omega'\n",
    "Particle.finditer(name='Omega', particle=False)  # none found\n",
    "\n",
    "# Find all antiparticles of pdg_name=='Omega'\n",
    "Particle.findall(pdg_name='Omega', particle=False)  # only 1, of course\n",
    "\n",
    "\n",
    "# Find all neutral beauty hadrons\n",
    "Particle.findall(lambda p: p.pdgid.has_bottom and p.charge==0)\n",
    "\n",
    "# Find all strange mesons with c*tau > 1 meter\n",
    "from hepunits import meter\n",
    "Particle.findall(lambda p: p.pdgid.is_meson and p.pdgid.has_strange and p.ctau > 1 * meter, particle=True)\n"
   ]
  },
  {
   "cell_type": "code",
   "execution_count": null,
   "id": "ae14447b",
   "metadata": {},
   "outputs": [],
   "source": []
  },
  {
   "cell_type": "code",
   "execution_count": null,
   "id": "b5d4dab5",
   "metadata": {},
   "outputs": [],
   "source": []
  },
  {
   "cell_type": "code",
   "execution_count": null,
   "id": "d3924b6e",
   "metadata": {},
   "outputs": [],
   "source": []
  },
  {
   "cell_type": "code",
   "execution_count": null,
   "id": "fe90ad80",
   "metadata": {},
   "outputs": [],
   "source": []
  },
  {
   "cell_type": "markdown",
   "id": "c8d7e274",
   "metadata": {},
   "source": [
    "# Chapter 34\n",
    "\n",
    "## Table 34.1\n",
    "\n",
    "The calculated relations between the lepton masses and neutron to electron mass ratio are given in terms of the dimensionless fine structure constant $ \\alpha $ only and compared to experimental values from the 1998 CODATA and the Particle Data Group given in parentheses [12-13].\n",
    "\n",
    "| Ratio | Formula | Calculated Value | Experimental Value |\n",
    "|-------|---------|------------------|--------------------|\n",
    "| $$ \\frac{m_{\\mu}}{m_{e}} | \\left(\\frac{\\alpha^2}{2\\pi}\\right)^{\\frac{3}{2}} \\left(1 + \\frac{2\\pi\\alpha^2}{2}\\right) | 206.76828 | (206.76827)$$ |\n",
    "| $$ \\frac{m_{\\tau}}{m_{e}} | \\left(\\frac{\\alpha}{2}\\right)^{\\frac{3}{2}} \\left(1 + \\frac{\\alpha}{2}\\right) | 16.817 | (16.817)$$ |\n",
    "| $$ \\frac{m_{n}}{m_{e}} | \\left(\\frac{\\alpha^3}{4\\pi}\\right)^{\\frac{3}{5}} \\left(1 + \\frac{2\\pi\\alpha^2}{2}\\right) \\left(1 - 4\\pi\\alpha^2\\right)^{-1} | 3477.2 | (3477.3) $$|\n",
    "| $$\\frac{m_{W}}{m_{e}} | \\frac{12\\pi^2}{1-\\alpha}\\sqrt{\\frac{\\sqrt{3}}{\\alpha}} \\left(1 + \\frac{2\\pi\\alpha^2}{2}\\right) \\left(1 - 2\\pi\\alpha^2\\right)^{-1} | 1838.67 | (1838.68) $$ |\n",
    "\n",
    "Consider pair production. The proper time of the particle is equated with the coordinate time according to the Schwarzschild metric corresponding to light speed. The special relativistic condition corresponding to the Planck energy (Eq. (34.49)) gives the mass of the electron [12-13]:\n"
   ]
  },
  {
   "cell_type": "code",
   "execution_count": null,
   "id": "8da6766d",
   "metadata": {},
   "outputs": [],
   "source": [
    "ccc['electron-muon mag. mom. ratio']"
   ]
  },
  {
   "cell_type": "code",
   "execution_count": null,
   "id": "9264bcb2",
   "metadata": {},
   "outputs": [],
   "source": [
    "ccc['electron-muon mass ratio']"
   ]
  },
  {
   "cell_type": "code",
   "execution_count": null,
   "id": "8218f076",
   "metadata": {},
   "outputs": [],
   "source": [
    "ccc['muon-electron mass ratio']"
   ]
  },
  {
   "cell_type": "code",
   "execution_count": null,
   "id": "a557f8b9",
   "metadata": {},
   "outputs": [],
   "source": [
    "def muon_electron_mass_ratio(alpha):\n",
    "    return (1/(2*np.pi*alpha**2))**(2/3)*(1+(2*np.pi*alpha**2/2))/(1+alpha/2)"
   ]
  },
  {
   "cell_type": "code",
   "execution_count": null,
   "id": "4c3c04b2",
   "metadata": {},
   "outputs": [],
   "source": [
    "muon_electron_mass_ratio(alpha)"
   ]
  },
  {
   "cell_type": "code",
   "execution_count": null,
   "id": "6c57cdac",
   "metadata": {},
   "outputs": [],
   "source": [
    "V= 1/(2*np.pi*alpha)\n",
    "def muon_electron_mass_ratio(V):\n",
    "    return (1/(2*np.pi*alpha**2))**(2/3)*(1+(2*np.pi*alpha**2/2))/(1+alpha/2)"
   ]
  },
  {
   "cell_type": "code",
   "execution_count": null,
   "id": "cf67ffb7",
   "metadata": {},
   "outputs": [],
   "source": [
    "import sympy as sp\n",
    "\n",
    "# Define the symbols\n",
    "alpha, R = sp.symbols('alpha R')\n",
    "\n",
    "# Define the identities\n",
    "m_mu_over_m_e = (alpha**2 / (2 * sp.pi))**(3/2) * (1 + (2 * sp.pi * alpha**2) / 2)\n",
    "m_tau_over_m_e = (alpha / 2)**(3/2) * (1 + alpha / 2)\n",
    "m_n_over_m_e = (alpha**3 / (4 * sp.pi))**(3/5) * (1 + (2 * sp.pi * alpha**2) / 2) / (1 - 4 * sp.pi * alpha**2)\n",
    "m_W_over_m_e = (12 * sp.pi**2 / (1 - alpha)) * sp.sqrt(sp.sqrt(3) / alpha) * (1 + (2 * sp.pi * alpha**2) / 2) / (1 - 2 * sp.pi * alpha**2)\n",
    "\n",
    "# Express alpha in terms of R\n",
    "alpha_in_R = 1 / (4 * sp.pi**3 * R**3)\n",
    "\n",
    "# Substitute alpha in the identities\n",
    "m_mu_over_m_e_R = m_mu_over_m_e.subs(alpha, alpha_in_R)\n",
    "m_tau_over_m_e_R = m_tau_over_m_e.subs(alpha, alpha_in_R)\n",
    "m_n_over_m_e_R = m_n_over_m_e.subs(alpha, alpha_in_R)\n",
    "m_W_over_m_e_R = m_W_over_m_e.subs(alpha, alpha_in_R)\n",
    "\n",
    "# Display the new identities\n",
    "m_mu_over_m_e_R, m_tau_over_m_e_R, m_n_over_m_e_R, m_W_over_m_e_R\n"
   ]
  },
  {
   "cell_type": "code",
   "execution_count": null,
   "id": "6d9ffbd7",
   "metadata": {},
   "outputs": [],
   "source": [
    "import sympy as sp\n",
    "\n",
    "# Define the symbols\n",
    "alpha, R = sp.symbols('alpha R')\n",
    "\n",
    "# Define the identities\n",
    "m_mu_over_m_e = (alpha**2 / (2 * sp.pi))**(3/2) * (1 + (2 * sp.pi * alpha**2) / 2)\n",
    "m_tau_over_m_e = (alpha / 2)**(3/2) * (1 + alpha / 2)\n",
    "m_n_over_m_e = (alpha**3 / (4 * sp.pi))**(3/5) * (1 + (2 * sp.pi * alpha**2) / 2) / (1 - 4 * sp.pi * alpha**2)\n",
    "m_W_over_m_e = (12 * sp.pi**2 / (1 - alpha)) * sp.sqrt(sp.sqrt(3) / alpha) * (1 + (2 * sp.pi * alpha**2) / 2) / (1 - 2 * sp.pi * alpha**2)\n",
    "\n",
    "# Express alpha in terms of R\n",
    "alpha_in_R = 1 / (4 * sp.pi**3 * R**3)\n",
    "\n",
    "# Substitute alpha in the identities\n",
    "m_mu_over_m_e_R = m_mu_over_m_e.subs(alpha, alpha_in_R)\n",
    "m_tau_over_m_e_R = m_tau_over_m_e.subs(alpha, alpha_in_R)\n",
    "m_n_over_m_e_R = m_n_over_m_e.subs(alpha, alpha_in_R)\n",
    "m_W_over_m_e_R = m_W_over_m_e.subs(alpha, alpha_in_R)\n",
    "\n",
    "# Perform Taylor expansion around R = 0\n",
    "expansion_m_mu_over_m_e_R = sp.series(m_mu_over_m_e_R, R, 0, 5)\n",
    "expansion_m_tau_over_m_e_R = sp.series(m_tau_over_m_e_R, R, 0, 5)\n",
    "expansion_m_n_over_m_e_R = sp.series(m_n_over_m_e_R, R, 0, 5)\n",
    "expansion_m_W_over_m_e_R = sp.series(m_W_over_m_e_R, R, 0, 5)\n",
    "\n",
    "expansion_m_mu_over_m_e_R, expansion_m_tau_over_m_e_R, expansion_m_n_over_m_e_R, expansion_m_W_over_m_e_R\n"
   ]
  },
  {
   "cell_type": "code",
   "execution_count": null,
   "id": "f137049c",
   "metadata": {},
   "outputs": [],
   "source": [
    "import sympy as sp\n",
    "\n",
    "# Define the symbols\n",
    "alpha, V = sp.symbols('alpha V')\n",
    "\n",
    "# Define the identities\n",
    "m_mu_over_m_e = (alpha**2 / (2 * sp.pi))**(3/2) * (1 + (2 * sp.pi * alpha**2) / 2)\n",
    "m_tau_over_m_e = (alpha / 2)**(3/2) * (1 + alpha / 2)\n",
    "m_n_over_m_e = (alpha**3 / (4 * sp.pi))**(3/5) * (1 + (2 * sp.pi * alpha**2) / 2) / (1 - 4 * sp.pi * alpha**2)\n",
    "m_W_over_m_e = (12 * sp.pi**2 / (1 - alpha)) * sp.sqrt(sp.sqrt(3) / alpha) * (1 + (2 * sp.pi * alpha**2) / 2) / (1 - 2 * sp.pi * alpha**2)\n",
    "m_n_over_m_mu = m_n_over_m_e/m_mu_over_m_e\n",
    "m_n_over_m_tau = m_n_over_m_e/m_tau_over_m_e\n",
    "m_mu_over_m_tau = m_mu_over_m_e/m_tau_over_m_e\n",
    "\n",
    "# Express alpha in terms of V\n",
    "alpha_in_V = 1 / (2 * sp.pi * V)\n",
    "\n",
    "# Substitute alpha in the identities\n",
    "m_mu_over_m_e_V = m_mu_over_m_e.subs(alpha, alpha_in_V)\n",
    "m_tau_over_m_e_V = m_tau_over_m_e.subs(alpha, alpha_in_V)\n",
    "m_n_over_m_e_V = m_n_over_m_e.subs(alpha, alpha_in_V)\n",
    "m_W_over_m_e_V = m_W_over_m_e.subs(alpha, alpha_in_V)\n",
    "\n",
    "# Perform Taylor expansion around R = 0\n",
    "expansion_m_mu_over_m_e_V = sp.series(m_mu_over_m_e_V, R, 0, 5)\n",
    "expansion_m_tau_over_m_e_V = sp.series(m_tau_over_m_e_V, R, 0, 5)\n",
    "expansion_m_n_over_m_e_V = sp.series(m_n_over_m_e_V, R, 0, 5)\n",
    "expansion_m_W_over_m_e_V = sp.series(m_W_over_m_e_V, R, 0, 5)\n",
    "\n",
    "# expansion_m_mu_over_m_e_V"
   ]
  },
  {
   "cell_type": "code",
   "execution_count": null,
   "id": "23e8abca",
   "metadata": {},
   "outputs": [],
   "source": [
    "m_mu_over_m_tau"
   ]
  },
  {
   "cell_type": "code",
   "execution_count": null,
   "id": "9b9eac18",
   "metadata": {},
   "outputs": [],
   "source": [
    "m_n_over_m_e"
   ]
  },
  {
   "cell_type": "code",
   "execution_count": null,
   "id": "6d987d19",
   "metadata": {},
   "outputs": [],
   "source": [
    "m_n_orver_m_mu = m_n_over_m_e/m_mu_over_m_e\n",
    "m_n_orver_m_mu"
   ]
  },
  {
   "cell_type": "code",
   "execution_count": null,
   "id": "6ca58fb4",
   "metadata": {},
   "outputs": [],
   "source": [
    "m_n_orver_m_tau = m_n_over_m_e/m_tau_over_m_e\n",
    "m_n_orver_m_tau"
   ]
  },
  {
   "cell_type": "code",
   "execution_count": null,
   "id": "b16e47af",
   "metadata": {},
   "outputs": [],
   "source": []
  },
  {
   "cell_type": "code",
   "execution_count": null,
   "id": "bba39941",
   "metadata": {},
   "outputs": [],
   "source": [
    "expansion_m_tau_over_m_e_V"
   ]
  },
  {
   "cell_type": "code",
   "execution_count": null,
   "id": "34acb034",
   "metadata": {},
   "outputs": [],
   "source": [
    "expansion_m_n_over_m_e_V"
   ]
  },
  {
   "cell_type": "code",
   "execution_count": null,
   "id": "41527340",
   "metadata": {},
   "outputs": [],
   "source": [
    "expansion_m_W_over_m_e_V"
   ]
  },
  {
   "cell_type": "code",
   "execution_count": null,
   "id": "d4cfce99",
   "metadata": {},
   "outputs": [],
   "source": []
  },
  {
   "cell_type": "code",
   "execution_count": null,
   "id": "5c02c58a",
   "metadata": {},
   "outputs": [],
   "source": [
    "ccc['electron g factor']"
   ]
  },
  {
   "cell_type": "code",
   "execution_count": null,
   "id": "a732a6c2",
   "metadata": {},
   "outputs": [],
   "source": [
    "ccc['proton g factor']"
   ]
  },
  {
   "cell_type": "code",
   "execution_count": null,
   "id": "92579eac",
   "metadata": {},
   "outputs": [],
   "source": [
    "ccc['neutron g factor']"
   ]
  },
  {
   "cell_type": "code",
   "execution_count": null,
   "id": "93d4a02a",
   "metadata": {},
   "outputs": [],
   "source": [
    "ccc['electron mag. mom. anomaly']"
   ]
  },
  {
   "cell_type": "code",
   "execution_count": null,
   "id": "1090c446",
   "metadata": {},
   "outputs": [],
   "source": [
    "ccc['deuteron-proton mass ratio']"
   ]
  },
  {
   "cell_type": "code",
   "execution_count": null,
   "id": "d49917ef",
   "metadata": {},
   "outputs": [],
   "source": []
  },
  {
   "cell_type": "code",
   "execution_count": null,
   "id": "236537dc",
   "metadata": {},
   "outputs": [],
   "source": []
  },
  {
   "cell_type": "code",
   "execution_count": null,
   "id": "42090b4f",
   "metadata": {},
   "outputs": [],
   "source": [
    "ccc['alpha particle-proton mass ratio']"
   ]
  },
  {
   "cell_type": "code",
   "execution_count": null,
   "id": "49c2172a",
   "metadata": {},
   "outputs": [],
   "source": []
  }
 ],
 "metadata": {
  "kernelspec": {
   "display_name": "Python [conda env:Cosmos3020]",
   "language": "python",
   "name": "conda-env-Cosmos3020-py"
  },
  "language_info": {
   "codemirror_mode": {
    "name": "ipython",
    "version": 3
   },
   "file_extension": ".py",
   "mimetype": "text/x-python",
   "name": "python",
   "nbconvert_exporter": "python",
   "pygments_lexer": "ipython3",
   "version": "3.10.13"
  }
 },
 "nbformat": 4,
 "nbformat_minor": 5
}
