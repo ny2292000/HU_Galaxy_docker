{
 "cells": [
  {
   "cell_type": "code",
   "execution_count": null,
   "id": "63bd085c",
   "metadata": {},
   "outputs": [],
   "source": [
    "import pandas as pd\n",
    "\n",
    "df = pd.read_csv(\"data/train.csv\")\n",
    "\n",
    "large_df = df.sample(6 * 10 ** 7, replace=True)  # 60 million rows\n",
    "\n",
    "large_df.to_parquet(\n",
    "    \"data/tps_may_large.parquet\", row_group_size=len(df) // 15, engine=\"pyarrow\"\n",
    ")"
   ]
  },
  {
   "cell_type": "code",
   "execution_count": null,
   "id": "8cdb7432",
   "metadata": {},
   "outputs": [],
   "source": [
    "from pathlib import Path\n",
    "\n",
    "size = Path(\"data/tps_may_large.parquet\").stat().st_size\n",
    "size_in_gb = size / 1024 ** 3\n",
    "\n",
    "round(size_in_gb, 2)"
   ]
  },
  {
   "cell_type": "code",
   "execution_count": null,
   "id": "7f63de92",
   "metadata": {},
   "outputs": [],
   "source": [
    "%%time\n",
    "import pandas as pd\n",
    "\n",
    "df = pd.read_parquet(\"data/tps_may_large.parquet\")"
   ]
  },
  {
   "cell_type": "code",
   "execution_count": null,
   "id": "53b8cbd1",
   "metadata": {},
   "outputs": [],
   "source": [
    "from kaggle.api import kaggle\n",
    "kaggle competitions download -c tabular-playground-series-may-2021"
   ]
  },
  {
   "cell_type": "code",
   "execution_count": null,
   "id": "03858547",
   "metadata": {},
   "outputs": [],
   "source": [
    "%%time\n",
    "import terality as te\n",
    "\n",
    "\n",
    "df_te = te.read_parquet(\"s3://sample-bucket-for-medium/tps_may_large.parquet\")\n",
    "# view raw"
   ]
  },
  {
   "cell_type": "code",
   "execution_count": null,
   "id": "7b118e48",
   "metadata": {},
   "outputs": [],
   "source": []
  }
 ],
 "metadata": {
  "kernelspec": {
   "display_name": "Python [conda env:AAAA_CMB_HU] *",
   "language": "python",
   "name": "conda-env-AAAA_CMB_HU-py"
  },
  "language_info": {
   "codemirror_mode": {
    "name": "ipython",
    "version": 3
   },
   "file_extension": ".py",
   "mimetype": "text/x-python",
   "name": "python",
   "nbconvert_exporter": "python",
   "pygments_lexer": "ipython3",
   "version": "3.9.7"
  }
 },
 "nbformat": 4,
 "nbformat_minor": 5
}
