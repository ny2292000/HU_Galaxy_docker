{
 "cells": [
  {
   "cell_type": "markdown",
   "metadata": {},
   "source": [
    "# CONTENT\n",
    "\n",
    "## Tully-Fisher data and coefficient extraction"
   ]
  },
  {
   "cell_type": "markdown",
   "metadata": {},
   "source": [
    "# Baryonic Acoustic Oscillations\n",
    "<div class=\"csl-entry\">Alcaniz, J. S., Carvalho, G. C., Bernui, A., Carvalho, J. C., &#38; Benetti, M. (n.d.). <i>Measuring baryon acoustic oscillations with angular two-point correlation function</i>.</div>\n",
    "<div class=\"csl-entry\"><i>Transmission of Sound Waves in Gases at Low Pressures</i>. (n.d.).</div>\n",
    "<div class=\"csl-entry\">Melia, F. (2021). The anomalous 21-cm absorption at high redshifts. <i>European Physical Journal C</i>, <i>81</i>(3). https://doi.org/10.1140/EPJC/S10052-021-09029-4</div>"
   ]
  },
  {
   "cell_type": "code",
   "execution_count": null,
   "metadata": {},
   "outputs": [],
   "source": [
    "import pandas as pd\n",
    "import numpy as np\n",
    "TullyData2 = pd.read_excel(\"./DataSupernovaLBLgov//GHASP_Galaxies_1.xls\",sheet_name=\"Sheet2\")\n",
    "TullyData2[\"log_V_RC_Max\"]=np.log10(TullyData2.V_RC_Max)\n",
    "TullyData2[\"log_V_Model_R25\"]=np.log10(TullyData2.V_Model_R25)\n",
    "TullyData2[\"log_V_TF_max\"]=np.log10(TullyData2.V_TF_max)\n",
    "TullyData2[\"ApparentLuminosity\"]= 2.512**TullyData2.MK\n",
    "TullyData2"
   ]
  },
  {
   "cell_type": "code",
   "execution_count": null,
   "metadata": {},
   "outputs": [],
   "source": [
    "TullyData1 = pd.read_excel(\"./DataSupernovaLBLgov/GHASP_Galaxies_1.xls\",sheet_name=\"Sheet1\")\n",
    "TullyData1.UGC\n",
    "TullyData1.index = TullyData1.UGC\n",
    "TullyData2.index = TullyData2.UGC\n",
    "for a in [\"MH\", \"MK\", \"V_RC_Max\", \"V_Model_R25\", \"V_TF_max\", \"Flag\", \"log_V_RC_Max\", \"log_V_Model_R25\", \"log_V_TF_max\"]:\n",
    "    TullyData1[a]=0.0\n",
    "    for b in TullyData1.UGC:\n",
    "        TullyData1.loc[b,a]=TullyData2.loc[b,a]\n",
    "TullyData1"
   ]
  },
  {
   "cell_type": "code",
   "execution_count": null,
   "metadata": {},
   "outputs": [],
   "source": [
    "ax=TullyData2.plot.scatter(x=\"log_V_RC_Max\", y=\"MK\" )\n",
    "TullyData2.plot.scatter(x=\"log_V_Model_R25\", y=\"MK\" , color=\"red\", ax=ax)\n",
    "TullyData2.plot.scatter(x=\"log_V_TF_max\", y=\"MK\" , color=\"green\", ax=ax)"
   ]
  },
  {
   "cell_type": "code",
   "execution_count": null,
   "metadata": {},
   "outputs": [],
   "source": [
    "ax=TullyData1.plot.scatter(x=\"log_V_RC_Max\", y=\"MK\" )\n",
    "TullyData1.plot.scatter(x=\"log_V_Model_R25\", y=\"MK\" , color=\"red\", ax=ax)\n",
    "TullyData1.plot.scatter(x=\"log_V_TF_max\", y=\"MK\" , color=\"green\", ax=ax)"
   ]
  },
  {
   "cell_type": "code",
   "execution_count": null,
   "metadata": {},
   "outputs": [],
   "source": [
    "ax=TullyData2.plot.scatter(x=\"log_V_RC_Max\", y=\"MH\" )\n",
    "TullyData2.plot.scatter(x=\"log_V_Model_R25\", y=\"MH\" , color=\"red\", ax=ax)\n",
    "TullyData2.plot.scatter(x=\"log_V_TF_max\", y=\"MH\" , color=\"green\", ax=ax)"
   ]
  },
  {
   "cell_type": "code",
   "execution_count": null,
   "metadata": {},
   "outputs": [],
   "source": [
    "ax=TullyData1.plot.scatter(x=\"log_V_RC_Max\", y='log_MB_and_J' )\n",
    "TullyData1.plot.scatter(x=\"log_V_Model_R25\", y='log_MB_and_J' , color=\"red\", ax=ax)\n",
    "TullyData1.plot.scatter(x=\"log_V_TF_max\", y='log_MB_and_J' , color=\"green\", ax=ax)"
   ]
  },
  {
   "cell_type": "code",
   "execution_count": null,
   "metadata": {},
   "outputs": [],
   "source": [
    "TullyData1.columns"
   ]
  },
  {
   "cell_type": "code",
   "execution_count": null,
   "metadata": {},
   "outputs": [],
   "source": [
    "\n",
    "import numpy as np\n",
    "import matplotlib.pyplot as plt  # To visualize\n",
    "import pandas as pd  # To read data\n",
    "from sklearn.linear_model import LinearRegression\n",
    "X=TullyData1['log_V_TF_max'].values.reshape(-1, 1)\n",
    "Y=TullyData1['log_M_bar'].values.reshape(-1, 1)\n"
   ]
  },
  {
   "cell_type": "code",
   "execution_count": null,
   "metadata": {},
   "outputs": [],
   "source": [
    "linear_regressor = LinearRegression()  # create object for the class\n",
    "linear_regressor.fit(X, Y)  # perform linear regression\n",
    "Y_pred = linear_regressor.predict(X)  # make predictions\n",
    "linear_regressor.coef_, linear_regressor.intercept_\n",
    "plt.scatter(X,Y, X,Y_pred)\n",
    "plt.scatter(X,Y_pred)\n",
    "plt.title (\"alpha={},\\n beta={}\".format(linear_regressor.coef_[0][0], linear_regressor.intercept_[0]))\n",
    "plt.show()"
   ]
  },
  {
   "cell_type": "code",
   "execution_count": null,
   "metadata": {},
   "outputs": [],
   "source": [
    "linear_regressor.coef_[0][0], linear_regressor.intercept_[0]"
   ]
  }
 ],
 "metadata": {
  "anaconda-cloud": {},
  "kernelspec": {
   "display_name": "Python [conda env:Cosmos3020]",
   "language": "python",
   "name": "conda-env-Cosmos3020-py"
  },
  "language_info": {
   "codemirror_mode": {
    "name": "ipython",
    "version": 3
   },
   "file_extension": ".py",
   "mimetype": "text/x-python",
   "name": "python",
   "nbconvert_exporter": "python",
   "pygments_lexer": "ipython3",
   "version": "3.11.8"
  }
 },
 "nbformat": 4,
 "nbformat_minor": 4
}
