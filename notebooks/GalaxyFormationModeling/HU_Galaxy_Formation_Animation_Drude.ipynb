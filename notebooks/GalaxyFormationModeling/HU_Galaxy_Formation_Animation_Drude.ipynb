{
 "cells": [
  {
   "cell_type": "code",
   "execution_count": 1,
   "id": "c176e989",
   "metadata": {},
   "outputs": [],
   "source": [
    "# !pip install git+https://github.com/jupyterhub/binderhub\n",
    "# !pip install https://github.com/jupyter/repo2docker/archive/master.zip"
   ]
  },
  {
   "cell_type": "markdown",
   "id": "63b5ae1d-8fca-4f5c-b590-b5e613456ca6",
   "metadata": {},
   "source": [
    "# ANGULAR SIZE VERSUS Z\n",
    "\n",
    "In HU, the distance is given by\n",
    "$d(z) = R_0 \\frac{z}{(1+z)}$\n",
    "\n",
    "the 4D radius is given by:\n",
    "$R(z) = R_0 \\frac{1}{(1+z)}$\n",
    "\n",
    "where $R_0$ = 14.01 GLY\n",
    "$G(t) = G_0\\frac{R_0}{R(z)}$\n",
    "\n",
    "$G = G_0 (1+z)$\n",
    "\n",
    "Using Newtonian Dynamics while reversing time (having the average galaxy moving back in time and through the 4D spatial manifold), we get:\n",
    "$G(z)\\frac{M}{r(z)^2} = \\frac{v(z)^2}{r(z)}$\n",
    "\n",
    "r(z)=$G(z)\\frac{M}{v(z)^2}=G_0 (1+z)\\frac{M}{v(z)^2}$\n",
    "\n",
    "Since the angular size of a galaxy is roughly r(z)/d(z)\n",
    "\n",
    "AngularSize= $G_0 (1+z)\\frac{M}{v(z)^2}/(R_0\\frac{z}{(1+z)})= \\frac{G_0M(1+z)^2}{R_0  z v(z)^2} \\propto \\frac{1}{z}$\n",
    "\n",
    "This means that v(z) =$ v_0(1+z)$ which implies that $r(z) = r_0/(1+z)$\n",
    "\n",
    "where $R_0$ is the current 4D radius (14.01 GLY), and $v_0$ is the current tangential velocity of a body in orbit.\n",
    "\n",
    "So, as G varies, the radius of the orbits varies, and velocity adjusts to keep angular momentum constant. The resulting angular size z-dependency is $\\frac{1}{z} $as depicted in Kapahi’s data.\n",
    "\n",
    "**NOTICE THAT THIS IS NOT A SMALL RESULT. I DERIVED THE Z-DEPENDENCY OF THE ANGULAR SIZE (AN OBSERVABLE) IN AN EPOCH-DEPENDENT G. THIS HAS NEVER BEEN DONE, AND IT SUPPORTS MY THEORY AND DEBUNKS GENERAL RELATIVITY.**\n",
    "\n",
    "**JWST'S OBSERVATION OF HUGE GALAXIES IS THE RESULT OF INCORRECT GALAXY SIZE PREDICTIONS AND DISTRIBUTION DUE TO RIEMMANIAN GEOMETRY: NO IFS OR BUTS.**\n"
   ]
  },
  {
   "cell_type": "code",
   "execution_count": 1,
   "id": "6b7ab0c2",
   "metadata": {},
   "outputs": [
    {
     "data": {
      "application/vnd.jupyter.widget-view+json": {
       "model_id": "4b04f02419b74c91b2874e64a082ea4f",
       "version_major": 2,
       "version_minor": 0
      },
      "text/plain": [
       "IntSlider(value=0, continuous_update=False, description='Redshift:', max=19)"
      ]
     },
     "metadata": {},
     "output_type": "display_data"
    },
    {
     "data": {
      "application/vnd.jupyter.widget-view+json": {
       "model_id": "7b33e1d14e0545bb8e566c2451bfc140",
       "version_major": 2,
       "version_minor": 0
      },
      "text/plain": [
       "Output()"
      ]
     },
     "metadata": {},
     "output_type": "display_data"
    }
   ],
   "source": [
    "import math\n",
    "import numpy as np\n",
    "import xarray as xr\n",
    "import ipywidgets as widgets\n",
    "import matplotlib.pyplot as plt\n",
    "import matplotlib.gridspec as gridspec\n",
    "\n",
    "\n",
    "suffix = \"_8\"\n",
    "pd_r = np.load(\"./data/_all_r\" + suffix + \".npy\")\n",
    "pd_z = np.load(\"./data/_all_z\" + suffix + \".npy\")\n",
    "pd_dv0 = np.load(\"./data/_all_dv0\" + suffix + \".npy\")\n",
    "redshifts = np.load(\"./data/_all_redshifts\" + suffix + \".npy\")\n",
    "epochs = np.load(\"./data/_epochs\" + suffix + \".npy\")\n",
    "n_epochs = len(epochs)\n",
    "Radius_4D=14.01e9\n",
    "\n",
    "\n",
    "# Load the dataset\n",
    "data = np.load (\"./data/_all_current_masses\" + suffix + \".npy\")\n",
    "pd_masses = xr.DataArray(data).rename({ 'dim_0' : 'epoch', 'dim_1': 'radius', 'dim_2': 'elevation',})\n",
    "\n",
    "def plot_2d_mass(z):\n",
    "    fig = plt.figure(figsize=(10, 8))\n",
    "    gs = gridspec.GridSpec(1, 2, width_ratios=[3, 1])\n",
    "    \n",
    "    R_0 = 14.01  # 4D radius of the Universe\n",
    "    z_0 = redshifts[z]  # the initial redshift\n",
    "    \n",
    "    # Create the 2D subplot\n",
    "    ax = plt.subplot(gs[0])\n",
    "    \n",
    "\n",
    "    # Create a symmetric X grid by concatenating the negative and positive r values\n",
    "    pd_r[z][0] = 0.0\n",
    "    r_extended = np.concatenate((-pd_r[z][::-1], pd_r[z]))\n",
    "\n",
    "    # Concatenate the values of pd_masses to make the mass symmetric along the radius\n",
    "    mass_values_symmetric = np.concatenate((pd_masses[z].values[::-1, :], pd_masses[z].values), axis=0)\n",
    "\n",
    "    # Check the shapes to understand the mismatch\n",
    "    print(\"Shape of mass_values_symmetric:\", mass_values_symmetric.shape)\n",
    "    print(\"Shape of pd_z[z]:\", pd_z[z].shape)\n",
    "    print(\"Shape of r_extended:\", r_extended.shape)\n",
    "\n",
    "    # Create a new DataArray with symmetric values\n",
    "    symmetric_mass = xr.DataArray(\n",
    "        mass_values_symmetric, \n",
    "        coords={'radius': r_extended, 'elevation': pd_z[z]}, \n",
    "        dims=['radius', 'elevation']  # swap these dimensions\n",
    "    )\n",
    "\n",
    "\n",
    "\n",
    "    dv0 = pd_dv0[z][:, None]\n",
    "    dv0_broadcasted = np.broadcast_to(dv0, pd_masses[z].values.shape)\n",
    "\n",
    "    # Now, you can plot this symmetric_mass DataArray directly\n",
    "    symmetric_mass.plot(ax=ax, x='radius', y='elevation', cmap='coolwarm')\n",
    "    ax.set_title(\"$M_{33}$ Mass Profile\\n Redshift z = %.2f\" % z_0)\n",
    "    ax.set_xlabel('X (1000 Lyr)')\n",
    "    ax.set_ylabel('Z (1000 Lyr)')\n",
    "\n",
    "    # Remaining polar subplot code remains unchanged\n",
    "    # Create the second subplot\n",
    "    ax = plt.subplot(gs[1], projection='polar')  # 1 row, 2 columns, second subplot\n",
    "    circle_outer = plt.Circle((0, 0), R_0, transform=ax.transData._b, fill = False)\n",
    "    circle_inner = plt.Circle((0, 0), R_0/(1+z_0), transform=ax.transData._b, fill = False, linestyle='dashed')\n",
    "    ax.add_artist(circle_outer)\n",
    "    ax.add_artist(circle_inner)\n",
    "\n",
    "    z_values = np.linspace(0, z_0, 100)\n",
    "    R_values = R_0/(1+z_values)\n",
    "    R_z0 =  R_0/(1+z_0)\n",
    "    angle_0 = 1 - 1/(1+z_0)\n",
    "    angle_values =  R_values/R_0\n",
    "    ax.plot(np.pi/2-angle_0, R_z0, 'ro')\n",
    "    ax.text(np.pi/2, R_0, 'Earth', horizontalalignment='right')\n",
    "    ax.text((np.pi/2-angle_0)*0.92, R_z0, '$M_{33}$', horizontalalignment='left')\n",
    "    ax.scatter(np.pi/2 - angle_0 + (R_values-R_z0)/R_0, R_values, color='b', s=0.5)\n",
    "    ax.set_rmax(R_0)\n",
    "    ax.set_rticks([])  # Less radial ticks\n",
    "    ax.set_rlabel_position(-24.5)  # Move radial labels away from plotted line\n",
    "    ax.grid(True)\n",
    "\n",
    "    ax.set_title(\"$M_{33}$ Ancient Photon's path across \\nthe Hyperspherical Universe\", va='bottom')\n",
    "\n",
    "    plt.subplots_adjust(wspace=0.3)\n",
    "    plt.show()\n",
    "\n",
    "z_slider = widgets.IntSlider(min=0, max=n_epochs-1, step=1, value=0, description='Redshift:', continuous_update=False)\n",
    "interactive_plot = widgets.interactive_output(plot_2d_mass, {'z': z_slider})\n",
    "display(z_slider, interactive_plot)\n"
   ]
  },
  {
   "cell_type": "code",
   "execution_count": 2,
   "id": "78582508",
   "metadata": {},
   "outputs": [
    {
     "data": {
      "application/vnd.jupyter.widget-view+json": {
       "model_id": "71e8369cb410455ebbacceb31f1277aa",
       "version_major": 2,
       "version_minor": 0
      },
      "text/plain": [
       "IntSlider(value=0, continuous_update=False, description='Redshift:', max=19)"
      ]
     },
     "metadata": {},
     "output_type": "display_data"
    },
    {
     "data": {
      "application/vnd.jupyter.widget-view+json": {
       "model_id": "baca5f1de5414f80851d2b66793a556a",
       "version_major": 2,
       "version_minor": 0
      },
      "text/plain": [
       "Output()"
      ]
     },
     "metadata": {},
     "output_type": "display_data"
    }
   ],
   "source": [
    "def plot_2d_mass(z):\n",
    "    fig = plt.figure(figsize=(10, 8))\n",
    "    gs = gridspec.GridSpec(1, 2, width_ratios=[3, 1])\n",
    "    \n",
    "    R_0 = 14.01  # 4D radius of the Universe\n",
    "    z_0 = redshifts[z]  # the initial redshift\n",
    "    \n",
    "    # Create the 2D subplot\n",
    "    ax = plt.subplot(gs[0])\n",
    "\n",
    "    # Create a symmetric X grid by concatenating the negative and positive r values\n",
    "    pd_r[z][0]=1\n",
    "    r_extended = np.concatenate((-pd_r[z][::-1], pd_r[z]))\n",
    "    \n",
    "    # Concatenate the values of pd_masses to make the mass symmetric along the radius\n",
    "    mass_values_symmetric = np.concatenate((pd_masses[z].values[::-1, :], pd_masses[z].values), axis=0)\n",
    "\n",
    "    # Calculate the density by dividing mass values by dv0\n",
    "    dv0 = pd_dv0[z][:, None]\n",
    "    r_exte4nded_squared = r_extended*r_extended\n",
    "    r_exte4nded_squared = r_exte4nded_squared[:, None]\n",
    "#     density_values_symmetric = np.log( mass_values_symmetric / r_exte4nded_squared ) #np.concatenate((dv0[::-1], dv0))\n",
    "    density_values_symmetric = np.log( mass_values_symmetric / np.concatenate((dv0[::-1], dv0)) ) \n",
    "\n",
    "    \n",
    "    # Create a new DataArray for symmetric density\n",
    "    symmetric_density = xr.DataArray(\n",
    "        density_values_symmetric, \n",
    "        coords={'radius': r_extended, 'elevation': pd_z[z]}, \n",
    "        dims=['radius', 'elevation']\n",
    "    )\n",
    "\n",
    "    # Now, you can plot this symmetric_density DataArray directly\n",
    "    symmetric_density.plot(ax=ax, x='radius', y='elevation', cmap='coolwarm')\n",
    "    ax.set_title(\"$M_{33}$ Density Profile\\n Redshift z = %.2f\" % z_0)\n",
    "    ax.set_xlabel('X (Lyr)')\n",
    "    ax.set_ylabel('Z (Lyr)')\n",
    "\n",
    "    # Remaining polar subplot code remains unchanged\n",
    "     # Create the second subplot\n",
    "    ax = plt.subplot(gs[1], projection='polar')  # 1 row, 2 columns, second subplot\n",
    "    circle_outer = plt.Circle((0, 0), R_0, transform=ax.transData._b, fill = False)\n",
    "    circle_inner = plt.Circle((0, 0), R_0/(1+z_0), transform=ax.transData._b, fill = False, linestyle='dashed')\n",
    "    ax.add_artist(circle_outer)\n",
    "    ax.add_artist(circle_inner)\n",
    "\n",
    "    z_values = np.linspace(0, z_0, 100)\n",
    "    R_values = R_0/(1+z_values)\n",
    "    R_z0 =  R_0/(1+z_0)\n",
    "    angle_0 = 1 - 1/(1+z_0)\n",
    "    angle_values =  R_values/R_0\n",
    "    ax.plot(np.pi/2-angle_0, R_z0, 'ro')\n",
    "    ax.text(np.pi/2, R_0, 'Earth', horizontalalignment='right')\n",
    "    ax.text((np.pi/2-angle_0)*0.92, R_z0, '$M_{33}$', horizontalalignment='left')\n",
    "    ax.scatter(np.pi/2 - angle_0 + (R_values-R_z0)/R_0, R_values, color='b', s=0.5)\n",
    "    ax.set_rmax(R_0)\n",
    "    ax.set_rticks([])  # Less radial ticks\n",
    "    ax.set_rlabel_position(-24.5)  # Move radial labels away from plotted line\n",
    "    ax.grid(True)\n",
    "\n",
    "    ax.set_title(\"$M_{33}$ Ancient Photon's path across \\nthe Hyperspherical Universe\", va='bottom')\n",
    "    plt.subplots_adjust(wspace=0.3)\n",
    "    plt.show()\n",
    "\n",
    "z_slider = widgets.IntSlider(min=0, max=n_epochs-1, step=1, value=0, description='Redshift:', continuous_update=False)\n",
    "interactive_plot = widgets.interactive_output(plot_2d_mass, {'z': z_slider})\n",
    "display(z_slider, interactive_plot)\n"
   ]
  },
  {
   "cell_type": "code",
   "execution_count": 4,
   "id": "b311e08a",
   "metadata": {},
   "outputs": [
    {
     "data": {
      "application/vnd.jupyter.widget-view+json": {
       "model_id": "00e505b4652747b6a42734bd3db8780e",
       "version_major": 2,
       "version_minor": 0
      },
      "text/plain": [
       "IntSlider(value=0, continuous_update=False, description='Redshift:', max=19)"
      ]
     },
     "metadata": {},
     "output_type": "display_data"
    },
    {
     "data": {
      "application/vnd.jupyter.widget-view+json": {
       "model_id": "fc504c99b66a4f608d096010ac75fc23",
       "version_major": 2,
       "version_minor": 0
      },
      "text/plain": [
       "FloatRangeSlider(value=(0.0, 1.0), continuous_update=False, description='Density Range:', max=1.0, step=0.01)"
      ]
     },
     "metadata": {},
     "output_type": "display_data"
    },
    {
     "data": {
      "application/vnd.jupyter.widget-view+json": {
       "model_id": "7fe9c14994fc437b9a3897832e2e653d",
       "version_major": 2,
       "version_minor": 0
      },
      "text/plain": [
       "Output()"
      ]
     },
     "metadata": {},
     "output_type": "display_data"
    }
   ],
   "source": [
    "import numpy as np\n",
    "import matplotlib.pyplot as plt\n",
    "import matplotlib.gridspec as gridspec\n",
    "import xarray as xr\n",
    "import ipywidgets as widgets\n",
    "from ipywidgets import interactive\n",
    "\n",
    "R_0 = 14.01E9\n",
    "suffix =\"_10\"\n",
    "pd_r = np.load(\"./data/_all_r\" + suffix + \".npy\")\n",
    "pd_z = np.load(\"./data/_all_z\" + suffix + \".npy\")\n",
    "pd_dv0 = np.load(\"./data/_all_dv0\" + suffix + \".npy\")\n",
    "redshifts = np.load(\"./data/_all_redshifts\" + suffix + \".npy\")\n",
    "epochs = np.load(\"./data/_epochs\" + suffix + \".npy\")\n",
    "n_epochs = len(epochs)\n",
    "pd_masses = xr.DataArray(np.load(\"./data/_all_current_masses\" + suffix + \".npy\")).rename({'dim_0' : 'epoch', 'dim_1': 'radius', 'dim_2': 'elevation'})\n",
    "\n",
    "\n",
    "def update_density_range(z):\n",
    "    min_density = np.log( np.min(pd_masses[z].values / pd_dv0[z][:, None]) +1E-5 )\n",
    "    max_density = np.log( np.max(pd_masses[z].values / pd_dv0[z][:, None]) )\n",
    "    if (min_density > max_density):\n",
    "        a = max_density\n",
    "        max_density = min_density\n",
    "        min_density = a\n",
    "    density_range_slider.max = max_density\n",
    "    density_range_slider.min = min_density\n",
    "    density_range_slider.value = [min_density, max_density]\n",
    "    density_range_slider.step = (max_density - min_density) / 100\n",
    "\n",
    "def plot_2d_mass(z, density_range):\n",
    "    fig = plt.figure(figsize=(10, 8))\n",
    "    gs = gridspec.GridSpec(1, 2, width_ratios=[3, 1])\n",
    "    \n",
    "    R_0 = 14.01  # 4D radius of the Universe\n",
    "    z_0 = redshifts[z]  # the initial redshift\n",
    "    \n",
    "    # Create the 2D subplot\n",
    "    ax = plt.subplot(gs[0])\n",
    "\n",
    "    # Create a symmetric X grid by concatenating the negative and positive r values\n",
    "    pd_r[z][0]=0.0\n",
    "    r_extended = np.concatenate((-pd_r[z][::-1], pd_r[z]))\n",
    "\n",
    "    # Concatenate the values of pd_masses to make the mass symmetric along the radius\n",
    "    mass_values_symmetric = np.concatenate((pd_masses[z].values[::-1, :], pd_masses[z].values), axis=0)\n",
    "\n",
    "    # Calculate the density by dividing mass values by dv0\n",
    "    dv0 = pd_dv0[z][:, None]\n",
    "    density_values_symmetric = mass_values_symmetric / np.concatenate((dv0[::-1], dv0))\n",
    "\n",
    "    # Create a new DataArray for symmetric density\n",
    "    symmetric_density = xr.DataArray(\n",
    "        density_values_symmetric, \n",
    "        coords={'radius': r_extended, 'elevation': pd_z[z]}, \n",
    "        dims=['radius', 'elevation']\n",
    "    )\n",
    "\n",
    "    # Now, you can plot this symmetric_density DataArray directly\n",
    "    symmetric_density.plot(ax=ax, x='radius', y='elevation', cmap='coolwarm', vmin=density_range[0], vmax=density_range[1])\n",
    "    ax.set_title(\"$M_{33}$ Luminous Density Profile\\n Redshift z = %.2f\" % z_0)\n",
    "    ax.set_xlabel('X (1000 Lyr)')\n",
    "    ax.set_ylabel('Z (1000 Lyr)')\n",
    "\n",
    "    # Remaining polar subplot code remains unchanged\n",
    "    # Create the second subplot\n",
    "    ax = plt.subplot(gs[1], projection='polar')  # 1 row, 2 columns, second subplot\n",
    "    circle_outer = plt.Circle((0, 0), R_0, transform=ax.transData._b, fill = False)\n",
    "    circle_inner = plt.Circle((0, 0), R_0/(1+z_0), transform=ax.transData._b, fill = False, linestyle='dashed')\n",
    "    ax.add_artist(circle_outer)\n",
    "    ax.add_artist(circle_inner)\n",
    "\n",
    "    z_values = np.linspace(0, z_0, 100)\n",
    "    R_values = R_0/(1+z_values)\n",
    "    R_z0 =  R_0/(1+z_0)\n",
    "    angle_0 = 1 - 1/(1+z_0)\n",
    "    angle_values =  R_values/R_0\n",
    "    ax.plot(np.pi/2-angle_0, R_z0, 'ro')\n",
    "    ax.text(np.pi/2, R_0, 'Earth', horizontalalignment='right')\n",
    "    ax.text((np.pi/2-angle_0)*0.92, R_z0, '$M_{33}$', horizontalalignment='left')\n",
    "    ax.scatter(np.pi/2 - angle_0 + (R_values-R_z0)/R_0, R_values, color='b', s=0.5)\n",
    "    ax.set_rmax(R_0)\n",
    "    ax.set_rticks([])  # Less radial ticks\n",
    "    ax.set_rlabel_position(-24.5)  # Move radial labels away from plotted line\n",
    "    ax.grid(True)\n",
    "\n",
    "    ax.set_title(\"$M_{33}$ Ancient Photon's path across \\nthe Hyperspherical Universe\", va='bottom')\n",
    "\n",
    "    plt.subplots_adjust(wspace=0.3)\n",
    "    plt.show()\n",
    "\n",
    "\n",
    "\n",
    "# Slider for redshift\n",
    "z_slider = widgets.IntSlider(min=0, max=n_epochs-1, step=1, value=0, description='Redshift:', continuous_update=False)\n",
    "\n",
    "# Slider for density range (initialize with dummy values; they'll be updated by the function)\n",
    "density_range_slider = widgets.FloatRangeSlider(\n",
    "    value=[0, 1],\n",
    "    min=0,\n",
    "    max=1,\n",
    "    step=0.01,\n",
    "    description='Density Range:',\n",
    "    continuous_update=False\n",
    ")\n",
    "\n",
    "def on_z_slider_change(change):\n",
    "    if change['name'] == 'value':\n",
    "        update_density_range(change['new'])\n",
    "\n",
    "z_slider.observe(on_z_slider_change)\n",
    "\n",
    "interactive_plot = widgets.interactive_output(plot_2d_mass, {'z': z_slider, 'density_range': density_range_slider})\n",
    "display(z_slider, density_range_slider, interactive_plot)\n",
    "\n",
    "# Trigger the initial update\n",
    "update_density_range(z_slider.value)"
   ]
  },
  {
   "cell_type": "code",
   "execution_count": null,
   "id": "5b1e8864",
   "metadata": {},
   "outputs": [],
   "source": []
  },
  {
   "cell_type": "code",
   "execution_count": null,
   "id": "636dd47f",
   "metadata": {},
   "outputs": [],
   "source": []
  }
 ],
 "metadata": {
  "kernelspec": {
   "display_name": "Python [conda env:Cosmos3019]",
   "language": "python",
   "name": "conda-env-Cosmos3019-py"
  },
  "language_info": {
   "codemirror_mode": {
    "name": "ipython",
    "version": 3
   },
   "file_extension": ".py",
   "mimetype": "text/x-python",
   "name": "python",
   "nbconvert_exporter": "python",
   "pygments_lexer": "ipython3",
   "version": "3.11.4"
  }
 },
 "nbformat": 4,
 "nbformat_minor": 5
}
