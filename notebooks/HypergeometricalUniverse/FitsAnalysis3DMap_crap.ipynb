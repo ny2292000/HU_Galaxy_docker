{
 "cells": [
  {
   "cell_type": "code",
   "execution_count": 1,
   "metadata": {},
   "outputs": [
    {
     "name": "stderr",
     "output_type": "stream",
     "text": [
      "./notebooks/HypergeometricalUniverse/HULib.py:25: NumbaDeprecationWarning: \u001b[1mThe keyword argument 'nopython=False' was supplied. From Numba 0.59.0 the default is being changed to True and use of 'nopython=False' will raise a warning as the argument will have no effect. See https://numba.readthedocs.io/en/stable/reference/deprecation.html#deprecation-of-object-mode-fall-back-behaviour-when-using-jit for details.\u001b[0m\n",
      "  @jit(nopython=False)\n",
      "./notebooks/HypergeometricalUniverse/HULib.py:30: NumbaDeprecationWarning: \u001b[1mThe keyword argument 'nopython=False' was supplied. From Numba 0.59.0 the default is being changed to True and use of 'nopython=False' will raise a warning as the argument will have no effect. See https://numba.readthedocs.io/en/stable/reference/deprecation.html#deprecation-of-object-mode-fall-back-behaviour-when-using-jit for details.\u001b[0m\n",
      "  @jit(nopython=False)\n",
      "./notebooks/HypergeometricalUniverse/HULib.py:35: NumbaDeprecationWarning: \u001b[1mThe keyword argument 'nopython=False' was supplied. From Numba 0.59.0 the default is being changed to True and use of 'nopython=False' will raise a warning as the argument will have no effect. See https://numba.readthedocs.io/en/stable/reference/deprecation.html#deprecation-of-object-mode-fall-back-behaviour-when-using-jit for details.\u001b[0m\n",
      "  @jit(nopython=False)\n",
      "./notebooks/HypergeometricalUniverse/HULib.py:40: NumbaDeprecationWarning: \u001b[1mThe keyword argument 'nopython=False' was supplied. From Numba 0.59.0 the default is being changed to True and use of 'nopython=False' will raise a warning as the argument will have no effect. See https://numba.readthedocs.io/en/stable/reference/deprecation.html#deprecation-of-object-mode-fall-back-behaviour-when-using-jit for details.\u001b[0m\n",
      "  @jit(nopython=False)\n",
      "./notebooks/HypergeometricalUniverse/HULib.py:46: NumbaDeprecationWarning: \u001b[1mThe keyword argument 'nopython=False' was supplied. From Numba 0.59.0 the default is being changed to True and use of 'nopython=False' will raise a warning as the argument will have no effect. See https://numba.readthedocs.io/en/stable/reference/deprecation.html#deprecation-of-object-mode-fall-back-behaviour-when-using-jit for details.\u001b[0m\n",
      "  @jit(nopython=False)\n",
      "./notebooks/HypergeometricalUniverse/HULib.py:65: NumbaDeprecationWarning: \u001b[1mThe keyword argument 'nopython=False' was supplied. From Numba 0.59.0 the default is being changed to True and use of 'nopython=False' will raise a warning as the argument will have no effect. See https://numba.readthedocs.io/en/stable/reference/deprecation.html#deprecation-of-object-mode-fall-back-behaviour-when-using-jit for details.\u001b[0m\n",
      "  @jit(nopython=False)\n",
      "./notebooks/HypergeometricalUniverse/HULib.py:81: NumbaDeprecationWarning: \u001b[1mThe keyword argument 'nopython=False' was supplied. From Numba 0.59.0 the default is being changed to True and use of 'nopython=False' will raise a warning as the argument will have no effect. See https://numba.readthedocs.io/en/stable/reference/deprecation.html#deprecation-of-object-mode-fall-back-behaviour-when-using-jit for details.\u001b[0m\n",
      "  @jit(nopython=False)\n",
      "./notebooks/HypergeometricalUniverse/HULib.py:105: NumbaDeprecationWarning: \u001b[1mThe keyword argument 'nopython=False' was supplied. From Numba 0.59.0 the default is being changed to True and use of 'nopython=False' will raise a warning as the argument will have no effect. See https://numba.readthedocs.io/en/stable/reference/deprecation.html#deprecation-of-object-mode-fall-back-behaviour-when-using-jit for details.\u001b[0m\n",
      "  @jit(nopython=False)\n",
      "./notebooks/HypergeometricalUniverse/HULib.py:124: NumbaDeprecationWarning: \u001b[1mThe keyword argument 'nopython=False' was supplied. From Numba 0.59.0 the default is being changed to True and use of 'nopython=False' will raise a warning as the argument will have no effect. See https://numba.readthedocs.io/en/stable/reference/deprecation.html#deprecation-of-object-mode-fall-back-behaviour-when-using-jit for details.\u001b[0m\n",
      "  @jit(nopython=False)\n",
      "./notebooks/HypergeometricalUniverse/HULib.py:130: NumbaDeprecationWarning: \u001b[1mThe keyword argument 'nopython=False' was supplied. From Numba 0.59.0 the default is being changed to True and use of 'nopython=False' will raise a warning as the argument will have no effect. See https://numba.readthedocs.io/en/stable/reference/deprecation.html#deprecation-of-object-mode-fall-back-behaviour-when-using-jit for details.\u001b[0m\n",
      "  @jit(nopython=False)\n",
      "./notebooks/HypergeometricalUniverse/HULib.py:140: NumbaDeprecationWarning: \u001b[1mThe keyword argument 'nopython=False' was supplied. From Numba 0.59.0 the default is being changed to True and use of 'nopython=False' will raise a warning as the argument will have no effect. See https://numba.readthedocs.io/en/stable/reference/deprecation.html#deprecation-of-object-mode-fall-back-behaviour-when-using-jit for details.\u001b[0m\n",
      "  @jit(nopython=False)\n",
      "./notebooks/HypergeometricalUniverse/HULib.py:155: NumbaDeprecationWarning: \u001b[1mThe keyword argument 'nopython=False' was supplied. From Numba 0.59.0 the default is being changed to True and use of 'nopython=False' will raise a warning as the argument will have no effect. See https://numba.readthedocs.io/en/stable/reference/deprecation.html#deprecation-of-object-mode-fall-back-behaviour-when-using-jit for details.\u001b[0m\n",
      "  @jit(nopython=False)\n",
      "./notebooks/HypergeometricalUniverse/HULib.py:203: NumbaDeprecationWarning: \u001b[1mThe keyword argument 'nopython=False' was supplied. From Numba 0.59.0 the default is being changed to True and use of 'nopython=False' will raise a warning as the argument will have no effect. See https://numba.readthedocs.io/en/stable/reference/deprecation.html#deprecation-of-object-mode-fall-back-behaviour-when-using-jit for details.\u001b[0m\n",
      "  @jit(nopython=False)\n"
     ]
    }
   ],
   "source": [
    "%matplotlib inline\n",
    "import parameters\n",
    "import HULib\n",
    "import numpy as np\n",
    "import pandas as pd\n",
    "from glue_qt import qglue\n",
    "import matplotlib.pylab as plt\n",
    "import seaborn as sns\n",
    "parameters.glueme = True  # load data to glue for manipulation of the Universe"
   ]
  },
  {
   "cell_type": "markdown",
   "metadata": {},
   "source": [
    "# 3D Map Calculation"
   ]
  },
  {
   "cell_type": "code",
   "execution_count": 2,
   "metadata": {},
   "outputs": [
    {
     "name": "stderr",
     "output_type": "stream",
     "text": [
      "./notebooks/HypergeometricalUniverse/HULib.py:65: NumbaWarning: \u001b[1m\n",
      "Compilation is falling back to object mode WITH looplifting enabled because Function \"get_BOSS_data\" failed type inference due to: \u001b[1mUntyped global name 'read_nobs_pyfits':\u001b[0m \u001b[1m\u001b[1mCannot determine Numba type of <class 'function'>\u001b[0m\n",
      "\u001b[1m\n",
      "File \"HULib.py\", line 67:\u001b[0m\n",
      "\u001b[1mdef get_BOSS_data(gal):\n",
      "\u001b[1m    nObs, cols = read_nobs_pyfits(gal)\n",
      "\u001b[0m    \u001b[1m^\u001b[0m\u001b[0m\n",
      "\u001b[0m\u001b[0m\n",
      "  @jit(nopython=False)\n",
      "/home/mp74207/anaconda3/envs/Cosmos3019/lib/python3.11/site-packages/numba/core/compiler_machinery.py:362: NumbaPendingDeprecationWarning: \u001b[1mThe 'old_style' error capturing is deprecated and will be replaced by `new_style` in a future release.\u001b[0m\n",
      "  if (utils.use_new_style_errors() and not\n",
      "/home/mp74207/anaconda3/envs/Cosmos3019/lib/python3.11/site-packages/numba/core/compiler.py:502: NumbaPendingDeprecationWarning: \u001b[1mThe 'old_style' error capturing is deprecated and will be replaced by `new_style` in a future release.\u001b[0m\n",
      "  if (utils.use_new_style_errors() and not\n",
      "./notebooks/HypergeometricalUniverse/HULib.py:65: NumbaWarning: \u001b[1m\n",
      "Compilation is falling back to object mode WITHOUT looplifting enabled because Function \"get_BOSS_data\" failed type inference due to: \u001b[1mUntyped global name 'read_nobs_pyfits':\u001b[0m \u001b[1m\u001b[1mCannot determine Numba type of <class 'function'>\u001b[0m\n",
      "\u001b[1m\n",
      "File \"HULib.py\", line 67:\u001b[0m\n",
      "\u001b[1mdef get_BOSS_data(gal):\n",
      "\u001b[1m    nObs, cols = read_nobs_pyfits(gal)\n",
      "\u001b[0m    \u001b[1m^\u001b[0m\u001b[0m\n",
      "\u001b[0m\u001b[0m\n",
      "  @jit(nopython=False)\n",
      "/home/mp74207/anaconda3/envs/Cosmos3019/lib/python3.11/site-packages/numba/core/object_mode_passes.py:151: NumbaWarning: \u001b[1mFunction \"get_BOSS_data\" was compiled in object mode without forceobj=True, but has lifted loops.\n",
      "\u001b[1m\n",
      "File \"HULib.py\", line 65:\u001b[0m\n",
      "\u001b[1mdef read_nobs_pyfits(filename):\n",
      "    <source elided>\n",
      "\n",
      "\u001b[1m@jit(nopython=False)\n",
      "\u001b[0m\u001b[1m^\u001b[0m\u001b[0m\n",
      "\u001b[0m\n",
      "  warnings.warn(errors.NumbaWarning(warn_msg,\n",
      "/home/mp74207/anaconda3/envs/Cosmos3019/lib/python3.11/site-packages/numba/core/object_mode_passes.py:161: NumbaDeprecationWarning: \u001b[1m\n",
      "Fall-back from the nopython compilation path to the object mode compilation path has been detected. This is deprecated behaviour that will be removed in Numba 0.59.0.\n",
      "\n",
      "For more information visit https://numba.readthedocs.io/en/stable/reference/deprecation.html#deprecation-of-object-mode-fall-back-behaviour-when-using-jit\n",
      "\u001b[1m\n",
      "File \"HULib.py\", line 65:\u001b[0m\n",
      "\u001b[1mdef read_nobs_pyfits(filename):\n",
      "    <source elided>\n",
      "\n",
      "\u001b[1m@jit(nopython=False)\n",
      "\u001b[0m\u001b[1m^\u001b[0m\u001b[0m\n",
      "\u001b[0m\n",
      "  warnings.warn(errors.NumbaDeprecationWarning(msg,\n",
      "./notebooks/HypergeometricalUniverse/HULib.py:65: NumbaWarning: \u001b[1m\n",
      "Compilation is falling back to object mode WITHOUT looplifting enabled because Function \"get_BOSS_data\" failed type inference due to: \u001b[1m\u001b[1mnon-precise type pyobject\u001b[0m\n",
      "\u001b[0m\u001b[1mDuring: typing of argument at ./notebooks/HypergeometricalUniverse/HULib.py (69)\u001b[0m\n",
      "\u001b[1m\n",
      "File \"HULib.py\", line 69:\u001b[0m\n",
      "\u001b[1mdef get_BOSS_data(gal):\n",
      "    <source elided>\n",
      "    colnames=[]\n",
      "\u001b[1m    for x in cols:\n",
      "\u001b[0m    \u001b[1m^\u001b[0m\u001b[0m\n",
      "\u001b[0m\n",
      "  @jit(nopython=False)\n",
      "/home/mp74207/anaconda3/envs/Cosmos3019/lib/python3.11/site-packages/numba/core/compiler_machinery.py:362: NumbaPendingDeprecationWarning: \u001b[1mThe 'old_style' error capturing is deprecated and will be replaced by `new_style` in a future release.\u001b[0m\n",
      "  if (utils.use_new_style_errors() and not\n",
      "/home/mp74207/anaconda3/envs/Cosmos3019/lib/python3.11/site-packages/numba/core/compiler.py:502: NumbaPendingDeprecationWarning: \u001b[1mThe 'old_style' error capturing is deprecated and will be replaced by `new_style` in a future release.\u001b[0m\n",
      "  if (utils.use_new_style_errors() and not\n",
      "/home/mp74207/anaconda3/envs/Cosmos3019/lib/python3.11/site-packages/numba/core/object_mode_passes.py:151: NumbaWarning: \u001b[1mFunction \"get_BOSS_data\" was compiled in object mode without forceobj=True.\n",
      "\u001b[1m\n",
      "File \"HULib.py\", line 69:\u001b[0m\n",
      "\u001b[1mdef get_BOSS_data(gal):\n",
      "    <source elided>\n",
      "    colnames=[]\n",
      "\u001b[1m    for x in cols:\n",
      "\u001b[0m    \u001b[1m^\u001b[0m\u001b[0m\n",
      "\u001b[0m\n",
      "  warnings.warn(errors.NumbaWarning(warn_msg,\n",
      "/home/mp74207/anaconda3/envs/Cosmos3019/lib/python3.11/site-packages/numba/core/object_mode_passes.py:161: NumbaDeprecationWarning: \u001b[1m\n",
      "Fall-back from the nopython compilation path to the object mode compilation path has been detected. This is deprecated behaviour that will be removed in Numba 0.59.0.\n",
      "\n",
      "For more information visit https://numba.readthedocs.io/en/stable/reference/deprecation.html#deprecation-of-object-mode-fall-back-behaviour-when-using-jit\n",
      "\u001b[1m\n",
      "File \"HULib.py\", line 69:\u001b[0m\n",
      "\u001b[1mdef get_BOSS_data(gal):\n",
      "    <source elided>\n",
      "    colnames=[]\n",
      "\u001b[1m    for x in cols:\n",
      "\u001b[0m    \u001b[1m^\u001b[0m\u001b[0m\n",
      "\u001b[0m\n",
      "  warnings.warn(errors.NumbaDeprecationWarning(msg,\n",
      "./notebooks/HypergeometricalUniverse/HULib.py:65: NumbaWarning: \u001b[1m\n",
      "Compilation is falling back to object mode WITHOUT looplifting enabled because Function \"get_BOSS_data\" failed type inference due to: \u001b[1mUntyped global name 'read_test_pyfits':\u001b[0m \u001b[1m\u001b[1mCannot determine Numba type of <class 'function'>\u001b[0m\n",
      "\u001b[1m\n",
      "File \"HULib.py\", line 77:\u001b[0m\n",
      "\u001b[1mdef get_BOSS_data(gal):\n",
      "    <source elided>\n",
      "    for rowname in myGalaxy.columns:\n",
      "\u001b[1m        myGalaxy[rowname] = read_test_pyfits(gal, rowname).byteswap().newbyteorder()\n",
      "\u001b[0m        \u001b[1m^\u001b[0m\u001b[0m\n",
      "\u001b[0m\u001b[0m\n",
      "  @jit(nopython=False)\n",
      "/home/mp74207/anaconda3/envs/Cosmos3019/lib/python3.11/site-packages/numba/core/compiler_machinery.py:362: NumbaPendingDeprecationWarning: \u001b[1mThe 'old_style' error capturing is deprecated and will be replaced by `new_style` in a future release.\u001b[0m\n",
      "  if (utils.use_new_style_errors() and not\n",
      "/home/mp74207/anaconda3/envs/Cosmos3019/lib/python3.11/site-packages/numba/core/compiler.py:502: NumbaPendingDeprecationWarning: \u001b[1mThe 'old_style' error capturing is deprecated and will be replaced by `new_style` in a future release.\u001b[0m\n",
      "  if (utils.use_new_style_errors() and not\n",
      "/home/mp74207/anaconda3/envs/Cosmos3019/lib/python3.11/site-packages/numba/core/object_mode_passes.py:151: NumbaWarning: \u001b[1mFunction \"get_BOSS_data\" was compiled in object mode without forceobj=True.\n",
      "\u001b[1m\n",
      "File \"HULib.py\", line 74:\u001b[0m\n",
      "\u001b[1mdef get_BOSS_data(gal):\n",
      "    <source elided>\n",
      "            colnames.append(x)\n",
      "\u001b[1m    ncols = len(colnames)\n",
      "\u001b[0m    \u001b[1m^\u001b[0m\u001b[0m\n",
      "\u001b[0m\n",
      "  warnings.warn(errors.NumbaWarning(warn_msg,\n",
      "/home/mp74207/anaconda3/envs/Cosmos3019/lib/python3.11/site-packages/numba/core/object_mode_passes.py:161: NumbaDeprecationWarning: \u001b[1m\n",
      "Fall-back from the nopython compilation path to the object mode compilation path has been detected. This is deprecated behaviour that will be removed in Numba 0.59.0.\n",
      "\n",
      "For more information visit https://numba.readthedocs.io/en/stable/reference/deprecation.html#deprecation-of-object-mode-fall-back-behaviour-when-using-jit\n",
      "\u001b[1m\n",
      "File \"HULib.py\", line 74:\u001b[0m\n",
      "\u001b[1mdef get_BOSS_data(gal):\n",
      "    <source elided>\n",
      "            colnames.append(x)\n",
      "\u001b[1m    ncols = len(colnames)\n",
      "\u001b[0m    \u001b[1m^\u001b[0m\u001b[0m\n",
      "\u001b[0m\n",
      "  warnings.warn(errors.NumbaDeprecationWarning(msg,\n",
      "./notebooks/HypergeometricalUniverse/HULib.py:81: NumbaWarning: \u001b[1m\n",
      "Compilation is falling back to object mode WITH looplifting enabled because Function \"fix_BOSS_data\" failed type inference due to: \u001b[1m\u001b[1mnon-precise type pyobject\u001b[0m\n",
      "\u001b[0m\u001b[1mDuring: typing of argument at ./notebooks/HypergeometricalUniverse/HULib.py (81)\u001b[0m\n",
      "\u001b[1m\n",
      "File \"HULib.py\", line 81:\u001b[0m\n",
      "\u001b[1mdef get_BOSS_data(gal):\n",
      "    <source elided>\n",
      "\n",
      "\u001b[1m@jit(nopython=False)\n",
      "\u001b[0m\u001b[1m^\u001b[0m\u001b[0m\n",
      "\u001b[0m\n",
      "  @jit(nopython=False)\n",
      "/home/mp74207/anaconda3/envs/Cosmos3019/lib/python3.11/site-packages/numba/core/compiler_machinery.py:362: NumbaPendingDeprecationWarning: \u001b[1mThe 'old_style' error capturing is deprecated and will be replaced by `new_style` in a future release.\u001b[0m\n",
      "  if (utils.use_new_style_errors() and not\n",
      "/home/mp74207/anaconda3/envs/Cosmos3019/lib/python3.11/site-packages/numba/core/compiler.py:502: NumbaPendingDeprecationWarning: \u001b[1mThe 'old_style' error capturing is deprecated and will be replaced by `new_style` in a future release.\u001b[0m\n",
      "  if (utils.use_new_style_errors() and not\n"
     ]
    },
    {
     "name": "stderr",
     "output_type": "stream",
     "text": [
      "/home/mp74207/anaconda3/envs/Cosmos3019/lib/python3.11/site-packages/numba/core/object_mode_passes.py:151: NumbaWarning: \u001b[1mFunction \"fix_BOSS_data\" was compiled in object mode without forceobj=True.\n",
      "\u001b[1m\n",
      "File \"HULib.py\", line 82:\u001b[0m\n",
      "\u001b[1m@jit(nopython=False)\n",
      "\u001b[1mdef fix_BOSS_data(myGalaxy):\n",
      "\u001b[0m\u001b[1m^\u001b[0m\u001b[0m\n",
      "\u001b[0m\n",
      "  warnings.warn(errors.NumbaWarning(warn_msg,\n",
      "/home/mp74207/anaconda3/envs/Cosmos3019/lib/python3.11/site-packages/numba/core/object_mode_passes.py:161: NumbaDeprecationWarning: \u001b[1m\n",
      "Fall-back from the nopython compilation path to the object mode compilation path has been detected. This is deprecated behaviour that will be removed in Numba 0.59.0.\n",
      "\n",
      "For more information visit https://numba.readthedocs.io/en/stable/reference/deprecation.html#deprecation-of-object-mode-fall-back-behaviour-when-using-jit\n",
      "\u001b[1m\n",
      "File \"HULib.py\", line 82:\u001b[0m\n",
      "\u001b[1m@jit(nopython=False)\n",
      "\u001b[1mdef fix_BOSS_data(myGalaxy):\n",
      "\u001b[0m\u001b[1m^\u001b[0m\u001b[0m\n",
      "\u001b[0m\n",
      "  warnings.warn(errors.NumbaDeprecationWarning(msg,\n",
      "./notebooks/HypergeometricalUniverse/HULib.py:124: NumbaWarning: \u001b[1m\n",
      "Compilation is falling back to object mode WITH looplifting enabled because Function \"zDistance\" failed type inference due to: \u001b[1m\u001b[1mnon-precise type pyobject\u001b[0m\n",
      "\u001b[0m\u001b[1mDuring: typing of argument at ./notebooks/HypergeometricalUniverse/HULib.py (124)\u001b[0m\n",
      "\u001b[1m\n",
      "File \"HULib.py\", line 124:\u001b[0m\n",
      "\u001b[1mdef fix_Obj_data(myGalaxy):\n",
      "    <source elided>\n",
      "\n",
      "\u001b[1m@jit(nopython=False)\n",
      "\u001b[0m\u001b[1m^\u001b[0m\u001b[0m\n",
      "\u001b[0m\n",
      "  @jit(nopython=False)\n",
      "/home/mp74207/anaconda3/envs/Cosmos3019/lib/python3.11/site-packages/numba/core/compiler_machinery.py:362: NumbaPendingDeprecationWarning: \u001b[1mThe 'old_style' error capturing is deprecated and will be replaced by `new_style` in a future release.\u001b[0m\n",
      "  if (utils.use_new_style_errors() and not\n",
      "/home/mp74207/anaconda3/envs/Cosmos3019/lib/python3.11/site-packages/numba/core/compiler.py:502: NumbaPendingDeprecationWarning: \u001b[1mThe 'old_style' error capturing is deprecated and will be replaced by `new_style` in a future release.\u001b[0m\n",
      "  if (utils.use_new_style_errors() and not\n",
      "/home/mp74207/anaconda3/envs/Cosmos3019/lib/python3.11/site-packages/numba/core/object_mode_passes.py:151: NumbaWarning: \u001b[1mFunction \"zDistance\" was compiled in object mode without forceobj=True.\n",
      "\u001b[1m\n",
      "File \"HULib.py\", line 125:\u001b[0m\n",
      "\u001b[1m@jit(nopython=False)\n",
      "\u001b[1mdef zDistance(Z):\n",
      "\u001b[0m\u001b[1m^\u001b[0m\u001b[0m\n",
      "\u001b[0m\n",
      "  warnings.warn(errors.NumbaWarning(warn_msg,\n",
      "/home/mp74207/anaconda3/envs/Cosmos3019/lib/python3.11/site-packages/numba/core/object_mode_passes.py:161: NumbaDeprecationWarning: \u001b[1m\n",
      "Fall-back from the nopython compilation path to the object mode compilation path has been detected. This is deprecated behaviour that will be removed in Numba 0.59.0.\n",
      "\n",
      "For more information visit https://numba.readthedocs.io/en/stable/reference/deprecation.html#deprecation-of-object-mode-fall-back-behaviour-when-using-jit\n",
      "\u001b[1m\n",
      "File \"HULib.py\", line 125:\u001b[0m\n",
      "\u001b[1m@jit(nopython=False)\n",
      "\u001b[1mdef zDistance(Z):\n",
      "\u001b[0m\u001b[1m^\u001b[0m\u001b[0m\n",
      "\u001b[0m\n",
      "  warnings.warn(errors.NumbaDeprecationWarning(msg,\n"
     ]
    },
    {
     "name": "stdout",
     "output_type": "stream",
     "text": [
      "Index(['RA', 'DEC', 'ID', 'Z', 'NZ'], dtype='object')\n",
      "Index(['RA', 'DEC', 'ID', 'Z', 'NZ'], dtype='object')\n",
      "Index(['RA', 'DEC', 'ID', 'Z', 'NZ'], dtype='object')\n",
      "Index(['RA', 'DEC', 'ID', 'Z', 'NZ'], dtype='object')\n"
     ]
    }
   ],
   "source": [
    "gals = ['galaxy_DR12v5_CMASS_North.fits','galaxy_DR12v5_LOWZ_North.fits',\n",
    "       'galaxy_DR12v5_CMASS_South.fits','galaxy_DR12v5_LOWZ_South.fits']\n",
    "\n",
    "gal = parameters.sdssAddress + 'galaxy_DR12v5_CMASS_North.fits';\n",
    "myGalaxy0 = HULib.get_BOSS_data(gal)\n",
    "numGalaxies=myGalaxy0.shape[0]\n",
    "\n",
    "gal = parameters.sdssAddress + 'galaxy_DR12v5_CMASS_South.fits';\n",
    "myGalaxy1 = HULib.get_BOSS_data(gal)\n",
    "numGalaxies1=myGalaxy1.shape[0]\n",
    "\n",
    "gal = parameters.sdssAddress + 'galaxy_DR12v5_LOWZ_North.fits';\n",
    "myGalaxy2 = HULib.get_BOSS_data(gal)\n",
    "numGalaxies2=myGalaxy2.shape[0]\n",
    "\n",
    "gal = parameters.sdssAddress + 'galaxy_DR12v5_LOWZ_South.fits';\n",
    "myGalaxy3 = HULib.get_BOSS_data(gal)\n",
    "numGalaxies3=myGalaxy3.shape[0]\n",
    "\n",
    "myGalaxy= pd.concat([myGalaxy0,myGalaxy1,myGalaxy2,myGalaxy3])\n",
    "\n",
    "\n",
    "# 3D xyz Map\n",
    "df=pd.DataFrame({'Me' : myGalaxy.groupby( [ \"x\", \"y\",'z'] )['Me'].sum()}).reset_index()\n",
    "\n",
    "dfmax=df.Me.max()\n",
    "dfmin=df.Me.min()\n",
    "if parameters.saveme:\n",
    "    df.to_excel(parameters.imgAddress + 'myGalaxyGroupbyxyz.xlsx')\n",
    "\n",
    "if parameters.glueme:\n",
    "    qglue (star=df)"
   ]
  },
  {
   "cell_type": "code",
   "execution_count": 3,
   "metadata": {},
   "outputs": [
    {
     "name": "stdout",
     "output_type": "stream",
     "text": [
      "Center of Mass =  -0.01575488280224162 -0.0021889668120041966 0.027339429574567982\n"
     ]
    }
   ],
   "source": [
    "#Are we at the Center of Mass of the wave = Yes\n",
    "mm=df.Me.std()\n",
    "xAv= np.mean(df.x*df.Me)/mm\n",
    "yAv= np.mean(df.y*df.Me)/mm\n",
    "zAv= np.mean(df.z*df.Me)/mm\n",
    "print(\"Center of Mass = \",xAv,yAv,zAv)"
   ]
  },
  {
   "cell_type": "code",
   "execution_count": 4,
   "metadata": {},
   "outputs": [
    {
     "data": {
      "text/plain": [
       "0.03162992755728642"
      ]
     },
     "execution_count": 4,
     "metadata": {},
     "output_type": "execute_result"
    }
   ],
   "source": [
    "np.sqrt(xAv**2+yAv**2+zAv**2)"
   ]
  },
  {
   "cell_type": "code",
   "execution_count": 5,
   "metadata": {},
   "outputs": [
    {
     "name": "stdout",
     "output_type": "stream",
     "text": [
      "Center of Stars =  -0.059977311008404456 -0.008057755535941777 0.10149186989395514\n"
     ]
    }
   ],
   "source": [
    "# Are we at the center of the number of sky (based on the number of stars) = No\n",
    "xAv= np.mean(df.x)\n",
    "yAv= np.mean(df.y)\n",
    "zAv= np.mean(df.z)\n",
    "print(\"Center of Stars = \",xAv,yAv,zAv)"
   ]
  },
  {
   "cell_type": "code",
   "execution_count": 6,
   "metadata": {},
   "outputs": [
    {
     "data": {
      "text/plain": [
       "0.1181643132026222"
      ]
     },
     "execution_count": 6,
     "metadata": {},
     "output_type": "execute_result"
    }
   ],
   "source": [
    "np.sqrt(xAv**2+yAv**2+zAv**2)"
   ]
  },
  {
   "cell_type": "code",
   "execution_count": 7,
   "metadata": {},
   "outputs": [
    {
     "name": "stdout",
     "output_type": "stream",
     "text": [
      "Index(['RA', 'DEC', 'ID', 'Z', 'NZ'], dtype='object')\n",
      "Index(['RA', 'DEC', 'ID', 'Z', 'NZ'], dtype='object')\n",
      "Index(['RA', 'DEC', 'ID', 'Z', 'NZ', 'CosRA', 'SinRA', 'CosDEC', 'SinDEC',\n",
      "       'distance0', 'distance', 'density', 'Me', 'alpha', 'x', 'y', 'z'],\n",
      "      dtype='object')\n"
     ]
    }
   ],
   "source": [
    "# Alpha-RA Map\n",
    "gals = ['galaxy_DR12v5_CMASS_North.fits','galaxy_DR12v5_LOWZ_North.fits',\n",
    "       'galaxy_DR12v5_CMASS_South.fits','galaxy_DR12v5_LOWZ_South.fits']\n",
    "\n",
    "myGalaxy = pd.concat([HULib.get_BOSS_data(parameters.sdssAddress + '' + gals[0]),HULib.get_BOSS_data(parameters.sdssAddress + '' + gals[1])])\n",
    "myGalaxy = HULib.fix_BOSS_data(myGalaxy)\n",
    "df=pd.DataFrame({'Me' : myGalaxy.groupby( [ 'alpha','RA'] )['Me'].sum()}).reset_index()\n",
    "if parameters.glueme:\n",
    "    qglue (star=df)"
   ]
  },
  {
   "cell_type": "code",
   "execution_count": 8,
   "metadata": {},
   "outputs": [
    {
     "name": "stdout",
     "output_type": "stream",
     "text": [
      "Index(['RA', 'DEC', 'ID', 'Z', 'NZ'], dtype='object')\n",
      "Index(['RA', 'DEC', 'ID', 'Z', 'NZ'], dtype='object')\n"
     ]
    }
   ],
   "source": [
    "# Alpha-DEC Map\n",
    "gals = ['galaxy_DR12v5_CMASS_North.fits','galaxy_DR12v5_LOWZ_North.fits',\n",
    "       'galaxy_DR12v5_CMASS_South.fits','galaxy_DR12v5_LOWZ_South.fits']\n",
    "\n",
    "myGalaxy = pd.concat([HULib.get_BOSS_data(parameters.sdssAddress + '' + gals[0]),HULib.get_BOSS_data(parameters.sdssAddress + '' + gals[1])])\n",
    "df=pd.DataFrame({'Me' : myGalaxy.groupby( [ 'alpha','DEC'] )['Me'].sum()}).reset_index()\n",
    "if parameters.glueme:\n",
    "    qglue (star=df)"
   ]
  },
  {
   "cell_type": "markdown",
   "metadata": {
    "collapsed": true
   },
   "source": [
    "150 Megaparsec = 27.757646186"
   ]
  },
  {
   "cell_type": "code",
   "execution_count": null,
   "metadata": {},
   "outputs": [],
   "source": []
  },
  {
   "cell_type": "code",
   "execution_count": null,
   "metadata": {},
   "outputs": [],
   "source": []
  },
  {
   "cell_type": "code",
   "execution_count": null,
   "metadata": {},
   "outputs": [],
   "source": []
  }
 ],
 "metadata": {
  "kernelspec": {
   "display_name": "Python [conda env:Cosmos3019]",
   "language": "python",
   "name": "conda-env-Cosmos3019-py"
  },
  "language_info": {
   "codemirror_mode": {
    "name": "ipython",
    "version": 3
   },
   "file_extension": ".py",
   "mimetype": "text/x-python",
   "name": "python",
   "nbconvert_exporter": "python",
   "pygments_lexer": "ipython3",
   "version": "3.11.4"
  }
 },
 "nbformat": 4,
 "nbformat_minor": 1
}
