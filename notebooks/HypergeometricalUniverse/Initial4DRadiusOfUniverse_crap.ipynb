{
 "cells": [
  {
   "cell_type": "code",
   "execution_count": 1,
   "metadata": {},
   "outputs": [
    {
     "name": "stdout",
     "output_type": "stream",
     "text": [
      "14.43448806732786 lyr\n"
     ]
    },
    {
     "data": {
      "image/png": "[encoded data removed]",
      "text/plain": [
       "<Figure size 640x480 with 1 Axes>"
      ]
     },
     "metadata": {},
     "output_type": "display_data"
    }
   ],
   "source": [
    "%matplotlib inline\n",
    "import matplotlib\n",
    "import math\n",
    "import pandas as pd\n",
    "import numpy as np\n",
    "import matplotlib.pyplot as plt\n",
    "from scipy.optimize import fsolve, curve_fit\n",
    "from scipy.stats import chisquare\n",
    "from astropy.cosmology import Planck15\n",
    "from astropy import constants, units\n",
    "import parameters\n",
    "\n",
    "DefaultSize=[10,6]\n",
    "font = {'family': 'serif',\n",
    "        'color':  'black',\n",
    "        'weight': 'normal',\n",
    "        'size': 14,\n",
    "        }\n",
    "axis_font = {'name':'Arial', 'size':'18'}\n",
    "\n",
    "title_font = {'name':'Arial', 'size':'18'}\n",
    "\n",
    "def d_planck15(z):\n",
    "    R0 = (constants.c)/(Planck15.H0)\n",
    "    d_L = (Planck15.luminosity_distance(z))/R0.to(units.Mpc)\n",
    "    plt.plot(z, d_L)\n",
    "    R0=R0.to(units.lyr)/1e9\n",
    "    return R0,d_L\n",
    "z = np.arange(0.0,1.5,0.01)\n",
    "R0_GLY,d_L=d_planck15(z)\n",
    "R0_GLY_CMB=R0_GLY\n",
    "print(R0_GLY)\n",
    "HubbleGRData=pd.DataFrame()\n",
    "HubbleGRData['z']=z\n",
    "HubbleGRData['d']=d_L\n",
    "\n",
    "# http://astronomy.swin.edu.au/cosmos/D/Distance+Modulus\n",
    "\n",
    "\n",
    "SCPData = pd.ExcelFile(parameters.supernovaAddress + 'SCPUnionData.xls').parse('Sheet2')\n",
    "angle=math.pi/4\n",
    "# First let's create a set of lambda-shifts\n",
    "\n",
    "# Union Compilation Magnitude vs. Redshift Table\n",
    "# An ASCII table with tab-separated columns: Supernova Name, Redshift, Distance Modulus, and Distance Modulus Error. \n",
    "# For Union2.1, there is an additional column for the probability that the supernova \n",
    "# was hosted by a low-mass galaxy.\n",
    "\n",
    "z = SCPData['redshift']\n"
   ]
  },
  {
   "cell_type": "code",
   "execution_count": 2,
   "metadata": {},
   "outputs": [
    {
     "data": {
      "text/latex": [
       "$1.4030596 \\times 10^{10} \\; \\mathrm{lyr}$"
      ],
      "text/plain": [
       "<Quantity 1.40305958e+10 lyr>"
      ]
     },
     "execution_count": 2,
     "metadata": {},
     "output_type": "execute_result"
    }
   ],
   "source": [
    "H0=69.69 *units.km/units.s/units.Mpc\n",
    "H0_saved=H0\n",
    "R0Diff=R0_GLY-(constants.c/H0).to(units.lyr)\n",
    "R0_GLY=(constants.c/H0).to(units.lyr)\n",
    "R0_GLY"
   ]
  },
  {
   "cell_type": "code",
   "execution_count": 3,
   "metadata": {},
   "outputs": [
    {
     "data": {
      "text/latex": [
       "$4.9893349 \\times 10^{-27} \\; \\mathrm{\\frac{kg}{m^{3}}}$"
      ],
      "text/plain": [
       "<Quantity 4.98933486e-27 kg / m3>"
      ]
     },
     "execution_count": 3,
     "metadata": {},
     "output_type": "execute_result"
    }
   ],
   "source": [
    "densityOfUniverse=constants.c**2/(0.776*2*np.pi**2*constants.G*R0_GLY**2).si;densityOfUniverse"
   ]
  },
  {
   "cell_type": "code",
   "execution_count": 4,
   "metadata": {},
   "outputs": [],
   "source": [
    "hydrogenmass= constants.m_e+ constants.m_p"
   ]
  },
  {
   "cell_type": "code",
   "execution_count": 5,
   "metadata": {},
   "outputs": [
    {
     "data": {
      "text/latex": [
       "$2.9813187 \\; \\mathrm{\\frac{1}{m^{3}}}$"
      ],
      "text/plain": [
       "<Quantity 2.98131873 1 / m3>"
      ]
     },
     "execution_count": 5,
     "metadata": {},
     "output_type": "execute_result"
    }
   ],
   "source": [
    "densityOfUniverse/hydrogenmass"
   ]
  },
  {
   "cell_type": "code",
   "execution_count": 6,
   "metadata": {},
   "outputs": [
    {
     "data": {
      "text/latex": [
       "$7.1961913 \\times 10^{17} \\; \\mathrm{\\frac{kg}{m^{3}}}$"
      ],
      "text/plain": [
       "<Quantity 7.19619131e+17 kg / m3>"
      ]
     },
     "execution_count": 6,
     "metadata": {},
     "output_type": "execute_result"
    }
   ],
   "source": [
    "0.43*hydrogenmass/(1E-15*units.m)**3"
   ]
  },
  {
   "cell_type": "code",
   "execution_count": 7,
   "metadata": {},
   "outputs": [
    {
     "data": {
      "text/latex": [
       "$2.3034285 \\times 10^{53} \\; \\mathrm{kg}$"
      ],
      "text/plain": [
       "<Quantity 2.30342855e+53 kg>"
      ]
     },
     "execution_count": 7,
     "metadata": {},
     "output_type": "execute_result"
    }
   ],
   "source": [
    "TotalMassOfHypersphericalUniverse=(densityOfUniverse*2*np.pi**2*R0_GLY**3).si\n",
    "TotalMassOfHypersphericalUniverse"
   ]
  },
  {
   "cell_type": "code",
   "execution_count": 8,
   "metadata": {},
   "outputs": [],
   "source": [
    "# Initial 4D radius of the Universe\n",
    "densityOfBlackHole =  7.19E-17* units.kg/units.m**3\n",
    "Initial4DRadius =np.sqrt(  constants.c**2/(0.776*2*np.pi**2*constants.G*densityOfBlackHole).si )\n"
   ]
  },
  {
   "cell_type": "code",
   "execution_count": 9,
   "metadata": {},
   "outputs": [
    {
     "data": {
      "text/latex": [
       "$116878.06 \\; \\mathrm{lyr}$"
      ],
      "text/plain": [
       "<Quantity 116878.06010451 lyr>"
      ]
     },
     "execution_count": 9,
     "metadata": {},
     "output_type": "execute_result"
    }
   ],
   "source": [
    "Initial4DRadius.to(units.lyr)"
   ]
  },
  {
   "cell_type": "code",
   "execution_count": 10,
   "metadata": {},
   "outputs": [
    {
     "data": {
      "text/latex": [
       "$4.8880272 \\times 10^{52} \\; \\mathrm{kg}$"
      ],
      "text/plain": [
       "<Quantity 4.88802719e+52 kg>"
      ]
     },
     "execution_count": 10,
     "metadata": {},
     "output_type": "execute_result"
    }
   ],
   "source": [
    "MassOfObservableUniverse= (densityOfUniverse*(4/3*np.pi*R0_GLY**3)).si\n",
    "MassOfObservableUniverse"
   ]
  },
  {
   "cell_type": "code",
   "execution_count": null,
   "metadata": {},
   "outputs": [],
   "source": []
  }
 ],
 "metadata": {
  "anaconda-cloud": {},
  "kernelspec": {
   "display_name": "Python [conda env:Cosmos3019]",
   "language": "python",
   "name": "conda-env-Cosmos3019-py"
  },
  "language_info": {
   "codemirror_mode": {
    "name": "ipython",
    "version": 3
   },
   "file_extension": ".py",
   "mimetype": "text/x-python",
   "name": "python",
   "nbconvert_exporter": "python",
   "pygments_lexer": "ipython3",
   "version": "3.11.4"
  }
 },
 "nbformat": 4,
 "nbformat_minor": 1
}
