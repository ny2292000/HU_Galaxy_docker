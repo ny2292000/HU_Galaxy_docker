{
 "cells": [
  {
   "cell_type": "code",
   "execution_count": 1,
   "metadata": {},
   "outputs": [],
   "source": [
    "%matplotlib inline\n",
    "import matplotlib\n",
    "import math\n",
    "import pandas as pd\n",
    "import numpy as np\n",
    "import matplotlib.pyplot as plt\n",
    "from scipy.optimize import fsolve, curve_fit\n",
    "from scipy.stats import chisquare\n",
    "from astropy.cosmology import Planck15\n",
    "from astropy import constants, units\n",
    "import parameters\n"
   ]
  },
  {
   "cell_type": "markdown",
   "metadata": {},
   "source": [
    "\n",
    "\n",
    "<h1>The segment below is related to the Baryonic Acoustic Oscillations. I wanted to see how my theory would deal with that. This is work in progress</h1>\n",
    "\n",
    "<br>\n",
    "<br>"
   ]
  },
  {
   "cell_type": "code",
   "execution_count": 2,
   "metadata": {},
   "outputs": [
    {
     "data": {
      "text/latex": [
       "$1.3206906 \\times 10^{-15} \\; \\mathrm{m}$"
      ],
      "text/plain": [
       "<Quantity 1.32069058e-15 m>"
      ]
     },
     "execution_count": 2,
     "metadata": {},
     "output_type": "execute_result"
    }
   ],
   "source": [
    "hydrogenmass= constants.m_p+constants.m_e\n",
    "comptonwavelength = constants.h/(hydrogenmass*constants.c)\n",
    "comptonwavelength.si"
   ]
  },
  {
   "cell_type": "code",
   "execution_count": 3,
   "metadata": {},
   "outputs": [
    {
     "data": {
      "text/latex": [
       "$8.2193218 \\times 10^{18} \\; \\mathrm{\\frac{kg}{m^{3}}}$"
      ],
      "text/plain": [
       "<Quantity 8.2193218e+18 kg / m3>"
      ]
     },
     "execution_count": 3,
     "metadata": {},
     "output_type": "execute_result"
    }
   ],
   "source": [
    "# FCC\n",
    "dbh = ((8*1/8+6*1/2)*hydrogenmass/((comptonwavelength/np.sqrt(2))**3)).si\n",
    "dbh"
   ]
  },
  {
   "cell_type": "code",
   "execution_count": 4,
   "metadata": {},
   "outputs": [
    {
     "data": {
      "text/latex": [
       "$2.3738717 \\times 10^{20} \\; \\mathrm{\\frac{kg}{m^{3}}}$"
      ],
      "text/plain": [
       "<Quantity 2.37387167e+20 kg / m3>"
      ]
     },
     "execution_count": 4,
     "metadata": {},
     "output_type": "execute_result"
    }
   ],
   "source": [
    "# This is the Black Hole density where Fundamental Dilators are 0.19 femtometer apart\n",
    "# 8 x 1/8 of a FD per cell\n",
    "dbh=1.6737236e-27/(0.191753e-15)**3*units.kg/(units.m)**3\n",
    "# dbh=2.3738717E20*units.kg/(units.m)**3\n",
    "dbh"
   ]
  },
  {
   "cell_type": "code",
   "execution_count": 5,
   "metadata": {},
   "outputs": [
    {
     "data": {
      "text/latex": [
       "$7.7487204 \\times 10^{18} \\; \\mathrm{\\frac{kg}{m^{3}}}$"
      ],
      "text/plain": [
       "<Quantity 7.74872037e+18 kg / m3>"
      ]
     },
     "execution_count": 5,
     "metadata": {},
     "output_type": "execute_result"
    }
   ],
   "source": [
    "# This is the Neutron Star density where Fundamental Dilators are 0.6 femtometer apart\n",
    "# 8 * 1/8 a FD per cell\n",
    "dneutron=1.6737236e-27/(0.6e-15)**3*units.kg/(units.m)**3\n",
    "# dneutron=7.7487204e17*units.kg/(units.m)**3\n",
    "dneutron"
   ]
  },
  {
   "cell_type": "code",
   "execution_count": 6,
   "metadata": {},
   "outputs": [
    {
     "data": {
      "text/latex": [
       "$9.47 \\times 10^{-27} \\; \\mathrm{\\frac{kg}{m^{3}}}$"
      ],
      "text/plain": [
       "<Quantity 9.47e-27 kg / m3>"
      ]
     },
     "execution_count": 6,
     "metadata": {},
     "output_type": "execute_result"
    }
   ],
   "source": [
    "# Density Parameter, Omega\n",
    "# hyperphysics.phy-astr.gsu.edu/hbase/Astro/denpar.html\n",
    "# indicating that the universe is very close to critical density or Ω =1. \n",
    "# Critical density is calculated to be. ρc,0 = 9.47 x 10-27 kg/m. \n",
    "# Of this critical density, ordinary matter (baryonic matter) is thought to make up only about 4%.\n",
    "\n",
    "criticalDensity=9.47E-27*units.kg/(units.m)**3\n",
    "criticalDensity"
   ]
  },
  {
   "cell_type": "code",
   "execution_count": 7,
   "metadata": {},
   "outputs": [
    {
     "data": {
      "text/plain": [
       "(<Quantity 2.50672827e+46>, <Quantity 1.9e-13 mm>, <Quantity 2.92663853e+15>)"
      ]
     },
     "execution_count": 7,
     "metadata": {},
     "output_type": "execute_result"
    }
   ],
   "source": [
    "nlayers=1\n",
    "initialthickness = 0.19e-15*units.m\n",
    "thickness = nlayers*initialthickness\n",
    "Dilution=dbh/(criticalDensity*nlayers)\n",
    "Expansion=Dilution**(1/3)\n",
    "Dilution,thickness.to(units.mm),Expansion"
   ]
  },
  {
   "cell_type": "code",
   "execution_count": 8,
   "metadata": {},
   "outputs": [
    {
     "name": "stdout",
     "output_type": "stream",
     "text": [
      "146.3313201033698 s 43869026.136174046 km\n"
     ]
    }
   ],
   "source": [
    "TimeOfUniverse=13.58*1E9*365*24*3600*units.s\n",
    "TimeOfBigBang = TimeOfUniverse/Expansion\n",
    "InitialRadius=constants.c*TimeOfBigBang\n",
    "InitialRadius.to(units.km)\n",
    "print(TimeOfBigBang, InitialRadius.to(units.km))"
   ]
  },
  {
   "cell_type": "markdown",
   "metadata": {},
   "source": [
    "# Blackholium 4D Radius = 146 light-seconds= 43,869,026km"
   ]
  },
  {
   "cell_type": "code",
   "execution_count": 9,
   "metadata": {},
   "outputs": [
    {
     "data": {
      "text/plain": [
       "(<Quantity 1.37267295e+08 km>, <Quantity 457.87441168 s>)"
      ]
     },
     "execution_count": 9,
     "metadata": {},
     "output_type": "execute_result"
    }
   ],
   "source": [
    "DilutionNeutronium=dneutron/(criticalDensity*nlayers)\n",
    "ExpansionNeutronium=DilutionNeutronium**(1/3)\n",
    "DilutionNeutronium,thickness.to(units.mm),ExpansionNeutronium\n",
    "NeutroniumRadius=InitialRadius*Expansion/ExpansionNeutronium\n",
    "NeutroniumRadius.to('km'),NeutroniumRadius.to('meter')/constants.c"
   ]
  },
  {
   "cell_type": "markdown",
   "metadata": {},
   "source": [
    "# Neutronium Radius is: 137,267,295 km or 457 light-seconds"
   ]
  },
  {
   "cell_type": "code",
   "execution_count": 10,
   "metadata": {},
   "outputs": [],
   "source": [
    "# Inner core number of layers"
   ]
  },
  {
   "cell_type": "code",
   "execution_count": 11,
   "metadata": {},
   "outputs": [
    {
     "data": {
      "text/latex": [
       "$2.3088961 \\times 10^{26} \\; \\mathrm{}$"
      ],
      "text/plain": [
       "<Quantity 2.30889611e+26>"
      ]
     },
     "execution_count": 11,
     "metadata": {},
     "output_type": "execute_result"
    }
   ],
   "source": [
    "NLayers = InitialRadius/initialthickness\n",
    "NLayers"
   ]
  },
  {
   "cell_type": "code",
   "execution_count": 12,
   "metadata": {},
   "outputs": [
    {
     "data": {
      "text/plain": [
       "(<Quantity 6.33771781e-25 s>, <Quantity 1.9e-16 m>)"
      ]
     },
     "execution_count": 12,
     "metadata": {},
     "output_type": "execute_result"
    }
   ],
   "source": [
    "timeToMove=initialthickness/constants.c\n",
    "timeToMove, initialthickness"
   ]
  },
  {
   "cell_type": "markdown",
   "metadata": {},
   "source": [
    "# Calculation of the energy available for the Many-Bangs"
   ]
  },
  {
   "cell_type": "code",
   "execution_count": 13,
   "metadata": {},
   "outputs": [
    {
     "data": {
      "text/latex": [
       "$4.710461 \\times 10^{23} \\; \\mathrm{}$"
      ],
      "text/plain": [
       "<Quantity 4.71046104e+23>"
      ]
     },
     "execution_count": 13,
     "metadata": {},
     "output_type": "execute_result"
    }
   ],
   "source": [
    "import astropy.units as u\n",
    "import astropy.constants as cc\n",
    "\n",
    "\n",
    "r=457*u.lightyear.to(u.m)/365/24/3600\n",
    "#Universe Volume\n",
    "volume= 4/3*np.pi*r**3\n",
    "\n",
    "# Unit cell volume 0.19 femtometer side\n",
    "cell = 4/3*np.pi*(0.19e-15)**3\n",
    "# Number of Neutrons  = 3.7570068473061113e+80\n",
    "NumberOfNeutrons=volume/cell\n",
    "MassOfUniverse=NumberOfNeutrons*cc.m_n\n",
    "\n",
    "# Energy available\n",
    "energyPerNeutron= 0.78254809*u.MeV\n",
    "Energy= NumberOfNeutrons*energyPerNeutron # 1.9E79MeV = 3E66 Joules\n",
    "EnergyPerSupernova=1E51*u.erg\n",
    "velocityAvg= np.sqrt(2*Energy.to(u.joule)/MassOfUniverse) # 0.04081379 c\n",
    "velocityAvg/cc.c\n",
    "\n",
    "BigBang=Energy.to('erg')/EnergyPerSupernova\n",
    "BigBang"
   ]
  },
  {
   "cell_type": "code",
   "execution_count": 14,
   "metadata": {},
   "outputs": [
    {
     "data": {
      "text/plain": [
       "3.7570068473061113e+80"
      ]
     },
     "execution_count": 14,
     "metadata": {},
     "output_type": "execute_result"
    }
   ],
   "source": [
    "NumberOfNeutrons"
   ]
  },
  {
   "cell_type": "code",
   "execution_count": 15,
   "metadata": {},
   "outputs": [
    {
     "data": {
      "text/latex": [
       "$0.040813797 \\; \\mathrm{}$"
      ],
      "text/plain": [
       "<Quantity 0.0408138>"
      ]
     },
     "execution_count": 15,
     "metadata": {},
     "output_type": "execute_result"
    }
   ],
   "source": [
    "(velocityAvg/cc.c).si"
   ]
  },
  {
   "cell_type": "code",
   "execution_count": null,
   "metadata": {},
   "outputs": [],
   "source": []
  },
  {
   "cell_type": "code",
   "execution_count": null,
   "metadata": {},
   "outputs": [],
   "source": []
  },
  {
   "cell_type": "code",
   "execution_count": null,
   "metadata": {},
   "outputs": [],
   "source": []
  }
 ],
 "metadata": {
  "anaconda-cloud": {},
  "kernelspec": {
   "display_name": "HU_Env",
   "language": "python",
   "name": "myvenv"
  },
  "language_info": {
   "codemirror_mode": {
    "name": "ipython",
    "version": 3
   },
   "file_extension": ".py",
   "mimetype": "text/x-python",
   "name": "python",
   "nbconvert_exporter": "python",
   "pygments_lexer": "ipython3",
   "version": "3.10.12"
  }
 },
 "nbformat": 4,
 "nbformat_minor": 4
}
