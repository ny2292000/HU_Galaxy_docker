{
 "cells": [
  {
   "cell_type": "code",
   "execution_count": 2,
   "id": "b176bc2d-2bd2-4717-b8e3-cc1d33f0b6fa",
   "metadata": {},
   "outputs": [
    {
     "data": {
      "text/latex": [
       "$\\displaystyle \\sqrt{1 - x^{2}}$"
      ],
      "text/plain": [
       "sqrt(1 - x**2)"
      ]
     },
     "execution_count": 2,
     "metadata": {},
     "output_type": "execute_result"
    }
   ],
   "source": [
    "# It seems there was an error due to an oversight in the code. Let's correct this by properly defining the function and computing its derivative.\n",
    "\n",
    "from sympy import symbols, diff, sqrt, asin, integrate, latex\n",
    "\n",
    "# Define symbols\n",
    "x = symbols('x')\n",
    "\n",
    "# Define the function f(x) correctly\n",
    "f_x = (x * sqrt(1 - x**2) + asin(x)) / 2\n",
    "\n",
    "# Calculate the derivative of f(x) with respect to x\n",
    "f_prime_x = diff(f_x, x)\n",
    "\n",
    "f_prime_x.simplify()\n"
   ]
  },
  {
   "cell_type": "code",
   "execution_count": 8,
   "id": "dba37586-6891-4886-81d5-b57a00da1191",
   "metadata": {},
   "outputs": [
    {
     "data": {
      "text/latex": [
       "$\\displaystyle \\frac{c \\left(x_{1} \\sqrt{1 - x_{1}^{2}} + \\operatorname{asin}{\\left(x_{1} \\right)}\\right)}{2 a}$"
      ],
      "text/plain": [
       "c*(x1*sqrt(1 - x1**2) + asin(x1))/(2*a)"
      ]
     },
     "execution_count": 8,
     "metadata": {},
     "output_type": "execute_result"
    }
   ],
   "source": [
    "c = symbols(\"c\")\n",
    "a = symbols(\"a\")\n",
    "x0 = symbols(\"x0\")\n",
    "x1 = symbols('x1')\n",
    "ff_x = c/a*sqrt(1 - x**2)\n",
    "# Calculate the derivative of f(x) with respect to x\n",
    "ff_prime_x = integrate(ff_x, (x,0,x1))\n",
    "\n",
    "ff_prime_x.simplify()\n"
   ]
  },
  {
   "cell_type": "code",
   "execution_count": 11,
   "id": "fb54e35a-781b-46ea-bf5e-cb0d87151ee4",
   "metadata": {},
   "outputs": [
    {
     "data": {
      "text/latex": [
       "$\\displaystyle \\frac{c \\sqrt{1 - x_{1}^{2}}}{a}$"
      ],
      "text/plain": [
       "c*sqrt(1 - x1**2)/a"
      ]
     },
     "execution_count": 11,
     "metadata": {},
     "output_type": "execute_result"
    }
   ],
   "source": [
    "diff(ff_prime_x,x1).simplify()"
   ]
  },
  {
   "cell_type": "code",
   "execution_count": 12,
   "id": "cbcafe7f-4ff5-4c0a-a838-5c93a3d83090",
   "metadata": {},
   "outputs": [
    {
     "name": "stdout",
     "output_type": "stream",
     "text": [
      "\\frac{c \\left(\\frac{x_{1} \\sqrt{1 - x_{1}^{2}}}{2} + \\frac{\\operatorname{asin}{\\left(x_{1} \\right)}}{2}\\right)}{a}\n"
     ]
    }
   ],
   "source": [
    "print(latex(ff_prime_x))"
   ]
  },
  {
   "cell_type": "code",
   "execution_count": null,
   "id": "4f74c2ec-9dde-4f8c-b190-d9a79c231681",
   "metadata": {},
   "outputs": [],
   "source": []
  }
 ],
 "metadata": {
  "kernelspec": {
   "display_name": "Python [conda env:Cosmos3020]",
   "language": "python",
   "name": "conda-env-Cosmos3020-py"
  },
  "language_info": {
   "codemirror_mode": {
    "name": "ipython",
    "version": 3
   },
   "file_extension": ".py",
   "mimetype": "text/x-python",
   "name": "python",
   "nbconvert_exporter": "python",
   "pygments_lexer": "ipython3",
   "version": "3.11.7"
  }
 },
 "nbformat": 4,
 "nbformat_minor": 5
}
