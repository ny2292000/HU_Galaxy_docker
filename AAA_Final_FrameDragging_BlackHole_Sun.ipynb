{
 "cells": [
  {
   "cell_type": "markdown",
   "id": "adf15311",
   "metadata": {},
   "source": [
    "# FRAME DRAGGING CONTRIBUTION FROM SUN"
   ]
  },
  {
   "cell_type": "code",
   "execution_count": null,
   "id": "f05e7107-18a7-42ae-a226-8f3ffa84c32a",
   "metadata": {},
   "outputs": [],
   "source": [
    "import numpy as np\n",
    "\n",
    "def lense_thirring_precession(G, J, c, a, e):\n",
    "    \"\"\"\n",
    "    Calculate the Lense-Thirring precession for Mercury due to the Sun's rotation.\n",
    "\n",
    "    Parameters:\n",
    "    G (float): Gravitational constant (m^3 kg^-1 s^-2)\n",
    "    J (float): Angular momentum of the Sun (kg m^2 s^-1)\n",
    "    c (float): Speed of light (m/s)\n",
    "    a (float): Semi-major axis of Mercury's orbit (m)\n",
    "    e (float): Eccentricity of Mercury's orbit\n",
    "\n",
    "    Returns:\n",
    "    float: Lense-Thirring precession in arcseconds per century\n",
    "    \"\"\"\n",
    "    # Calculate the Lense-Thirring precession in radians per revolution\n",
    "    delta_phi_LT_rad = (2 * G * J) / (c**2 * a**3 * (1 - e**2)**(3/2))\n",
    "    \n",
    "    # Convert radians per revolution to arcseconds per revolution\n",
    "    delta_phi_LT_arcsec = delta_phi_LT_rad * (360 * 3600) / (2 * np.pi)\n",
    "    \n",
    "    # Convert arcseconds per revolution to arcseconds per century\n",
    "    # Mercury completes about 415 revolutions per century\n",
    "    revolutions_per_century = 415\n",
    "    delta_phi_LT_arcsec_per_century = delta_phi_LT_arcsec * revolutions_per_century\n",
    "    \n",
    "    return delta_phi_LT_arcsec_per_century\n",
    "\n",
    "# Constants\n",
    "G = 6.67430e-11  # gravitational constant in m^3 kg^-1 s^-2\n",
    "c = 299792458    # speed of light in m/s\n",
    "a = 57.91e9      # semi-major axis of Mercury's orbit in meters (57.91 million km)\n",
    "e = 0.205630     # eccentricity of Mercury's orbit\n",
    "\n",
    "# Angular momentum of the Sun, approximated as J = I * omega\n",
    "# I for the Sun (moment of inertia) ~ 0.070 (I/MR^2) * M * R^2\n",
    "# M = 1.989e30 kg (mass of the Sun), R = 696.34e6 m (radius of the Sun)\n",
    "# omega = 2.865e-6 rad/s (angular velocity of the Sun, 25-day period at the equator)\n",
    "M_sun = 1.989e30  # mass of the Sun in kg\n",
    "R_sun = 696.34e6  # radius of the Sun in meters\n",
    "omega_sun = 2.865e-6  # angular velocity of the Sun in rad/s\n",
    "I_sun = 0.070 * M_sun * R_sun**2  # moment of inertia of the Sun\n",
    "\n",
    "J_sun = I_sun * omega_sun  # angular momentum of the Sun\n",
    "\n",
    "# Calculate Lense-Thirring Precession\n",
    "delta_phi_LT = lense_thirring_precession(G, J_sun, c, a, e)\n",
    "print(f\"Lense-Thirring precession of Mercury's perihelion due to the Sun's rotation: {delta_phi_LT:.12f} arcseconds per century\")\n"
   ]
  },
  {
   "cell_type": "markdown",
   "id": "9ea6b5fb",
   "metadata": {},
   "source": [
    "# Black Hole"
   ]
  },
  {
   "cell_type": "code",
   "execution_count": null,
   "id": "fc838f68",
   "metadata": {},
   "outputs": [],
   "source": [
    "import numpy as np\n",
    "\n",
    "# Constants\n",
    "G = 6.67430e-11  # gravitational constant, m^3 kg^-1 s^-2\n",
    "c = 299792458    # speed of light, m/s\n",
    "a = 57.91e9      # semi-major axis of Mercury's orbit, m\n",
    "e = 0.205630     # eccentricity of Mercury's orbit\n",
    "\n",
    "# Black hole parameters\n",
    "M_bh = 1e9 * 1.989e30  # mass of the black hole, kg (1 billion solar masses)\n",
    "R_s = 2 * G * M_bh / c**2  # Schwarzschild radius of the black hole, m\n",
    "\n",
    "# Estimating the black hole's angular velocity\n",
    "# Assuming it rotates once per its own 'day', which we'll assume is 1000 seconds for calculation\n",
    "# This is a purely hypothetical and illustrative assumption\n",
    "T_bh = 1000  # rotational period of the black hole, seconds\n",
    "omega_bh = 2 * np.pi / T_bh  # angular velocity, rad/s\n",
    "\n",
    "# Black hole's angular momentum (J = I * omega)\n",
    "# Using the simple formula for angular momentum of a rotating sphere, J = 2/5 M R^2 omega\n",
    "# This is not precise for black holes but gives us a ballpark figure for illustrative purposes\n",
    "I_bh = (2/5) * M_bh * R_s**2  # moment of inertia of the black hole\n",
    "J_bh = I_bh * omega_bh  # angular momentum of the black hole\n",
    "\n",
    "# Lense-Thirring Precession calculation\n",
    "delta_phi_LT_rad = (2 * G * J_bh) / (c**2 * a**3 * (1 - e**2)**(1.5))\n",
    "delta_phi_LT_sec = delta_phi_LT_rad * (360) / (2 * np.pi)  # convert radians to seconds\n",
    "delta_phi_LT_rotations = delta_phi_LT_rad /(2 * np.pi)  # convert radians to seconds\n",
    "\n",
    "delta_phi_LT_arcsec = delta_phi_LT_rad * (360 * 3600) / (2 * np.pi)  # convert radians to arcseconds\n",
    "revolutions_per_century = 415  # Mercury completes approximately 415 revolutions per century\n",
    "delta_phi_LT_arcsec_per_century = delta_phi_LT_arcsec * revolutions_per_century  # total precession per century\n",
    "\n",
    "print(f\"Lense-Thirring precession at Mercury's orbit due to a 1 billion solar mass black hole: {delta_phi_LT_rotations:.6f} rotations per year\")\n"
   ]
  },
  {
   "cell_type": "code",
   "execution_count": null,
   "id": "4da5d74b",
   "metadata": {},
   "outputs": [],
   "source": []
  }
 ],
 "metadata": {
  "kernelspec": {
   "display_name": "Python [conda env:Cosmos3020]",
   "language": "python",
   "name": "conda-env-Cosmos3020-py"
  },
  "language_info": {
   "codemirror_mode": {
    "name": "ipython",
    "version": 3
   },
   "file_extension": ".py",
   "mimetype": "text/x-python",
   "name": "python",
   "nbconvert_exporter": "python",
   "pygments_lexer": "ipython3",
   "version": "3.11.8"
  }
 },
 "nbformat": 4,
 "nbformat_minor": 5
}
