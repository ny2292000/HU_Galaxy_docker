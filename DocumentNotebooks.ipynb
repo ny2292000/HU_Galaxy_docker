{
 "cells": [
  {
   "cell_type": "code",
   "execution_count": 8,
   "id": "0fe9d6da",
   "metadata": {},
   "outputs": [
    {
     "name": "stdout",
     "output_type": "stream",
     "text": [
      "Cleared outputs for AAA_Final_4D_Cross_Product.ipynb\n",
      "Cleared outputs for AAA_Final_GravitationalLensing_HU.ipynb\n",
      "Cleared outputs for AAA_Final_Gravitational_Light_Deflection_ClassicalMechanics.ipynb\n",
      "Cleared outputs for AAA_Final_SN1a-SingleOptimization.ipynb\n",
      "Cleared outputs for AAA_Final_Approximations4UniverseMap.ipynb\n",
      "Cleared outputs for AAA_Final_SN1a_TiredLight.ipynb\n",
      "Cleared outputs for AAA_Final_Derivation_of_Laws-3D_4_Body_1.ipynb\n",
      "Cleared outputs for AAA_Final_NotebookClass.ipynb\n",
      "Cleared outputs for AAA_Final_TwinParadox.ipynb\n",
      "Cleared outputs for AAA_Final_HyperbolaMaterialBody_HU.ipynb\n",
      "Cleared outputs for AAA_Final_LoadRemoteFiles.ipynb\n",
      "Cleared outputs for AAA_Final_TullyFisher.ipynb\n",
      "Cleared outputs for AAA_Final_Derivation_of_Laws-3D_4_Body_2.ipynb\n",
      "Cleared outputs for AAA_Final_MercuryPerihelionCalculation_HU.ipynb\n",
      "Cleared outputs for AAA_Final_VenusPerihelionCalculation_HU.ipynb\n",
      "Cleared outputs for AAA_Final_Alpha_Analysis (DESKTOP-V28QSRE's conflicted copy 2024-05-03).ipynb\n",
      "Cleared outputs for AAA_Final_DimensionalityProbDistribution.ipynb\n",
      "Cleared outputs for AAA_Final_Creating a circular wave for articles.ipynb\n",
      "Cleared outputs for AAA_Final_Derivation_of_Laws-3D.ipynb\n",
      "Cleared outputs for AAA_Final_SN1a-DualOptimization.ipynb\n",
      "Cleared outputs for AAA_Final_SN1a.ipynb\n",
      "Cleared outputs for AAA_Final_DilatonFielPlots.ipynb\n",
      "Cleared outputs for AAA_Final_OpticalPathOfAncientPhotons.ipynb\n",
      "Cleared outputs for AAA_Final_Astroquery.ipynb\n",
      "Cleared outputs for AAA_Final_CMB_Modeling_UniverseMap.ipynb\n",
      "Cleared outputs for AAA_Final_SN1a-short.ipynb\n",
      "Cleared outputs for AAA_Final_FermiParadox.ipynb\n",
      "Cleared outputs for AAA_Final_VelocityEffectOnFD_Tunneling_DilatonField.ipynb\n",
      "Cleared outputs for AAA_Final_FrameDragging_BlackHole_Sun.ipynb\n",
      "Cleared outputs for AAA_Final_The_Mass_and_Radius_of_the_Universe.ipynb\n",
      "Cleared outputs for AAA_Final_Alpha_Analysis.ipynb\n",
      "Cleared outputs for AAA_Final_BigPopPaperFigures.ipynb\n",
      "Cleared outputs for AAA_Final_Initial4DRadius.ipynb\n"
     ]
    }
   ],
   "source": [
    "import os\n",
    "import nbformat\n",
    "from nbconvert.preprocessors import ClearOutputPreprocessor\n",
    "\n",
    "# Define the directory containing the notebooks\n",
    "notebooks_dir = \"/mnt/sda1/Dropbox/AAA_Papers_2022_Folder/AAA_CMB_HU_latest_to_git\"\n",
    "\n",
    "# Process each notebook in the directory\n",
    "for filename in os.listdir(notebooks_dir):\n",
    "    if filename.startswith(\"AAA_Final\") and filename.endswith(\".ipynb\"):\n",
    "        filepath = os.path.join(notebooks_dir, filename)\n",
    "        \n",
    "        # Load the notebook\n",
    "        with open(filepath, \"r\", encoding=\"utf-8\") as f:\n",
    "            nb = nbformat.read(f, as_version=4)\n",
    "        \n",
    "        # Clear output cells\n",
    "        ClearOutputPreprocessor().preprocess(nb, {'metadata': {'path': notebooks_dir}})\n",
    "        \n",
    "        # Save the cleared notebook\n",
    "        with open(filepath, \"w\", encoding=\"utf-8\") as f:\n",
    "            nbformat.write(nb, f)\n",
    "            \n",
    "        print(f\"Cleared outputs for {filename}\")\n"
   ]
  },
  {
   "cell_type": "code",
   "execution_count": null,
   "id": "28230280",
   "metadata": {},
   "outputs": [],
   "source": []
  },
  {
   "cell_type": "code",
   "execution_count": null,
   "id": "7878d409",
   "metadata": {},
   "outputs": [],
   "source": []
  },
  {
   "cell_type": "code",
   "execution_count": null,
   "id": "f2e1c16b",
   "metadata": {},
   "outputs": [],
   "source": []
  },
  {
   "cell_type": "code",
   "execution_count": null,
   "id": "80dc44b7",
   "metadata": {},
   "outputs": [],
   "source": []
  }
 ],
 "metadata": {
  "kernelspec": {
   "display_name": "Python [conda env:Cosmos3020]",
   "language": "python",
   "name": "conda-env-Cosmos3020-py"
  },
  "language_info": {
   "codemirror_mode": {
    "name": "ipython",
    "version": 3
   },
   "file_extension": ".py",
   "mimetype": "text/x-python",
   "name": "python",
   "nbconvert_exporter": "python",
   "pygments_lexer": "ipython3",
   "version": "3.11.9"
  }
 },
 "nbformat": 4,
 "nbformat_minor": 5
}
