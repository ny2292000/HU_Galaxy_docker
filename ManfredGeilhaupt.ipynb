{
 "cells": [
  {
   "cell_type": "code",
   "execution_count": null,
   "id": "ce2d8edf",
   "metadata": {},
   "outputs": [],
   "source": [
    "from astropy import constants as cc\n",
    "from astropy import units as uu\n",
    "import numpy as np"
   ]
  },
  {
   "cell_type": "code",
   "execution_count": null,
   "id": "18cc3245",
   "metadata": {},
   "outputs": [],
   "source": [
    "alpha = cc.alpha\n",
    "G = cc.G\n",
    "me = cc.m_e\n",
    "h = cc.h\n",
    "c = cc.c"
   ]
  },
  {
   "cell_type": "code",
   "execution_count": null,
   "id": "987f516f",
   "metadata": {},
   "outputs": [],
   "source": [
    "m_alpha = np.sqrt(    1/(4*np.pi) * (h*c/G) * 2 * alpha * 24    )\n",
    "(m_alpha/me).si, me.si, m_alpha.si"
   ]
  },
  {
   "cell_type": "code",
   "execution_count": null,
   "id": "a2e00d35",
   "metadata": {},
   "outputs": [],
   "source": [
    "9.1093837 × 10-31 kilograms"
   ]
  }
 ],
 "metadata": {
  "kernelspec": {
   "display_name": "Python [conda env:Cosmos3020]",
   "language": "python",
   "name": "conda-env-Cosmos3020-py"
  },
  "language_info": {
   "codemirror_mode": {
    "name": "ipython",
    "version": 3
   },
   "file_extension": ".py",
   "mimetype": "text/x-python",
   "name": "python",
   "nbconvert_exporter": "python",
   "pygments_lexer": "ipython3",
   "version": "3.11.9"
  }
 },
 "nbformat": 4,
 "nbformat_minor": 5
}
