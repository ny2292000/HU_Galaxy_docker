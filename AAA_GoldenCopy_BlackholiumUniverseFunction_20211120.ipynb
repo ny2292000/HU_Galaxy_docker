{
 "cells": [
  {
   "cell_type": "code",
   "execution_count": null,
   "metadata": {},
   "outputs": [],
   "source": [
    "# import qiskit_metal\n",
    "# qiskit_metal.open_docs()\n",
    "# !pip install manim==0.9.0\n",
    "# !pip install qiskit[finance]"
   ]
  },
  {
   "cell_type": "markdown",
   "metadata": {},
   "source": [
    "\n",
    "\n",
    "<h1>The segment below is related to the Baryonic Acoustic Oscillations. I wanted to see how my theory would deal with that. This is work in progress</h1>\n",
    "\n",
    "<br>\n",
    "<br>"
   ]
  },
  {
   "cell_type": "markdown",
   "metadata": {},
   "source": [
    "Current Density is related to the speed of light by Energy Conservation:\n",
    "\n",
    "$$ \\rho=\\frac{c^2}{0.776 *G *2 \\pi^2R_0^2} $$"
   ]
  },
  {
   "cell_type": "markdown",
   "metadata": {},
   "source": [
    "# Calculation of the energy available for the Many-Bangs"
   ]
  },
  {
   "cell_type": "markdown",
   "metadata": {},
   "source": [
    "$$ volume(n, \\phi) = \\frac{ 2*\\pi^{(\\frac{n-1}{2})}*\\int_{0}^{\\pi}{sin(x)^{(n - 2)}dx}}{\\Gamma(\\frac{n-1}{2})}R^3 $$\n",
    "\n",
    "#  I will consider the volume of the Visible Universe only (1 radian as opposed to pi radians)"
   ]
  },
  {
   "cell_type": "markdown",
   "metadata": {},
   "source": [
    "$$ \\frac{{P\\left( {n,{\\text{ }}x} \\right)}}{{{n_0}{\\text{ }}{T_0}{\\text{ }}}}{\\text{ }} = {\\text{ }}\\frac{x}{{{T_0}}}\\left( {Mp +Me - Mn} \\right){\\left( {\\frac{n}{{{n_0}}}} \\right)^2} + \\frac{2}{5}[{x^{5/3}} + {\\text{ }}{(1 - x)^{5/3}}]{(\\frac{{2n}}{{{n_0}}})^{2/3}} - [(2\\alpha  - 4{\\alpha _L})x(1 - x){\\text{ }} + {\\alpha _L}]{\\left( {\\frac{n}{{{n_0}}}} \\right)^2} + {\\text{ }}\\gamma [(2\\eta  - 4{\\eta _L})x(1 - x){\\text{ }} + {\\eta _L}]{(\\frac{n}{{{n_0}}})^{\\gamma  + 1}} $$\n",
    "\n",
    "$$ \\frac{{\\varepsilon (n,x)}}{{{n T_0}}} = \\frac{1}{{{T_0}}}\\left( {Mn(1-x) + x(Mp+Me) } \\right)\\frac{n}{{{n_0}}} + \\frac{3}{5}[{x^{5/3}} + {\\text{ }}{(1 - x)^{5/3}}]{(\\frac{{2n}}{{{n_0}}})^{2/3}} - [(2\\alpha  - 4{\\alpha _L})x(1 - x){\\text{ }} + {\\alpha _L}]\\frac{n}{{{n_0}}} + {\\text{ }}[(2\\eta  - 4{\\eta _L})x(1 - x){\\text{ }} + {\\eta _L}]{(\\frac{n}{{{n_0}}})^\\gamma } $$\n",
    "\n",
    "\n",
    "\n",
    "$$ {T_0}{\\text{ }} = {\\text{ }}{\\left( {\\frac{{3{\\pi ^{\\text{2}}}{n_0}}}{2}} \\right)^{\\frac{2}{3}}}\\frac{{{\\hbar ^2}}}{{2m}} $$"
   ]
  },
  {
   "cell_type": "code",
   "execution_count": null,
   "metadata": {},
   "outputs": [],
   "source": [
    "%matplotlib inline\n",
    "# !pip install git+https://github.com/scls19fr/pandas-helper-calc\n",
    "import matplotlib.pyplot as plt\n",
    "import numpy as np\n",
    "import scipy as sp\n",
    "from scipy.fftpack import fft\n",
    "from parameters import *\n",
    "from astropy import constants as cc, units as uu\n",
    "from lib1 import *\n",
    "from lib2 import *\n",
    "pd.set_option('display.float_format', lambda x: '%.3e' % x)\n",
    "from PyAstronomy import *\n",
    "import itertools\n",
    "from kneed import KneeLocator\n",
    "from pandas.plotting._matplotlib.style import get_standard_colors\n",
    "# Processing Sound Speed on Neutronium.  Data from article was dependent upon energy density MeV/fm3 \n",
    "# as opposed to seconds.\n",
    "# https://arxiv.org/pdf/1303.4662.pdf\n",
    "from matplotlib.offsetbox import (TextArea, DrawingArea, OffsetImage,\n",
    "                                  AnnotationBbox)\n",
    "from matplotlib.cbook import get_sample_data\n",
    "\n",
    "today=4.428e+17\n",
    "today_y= whatIsY(today*uu.s)\n",
    "today_y=today_y\n",
    "\n",
    "defaultsize=[6,4]\n",
    "colors = get_standard_colors(num_colors=10)\n",
    "\n",
    "print(alpha, eta, gamma,eta_L,alpha_L, T0.value, n0.value, MN.value, MP.value, ME.value)"
   ]
  },
  {
   "cell_type": "code",
   "execution_count": null,
   "metadata": {},
   "outputs": [],
   "source": [
    "fig, ax = plt.subplots(figsize=(12, 10), dpi=80) # note we must use plt.subplots, not plt.subplot\n",
    "circle=plt.Circle((0,0),1, fill=False)\n",
    "#first plots\n",
    "w= 2*np.pi\n",
    "x = np.arange(-1,1,0.0125)   # start,stop,step\n",
    "y = 0.1*np.cos(w*x)\n",
    "sine= plt.plot(x,y)\n",
    "# second plots\n",
    "w= 4*np.pi/np.sqrt(2)\n",
    "x = np.linspace(0,np.sqrt(2),81)\n",
    "y = 0.1*np.cos(w*x)\n",
    "xx = x*np.cos(np.pi/4)+y*np.sin(np.pi/4)\n",
    "yy = x*np.sin(np.pi/4)-y*np.cos(np.pi/4)\n",
    "sin1= plt.plot(xx,yy, color=\"black\")\n",
    "# axes plots\n",
    "line_=plt.plot([-1,1],[0,0])\n",
    "line0_=plt.plot([0,0],[-1,1])\n",
    "\n",
    "\n",
    "line0_=plt.plot([0,xx[0]],[0,yy[0]], color=\"green\")\n",
    "for i in np.arange(9):\n",
    "    n=i*10\n",
    "    v=np.sqrt(2)/2\n",
    "    line0_=plt.plot(x[n]*v,x[n]*v, color=\"blue\", marker='o')\n",
    "    line0_=plt.plot(xx[n],yy[n], color=\"red\", marker='+')\n",
    "#     line1_=plt.plot([x[n]*v,xx[n]],[x[n]*v,yy[n]], color=\"black\")\n",
    "for i in np.arange(9):\n",
    "    color=\"blue\"\n",
    "    if i%4==0:\n",
    "        color=\"green\"\n",
    "    if (i+2)%4==0:\n",
    "        color=\"red\"\n",
    "    line0_=plt.plot([0,i/8],[i/8,i/8], color=color)\n",
    "    n=i*10\n",
    "    line1_=plt.plot([x[n]*v,xx[n]],[x[n]*v,yy[n]], color=color)\n",
    "line1_=plt.plot([0,np.sqrt(2)],[0,np.sqrt(2)])\n",
    "ax.add_patch(circle)\n",
    "# plt.xlabel('x values from 0 to 4pi')  # string must be enclosed with quotes '  '\n",
    "# plt.ylabel('sin(x) and cos(x)')\n",
    "plt.title('3D and 4D waves and their \\n relationship with the Fundamental Dilator')\n",
    "plt.legend(['3D wave', '4D wave'])      # legend entries as seperate strings in a list\n",
    "\n",
    "# (or if you have an existing figure)\n",
    "# fig = plt.gcf()\n",
    "# ax = fig.gca()\n",
    "# Annotate the 2nd position with another image (a Grace Hopper portrait)\n",
    "fn = \"./img1/NewElectronSingleVertical.png\" #get_sample_data(\"./NewElectronSingleVertical.png\", asfileobj=False)\n",
    "arr_img = plt.imread(fn, format='png')\n",
    "\n",
    "imagebox = OffsetImage(arr_img, zoom=0.3)\n",
    "imagebox.image.axes = ax\n",
    "xy = (0.4, 0.7)\n",
    "ab = AnnotationBbox(imagebox, xy,\n",
    "                    xybox=(250., -95.),\n",
    "                    xycoords='data',\n",
    "                    boxcoords=\"offset points\",\n",
    "                    pad=0.5,\n",
    "                    )\n",
    "\n",
    "ax.add_artist(ab)\n",
    "\n",
    "\n",
    "plt.show\n",
    "fig.savefig(\"./FD_4DWave.png\")"
   ]
  },
  {
   "cell_type": "code",
   "execution_count": null,
   "metadata": {},
   "outputs": [],
   "source": [
    "aa=[0.5, 2,  5,10]\n",
    "y= np.linspace(0, np.pi*2,100)\n",
    "x=np.sin(y)\n",
    "ax = plt.plot(x,y)\n",
    "for a in aa:\n",
    "    y_prime=y + x*a/(np.sqrt(1+a**2))\n",
    "    x_prime = a*y - x/(np.sqrt(1+a**2))\n",
    "\n",
    "    ax.append( plt.plot(x_prime,y_prime) )\n",
    "    ax.append( plt.plot(a*y,y) )\n",
    "    ax.append( plt.plot(x,0*x) )\n",
    "for i in np.arange(4*max(aa)):\n",
    "    ax.append(plt.vlines(x=i*np.pi/2,ymin=0, ymax=2*np.pi))\n"
   ]
  },
  {
   "cell_type": "code",
   "execution_count": null,
   "metadata": {},
   "outputs": [],
   "source": [
    "y"
   ]
  },
  {
   "cell_type": "code",
   "execution_count": null,
   "metadata": {},
   "outputs": [],
   "source": []
  },
  {
   "cell_type": "markdown",
   "metadata": {},
   "source": [
    "# Locating PreFreezing and PostFreezing times, densities\n",
    "\n"
   ]
  },
  {
   "cell_type": "code",
   "execution_count": null,
   "metadata": {},
   "outputs": [],
   "source": [
    "myU=Universe(eta, alpha, alpha_L, eta_L, T0, gamma, n0,vssquaredpd)"
   ]
  },
  {
   "cell_type": "code",
   "execution_count": null,
   "metadata": {},
   "outputs": [],
   "source": [
    "myU.k0"
   ]
  },
  {
   "cell_type": "code",
   "execution_count": null,
   "metadata": {},
   "outputs": [],
   "source": [
    "myU.find_k0([1.22146774e+00, 1.33334958e+00, 2.77144922e-08])"
   ]
  },
  {
   "cell_type": "code",
   "execution_count": null,
   "metadata": {},
   "outputs": [],
   "source": [
    "myU.y_Seq"
   ]
  },
  {
   "cell_type": "code",
   "execution_count": null,
   "metadata": {},
   "outputs": [],
   "source": [
    "myU.df.Temperature.max()/1e9\n"
   ]
  },
  {
   "cell_type": "code",
   "execution_count": null,
   "metadata": {},
   "outputs": [],
   "source": [
    "# This simple optimization recovered both the current temperature (2.725 Kelvin) and the\n",
    "# temperature at transparency (3487) for a redshift of 3487/2.725=1279\n",
    "myU.z_transparency, 3443/2.734, 3443/2.725"
   ]
  },
  {
   "cell_type": "code",
   "execution_count": null,
   "metadata": {},
   "outputs": [],
   "source": [
    "myU.createReport(filename=\"./AllUniverse.xls\")"
   ]
  },
  {
   "cell_type": "code",
   "execution_count": null,
   "metadata": {},
   "outputs": [],
   "source": [
    "myU.x_Seq"
   ]
  },
  {
   "cell_type": "markdown",
   "metadata": {},
   "source": [
    "# PLOTS"
   ]
  },
  {
   "cell_type": "code",
   "execution_count": null,
   "metadata": {},
   "outputs": [],
   "source": [
    "# Plot C\n",
    "\n",
    "tmin=1E0\n",
    "tmax=today\n",
    "dmin = 1E-27\n",
    "dmax = 1E20\n",
    "\n",
    "colors = get_standard_colors(num_colors=10)\n",
    "\n",
    "plt.rcParams['figure.figsize'] = defaultsize\n",
    "plt.rcParams['figure.figsize'] = defaultsize\n",
    "plt.rcParams['figure.dpi'] = 80\n",
    "plt.rcParams['savefig.dpi'] = 300\n",
    "plt.rcParams['font.size'] = 14\n",
    "plt.rcParams['legend.fontsize'] = 'medium'\n",
    "plt.rcParams['figure.titlesize'] = 'medium'\n",
    "\n",
    "x_Seq=myU.y_Seq.iloc[1:-1:]\n",
    "ax=myU.df.plot(x=\"t\", y=\"Temperature\", logx=True, logy=True, legend=False, color=colors[0])\n",
    "partOfLegend =((x_Seq.t-tmin)*(x_Seq.t-tmax)<=0)\n",
    "ax.set_xlim(tmin,tmax)\n",
    "ax.set_ylim(1E-4,1.5E10)\n",
    "ax.set_title(\"Big Bang Temperature Profile\")\n",
    "ax.set_xlabel(\"Time(s)\")\n",
    "ax.set_ylabel(\"Temperature (Kelvin)\", c=colors[0])\n",
    "ax1=plt.twinx(ax)\n",
    "myU.df.plot(x=\"t\", y=\"Density\", logx=True, logy=True, legend=False, ax=ax1, color=colors[1])\n",
    "# ax1.set_ylim(1E-2,None)\n",
    "ax1.set_ylabel(\"Density Kg/m3\",color=colors[1], rotation=270,labelpad=15)\n",
    "\n",
    "##########################################################\n",
    "# x coordinates for the lines\n",
    "x_Seq=myU.y_Seq.iloc[1:-1:]\n",
    "xnames=[]\n",
    "xcoords =[]\n",
    "for x, t, includeit in zip(x_Seq.index, x_Seq.t, partOfLegend):\n",
    "    if includeit:\n",
    "        xnames.append(x.replace(\"density\",\"\").replace(\"At\",\"\"))\n",
    "        xcoords.append(t)\n",
    "    \n",
    "# colors for the lines\n",
    "ax.axvline(label=\"Density\", c=colors[1])\n",
    "ax.axvline(myU.boundaryadiabatic_t, label=\"Gamma Boundary = {:.2e} seconds\".format(np.round(myU.boundaryadiabatic_t,0)), c=colors[2])\n",
    "\n",
    "for xc,c, name in zip(xcoords,colors[2:len(xnames)+2], xnames):\n",
    "    if (tmin <= xc):\n",
    "        ax.axvline(x=xc, label=name, c=c)\n",
    "lgd = ax.legend(loc='center left', bbox_to_anchor=(1.2, 0.5))\n",
    "##########################################################\n",
    "\n",
    "plt.grid(True)\n",
    "for tl in ax1.get_yticklabels():\n",
    "    tl.set_color(colors[1])\n",
    "for tl in ax.get_yticklabels():\n",
    "    tl.set_color(colors[0])\n",
    "plt.savefig(imgAddress + \"TemperatureProfileNotLog.png\", bbox_extra_artists=(lgd,), bbox_inches='tight')"
   ]
  },
  {
   "cell_type": "code",
   "execution_count": null,
   "metadata": {},
   "outputs": [],
   "source": [
    "# Plot 7\n",
    "# myU.df[\"TemperatureDensity\"]= myU.df.Density*myU.df.Temperature\n",
    "ax = myU.df.plot(x=\"t\", y=\"TemperatureDensity\"  , label=\"TemperatureDensity\", color=\"b\", logx=False, logy=True)\n",
    "sundensity = 1.5E5 # kg/m^3\n",
    "suntemperature = 1.5E7 # Kelvin\n",
    "sunTemperatureDensity = 2.25E+12 # kg/m^3 Kelvin\n",
    "ax.axhline(sunTemperatureDensity, c=\"red\", label=\"Sun_TemperatureDensity\")\n",
    "ax.axvline(3.20E7, c=\"green\", label=\"1 year\")\n",
    "ax.set_ylim(1,None)\n",
    "ax.set_ylim(1E10,1E20)\n",
    "ax.set_xlim(0,myU.timePostBigBang*300)\n",
    "ax.set_xlabel(\"Time (s)\")    \n",
    "ax.set_title(\"Baryogenesis Conditions\") \n",
    "ax.set_ylabel('TemperatureDensity $\\\\frac{kg}{m^3}K$',color=\"black\") \n",
    "plt.subplots_adjust(left=0.17)\n",
    "# plt.subplots_adjust(bottom=-0.1)\n",
    "plt.rcParams['legend.fontsize'] = 'small'\n",
    "# ax.legend= ['TemperatureDensity', \"Sun_TemperatureDensity\"]\n",
    "plt.legend()\n",
    "plt.savefig(imgAddress + \"BB_PressureTemperatureLongProfile.png\")"
   ]
  },
  {
   "cell_type": "code",
   "execution_count": null,
   "metadata": {},
   "outputs": [],
   "source": [
    "# Plot A\n",
    "\n",
    "################################\n",
    "ax=myU.df.plot(x=\"y\",y=\"Vs\", c=\"r\", legend=False)\n",
    "ax.set_title(\"Sound Velocity Squared \\n Proton Fraction\")\n",
    "ax.set_ylabel(\"$V_s^2$\", c=\"r\")\n",
    "ax.set_xlabel('Density $n/n_0$')\n",
    "################################\n",
    "ax1 = plt.twinx(ax)\n",
    "myU.df.plot(x=\"y\", y=\"ProtonFraction\", ax=ax1, c=\"b\", legend=False)\n",
    "ax1.set_ylabel(\"Proton Fraction\", rotation=270, labelpad=15, c=\"b\")\n",
    "ax.set_ylim(0,np.max(myU.df.Vs)*1.2)\n",
    "ax1.set_ylim(0,np.max(myU.df.ProtonFraction)*1.2)\n",
    "\n",
    "ax.axvline(x=myU.densityAtFreezing, label=\"Proton Fraction\", c=\"blue\")\n",
    "ax.axvline(x=myU.densityBlackholium, label=\"Blackholium\", c=\"black\")\n",
    "ax.axvline(x=myU.densityNeutronium, label=\"Neutronium\", c=\"brown\")\n",
    "ax.axvline(x=myU.densityAtPreFreezing, label=\"PreFreezing\", c=\"green\")\n",
    "ax.axvline(x=myU.densityAtFreezing, label=\"AtFreezing\", c=\"blue\")\n",
    "ax.axvline(x=myU.densityPreBigBang, label=\"PreBigBang\", c=\"orange\")\n",
    "ax.axvline(x=myU.densityPostBigBang, label=\"PostBigBang\", c=\"magenta\")\n",
    "\n",
    "ax.set_xscale('log')\n",
    "# ax.set_xlim([0.5*densityAtFreezing, 10])\n",
    "ax.set_xlim([0.5*myU.densityPostBigBang, 10])\n",
    "# ax.set_xlim([0.5*today_y, 10])\n",
    "lgd=ax.legend(loc='center left', bbox_to_anchor=(1.2, 0.5))\n",
    "plt.show()"
   ]
  },
  {
   "cell_type": "code",
   "execution_count": null,
   "metadata": {},
   "outputs": [],
   "source": [
    "# Plot AA\n",
    "\n",
    "################################\n",
    "ax=myU.df.plot(x=\"t\",y=\"Vs\", c=\"r\", legend=False)\n",
    "ax.set_title(\"Sound Velocity Squared \\n Proton Fraction\")\n",
    "ax.set_ylabel(\"$V_s^2$\", c=\"r\")\n",
    "ax.set_xlabel('Time (seconds)')\n",
    "################################\n",
    "ax1 = plt.twinx(ax)\n",
    "myU.df.plot(x=\"t\", y=\"ProtonFraction\", ax=ax1, c=\"b\", legend=False)\n",
    "ax1.set_ylabel(\"Proton Fraction\", rotation=270, labelpad=15, c=\"b\")\n",
    "ax.set_ylim(0,np.max(myU.df.Vs)*1.2)\n",
    "ax1.set_ylim(0,np.max(myU.df.ProtonFraction)*1.2)\n",
    "\n",
    "ax.axvline(x=myU.densityAtFreezing, label=\"Proton Fraction\", c=\"blue\")\n",
    "ax.axvline(x=myU.densityBlackholium, label=\"Blackholium\", c=\"black\")\n",
    "ax.axvline(x=myU.densityNeutronium, label=\"Neutronium\", c=\"brown\")\n",
    "ax.axvline(x=myU.densityAtPreFreezing, label=\"PreFreezing\", c=\"green\")\n",
    "ax.axvline(x=myU.densityAtFreezing, label=\"AtFreezing\", c=\"blue\")\n",
    "ax.axvline(x=myU.densityPreBigBang, label=\"PreBigBang\", c=\"orange\")\n",
    "ax.axvline(x=myU.densityPostBigBang, label=\"PostBigBang\", c=\"magenta\")\n",
    "\n",
    "ax.set_xscale('log')\n",
    "# ax.set_xlim([0.5*densityAtFreezing, 10])\n",
    "ax.set_xlim([100, 1E6])\n",
    "# ax.set_xlim([0.5*today_y, 10])\n",
    "lgd=ax.legend(loc='center left', bbox_to_anchor=(1.2, 0.5))\n",
    "plt.show()"
   ]
  },
  {
   "cell_type": "code",
   "execution_count": null,
   "metadata": {},
   "outputs": [],
   "source": [
    "# myU.y_Seq.loc[\"densityAtPreFreezing\"].t - myU.y_Seq.loc[\"densityAtFreezing\"].t\n",
    "# (myU.y_Seq.loc[\"densityPreBigBang\"].t - myU.y_Seq.loc[\"densityPostBigBang\"].t)/ myU.y_Seq.loc[\"densityPostBigBang\"].t\n",
    "myU.y_Seq.loc[\"densityAtPreFreezing\"].t , myU.y_Seq.loc[\"densityAtFreezing\"].t, myU.y_Seq.loc[\"densityPreBigBang\"].t , myU.y_Seq.loc[\"densityPostBigBang\"].t\n",
    "# myU.y_Seq"
   ]
  },
  {
   "cell_type": "code",
   "execution_count": null,
   "metadata": {},
   "outputs": [],
   "source": [
    "# Plot B\n",
    "\n",
    "ax=myU.df.plot(x=\"t\", y=\"Energy\", logx=True, logy=True)\n",
    "ax.set_xlim(1E-4,today)\n",
    "# ax.set_ylim(None,1E6)\n",
    "ax.set_title(\"Big Bang Energy Profile\")\n",
    "ax.set_xlabel(\"Time(s)\")\n",
    "ax.set_ylabel(\"Energy ($MeV/fm^3$)\")\n",
    "\n",
    "\n",
    "ax1=plt.twinx(ax)\n",
    "myU.df.plot(x=\"t\", y=\"Density\", ax=ax1, color=\"r\",logx=True, logy=True, legend=False)\n",
    "ax1.set_ylabel(\"Density ($kg/m^3$)\", rotation=270, labelpad=20)\n",
    "ax.axvline(label=\"Density\", c=\"r\")\n",
    "##########################################################\n",
    "# x coordinates for the lines\n",
    "x_Seq=myU.y_Seq.iloc[1:-1:]\n",
    "xcoords = x_Seq.t\n",
    "xnames = [x.replace(\"density\",\"\").replace(\"At\",\"\") for x in x_Seq.index]\n",
    "# colors for the lines\n",
    "\n",
    "for xc,c, name in zip(xcoords,colors, xnames):\n",
    "    ax.axvline(x=xc, label=name, c=c)\n",
    "lgd=ax.legend(loc='center left', bbox_to_anchor=(1.2, 0.5))\n",
    "##########################################################\n",
    "\n",
    "\n",
    "plt.grid(True)\n",
    "plt.savefig(imgAddress + \"EnergyProfile.png\", bbox_extra_artists=(lgd,), bbox_inches='tight')"
   ]
  },
  {
   "cell_type": "code",
   "execution_count": null,
   "metadata": {},
   "outputs": [],
   "source": [
    "# Plot C1\n",
    "tmin=1E12\n",
    "x_Seq=myU.y_Seq.iloc[1:-1:]\n",
    "ax=myU.df.plot(x=\"t\", y=\"Temperature\", logx=True, logy=False, legend=False, color=colors[0])\n",
    "partOfLegend =((x_Seq.t-tmin)*(x_Seq.t-tmax)<=0)\n",
    "ax.set_xlim(tmin,tmax)\n",
    "ax.set_ylim(1E-4,4000)\n",
    "ax.set_title(\"Big Bang Temperature Profile\")\n",
    "ax.set_xlabel(\"Time(s)\")\n",
    "ax.set_ylabel(\"Temperature (Kelvin)\", c=colors[0])\n",
    "ax1=plt.twinx(ax)\n",
    "myU.df.plot(x=\"t\", y=\"Density\", logx=True, logy=True, legend=False, ax=ax1, color=colors[1])\n",
    "# ax1.set_ylim(1E-2,None)\n",
    "ax1.set_ylabel(\"Density Kg/m3\",color=colors[1], rotation=270,labelpad=15)\n",
    "\n",
    "##########################################################\n",
    "# x coordinates for the lines\n",
    "x_Seq=myU.y_Seq.iloc[1:-1:]\n",
    "xnames=[]\n",
    "xcoords =[]\n",
    "for x, t, includeit in zip(x_Seq.index, x_Seq.t, partOfLegend):\n",
    "    if includeit:\n",
    "        xnames.append(x.replace(\"density\",\"\").replace(\"At\",\"\"))\n",
    "        xcoords.append(t)\n",
    "    \n",
    "# colors for the lines\n",
    "ax.axvline(label=\"Density\", c=colors[1])\n",
    "\n",
    "\n",
    "for xc,c, name in zip(xcoords,colors[2:len(xnames)+2], xnames):\n",
    "    if (tmin <= xc):\n",
    "        ax.axvline(x=xc, label=name, c=c)\n",
    "lgd = ax.legend(loc='center left', bbox_to_anchor=(1.2, 0.5))\n",
    "##########################################################\n",
    "\n",
    "plt.grid(True)\n",
    "for tl in ax1.get_yticklabels():\n",
    "    tl.set_color(colors[1])\n",
    "for tl in ax.get_yticklabels():\n",
    "    tl.set_color(colors[0])\n",
    "plt.savefig(imgAddress + \"TemperatureProfileNotLog.png\", bbox_extra_artists=(lgd,), bbox_inches='tight')\n",
    "myU.df.Temperature[-1:]"
   ]
  },
  {
   "cell_type": "code",
   "execution_count": null,
   "metadata": {},
   "outputs": [],
   "source": [
    "ax=myU.df.plot(x=\"t\", y=\"Pressure\", logx=True, logy=True)\n",
    "ax.set_xlim(1E-2,today)\n",
    "ax.set_ylim(None,1E41)\n",
    "ax.set_title(\"Big Bang Pressure Profile\")\n",
    "ax.set_xlabel(\"Time(s)\")\n",
    "ax.set_ylabel(\"Pressure (N/m2)\")\n",
    "ax1=plt.twinx(ax)\n",
    "\n",
    "\n",
    "##########################################################\n",
    "# x coordinates for the lines\n",
    "x_Seq=myU.y_Seq.iloc[1:-1:]\n",
    "xcoords = x_Seq.t\n",
    "xnames = [x.replace(\"density\",\"\").replace(\"At\",\"\") for x in x_Seq.index]\n",
    "# colors for the lines\n",
    "ax.axvline(label=\"Density\", c=\"r\")\n",
    "for xc,c, name in zip(xcoords,colors, xnames):\n",
    "    ax.axvline(x=xc, label=name, c=c)\n",
    "lgd=ax.legend(loc='center left', bbox_to_anchor=(1.20, 0.5))\n",
    "##########################################################\n",
    "\n",
    "    \n",
    "myU.df.plot(x=\"t\", y=\"Density\", logx=True, logy=True, ax=ax1, color=\"r\", legend=False)\n",
    "\n",
    "ax1.set_ylabel(\"Density (Kg/m3)\",color=\"r\")\n",
    "\n",
    "# colors for the lines\n",
    "ax1.set_ylabel(\"Density (Kg/m3)\", rotation=270,labelpad=15)\n",
    "for tl in ax1.get_yticklabels():\n",
    "    tl.set_color('r')\n",
    "plt.grid(axis='y')\n",
    "plt.savefig(imgAddress + \"PressureProfile.png\", bbox_extra_artists=(lgd,), bbox_inches='tight')"
   ]
  },
  {
   "cell_type": "code",
   "execution_count": null,
   "metadata": {},
   "outputs": [],
   "source": [
    "ax=myU.df.plot(x=\"t\", y=\"Energy\", logx=True, logy=True)\n",
    "ax.set_xlim(1E-4,1E16)\n",
    "ax.set_ylim(None,1.2E3)\n",
    "ax.set_title(\"Big Bang Energy Profile\")\n",
    "ax.set_xlabel(\"Time(s)\")\n",
    "ax.set_ylabel(\"Energy ($MeV/fm^3$)\")\n",
    "\n",
    "ax1=plt.twinx(ax)\n",
    "myU.df.plot(x=\"t\", y=\"Density\", logx=True, logy=True, ax=ax1, color=\"r\",legend=False)\n",
    "\n",
    "# colors for the lines\n",
    "ax1.set_ylabel(\"Density ($kg/m^3$)\", color=\"r\", rotation=270,labelpad=15)\n",
    "##########################################################\n",
    "# x coordinates for the lines\n",
    "x_Seq=myU.y_Seq.iloc[1:-1:]\n",
    "xcoords = x_Seq.t\n",
    "xnames = [x.replace(\"density\",\"\").replace(\"At\",\"\") for x in x_Seq.index]\n",
    "# colors for the lines\n",
    "ax.axvline(label=\"Density\", c=\"r\")\n",
    "for xc,c, name in zip(xcoords,colors, xnames):\n",
    "    ax.axvline(x=xc, label=name, c=c)\n",
    "lgd=ax.legend(loc='center left', bbox_to_anchor=(1.25, 0.5))\n",
    "##########################################################\n",
    "\n",
    "\n",
    "plt.savefig(imgAddress + \"UniverseEnergyProfile.png\", bbox_extra_artists=(lgd,), bbox_inches='tight')"
   ]
  },
  {
   "cell_type": "code",
   "execution_count": null,
   "metadata": {},
   "outputs": [],
   "source": [
    "plt.rcParams['figure.figsize'] = defaultsize\n",
    "plt.rcParams['figure.dpi'] = 80\n",
    "plt.rcParams['savefig.dpi'] = 300\n",
    "plt.rcParams['font.size'] = 14\n",
    "plt.rcParams['legend.fontsize'] = 'medium'\n",
    "plt.rcParams['figure.titlesize'] = 'medium'\n",
    "\n",
    "\n",
    "ax=myU.df.plot(x=\"t\", y= \"Vs\",logx=True, color=\"b\", legend=False)\n",
    "\n",
    "ax.set_xlim(1E2,1E6)\n",
    "ax.set_ylim(0,0.4)\n",
    "\n",
    "ax.set_xlabel(\"Time (seconds)\")\n",
    "ax.set_ylabel(\"Sound_Velocity_Squared $(Vs/c)^2$\", c=\"blue\")\n",
    "ax.grid(True)\n",
    "\n",
    "\n",
    "\n",
    "##########################################################\n",
    "# x coordinates for the lines\n",
    "x_Seq=myU.y_Seq.iloc[1:-1:]\n",
    "xcoords = x_Seq.t\n",
    "xnames = [x.replace(\"density\",\"\").replace(\"At\",\"\") for x in x_Seq.index]\n",
    "# colors for the lines\n",
    "ax.axvline(label=\"ProtonFraction\", c=\"r\")\n",
    "for xc,c, name in zip(xcoords[0:5],colors[0:5], xnames[0:5]):\n",
    "    ax.axvline(x=xc, label=name, c=c)\n",
    "lgd=ax.legend(loc='center left', bbox_to_anchor=(1.15, 0.5))\n",
    "##########################################################\n",
    "\n",
    "\n",
    "\n",
    "ax2=plt.twinx(ax)    \n",
    "myU.df.plot(x=\"t\", y=\"ProtonFraction\", ax=ax2,logx=True, color=\"r\", legend=False)\n",
    "ax2.set_ylim(0,1.1)\n",
    "ax2.set_ylabel(\"ProtonFraction\",color=\"r\", rotation=270, labelpad=15)\n",
    "ax2.set_xlim(1E2,1E6)\n",
    "\n",
    "for tl in ax.get_yticklabels():\n",
    "    tl.set_color('blue')\n",
    "\n",
    "for tl in ax2.get_yticklabels():\n",
    "    tl.set_color('r')\n",
    "\n",
    "plt.savefig(imgAddress + \"NeutroniumSpeedOfSoundVersusDecay.png\", bbox_extra_artists=(lgd,), bbox_inches='tight')\n"
   ]
  },
  {
   "cell_type": "code",
   "execution_count": null,
   "metadata": {},
   "outputs": [],
   "source": [
    "plt.rcParams['figure.figsize'] = defaultsize\n",
    "plt.rcParams['figure.dpi'] = 80\n",
    "plt.rcParams['savefig.dpi'] = 300\n",
    "plt.rcParams['font.size'] = 14\n",
    "plt.rcParams['legend.fontsize'] = 'medium'\n",
    "plt.rcParams['figure.titlesize'] = 'medium'\n",
    "\n",
    "\n",
    "ax=myU.df.plot(x=\"t\", y= \"Vs\",logx=True, color=\"b\")\n",
    "\n",
    "ax.set_xlim(1E0,1E4)\n",
    "ax.set_ylim(0,0.4)\n",
    "\n",
    "ax.set_xlabel(\"Time (seconds)\")\n",
    "ax.set_ylabel(\" $V_s^2$  $(Vs/c)^2$\")\n",
    "ax.legend(loc=\"center\")\n",
    "\n",
    "\n",
    "##########################################################\n",
    "# x coordinates for the lines\n",
    "x_Seq=myU.y_Seq.iloc[1:-1:]\n",
    "xcoords = x_Seq.t\n",
    "xnames = [x.replace(\"density\",\"\").replace(\"At\",\"\") for x in x_Seq.index]\n",
    "# colors for the lines\n",
    "ax.axvline(label=\"Density\", c=\"r\")\n",
    "for xc,c, name in zip(xcoords[0:3],colors[0:3], xnames[0:3]):\n",
    "    ax.axvline(x=xc, label=name, c=c)\n",
    "lgd=ax.legend(loc='center left', bbox_to_anchor=(1.2, 0.5))\n",
    "##########################################################\n",
    "\n",
    "ax2=plt.twinx(ax)    \n",
    "myU.df[\"n*n0\"]= [(x*n0).to(\"1/fm**3\").value for x in myU.df.y]\n",
    "myU.df.plot(x=\"t\", y=\"n*n0\", ax=ax2,logx=True,logy=False, color=\"r\", legend=False)\n",
    "ax2.set_ylim(0,4)\n",
    "ax2.set_ylabel(\"Density ($neutrons/fm^3$)\",color=\"r\", rotation=270, labelpad=25)\n",
    "ax2.set_xlim(1E-1,1E4)\n",
    "\n",
    "for tl in ax2.get_yticklabels():\n",
    "    tl.set_color('r')\n",
    "\n",
    "plt.savefig(imgAddress + \"NeutroniumSpeedOfSound.png\", bbox_extra_artists=(lgd,), bbox_inches='tight')"
   ]
  },
  {
   "cell_type": "code",
   "execution_count": null,
   "metadata": {},
   "outputs": [],
   "source": [
    "ax=myU.df.plot(x=\"Energy\",y=\"Vs\", c=\"r\", legend=False)\n",
    "ax.set_title(\"Sound Velocity Squared \\n Proton Fraction\")\n",
    "ax.set_ylabel(\"$V_s^2$\", c=\"r\")\n",
    "ax.set_xlabel('Energy $MeV/fn^3$')\n",
    "################################\n",
    "ax1 = plt.twinx(ax)\n",
    "myU.df.plot(x=\"Energy\", y=\"ProtonFraction\", ax=ax1, c=\"b\", legend=False)\n",
    "ax1.set_ylabel(\"Proton Fraction\", rotation=270, labelpad=15, c=\"b\")\n",
    "ax.set_ylim(0,np.max(myU.df.Vs)*1.2)\n",
    "ax1.set_ylim(0,np.max(myU.df.ProtonFraction)*1.2)\n",
    "\n",
    "ax.axvline(x=myU.y_Seq.loc[\"densityAtFreezing\", \"Energy\"], label=\"Proton Fraction\", c=\"blue\")\n",
    "ax.axvline(x=myU.y_Seq.loc[\"densityBlackholium\",\"Energy\"], label=\"Blackholium\", c=\"black\")\n",
    "ax.axvline(x=myU.y_Seq.loc[\"densityNeutronium\",\"Energy\"], label=\"Neutronium\", c=\"brown\")\n",
    "ax.axvline(x=myU.y_Seq.loc[\"densityAtPreFreezing\",\"Energy\"], label=\"PreFreezing\", c=\"green\")\n",
    "ax.axvline(x=myU.y_Seq.loc[\"densityAtFreezing\",\"Energy\"], label=\"AtFreezing\", c=\"blue\")\n",
    "ax.axvline(x=myU.y_Seq.loc[\"densityPreBigBang\",\"Energy\"], label=\"PreBigBang\", c=\"orange\")\n",
    "ax.axvline(x=myU.y_Seq.loc[\"densityPostBigBang\",\"Energy\"], label=\"PostBigBang\", c=\"magenta\")\n",
    "\n",
    "ax.set_xscale('log')\n",
    "ax.set_xlim([1E-5, 2E3])\n",
    "# ax.set_xlim([0.5*densityAtFreezing, 10])\n",
    "# ax.set_xlim([0.5*densityPostBigBang, 10])\n",
    "# ax.set_xlim([0.5*today_y, 10])\n",
    "lgd=ax.legend(loc='center left', bbox_to_anchor=(1.2, 0.5))\n",
    "plt.show()"
   ]
  },
  {
   "cell_type": "code",
   "execution_count": null,
   "metadata": {},
   "outputs": [],
   "source": [
    "# Plot 6\n",
    "\n",
    "import matplotlib as mpl\n",
    "from matplotlib.ticker import FormatStrFormatter\n",
    "\n",
    "ax=myU.df.plot(x=\"t\", y=\"Energy\", color=colors[0], logx=True, logy=True, legend=False)\n",
    "ax.set_xlim(tmin,today)\n",
    "# ax.set_ylim(1E-4, 1E5)\n",
    "\n",
    "ax.set_xlabel(\"Time (s)\")\n",
    "\n",
    "\n",
    "##########################################################\n",
    "# x coordinates for the lines\n",
    "x_Seq=myU.y_Seq.iloc[0:-1:]\n",
    "xcoords = x_Seq.t\n",
    "xnames = [x.replace(\"density\",\"\").replace(\"At\",\"\") for x in x_Seq.index]\n",
    "# colors for the lines\n",
    "# ax.axvline(label=\"Energy\", c=colors[0])\n",
    "# ax.axvline(label=\"Temperature\", c=colors[1])\n",
    "\n",
    "\n",
    "fmt = lambda x, pos: '{}'.format(x, pos)\n",
    "ax.yaxis.set_major_formatter(mpl.ticker.FuncFormatter(fmt))\n",
    "\n",
    "ax1=plt.twinx(ax)\n",
    "myU.df.plot(x=\"t\", y=\"Temperature\", ax=ax1, color=colors[1],logx=True, logy=False, legend=False)\n",
    "# ax1.set_xlim(1E2,1E5)\n",
    "ax1.set_ylim(0,10)\n",
    "for tl in ax.get_yticklabels():\n",
    "    tl.set_color(colors[0])\n",
    "for tl in ax1.get_yticklabels():\n",
    "    tl.set_color(colors[1])\n",
    "ax.set_ylabel(\"Energy ($MeV/fm^3$)\", color=colors[0],)\n",
    "ax1.set_ylabel(\"Temperature (K)\", color=colors[1], rotation=270,labelpad=15)\n",
    "ax.axvline(label=\"Temperature\", c=colors[1])\n",
    "for xc,c, name in zip(xcoords,colors[2:], xnames):\n",
    "    if (tmin <= xc):\n",
    "        ax.axvline(x=xc, label=name, c=c)\n",
    "\n",
    "lgd=ax.legend(loc='center left', bbox_to_anchor=(1.2, 0.5))\n",
    "##########################################################\n",
    "plt.savefig(imgAddress + \"EnergyTemperature.png\", bbox_extra_artists=(lgd,), bbox_inches='tight')\n"
   ]
  },
  {
   "cell_type": "code",
   "execution_count": null,
   "metadata": {},
   "outputs": [],
   "source": [
    "# Plot 6\n",
    "spacing=.4\n",
    "cols=['Energy','Temperature', 'ProtonFraction']\n",
    "data =myU.df.copy()\n",
    "data.index = data.t\n",
    "# ax = plot_multi( myU.df,cols=['Temperature', 'Energy','Proton_Fraction'], spacing=.3)\n",
    "\n",
    "\n",
    "\n",
    "# First axis\n",
    "ax = data.loc[:, cols[0]].plot(label=cols[0], color=colors[0],logx=True, logy=True )\n",
    "ax.set_ylabel(ylabel=cols[0])\n",
    "ax.set_ylim(0,1200)\n",
    "ax.set_xlim(tmin,today)\n",
    "lines, labels = ax.get_legend_handles_labels()\n",
    "\n",
    "\n",
    "for xc,c, name in zip(xcoords,colors, xnames):\n",
    "    if (tmin <= xc):\n",
    "        ax.axvline(x=xc, label=name, c=c)\n",
    "\n",
    "\n",
    "\n",
    "for n in range(1, len(cols)):\n",
    "    # Multiple y-axes\n",
    "    ax_new = ax.twinx()\n",
    "    ax_new.spines['right'].set_position(('axes', 1 + spacing * (n - 1)))\n",
    "    data.loc[:, cols[n]].plot(ax=ax_new, label=cols[n], color=colors[n % len(colors)], logx=True, logy=True)\n",
    "    ax_new.set_ylabel(ylabel=cols[n], rotation=270, labelpad=15)\n",
    "\n",
    "    # Proper legend position\n",
    "    line, label = ax_new.get_legend_handles_labels()\n",
    "    lines += line\n",
    "    labels += label\n",
    "\n",
    "ax.set_ylabel(\"Energy ($MeV/fm^3$)\")\n",
    "ax.set_xlabel(\"Time (s)\")    \n",
    "    \n",
    "# ax.legend(lines, labels, loc=4)\n",
    "lgd=ax.legend(loc='center left', bbox_to_anchor=(1.6, 0.5))\n",
    "\n",
    "for tl in ax.get_yticklabels():\n",
    "    tl.set_color('m')\n",
    "    \n",
    "myU.df.Temperature[-1:]"
   ]
  },
  {
   "cell_type": "code",
   "execution_count": null,
   "metadata": {},
   "outputs": [],
   "source": [
    "# Plot 6\n",
    "\n",
    "import matplotlib as mpl\n",
    "from matplotlib.ticker import FormatStrFormatter\n",
    "\n",
    "ax=myU.df.plot(x=\"t\", y=\"Energy\", color=colors[0], logx=True, logy=True, legend=False)\n",
    "ax.set_xlim(tmin,today)\n",
    "# ax.set_ylim(1E-4, 1E5)\n",
    "\n",
    "ax.set_xlabel(\"Time (s)\")\n",
    "\n",
    "\n",
    "##########################################################\n",
    "# x coordinates for the lines\n",
    "x_Seq=myU.y_Seq.iloc[0:-1:]\n",
    "xcoords = x_Seq.t\n",
    "xnames = [x.replace(\"density\",\"\").replace(\"At\",\"\") for x in x_Seq.index]\n",
    "# colors for the lines\n",
    "# ax.axvline(label=\"Energy\", c=colors[0])\n",
    "# ax.axvline(label=\"Temperature\", c=colors[1])\n",
    "\n",
    "\n",
    "fmt = lambda x, pos: '{}'.format(x, pos)\n",
    "ax.yaxis.set_major_formatter(mpl.ticker.FuncFormatter(fmt))\n",
    "\n",
    "ax1=plt.twinx(ax)\n",
    "myU.df.plot(x=\"t\", y=\"Temperature\", ax=ax1, color=colors[1],logx=True, logy=True, legend=False)\n",
    "# ax1.set_xlim(1E2,1E5)\n",
    "ax1.set_ylim(1E0,4000)\n",
    "for tl in ax.get_yticklabels():\n",
    "    tl.set_color(colors[0])\n",
    "for tl in ax1.get_yticklabels():\n",
    "    tl.set_color(colors[1])\n",
    "ax.set_ylabel(\"Energy ($MeV/fm^3$)\", color=colors[0],)\n",
    "ax1.set_ylabel(\"Temperature (K)\", color=colors[1], rotation=270,labelpad=15)\n",
    "ax.axvline(label=\"Temperature\", c=colors[1])\n",
    "for xc,c, name in zip(xcoords,colors[2:], xnames):\n",
    "    if (tmin <= xc):\n",
    "        ax.axvline(x=xc, label=name, c=c)\n",
    "\n",
    "lgd=ax.legend(loc='center left', bbox_to_anchor=(1.2, 0.5))\n",
    "##########################################################\n",
    "plt.savefig(imgAddress + \"EnergyTemperature.png\", bbox_extra_artists=(lgd,), bbox_inches='tight')\n"
   ]
  },
  {
   "cell_type": "code",
   "execution_count": null,
   "metadata": {},
   "outputs": [],
   "source": [
    "# Plot D\n",
    "\n",
    "fig, ax = plt.subplots()\n",
    "for initialT in range(2,10,2):\n",
    "    t=np.linspace(initialT, initialT+4.5,100)\n",
    "    GG=initialT/t\n",
    "    ax.plot(t,GG,label=str(initialT) + \"GY\")\n",
    "    ax.legend()\n",
    "    ax.set_ylabel(\"G/G0\")\n",
    "    ax.set_xlabel(\"Age of the Universe\")\n",
    "plt.savefig(imgAddress + \"G_Decay.png\", dpi=300)"
   ]
  },
  {
   "cell_type": "markdown",
   "metadata": {},
   "source": [
    "# Baryonic Acoustic Oscillations\n",
    "<div class=\"csl-entry\">Alcaniz, J. S., Carvalho, G. C., Bernui, A., Carvalho, J. C., &#38; Benetti, M. (n.d.). <i>Measuring baryon acoustic oscillations with angular two-point correlation function</i>.</div>\n",
    "<div class=\"csl-entry\"><i>Transmission of Sound Waves in Gases at Low Pressures</i>. (n.d.).</div>\n",
    "<div class=\"csl-entry\">Melia, F. (2021). The anomalous 21-cm absorption at high redshifts. <i>European Physical Journal C</i>, <i>81</i>(3). https://doi.org/10.1140/EPJC/S10052-021-09029-4</div>"
   ]
  },
  {
   "cell_type": "code",
   "execution_count": null,
   "metadata": {},
   "outputs": [],
   "source": [
    "def dofz(z):\n",
    "    return RR*z/(1+z)\n",
    "BAO_angle= 2.5*np.pi/180 # subtended angle\n",
    "r_BAO=130*uu.Mpc\n",
    "QQ = (r_BAO/RR/BAO_angle).si.value\n",
    "RR.to(uu.lyr), r_BAO.to(uu.lyr), BAO_angle, QQ"
   ]
  },
  {
   "cell_type": "code",
   "execution_count": null,
   "metadata": {},
   "outputs": [],
   "source": [
    "HU_r_BAO= dofz(1262)*BAO_angle\n",
    "HU_r_BAO.to(uu.Mpc)"
   ]
  },
  {
   "cell_type": "code",
   "execution_count": null,
   "metadata": {},
   "outputs": [],
   "source": [
    "dofz(1262)"
   ]
  },
  {
   "cell_type": "code",
   "execution_count": null,
   "metadata": {},
   "outputs": [],
   "source": [
    "(14.3E3*uu.Mpc).to(uu.lyr)"
   ]
  },
  {
   "cell_type": "code",
   "execution_count": null,
   "metadata": {},
   "outputs": [],
   "source": [
    "T0"
   ]
  },
  {
   "cell_type": "code",
   "execution_count": null,
   "metadata": {},
   "outputs": [],
   "source": [
    "MW_mass = cc.M_sun*1.5E12 \n",
    "R0_GLY= 14.03E9*uu.lyr\n",
    "vmax=210*uu.km/uu.s\n",
    "# vmax= (cc.c*dmax/R0_GLY).si\n",
    "dmax=1e5*uu.lyr\n",
    "alpha1= (MW_mass/vmax**3).si; alpha1\n"
   ]
  },
  {
   "cell_type": "code",
   "execution_count": null,
   "metadata": {},
   "outputs": [],
   "source": [
    "alpha= (R0_GLY/2/cc.G/cc.c).si"
   ]
  },
  {
   "cell_type": "code",
   "execution_count": null,
   "metadata": {},
   "outputs": [],
   "source": [
    "alpha"
   ]
  },
  {
   "cell_type": "code",
   "execution_count": null,
   "metadata": {},
   "outputs": [],
   "source": [
    "(vmax/cc.G).si"
   ]
  },
  {
   "cell_type": "code",
   "execution_count": null,
   "metadata": {},
   "outputs": [],
   "source": [
    "import pandas as pd\n",
    "import numpy as np\n",
    "TullyData2 = pd.read_excel(\"./PG_data/GHASP_Galaxies_1.xls\",sheet_name=\"Sheet2\")\n",
    "TullyData2[\"log_V_RC_Max\"]=np.log10(TullyData2.V_RC_Max)\n",
    "TullyData2[\"log_V_Model_R25\"]=np.log10(TullyData2.V_Model_R25)\n",
    "TullyData2[\"log_V_TF_max\"]=np.log10(TullyData2.V_TF_max)\n",
    "TullyData2[\"ApparentLuminosity\"]= 2.512**TullyData2.MK\n",
    "TullyData2"
   ]
  },
  {
   "cell_type": "code",
   "execution_count": null,
   "metadata": {},
   "outputs": [],
   "source": [
    "TullyData1 = pd.read_excel(\"./PG_data/GHASP_Galaxies_1.xls\",sheet_name=\"Sheet1\")\n",
    "TullyData1.UGC\n",
    "TullyData1.index = TullyData1.UGC\n",
    "TullyData2.index = TullyData2.UGC\n",
    "for a in [\"MH\", \"MK\", \"V_RC_Max\", \"V_Model_R25\", \"V_TF_max\", \"Flag\", \"log_V_RC_Max\", \"log_V_Model_R25\", \"log_V_TF_max\"]:\n",
    "    TullyData1[a]=0.0\n",
    "    for b in TullyData1.UGC:\n",
    "        TullyData1.loc[b,a]=TullyData2.loc[b,a]\n",
    "TullyData1"
   ]
  },
  {
   "cell_type": "code",
   "execution_count": null,
   "metadata": {},
   "outputs": [],
   "source": [
    "ax=TullyData2.plot.scatter(x=\"log_V_RC_Max\", y=\"MK\" )\n",
    "TullyData2.plot.scatter(x=\"log_V_Model_R25\", y=\"MK\" , color=\"red\", ax=ax)\n",
    "TullyData2.plot.scatter(x=\"log_V_TF_max\", y=\"MK\" , color=\"green\", ax=ax)"
   ]
  },
  {
   "cell_type": "code",
   "execution_count": null,
   "metadata": {},
   "outputs": [],
   "source": [
    "ax=TullyData1.plot.scatter(x=\"log_V_RC_Max\", y=\"MK\" )\n",
    "TullyData1.plot.scatter(x=\"log_V_Model_R25\", y=\"MK\" , color=\"red\", ax=ax)\n",
    "TullyData1.plot.scatter(x=\"log_V_TF_max\", y=\"MK\" , color=\"green\", ax=ax)"
   ]
  },
  {
   "cell_type": "code",
   "execution_count": null,
   "metadata": {},
   "outputs": [],
   "source": [
    "ax=TullyData2.plot.scatter(x=\"log_V_RC_Max\", y=\"MH\" )\n",
    "TullyData2.plot.scatter(x=\"log_V_Model_R25\", y=\"MH\" , color=\"red\", ax=ax)\n",
    "TullyData2.plot.scatter(x=\"log_V_TF_max\", y=\"MH\" , color=\"green\", ax=ax)"
   ]
  },
  {
   "cell_type": "code",
   "execution_count": null,
   "metadata": {},
   "outputs": [],
   "source": [
    "ax=TullyData1.plot.scatter(x=\"log_V_RC_Max\", y='log_MB_and_J' )\n",
    "TullyData1.plot.scatter(x=\"log_V_Model_R25\", y='log_MB_and_J' , color=\"red\", ax=ax)\n",
    "TullyData1.plot.scatter(x=\"log_V_TF_max\", y='log_MB_and_J' , color=\"green\", ax=ax)"
   ]
  },
  {
   "cell_type": "code",
   "execution_count": null,
   "metadata": {},
   "outputs": [],
   "source": [
    "TullyData1.columns"
   ]
  },
  {
   "cell_type": "code",
   "execution_count": null,
   "metadata": {},
   "outputs": [],
   "source": [
    "\n",
    "import numpy as np\n",
    "import matplotlib.pyplot as plt  # To visualize\n",
    "import pandas as pd  # To read data\n",
    "from sklearn.linear_model import LinearRegression\n",
    "X=TullyData1['log_V_TF_max'].values.reshape(-1, 1)\n",
    "Y=TullyData1['log_M_bar'].values.reshape(-1, 1)\n"
   ]
  },
  {
   "cell_type": "code",
   "execution_count": null,
   "metadata": {},
   "outputs": [],
   "source": [
    "linear_regressor = LinearRegression()  # create object for the class\n",
    "linear_regressor.fit(X, Y)  # perform linear regression\n",
    "Y_pred = linear_regressor.predict(X)  # make predictions\n",
    "linear_regressor.coef_, linear_regressor.intercept_\n",
    "plt.scatter(X,Y, X,Y_pred)\n",
    "plt.scatter(X,Y_pred)\n",
    "plt.title (\"alpha={},\\n beta={}\".format(linear_regressor.coef_[0][0], linear_regressor.intercept_[0]))\n",
    "plt.show()"
   ]
  },
  {
   "cell_type": "code",
   "execution_count": null,
   "metadata": {},
   "outputs": [],
   "source": [
    "linear_regressor.coef_[0][0], linear_regressor.intercept_[0]"
   ]
  },
  {
   "cell_type": "code",
   "execution_count": null,
   "metadata": {},
   "outputs": [],
   "source": []
  },
  {
   "cell_type": "code",
   "execution_count": null,
   "metadata": {},
   "outputs": [],
   "source": []
  },
  {
   "cell_type": "code",
   "execution_count": null,
   "metadata": {},
   "outputs": [],
   "source": []
  },
  {
   "cell_type": "code",
   "execution_count": null,
   "metadata": {},
   "outputs": [],
   "source": []
  },
  {
   "cell_type": "code",
   "execution_count": null,
   "metadata": {},
   "outputs": [],
   "source": []
  },
  {
   "cell_type": "code",
   "execution_count": null,
   "metadata": {},
   "outputs": [],
   "source": []
  },
  {
   "cell_type": "code",
   "execution_count": null,
   "metadata": {},
   "outputs": [],
   "source": []
  },
  {
   "cell_type": "code",
   "execution_count": null,
   "metadata": {},
   "outputs": [],
   "source": [
    "import astroquery\n",
    "from astroquery.simbad import Simbad"
   ]
  },
  {
   "cell_type": "code",
   "execution_count": null,
   "metadata": {},
   "outputs": [],
   "source": [
    "result_table = Simbad.query_object(\"m1\")"
   ]
  },
  {
   "cell_type": "code",
   "execution_count": null,
   "metadata": {},
   "outputs": [],
   "source": [
    "result_table"
   ]
  },
  {
   "cell_type": "code",
   "execution_count": null,
   "metadata": {},
   "outputs": [],
   "source": [
    "s = Simbad()\n",
    "# bibcodelist(date1-date2) lists the number of bibliography\n",
    "# items referring to each object over that date range\n",
    "s.add_votable_fields('bibcodelist(2003-2013)', \"z_value\")\n",
    "r = s.query_object('m31')\n",
    "r.pprint()"
   ]
  },
  {
   "cell_type": "code",
   "execution_count": null,
   "metadata": {},
   "outputs": [],
   "source": [
    "s.query_object('ugc7831')"
   ]
  },
  {
   "cell_type": "code",
   "execution_count": null,
   "metadata": {},
   "outputs": [],
   "source": [
    "from astroquery.ipac.ned import Ned\n",
    "result_table = Ned.get_table(\"ugc 7831\", table='positions')\n",
    "print(result_table)"
   ]
  },
  {
   "cell_type": "code",
   "execution_count": null,
   "metadata": {},
   "outputs": [],
   "source": [
    "result_table['No.','RA','DEC','Frequency']"
   ]
  },
  {
   "cell_type": "code",
   "execution_count": null,
   "metadata": {},
   "outputs": [],
   "source": [
    "SaggitariusAMass = 4.1E6*cc.M_sun\n",
    "SaggitariusARadius  = (3/4/np.pi*(SaggitariusAMass/dbh)**(1/3))\n",
    "SaggitariusARadius.to(uu.km)\n",
    "# Black Hole Density = 5.8E18 kg/m3\n",
    "# SaggitariusARadius = 267 km"
   ]
  },
  {
   "cell_type": "code",
   "execution_count": null,
   "metadata": {},
   "outputs": [],
   "source": [
    "# Correction to G, mu0 and epsilon0\n",
    "# Earth Velocity with respect to the CMB = 369.82 km/s"
   ]
  },
  {
   "cell_type": "code",
   "execution_count": null,
   "metadata": {},
   "outputs": [],
   "source": [
    "v= 369.82 * uu.km/uu.s\n",
    "coef = (1-v**2/cc.c**2)\n",
    "G0 = cc.G/coef; G0, coef"
   ]
  },
  {
   "cell_type": "code",
   "execution_count": null,
   "metadata": {},
   "outputs": [],
   "source": [
    "mu0 = cc.mu0/coef ; mu0"
   ]
  },
  {
   "cell_type": "code",
   "execution_count": null,
   "metadata": {},
   "outputs": [],
   "source": [
    "epsilon0 = cc.eps0*coef; print(epsilon0.value,cc.eps0.value)"
   ]
  },
  {
   "cell_type": "code",
   "execution_count": null,
   "metadata": {},
   "outputs": [],
   "source": []
  },
  {
   "cell_type": "code",
   "execution_count": null,
   "metadata": {},
   "outputs": [],
   "source": []
  },
  {
   "cell_type": "code",
   "execution_count": null,
   "metadata": {},
   "outputs": [],
   "source": []
  }
 ],
 "metadata": {
  "anaconda-cloud": {},
  "kernelspec": {
   "display_name": "Python 3 (ipykernel)",
   "language": "python",
   "name": "python3"
  },
  "language_info": {
   "codemirror_mode": {
    "name": "ipython",
    "version": 3
   },
   "file_extension": ".py",
   "mimetype": "text/x-python",
   "name": "python",
   "nbconvert_exporter": "python",
   "pygments_lexer": "ipython3",
   "version": "3.8.8"
  }
 },
 "nbformat": 4,
 "nbformat_minor": 4
}
