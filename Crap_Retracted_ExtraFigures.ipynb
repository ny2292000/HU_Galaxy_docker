{
 "cells": [
  {
   "cell_type": "code",
   "execution_count": null,
   "metadata": {},
   "outputs": [],
   "source": [
    "%matplotlib inline\n",
    "import parameters\n",
    "import HULib\n",
    "import pandas as pd\n",
    "import numpy as np\n",
    "import matplotlib.pylab as plt\n",
    "import glue\n",
    "parameters.saveme=True\n",
    "parameters.plotme=True\n",
    "parameters.glueme = True  # load data to glue for manipulation of the Universe\n",
    "fraction=1.0"
   ]
  },
  {
   "cell_type": "code",
   "execution_count": null,
   "metadata": {},
   "outputs": [],
   "source": [
    "myGalaxy0 = HULib.get_BOSS_data(parameters.sdssAddress + 'galaxy_DR12v5_LOWZ_North.fits')\n",
    "myGalaxy1 = HULib.get_BOSS_data(parameters.sdssAddress + 'galaxy_DR12v5_CMASS_North.fits')\n",
    "myGalaxy = pd.concat([myGalaxy0, myGalaxy1])\n",
    "counts, bins, bars = plt.hist(myGalaxy.Me, bins=100)\n",
    "myGalaxy.Me=myGalaxy.Me/bins[1]\n",
    "myGalaxy=myGalaxy[myGalaxy.Me<2]\n",
    "myhist=myGalaxy.hist(bins=100, column=[\"Me\"])\n",
    "myhist[0,0].set_xlim(0,2)\n",
    "myhist[0,0].set_xlabel(\"NZ\")\n",
    "myhist[0,0].set_ylabel(\"Frequency\")\n",
    "myhist[0,0].set_title(\"SDSS DATA ANALYSIS\")\n",
    "fig = plt.gcf()\n",
    "fig.savefig(parameters.imgAddress + 'NZ_Histogram_0.png', dpi=300)\n",
    "plt.show()"
   ]
  },
  {
   "cell_type": "code",
   "execution_count": null,
   "metadata": {},
   "outputs": [],
   "source": [
    "parameters.saveme=True\n",
    "myKeys=[\n",
    "('DEC', 'galaxy_DR12v5_LOWZ_North.fits'),\n",
    "('DEC', 'galaxy_DR12v5_LOWZ_South.fits'),\n",
    "('RA', 'galaxy_DR12v5_LOWZ_North.fits'),\n",
    "('RA', 'galaxy_DR12v5_LOWZ_South.fits'),\n",
    "('DEC', 'galaxy_DR12v5_CMASS_North.fits'),   \n",
    "('DEC', 'galaxy_DR12v5_CMASS_South.fits'), \n",
    "('RA', 'galaxy_DR12v5_CMASS_North.fits'),\n",
    "('RA', 'galaxy_DR12v5_CMASS_South.fits')]\n",
    "\n",
    "rangesx= (0.18,0.5)\n",
    "rangesy= (0,10.5)\n",
    "titleCode=['North-DEC']\n",
    "\n",
    "# myGalaxy0 = HULib.get_BOSS_data(parameters.sdssAddress + 'galaxy_DR12v5_LOWZ_North.fits')\n",
    "# myGalaxy1 = HULib.get_BOSS_data(parameters.sdssAddress + 'galaxy_DR12v5_CMASS_North.fits')\n",
    "# myGalaxy = pd.concat([myGalaxy0, myGalaxy1])   \n",
    "# myGalaxy = HULib.fix_BOSS_data(myGalaxy)\n",
    "\n",
    "myGalaxy_useit=myGalaxy[myGalaxy.alpha>0.15]\n",
    "df0, dfcount= HULib.normalizeMe_flat(myGalaxy_useit, fraction=fraction)\n",
    "\n",
    "axes=df0.plot( x='alpha', y='Me',style='.',fontsize=14,ylim=rangesy,xlim=rangesx,\n",
    "              legend=False,markersize=1,figsize=(10, 6))\n",
    "axes.set_title('North-DEC', fontsize=20 )\n",
    "axes.set_ylabel(\"Galaxy Density\", fontsize=20)\n",
    "axes.set_xlabel(\"Distance\", fontsize=20)\n",
    "fig = plt.gcf()\n",
    "fig.savefig(parameters.imgAddress + 'ManyBangsNorthMASSNorm.png', dpi=300)\n",
    "plt.show()"
   ]
  },
  {
   "cell_type": "code",
   "execution_count": null,
   "metadata": {},
   "outputs": [],
   "source": [
    "myGalaxy_useit.shape"
   ]
  },
  {
   "cell_type": "code",
   "execution_count": null,
   "metadata": {},
   "outputs": [],
   "source": [
    "n=10000\n",
    "myhist=myGalaxy_useit.hist(bins=n, column=[\"Me\"])\n",
    "myhist[0,0].set_xlim(0,2)\n",
    "myhist[0,0].set_ylim(0,5E6/n)\n",
    "myhist[0,0].set_xlabel(\"Voxel Aggregated NZ\")\n",
    "myhist[0,0].set_ylabel(\"Frequency\")\n",
    "myhist[0,0].set_title(\"SDSS DATA ANALYSIS\")\n",
    "fig = plt.gcf()\n",
    "fig.savefig(parameters.imgAddress + 'NZ_Histogram_10000.png', dpi=300)\n",
    "plt.show()"
   ]
  },
  {
   "cell_type": "code",
   "execution_count": null,
   "metadata": {},
   "outputs": [],
   "source": [
    "myGalaxy_useit[\"alphaMostFrequent\"]=0.0\n",
    "uniqueDEC==myGalaxy_useit.DEC.unique()\n",
    "uniqueAlpha==myGalaxy_useit.alpha.unique()\n",
    "nn=200\n",
    "ind= myGalaxy_useit.alpha==uniqueAlpha[nn]\n",
    "id=myGalaxy_useit.loc[ind, 'NZ'].value_counts().idxmax()\n",
    "myGalaxy_useit.loc[ind, 'NZ'].plot(),id, uniqueAlpha[nn]"
   ]
  },
  {
   "cell_type": "code",
   "execution_count": null,
   "metadata": {},
   "outputs": [],
   "source": [
    "uniqueAlpha[\"NZ\"]=0.0\n",
    "for x in uniqueAlpha[0:5]:\n",
    "    ind=myGalaxy_useit.alpha==x\n",
    "    id=myGalaxy_useit.loc[ind, 'NZ'].value_counts().idxmax()\n",
    "    uniqueAlpha.loc[uniqueAlpha.alpha==x]=id\n",
    "    myGalaxy_useit.loc[ind,\"alphaMostFrequent\"]=id\n"
   ]
  },
  {
   "cell_type": "code",
   "execution_count": null,
   "metadata": {},
   "outputs": [],
   "source": [
    "uniqueAlpha"
   ]
  },
  {
   "cell_type": "code",
   "execution_count": null,
   "metadata": {},
   "outputs": [],
   "source": [
    "nn=100\n",
    "ind=myGalaxy_useit.alpha==uniqueAlpha[nn]\n",
    "myGalaxy_useit.loc[ind,\"alpha_NZ_mean\"]=myGalaxy_useit[ind].NZ.mean()\n",
    "myGalaxy_useit.loc[ind,\"alpha_NZ_std\"]=myGalaxy_useit[ind].NZ.std()\n",
    "myGalaxy_useit.loc[ind].NZ.hist()"
   ]
  },
  {
   "cell_type": "code",
   "execution_count": null,
   "metadata": {},
   "outputs": [],
   "source": []
  },
  {
   "cell_type": "code",
   "execution_count": null,
   "metadata": {},
   "outputs": [],
   "source": []
  },
  {
   "cell_type": "code",
   "execution_count": null,
   "metadata": {},
   "outputs": [],
   "source": []
  },
  {
   "cell_type": "code",
   "execution_count": null,
   "metadata": {},
   "outputs": [],
   "source": []
  },
  {
   "cell_type": "markdown",
   "metadata": {},
   "source": [
    "# Binning"
   ]
  },
  {
   "cell_type": "code",
   "execution_count": null,
   "metadata": {},
   "outputs": [],
   "source": [
    "mySet=[0,1]\n",
    "a=mySet[0]\n",
    "b=mySet[1]\n",
    "NumGalaxies = 10  # number of galaxies to be sampled in the 2-point correlation.  For professional calculation use 500\n",
    "correctMe=True\n",
    "df01, autocorr01=HULib.TwoPointCorr_mod(mySet,NumGalaxies,myGalaxy_useit, correctMe=correctMe)"
   ]
  },
  {
   "cell_type": "code",
   "execution_count": null,
   "metadata": {},
   "outputs": [],
   "source": [
    "df01.plot()"
   ]
  },
  {
   "cell_type": "code",
   "execution_count": null,
   "metadata": {},
   "outputs": [],
   "source": [
    "parameters.saveme=True\n",
    "myKeys=[\n",
    "('DEC', 'galaxy_DR12v5_LOWZ_North.fits'),\n",
    "('DEC', 'galaxy_DR12v5_LOWZ_South.fits'),\n",
    "('RA', 'galaxy_DR12v5_LOWZ_North.fits'),\n",
    "('RA', 'galaxy_DR12v5_LOWZ_South.fits'),\n",
    "('DEC', 'galaxy_DR12v5_CMASS_North.fits'),   \n",
    "('DEC', 'galaxy_DR12v5_CMASS_South.fits'), \n",
    "('RA', 'galaxy_DR12v5_CMASS_North.fits'),\n",
    "('RA', 'galaxy_DR12v5_CMASS_South.fits')]\n",
    "\n",
    "fig, axes = plt.subplots(nrows=2, ncols=2, figsize=(15, 12))\n",
    "fig.subplots_adjust(hspace=.4)\n",
    "\n",
    "\n",
    "rangesx= [(0,0.5),(0.0,0.5),(0,0.5),(0.0,0.5)]\n",
    "rangesy= [(0,4.5),(0.0,4.5),(0,4.5),(0.0,4.5)]\n",
    "position = [(0,0),(0,1),(1,0),(1,1)]\n",
    "titleCode=['North-DEC','South-DEC','North-RA','South-RA',]\n",
    "\n",
    "for i in range(4):\n",
    "    key = myKeys[i][0]\n",
    "    val1 = myKeys[i][1]\n",
    "    val2 = myKeys[i+4][1]\n",
    "    print(i,key,val1,val2)\n",
    "    myGalaxy = pd.concat([HULib.get_BOSS_data(parameters.sdssAddress + val1),\n",
    "                         HULib.get_BOSS_data(parameters.sdssAddress + val2)])\n",
    "    myGalaxy = HULib.fix_BOSS_data(myGalaxy)\n",
    "    df0, dfcount= normalizeMe(myGalaxy,fraction=fraction)\n",
    "    df0.plot(ax=axes[position[i]], x='alpha', y='Me',style='.',xlim=rangesx[i], \n",
    "             fontsize=14, ylim=rangesy[i],legend=False,markersize=3)\n",
    "    axes[position[i]].set_title(titleCode[i], fontsize=20 )\n",
    "    axes[position[i]].set_ylabel(\"Galaxy Density\", fontsize=20)\n",
    "    axes[position[i]].set_xlabel(\"Distance\", fontsize=20)\n",
    "if parameters.saveme:\n",
    "    fig.savefig(parameters.imgAddress + 'ManyBangsGlobalNorm.png', dpi=300)\n",
    "    \n",
    "plt.show()"
   ]
  },
  {
   "cell_type": "code",
   "execution_count": null,
   "metadata": {},
   "outputs": [],
   "source": []
  },
  {
   "cell_type": "code",
   "execution_count": null,
   "metadata": {},
   "outputs": [],
   "source": [
    "df_total_mass=pd.DataFrame({'Galaxy Seeding Prob' : df0.groupby( ['alpha'])['Me'].sum()}).reset_index()\n",
    "ax=df_total_mass.plot(x=\"alpha\"  , y=\"Galaxy Seeding Prob\", figsize=(10,8), fontsize=14)\n",
    "ax.set_xlabel(\"Distance\", fontsize=20)\n",
    "ax.set_ylabel(\"Galaxy Seeding Probability (arb. units)\", fontsize=20)\n",
    "ax.set_title(\"Normalized Luminous Mass per volume\", fontsize=20)\n",
    "ax.set_xlim(0,0.5)\n",
    "ax.set_ylim(0,700)\n",
    "ax2 = ax.twinx()\n",
    "ax2.set_ylim(0,45)\n",
    "ax2.set_ylabel(\"Obs Density (arb. units)\", fontsize=20)\n",
    "h1, l1 = ax.get_legend_handles_labels()\n",
    "h2, l2 = ax2.get_legend_handles_labels()\n",
    "ax.legend(h2+h1, l1+l2, loc=2)\n",
    "dfcountplot=dfcount.copy()\n",
    "dfcountplot.columns= ['Obs Density']\n",
    "dfcountplot[\"Obs Density\"]*=5\n",
    "dfcountplot.plot(y=\"Obs Density\", ax=ax2, color=\"red\", fontsize=14)\n",
    "\n",
    "fig = plt.gcf()\n",
    "if parameters.saveme:\n",
    "    fig.savefig(parameters.imgAddress + 'NormalizedSeedProb.png', dpi=300)\n",
    "    \n",
    "plt.show()"
   ]
  },
  {
   "cell_type": "code",
   "execution_count": null,
   "metadata": {},
   "outputs": [],
   "source": []
  },
  {
   "cell_type": "code",
   "execution_count": null,
   "metadata": {},
   "outputs": [],
   "source": []
  },
  {
   "cell_type": "code",
   "execution_count": null,
   "metadata": {},
   "outputs": [],
   "source": []
  },
  {
   "cell_type": "code",
   "execution_count": null,
   "metadata": {},
   "outputs": [],
   "source": []
  },
  {
   "cell_type": "code",
   "execution_count": null,
   "metadata": {},
   "outputs": [],
   "source": [
    "df2=pd.pivot_table(df0,values=\"Me\",index=[\"alpha\"], columns=[\"DEC\"],\n",
    "                   aggfunc=\"sum\", fill_value=0)\n",
    "\n",
    "glue.qglue(star=df0)\n"
   ]
  },
  {
   "cell_type": "code",
   "execution_count": null,
   "metadata": {},
   "outputs": [],
   "source": [
    "df0.alpha.unique()"
   ]
  },
  {
   "cell_type": "markdown",
   "metadata": {},
   "source": [
    "# NO BINNING"
   ]
  },
  {
   "cell_type": "code",
   "execution_count": null,
   "metadata": {},
   "outputs": [],
   "source": [
    "parameters.saveme=True\n",
    "myKeys=[\n",
    "('DEC', 'galaxy_DR12v5_LOWZ_North.fits'),\n",
    "('DEC', 'galaxy_DR12v5_LOWZ_South.fits'),\n",
    "('RA', 'galaxy_DR12v5_LOWZ_North.fits'),\n",
    "('RA', 'galaxy_DR12v5_LOWZ_South.fits'),\n",
    "('DEC', 'galaxy_DR12v5_CMASS_North.fits'),   \n",
    "('DEC', 'galaxy_DR12v5_CMASS_South.fits'), \n",
    "('RA', 'galaxy_DR12v5_CMASS_North.fits'),\n",
    "('RA', 'galaxy_DR12v5_CMASS_South.fits')]\n",
    "\n",
    "fig, axes = plt.subplots(nrows=2, ncols=2, figsize=(15, 12))\n",
    "fig.subplots_adjust(hspace=.4)\n",
    "\n",
    "\n",
    "rangesx= [(0,1.2),(0.0,1.2),(0,1.2),(0.0, 1.2)]\n",
    "rangesy= [(0,20.9),(0.0,20.9),(0,20.0),(0.0,20.0)]\n",
    "position = [(0,0),(0,1),(1,0),(1,1)]\n",
    "titleCode=['North-DEC','South-DEC','North-RA','South-RA',]\n",
    "\n",
    "for i in range(4):\n",
    "    key = myKeys[i][0]\n",
    "    val1 = myKeys[i][1]\n",
    "    val2 = myKeys[i+4][1]\n",
    "    print(i,key,val1,val2)\n",
    "    myGalaxy = pd.concat([HULib.get_BOSS_data(parameters.sdssAddress + val1),\n",
    "                         HULib.get_BOSS_data(parameters.sdssAddress + val2)])\n",
    "    myGalaxy = HULib.fix_BOSS_data_noBinning(myGalaxy)\n",
    "    df0, dfcount= normalizeMe(myGalaxy)\n",
    "    df0.plot(ax=axes[position[i]], x='alpha', y='Me',style='.',xlim=rangesx[i], \n",
    "             fontsize=14, ylim=rangesy[i],legend=False,markersize=3)\n",
    "    axes[position[i]].set_title(titleCode[i], fontsize=20 )\n",
    "    axes[position[i]].set_ylabel(\"Galaxy Density\", fontsize=20)\n",
    "    axes[position[i]].set_xlabel(\"Redshift Z - No Binning\", fontsize=20)\n",
    "if parameters.saveme:\n",
    "    fig.savefig(parameters.imgAddress + 'ManyBangsGlobal_noBinning.png', dpi=300)\n",
    "    \n",
    "plt.show()"
   ]
  },
  {
   "cell_type": "code",
   "execution_count": null,
   "metadata": {},
   "outputs": [],
   "source": [
    "parameters.saveme=True\n",
    "myKeys=[\n",
    "('DEC', 'galaxy_DR12v5_LOWZ_North.fits'),\n",
    "('DEC', 'galaxy_DR12v5_LOWZ_South.fits'),\n",
    "('RA', 'galaxy_DR12v5_LOWZ_North.fits'),\n",
    "('RA', 'galaxy_DR12v5_LOWZ_South.fits'),\n",
    "('DEC', 'galaxy_DR12v5_CMASS_North.fits'),   \n",
    "('DEC', 'galaxy_DR12v5_CMASS_South.fits'), \n",
    "('RA', 'galaxy_DR12v5_CMASS_North.fits'),\n",
    "('RA', 'galaxy_DR12v5_CMASS_South.fits')]\n",
    "\n",
    "rangesx= (0.,1.2)\n",
    "rangesy= (0,0.5)\n",
    "titleCode=['North-DEC']\n",
    "\n",
    "myGalaxy = HULib.get_BOSS_data(parameters.sdssAddress + 'galaxy_DR12v5_CMASS_North.fits')\n",
    "myGalaxy = HULib.fix_BOSS_data_noBinning(myGalaxy)\n",
    "df0, dfcount= normalizeMe(myGalaxy)\n",
    "axes=df0.plot( x='alpha', y='Me',style='.',xlim=rangesx, \n",
    "         fontsize=14, ylim=rangesy,legend=False,markersize=1,figsize=(10, 6))\n",
    "\n",
    "axes.set_title('North-DEC', fontsize=20 )\n",
    "axes.set_ylabel(\"Galaxy Density\", fontsize=20)\n",
    "axes.set_xlabel(\"Redshift Z - No Binning\", fontsize=20)\n",
    "fig = plt.gcf()\n",
    "if parameters.saveme:\n",
    "    fig.savefig(parameters.imgAddress + 'ManyBangsNorthMASS_noBinning.png', dpi=300)\n",
    "    \n",
    "plt.show()"
   ]
  },
  {
   "cell_type": "markdown",
   "metadata": {},
   "source": [
    "# Calculate the number of galaxies per distance"
   ]
  },
  {
   "cell_type": "code",
   "execution_count": null,
   "metadata": {},
   "outputs": [],
   "source": [
    "gal = parameters.sdssAddress + 'galaxy_DR12v5_CMASS_North.fits';\n",
    "myGalaxy0 = HULib.get_BOSS_data(gal)\n",
    "numGalaxies=myGalaxy0.shape[0]\n",
    "df=myGalaxy0.Z.to_frame()\n",
    "df[\"alpha\"]=[HULib.alphaZ(x)*4/np.pi for x in df.Z]\n",
    "# Just a figure and one subplot\n",
    "fig, ax = plt.subplots()\n",
    "hist = df.hist(column=\"Z\", bins=100, ax=ax)\n",
    "ax.set_xlabel(\"Redshift Z\", fontsize=20)\n",
    "ax.set_ylabel(\"Number of Galaxies\", fontsize=20)\n",
    "plt.xlim((0.0,1.0))\n",
    "ax.set_title('Number of Galaxies per Redshift Z', fontsize=20)\n",
    "fig = plt.gcf()\n",
    "fig.savefig(parameters.imgAddress + 'NumGalaxiesPerZ.png', dpi=300)"
   ]
  },
  {
   "cell_type": "code",
   "execution_count": null,
   "metadata": {},
   "outputs": [],
   "source": [
    "gal = parameters.sdssAddress + 'galaxy_DR12v5_CMASS_North.fits';\n",
    "myGalaxy0 = HULib.get_BOSS_data(gal)\n",
    "numGalaxies=myGalaxy0.shape[0]\n",
    "df=myGalaxy0.Z.to_frame()\n",
    "df[\"alpha\"]=[HULib.alphaZ(x)*4/np.pi for x in df.Z]\n",
    "# Just a figure and one subplot\n",
    "fig, ax = plt.subplots()\n",
    "hist = df.hist(column=\"alpha\", bins=100, ax=ax)\n",
    "ax.set_xlabel(\"Normalized Distance\", fontsize=14)\n",
    "ax.set_ylabel(\"Number of Galaxies\", fontsize=14)\n",
    "plt.xlim((0.0,0.5))\n",
    "ax.set_title('Number of Galaxies per Distance', fontsize=16)\n",
    "fig = plt.gcf()\n",
    "fig.savefig(parameters.imgAddress + 'NumGalaxiesPerDistance.png', dpi=300)"
   ]
  },
  {
   "cell_type": "markdown",
   "metadata": {},
   "source": [
    "# Universe Cross-Section Calculation"
   ]
  },
  {
   "cell_type": "code",
   "execution_count": null,
   "metadata": {},
   "outputs": [],
   "source": [
    "if parameters.glueme:\n",
    "    gals = ['galaxy_DR12v5_CMASS_North.fits','galaxy_DR12v5_CMASS_South.fits',\n",
    "           'galaxy_DR12v5_LOWZ_North.fits','galaxy_DR12v5_LOWZ_South.fits']\n",
    "    myGalaxy1 = pd.concat([HULib.get_BOSS_data(parameters.sdssAddress + gals[0]),\n",
    "                           HULib.get_BOSS_data(parameters.sdssAddress + gals[2])])\n",
    "    myGalaxy1 = HULib.fix_BOSS_data(myGalaxy1)\n",
    "    df0 = pd.DataFrame({'Me': myGalaxy1.groupby(['alpha', 'DEC'])['Me'].sum()}).reset_index()\n",
    "    glue.qglue(star=df0)"
   ]
  },
  {
   "cell_type": "code",
   "execution_count": null,
   "metadata": {},
   "outputs": [],
   "source": [
    "if parameters.glueme:\n",
    "    gals = ['galaxy_DR12v5_CMASS_North.fits','galaxy_DR12v5_CMASS_South.fits',\n",
    "           'galaxy_DR12v5_LOWZ_North.fits','galaxy_DR12v5_LOWZ_South.fits']\n",
    "    myGalaxy1 = pd.concat([HULib.get_BOSS_data(parameters.sdssAddress + gals[1]),HULib.get_BOSS_data(parameters.sdssAddress + gals[3])])\n",
    "    myGalaxy1 = HULib.fix_BOSS_data(myGalaxy1)\n",
    "    df0 = pd.DataFrame({'Me': myGalaxy1.groupby(['alpha', 'DEC'])['Me'].sum()}).reset_index()\n",
    "    glue.qglue(star=df0)"
   ]
  },
  {
   "cell_type": "code",
   "execution_count": null,
   "metadata": {},
   "outputs": [],
   "source": [
    "if parameters.glueme:\n",
    "    gals = ['galaxy_DR12v5_CMASS_North.fits','galaxy_DR12v5_CMASS_South.fits',\n",
    "           'galaxy_DR12v5_LOWZ_North.fits','galaxy_DR12v5_LOWZ_South.fits']\n",
    "    myGalaxy1 = pd.concat([HULib.get_BOSS_data(parameters.sdssAddress + gals[0]),HULib.get_BOSS_data(parameters.sdssAddress + gals[2])])\n",
    "    myGalaxy1 = HULib.fix_BOSS_data(myGalaxy1)\n",
    "    myGalaxy1.alpha=4/np.pi*myGalaxy1.alpha\n",
    "    df0 = pd.DataFrame({'Me': myGalaxy1.groupby(['alpha', 'RA'])['Me'].sum()}).reset_index()\n",
    "    glue.qglue(star=df0)"
   ]
  },
  {
   "cell_type": "code",
   "execution_count": null,
   "metadata": {},
   "outputs": [],
   "source": [
    "if parameters.glueme:\n",
    "    gals = ['galaxy_DR12v5_CMASS_North.fits','galaxy_DR12v5_CMASS_South.fits',\n",
    "           'galaxy_DR12v5_LOWZ_North.fits','galaxy_DR12v5_LOWZ_South.fits']\n",
    "    myGalaxy1 = pd.concat([HULib.get_BOSS_data(parameters.sdssAddress + gals[0]),HULib.get_BOSS_data(parameters.sdssAddress + gals[2])])\n",
    "    myGalaxy1 = HULib.fix_BOSS_data(myGalaxy1)\n",
    "    myGalaxy1.alpha=4/np.pi*myGalaxy1.alpha\n",
    "    df0 = pd.DataFrame({'Me': myGalaxy1.groupby(['alpha'])['Me'].sum()}).reset_index()\n",
    "    glue.qglue(star=df0)"
   ]
  },
  {
   "cell_type": "code",
   "execution_count": null,
   "metadata": {},
   "outputs": [],
   "source": [
    "if parameters.glueme:\n",
    "    gals = ['galaxy_DR12v5_CMASS_North.fits','galaxy_DR12v5_CMASS_South.fits',\n",
    "           'galaxy_DR12v5_LOWZ_North.fits','galaxy_DR12v5_LOWZ_South.fits']\n",
    "    myGalaxy1 = pd.concat([HULib.get_BOSS_data(parameters.sdssAddress + gals[1]),HULib.get_BOSS_data(parameters.sdssAddress + gals[3])])\n",
    "    myGalaxy1 = HULib.fix_BOSS_data(myGalaxy1)\n",
    "    df0 = pd.DataFrame({'Me': myGalaxy1.groupby(['alpha', 'RA'])['Me'].sum()}).reset_index()\n",
    "    glue.qglue(star=df0)"
   ]
  },
  {
   "cell_type": "code",
   "execution_count": null,
   "metadata": {},
   "outputs": [],
   "source": []
  }
 ],
 "metadata": {
  "anaconda-cloud": {},
  "kernelspec": {
   "display_name": "Python 3 (ipykernel)",
   "language": "python",
   "name": "python3"
  },
  "language_info": {
   "codemirror_mode": {
    "name": "ipython",
    "version": 3
   },
   "file_extension": ".py",
   "mimetype": "text/x-python",
   "name": "python",
   "nbconvert_exporter": "python",
   "pygments_lexer": "ipython3",
   "version": "3.11.5"
  }
 },
 "nbformat": 4,
 "nbformat_minor": 4
}
