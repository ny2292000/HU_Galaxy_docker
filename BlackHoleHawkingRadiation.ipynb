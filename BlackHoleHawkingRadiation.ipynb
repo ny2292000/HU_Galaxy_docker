{
 "cells": [
  {
   "cell_type": "code",
   "execution_count": null,
   "id": "4a3da357",
   "metadata": {},
   "outputs": [],
   "source": [
    "import numpy as np\n",
    "\n",
    "# Constants\n",
    "G = 6.674 * 10**-11  # Gravitational constant in m^3 kg^-1 s^-2\n",
    "c = 3 * 10**8        # Speed of light in m/s\n",
    "M_sun = 1.989 * 10**30  # Mass of the Sun in kg\n",
    "M_bh = 10 * M_sun    # Mass of the black hole (10 solar masses)\n",
    "\n",
    "# Schwarzschild radius calculation\n",
    "R_s = (2 * G * M_bh) / c**2  # Schwarzschild radius in meters\n",
    "\n",
    "# Surface area of the event horizon\n",
    "surface_area = 4 * np.pi * R_s**2  # in square meters\n",
    "\n",
    "# Outputs\n",
    "R_s, surface_area\n"
   ]
  },
  {
   "cell_type": "code",
   "execution_count": null,
   "id": "f5407968",
   "metadata": {},
   "outputs": [],
   "source": [
    "# Constants\n",
    "h_bar = 1.055 * 10**-34  # Reduced Planck constant in Js\n",
    "\n",
    "# Power radiated due to Hawking radiation\n",
    "P = (h_bar * c**6) / (15360 * np.pi * G**2 * M_bh**2)  # in watts\n",
    "\n",
    "P\n"
   ]
  },
  {
   "cell_type": "code",
   "execution_count": null,
   "id": "9ed2a22b",
   "metadata": {},
   "outputs": [],
   "source": []
  }
 ],
 "metadata": {
  "kernelspec": {
   "display_name": "Python [conda env:Cosmos3020]",
   "language": "python",
   "name": "conda-env-Cosmos3020-py"
  },
  "language_info": {
   "codemirror_mode": {
    "name": "ipython",
    "version": 3
   },
   "file_extension": ".py",
   "mimetype": "text/x-python",
   "name": "python",
   "nbconvert_exporter": "python",
   "pygments_lexer": "ipython3",
   "version": "3.11.9"
  }
 },
 "nbformat": 4,
 "nbformat_minor": 5
}
