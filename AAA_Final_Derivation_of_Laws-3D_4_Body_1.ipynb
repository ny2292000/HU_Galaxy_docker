{
 "cells": [
  {
   "cell_type": "markdown",
   "id": "5820fd22-357e-4e97-9aae-9a6874313912",
   "metadata": {},
   "source": [
    "# BEGINNING  - The Hypergeometrical Universe Theory\n",
    "# Derivation of Laws of Nature"
   ]
  },
  {
   "cell_type": "markdown",
   "id": "3a82425f",
   "metadata": {},
   "source": [
    "BEGINNING  - The Hypergeometrical Universe Theory - Derivation of Laws of Nature\n",
    "\n",
    "###  Interaction Model in a 4D Spatial Manifold\n",
    "\n",
    "#### Approximation of the Dilaton Field\n",
    "\n",
    "Step 1: Defining the Field $\\Phi_1$ \n",
    "\n",
    "The total dilaton field from body 1 is given by:\n",
    "$\\Phi_1 = \\cos(k_1 \\cdot x) $ \n",
    "where  $k_1$  is the wave vector and  x  is the position vector.\n",
    "\n",
    "Step 2: Calculating the First Derivative of$\\Phi_1$\n",
    "\n",
    "Using the approximation that $\\Phi_1 = \\cos(k_1 \\cdot x) $ , we calculate the first derivative:\n",
    "$\\frac{d\\Phi_1}{dx} = (k_1 \\cdot \\hat{x}) \\sin(k_1 \\cdot x )= (k_1 \\cdot \\hat{x})(k_1 \\cdot x )$ \n",
    "\n",
    "Step 3: Calculating the Second Derivative of $\\Phi_1$\n",
    "\n",
    "Next, we find the second derivative to eliminate any lingering component with  $x^2$ since $k_1$ might depend upon x:\n",
    "$\\frac{d^2\\Phi_1}{dx^2} = (k_1 \\cdot \\hat{x})^2 \\cos(k_1 \\cdot x)$ \n",
    "\n",
    "Step 4: Extracting the Coefficient of  x **\n",
    "\n",
    "We set  x = 0  to extract the coefficient of  x :\n",
    "$\\left. \\frac{d^2\\Phi_1}{dx^2} \\right|_{x=0} = (k_1 \\cdot \\hat{x})^2$ \n",
    "\n",
    "Here, we approximate  x  as  $x = x_ \\cdot \\hat{x} $, where  x_  is the magnitude and  $\\hat{x}$  is the unit vector in the direction of  x .\n",
    "\n",
    "Step 5: Calculating the First Derivative of $\\Phi_2$\n",
    "\n",
    "Similarly, we calculate the first derivative of the dilaton field from body 1 to body 2,\n",
    "$\\Phi_2: \\frac{d\\Phi_2}{dx} = (k_2 \\cdot \\hat{x}) \\sin(k_2 \\cdot x)$ \n",
    "\n",
    "Step 6: Solving for  $x_$\n",
    "\n",
    "To align the fields in phase, we solve for  x_ :\n",
    " $ x_ = \\frac{1}{(k_1 \\cdot \\hat{x})^2} \\cdot \\frac{d\\Phi_2}{dx} $\n",
    "\n",
    "This approximation and calculation show how the position  x_  of body 1 is adjusted to ensure that it dilates space in phase with the field from body 2.\n",
    "\n"
   ]
  },
  {
   "cell_type": "code",
   "execution_count": 1,
   "id": "7d3b2a11-490e-49e2-a8dc-31733fa131b8",
   "metadata": {},
   "outputs": [
    {
     "data": {
      "text/latex": [
       "$\\displaystyle \\frac{2 \\pi}{P_{1} \\lambda_{1}} \\left(\\frac{R_{0} v_{1}}{c} V_{1 hat}^{T} + 0 r_{hat}^{T}\\right) \\left(\\left(\\gamma_{v1} - 1\\right) V_{1 hat} V_{1 hat}^{T} + One\\right) \\left(\\frac{R_{0} v_{1}}{c} V_{1 hat} + 0 r_{hat}\\right)$"
      ],
      "text/plain": [
       "(2*pi/(P1*lambda1))*((R0*v1/c)*V1_hat.T + 0*r_hat.T)*((gamma_v1 - 1)*V1_hat*V1_hat.T + One)*((R0*v1/c)*V1_hat + 0*r_hat)"
      ]
     },
     "execution_count": 1,
     "metadata": {},
     "output_type": "execute_result"
    }
   ],
   "source": [
    "import sympy as sp\n",
    "\n",
    "\n",
    "def cleanForce(Force):\n",
    "    Force_latex = sp.latex(Force)\n",
    "    Force_latex = Force_latex.replace(\"V_{1 hat}\", \"\\\\hat{V}_1\")\n",
    "    Force_latex = Force_latex.replace(\"V_{2 hat}\", \"\\\\hat{V}_2\")\n",
    "    Force_latex = Force_latex.replace(\"R_{0 hat}\", \"\\\\hat{R}_0\")\n",
    "    Force_latex = Force_latex.replace(\"r_{hat}\", \"\\\\hat{r}\")\n",
    "    # Force_latex = Force_latex.replace(\"+ 0 \\hat{r}\", \"\")\n",
    "    Force_latex = Force_latex.replace(\"^{T}\", \"\")\n",
    "    print(Force_latex)\n",
    "\n",
    "\n",
    "# Define symbols\n",
    "pi, m_0, x, Q, lambda1, R0, c, N, v1, v2, gamma_v1, gamma_v2, P1, P2, delta, R_4D, P1_hat, P2_hat, G0, kg, h  = sp.symbols(\n",
    "    'pi m_0 x Q lambda1 R0 c N v1 v2 gamma_v1 gamma_v2 P1 P2  delta R_4D P1_hat P2_hat G0 kg h', \n",
    "    real=True, positive=True)\n",
    "alpha = sp.symbols('alpha', real=True, positive=True)\n",
    "\n",
    "# Define MatrixSymbols for arbitrary unit vectors\n",
    "V1_hat = sp.MatrixSymbol('V1_hat', 3, 1)  # 3x1 Matrix Symbol for Unit vector along V1\n",
    "V2_hat = sp.MatrixSymbol('V2_hat', 3, 1)  # 3x1 Matrix Symbol for Unit vector along V2\n",
    "R0_hat = sp.MatrixSymbol('R0_hat', 3, 1)  # 3x1 Matrix Symbol for Unit vector along R0\n",
    "r_hat = sp.MatrixSymbol('r_hat', 3, 1)    # 3x1 Matrix Symbol for general unit vector for position adjustments\n",
    "\n",
    "# Identity matrix for space dimension\n",
    "One = sp.MatrixSymbol('One', 3, 3) # Correct usage of Identity Matrix\n",
    "\n",
    "# Velocity vectors\n",
    "V1 = v1 * V1_hat\n",
    "V2 = v2 * V2_hat\n",
    "R0_vect = R0 * R0_hat\n",
    "\n",
    "# Position vectors\n",
    "r1 = V1 * R0 / c + x * r_hat\n",
    "r2 = V1 * R0 / c - R0_vect + x * r_hat\n",
    "\n",
    "# Projection matrices and Lorentz transformation matrices\n",
    "# 1+(GAMMA-1)P = (1-P) + GAMMA*P\n",
    "# P IS THE PROJECTOR TO THE V1 AND V2 DIRECTIONS \n",
    "\n",
    "M1 = One + (gamma_v1 - 1) * V1 * V1.T / (v1**2)\n",
    "M2 = One + (gamma_v2 - 1) * V2 * V2.T / (v2**2)\n",
    "\n",
    "# Wave vectors\n",
    "k1 = (2 * pi / lambda1) * r1.T* M1  / P1\n",
    "k2 = (2 * pi / lambda1) * r2.T * M2 / P2\n",
    "\n",
    "# P1 is the modulus of r1 or |r1| or |v1 R0/c|\n",
    "# P2 is the modulus of r2 or |r2| or R0*sqrt (v1**2/c**2 + 1 - 2 dr/dt)\n",
    "\n",
    "# Fields definitions\n",
    "k1path = ( k1 * r1 )\n",
    "Phi1 = sp.cos(k1path)\n",
    "first_derivative = sp.diff(k1path, x)\n",
    "second_derivative = sp.diff(first_derivative, x)\n",
    "# Took the second derivative to extract the coefficient of x\n",
    "k1path_diff = second_derivative\n",
    "k1path=k1path.subs(x,0)\n",
    "k1path"
   ]
  },
  {
   "cell_type": "markdown",
   "id": "9311e42f-52be-46d9-b54c-c9453651d99d",
   "metadata": {},
   "source": [
    "# Calculate $ \\frac{d\\Phi_1}{dr} $"
   ]
  },
  {
   "cell_type": "code",
   "execution_count": 2,
   "id": "ee34dae4-b3b1-4465-b456-865e520ab832",
   "metadata": {},
   "outputs": [
    {
     "data": {
      "text/latex": [
       "$\\displaystyle \\frac{8 R_{0}^{2} \\pi^{2} v_{1}^{2}}{P_{1}^{2} c^{2} \\lambda_{1}^{2}} V_{1 hat}^{T} \\left(\\left(\\gamma_{v1} - 1\\right) V_{1 hat} V_{1 hat}^{T} + One^{T}\\right) V_{1 hat} r_{hat}^{T} \\left(\\left(\\gamma_{v1} - 1\\right) V_{1 hat} V_{1 hat}^{T} + One\\right) r_{hat}$"
      ],
      "text/plain": [
       "(8*R0**2*pi**2*v1**2/(P1**2*c**2*lambda1**2))*V1_hat.T*((gamma_v1 - 1)*V1_hat*V1_hat.T + One.T)*V1_hat*r_hat.T*((gamma_v1 - 1)*V1_hat*V1_hat.T + One)*r_hat"
      ]
     },
     "execution_count": 2,
     "metadata": {},
     "output_type": "execute_result"
    }
   ],
   "source": [
    "# Derivatives - Here we used diff(cos(k.x) = -ksin(kx) = -k**2x\n",
    "Phi1_diff = k1path.T*k1path_diff\n",
    "Phi1_diff"
   ]
  },
  {
   "cell_type": "code",
   "execution_count": 3,
   "id": "51331193",
   "metadata": {},
   "outputs": [
    {
     "name": "stdout",
     "output_type": "stream",
     "text": [
      "\\frac{8 R_{0}^{2} \\pi^{2} v_{1}^{2}}{P_{1}^{2} c^{2} \\lambda_{1}^{2}} \\hat{V}_1 \\left(\\left(\\gamma_{v1} - 1\\right) \\hat{V}_1 \\hat{V}_1 + One\\right) \\hat{V}_1 \\hat{r} \\left(\\left(\\gamma_{v1} - 1\\right) \\hat{V}_1 \\hat{V}_1 + One\\right) \\hat{r}\n"
     ]
    }
   ],
   "source": [
    "cleanForce(Phi1_diff)"
   ]
  },
  {
   "cell_type": "markdown",
   "id": "d2d80120-7fb9-4d80-be16-9079305b3cdd",
   "metadata": {},
   "source": [
    "# Calculate $ \\frac{d\\Phi_2}{dr} $"
   ]
  },
  {
   "cell_type": "code",
   "execution_count": 4,
   "id": "47035b04-9319-49b6-b4c2-a6a3f8529919",
   "metadata": {},
   "outputs": [
    {
     "data": {
      "text/latex": [
       "$\\displaystyle - \\frac{2 N Q}{P_{2} \\lambda_{1}} r_{hat}^{T} \\left(\\left(\\gamma_{v2} - 1\\right) V_{2 hat} V_{2 hat}^{T} + One\\right) r_{hat} \\left(\\frac{Q}{P_{2} \\lambda_{1}} \\left(- R_{0} R_{0 hat}^{T} + \\frac{R_{0} v_{1}}{c} V_{1 hat}^{T}\\right) \\left(\\left(\\gamma_{v2} - 1\\right) V_{2 hat} V_{2 hat}^{T} + One\\right) \\left(- R_{0} R_{0 hat} + \\frac{R_{0} v_{1}}{c} V_{1 hat}\\right)\\right)^{-2}$"
      ],
      "text/plain": [
       "(-2*N*Q/(P2*lambda1))*r_hat.T*((gamma_v2 - 1)*V2_hat*V2_hat.T + One)*r_hat*((Q/(P2*lambda1))*((-R0)*R0_hat.T + (R0*v1/c)*V1_hat.T)*((gamma_v2 - 1)*V2_hat*V2_hat.T + One)*((-R0)*R0_hat + (R0*v1/c)*V1_hat))**(-2)"
      ]
     },
     "execution_count": 4,
     "metadata": {},
     "output_type": "execute_result"
    }
   ],
   "source": [
    "k2path = ( k2 * r2 )\n",
    "k2path =Q * k2path/(2*pi)\n",
    "k2path_diff = sp.diff(k2path,x,2)\n",
    "Phi2 = N / (1 + k2path[0].subs(x,0))\n",
    "# Derivatives\n",
    "Phi2_diff = -N *k2path_diff / (k2path.subs(x,0))**2 \n",
    "Phi2_diff"
   ]
  },
  {
   "cell_type": "code",
   "execution_count": 5,
   "id": "e42beb2f",
   "metadata": {},
   "outputs": [
    {
     "name": "stdout",
     "output_type": "stream",
     "text": [
      "- \\frac{2 N Q}{P_{2} \\lambda_{1}} \\hat{r} \\left(\\left(\\gamma_{v2} - 1\\right) \\hat{V}_2 \\hat{V}_2 + One\\right) \\hat{r} \\left(\\frac{Q}{P_{2} \\lambda_{1}} \\left(- R_{0} \\hat{R}_0 + \\frac{R_{0} v_{1}}{c} \\hat{V}_1\\right) \\left(\\left(\\gamma_{v2} - 1\\right) \\hat{V}_2 \\hat{V}_2 + One\\right) \\left(- R_{0} \\hat{R}_0 + \\frac{R_{0} v_{1}}{c} \\hat{V}_1\\right)\\right)^{-2}\n"
     ]
    }
   ],
   "source": [
    "cleanForce(Phi2_diff)"
   ]
  },
  {
   "cell_type": "markdown",
   "id": "e464eceb",
   "metadata": {},
   "source": [
    "# Calculate Force\n",
    "$ \\vec{F} = m_0\\frac{dv}{dt} = m_0 c^2 \\frac{d(\\frac{v}{c})}{dr_2} \\frac{dr_2}{dR}=  m_0 c^2 \\frac{dtanh(\\alpha)}{dr_1}\\frac{dr_1}{dR}$ \n",
    "\n",
    "Where\n",
    "$ tanh(\\alpha)= \\frac{v}{ic} $\n",
    " \n",
    "$ \\vec{r_2} = \\vec{V_1} * R_0 / c - \\vec{R_0}  $\n",
    "\n",
    "$ \\frac{dr_2}{dR} =  \\sqrt{ 1 + \\frac{v_1^2}{c^2} - \\frac{2}{c}\\frac{dr_1}{dt}}$\n",
    "\n",
    "$ \\vec{F} = m_0 c^2 (1-\\frac{v_1^2}{c^2}) \\frac{d(\\frac{v}{c})}{cdt} \\frac{dr_1}{dR}$\n",
    "\n",
    "$ \\vec{F} = m_0 c^2 (1+tanh^2(\\alpha))\\frac{d\\alpha}{dr_1} \\frac{dr_1}{dR}$\n",
    "\n",
    "$ \\alpha = \\frac{x}{\\lambda_1} $\n",
    "\n",
    "$ \\frac{d\\alpha}{dr} =\\frac{\\alpha}{\\lambda_1} $\n",
    "\n",
    "$ \\vec{F} = m_0 c^2 (1-\\frac{v_1^2}{c^2})\\frac{\\alpha}{\\lambda_1^2}\\frac{dr_1}{dR} $\n"
   ]
  },
  {
   "cell_type": "code",
   "execution_count": 6,
   "id": "0110c7f0-5aca-4a7d-9c6f-f6d3671dc60f",
   "metadata": {},
   "outputs": [
    {
     "data": {
      "text/latex": [
       "$\\displaystyle \\frac{N P_{2 hat} m_{0} \\left(- c^{2} + v_{1}^{2}\\right)}{P_{2} \\alpha \\lambda_{1}^{3} \\pi} r_{hat}^{T} \\left(\\left(\\gamma_{v2} - 1\\right) V_{2 hat} V_{2 hat}^{T} + One\\right) r_{hat} \\left(\\frac{1}{2 P_{2} \\alpha \\lambda_{1} \\pi} \\left(- R_{0} R_{0 hat}^{T} + \\frac{R_{0} v_{1}}{c} V_{1 hat}^{T}\\right) \\left(\\left(\\gamma_{v2} - 1\\right) V_{2 hat} V_{2 hat}^{T} + One\\right) \\left(- R_{0} R_{0 hat} + \\frac{R_{0} v_{1}}{c} V_{1 hat}\\right)\\right)^{-2} \\left(\\frac{8 R_{0}^{2} \\pi^{2} v_{1}^{2}}{P_{1}^{2} c^{2} \\lambda_{1}^{2}} V_{1 hat}^{T} \\left(\\left(\\gamma_{v1} - 1\\right) V_{1 hat} V_{1 hat}^{T} + One^{T}\\right) V_{1 hat} r_{hat}^{T} \\left(\\left(\\gamma_{v1} - 1\\right) V_{1 hat} V_{1 hat}^{T} + One\\right) r_{hat}\\right)^{-1}$"
      ],
      "text/plain": [
       "(N*P2_hat*m_0*(-c**2 + v1**2)/(P2*alpha*lambda1**3*pi))*r_hat.T*((gamma_v2 - 1)*V2_hat*V2_hat.T + One)*r_hat*((1/(2*P2*alpha*lambda1*pi))*((-R0)*R0_hat.T + (R0*v1/c)*V1_hat.T)*((gamma_v2 - 1)*V2_hat*V2_hat.T + One)*((-R0)*R0_hat + (R0*v1/c)*V1_hat))**(-2)*((8*R0**2*pi**2*v1**2/(P1**2*c**2*lambda1**2))*V1_hat.T*((gamma_v1 - 1)*V1_hat*V1_hat.T + One.T)*V1_hat*r_hat.T*((gamma_v1 - 1)*V1_hat*V1_hat.T + One)*r_hat)**(-1)"
      ]
     },
     "execution_count": 6,
     "metadata": {},
     "output_type": "execute_result"
    }
   ],
   "source": [
    "# Display results\n",
    "dr1dr = P2_hat\n",
    "x_result = Phi2_diff/Phi1_diff\n",
    "Force_EM = m_0*c**2*(1-v1**2/c**2)*x_result/lambda1**2\n",
    "Force_EM = Force_EM.subs(Q, 1/(2*pi*alpha))\n",
    "Force_EM = Force_EM.subs(x,0).simplify()*dr1dr\n",
    "Force_EM"
   ]
  },
  {
   "cell_type": "code",
   "execution_count": 7,
   "id": "d7fe2f92-087e-45fb-9c4f-56859a70b161",
   "metadata": {},
   "outputs": [
    {
     "name": "stdout",
     "output_type": "stream",
     "text": [
      "(N*P2_hat*m_0*(-c**2 + v1**2)/(P2*alpha*lambda1**3*pi))*r_hat.T*((gamma_v2 - 1)*V2_hat*V2_hat.T + One)*r_hat*((1/(2*P2*alpha*lambda1*pi))*((-R0)*R0_hat.T + (R0*v1/c)*V1_hat.T)*((gamma_v2 - 1)*V2_hat*V2_hat.T + One)*((-R0)*R0_hat + (R0*v1/c)*V1_hat))**(-2)*((8*R0**2*pi**2*v1**2/(P1**2*c**2*lambda1**2))*V1_hat.T*((gamma_v1 - 1)*V1_hat*V1_hat.T + One.T)*V1_hat*r_hat.T*((gamma_v1 - 1)*V1_hat*V1_hat.T + One)*r_hat)**(-1)\n"
     ]
    }
   ],
   "source": [
    "print(Force_EM)\n"
   ]
  },
  {
   "cell_type": "code",
   "execution_count": 8,
   "id": "6c3ceaaf-76cc-40c0-871f-6e9ada1913f6",
   "metadata": {},
   "outputs": [
    {
     "name": "stdout",
     "output_type": "stream",
     "text": [
      "\\frac{N P_{2 hat} m_{0} \\left(- c^{2} + v_{1}^{2}\\right)}{P_{2} \\alpha \\lambda_{1}^{3} \\pi} \\hat{r} \\left(\\left(\\gamma_{v2} - 1\\right) \\hat{V}_2 \\hat{V}_2 + One\\right) \\hat{r} \\left(\\frac{1}{2 P_{2} \\alpha \\lambda_{1} \\pi} \\left(- R_{0} \\hat{R}_0 + \\frac{R_{0} v_{1}}{c} \\hat{V}_1\\right) \\left(\\left(\\gamma_{v2} - 1\\right) \\hat{V}_2 \\hat{V}_2 + One\\right) \\left(- R_{0} \\hat{R}_0 + \\frac{R_{0} v_{1}}{c} \\hat{V}_1\\right)\\right)^{-2} \\left(\\frac{8 R_{0}^{2} \\pi^{2} v_{1}^{2}}{P_{1}^{2} c^{2} \\lambda_{1}^{2}} \\hat{V}_1 \\left(\\left(\\gamma_{v1} - 1\\right) \\hat{V}_1 \\hat{V}_1 + One\\right) \\hat{V}_1 \\hat{r} \\left(\\left(\\gamma_{v1} - 1\\right) \\hat{V}_1 \\hat{V}_1 + One\\right) \\hat{r}\\right)^{-1}\n"
     ]
    }
   ],
   "source": [
    "cleanForce(Force_EM)"
   ]
  },
  {
   "cell_type": "code",
   "execution_count": 9,
   "id": "485773f7",
   "metadata": {},
   "outputs": [],
   "source": [
    "latex_str = sp.latex(Force_EM, mode='plain')\n",
    "# Write to a file\n",
    "with open('./Drawing_For_Publications/ForceEM.tex', 'w') as file:\n",
    "    file.write(latex_str)"
   ]
  },
  {
   "cell_type": "markdown",
   "id": "44154184",
   "metadata": {},
   "source": [
    "# Calculate Gravitational Force\n",
    "$ \\vec{F} = m_0\\frac{dv}{dt} = m_0 c^2 \\frac{d(\\frac{v}{c})}{dr}=  m_0 c^2 \\frac{dtanh(\\alpha)}{dr_1} \\frac{dr_1}{dr}$ \n",
    "\n",
    "Where\n",
    " $ tanh(\\alpha)= \\frac{v}{ic} $\n",
    "\n",
    "$ \\vec{F} = m_0 c^2 (1-\\frac{v_1^2}{c^2}) \\frac{d(\\frac{v}{c})}{cdt} $\n",
    "\n",
    "$ \\vec{F} = m_0 c^2 (1-tanh^2(\\alpha))\\frac{d\\alpha}{dr_1} \\frac{dr_1}{dr} $\n",
    "\n",
    "$ \\alpha = \\frac{\\delta x}{R_{4D}} $\n",
    "\n",
    "$ \\frac{d\\alpha}{dr_1} =\\frac{\\delta x}{R_{4D}\\lambda_1} $\n",
    "\n",
    "$ \\vec{F} = m_0 c^2 (1-\\frac{v_1^2}{c^2})\\frac{\\delta x}{R_{4D}\\lambda_1} \\frac{dr_1}{dr}$"
   ]
  },
  {
   "cell_type": "code",
   "execution_count": 10,
   "id": "c5631757",
   "metadata": {},
   "outputs": [
    {
     "data": {
      "text/latex": [
       "$\\displaystyle \\frac{N^{2} P_{2 hat} \\delta m_{0} \\left(- c^{2} + v_{1}^{2}\\right)}{P_{2} R_{4D} \\alpha kg^{2} \\lambda_{1}^{2} \\pi} r_{hat}^{T} \\left(\\left(\\gamma_{v2} - 1\\right) V_{2 hat} V_{2 hat}^{T} + One\\right) r_{hat} \\left(\\frac{1}{2 P_{2} \\alpha \\lambda_{1} \\pi} \\left(- R_{0} R_{0 hat}^{T} + \\frac{R_{0} v_{1}}{c} V_{1 hat}^{T}\\right) \\left(\\left(\\gamma_{v2} - 1\\right) V_{2 hat} V_{2 hat}^{T} + One\\right) \\left(- R_{0} R_{0 hat} + \\frac{R_{0} v_{1}}{c} V_{1 hat}\\right)\\right)^{-2} \\left(\\frac{8 R_{0}^{2} \\pi^{2} v_{1}^{2}}{P_{1}^{2} c^{2} \\lambda_{1}^{2}} V_{1 hat}^{T} \\left(\\left(\\gamma_{v1} - 1\\right) V_{1 hat} V_{1 hat}^{T} + One^{T}\\right) V_{1 hat} r_{hat}^{T} \\left(\\left(\\gamma_{v1} - 1\\right) V_{1 hat} V_{1 hat}^{T} + One\\right) r_{hat}\\right)^{-1}$"
      ],
      "text/plain": [
       "(N**2*P2_hat*delta*m_0*(-c**2 + v1**2)/(P2*R_4D*alpha*kg**2*lambda1**2*pi))*r_hat.T*((gamma_v2 - 1)*V2_hat*V2_hat.T + One)*r_hat*((1/(2*P2*alpha*lambda1*pi))*((-R0)*R0_hat.T + (R0*v1/c)*V1_hat.T)*((gamma_v2 - 1)*V2_hat*V2_hat.T + One)*((-R0)*R0_hat + (R0*v1/c)*V1_hat))**(-2)*((8*R0**2*pi**2*v1**2/(P1**2*c**2*lambda1**2))*V1_hat.T*((gamma_v1 - 1)*V1_hat*V1_hat.T + One.T)*V1_hat*r_hat.T*((gamma_v1 - 1)*V1_hat*V1_hat.T + One)*r_hat)**(-1)"
      ]
     },
     "execution_count": 10,
     "metadata": {},
     "output_type": "execute_result"
    }
   ],
   "source": [
    "# Display results\n",
    "dr1dr = P2_hat\n",
    "x_result = Phi2_diff/Phi1_diff\n",
    "Force_G = m_0*c**2*(1-v1**2/c**2)*delta * x_result/lambda1/R_4D*(N/kg**2)\n",
    "Force_G = Force_G.subs(Q, 1/(2*pi*alpha))\n",
    "Force_G = Force_G.subs(x,0).simplify()*dr1dr\n",
    "Force_G"
   ]
  },
  {
   "cell_type": "code",
   "execution_count": 11,
   "id": "36f34235",
   "metadata": {},
   "outputs": [
    {
     "name": "stdout",
     "output_type": "stream",
     "text": [
      "(2*G0*P2_hat*(-c**2 + v1**2)/(P2*alpha**2*c**2*lambda1**4))*r_hat.T*(One + 0*V2_hat*V2_hat.T)*r_hat*((1/(2*P2*alpha*lambda1*pi))*((-R0)*R0_hat.T + (R0*v1/c)*V1_hat.T)*(One + 0*V2_hat*V2_hat.T)*((-R0)*R0_hat + (R0*v1/c)*V1_hat))**(-2)*((8*R0**2*pi**2*v1**2/(P1**2*c**2*lambda1**2))*V1_hat.T*((gamma_v1 - 1)*V1_hat*V1_hat.T + One.T)*V1_hat*r_hat.T*((gamma_v1 - 1)*V1_hat*V1_hat.T + One)*r_hat)**(-1)\n"
     ]
    }
   ],
   "source": [
    "Force_G = Force_G.subs(gamma_v2,1).subs(delta, G0*(2*pi*(kg**2)*R_4D)/(N**2*m_0*c**2*alpha*lambda1**2))\n",
    "Force_G = Force_G.simplify()\n",
    "print(Force_G)"
   ]
  },
  {
   "cell_type": "code",
   "execution_count": 12,
   "id": "c7f27523",
   "metadata": {},
   "outputs": [
    {
     "name": "stdout",
     "output_type": "stream",
     "text": [
      "\\frac{2 G_{0} P_{2 hat} \\left(- c^{2} + v_{1}^{2}\\right)}{P_{2} \\alpha^{2} c^{2} \\lambda_{1}^{4}} \\hat{r} \\left(One + 0 \\hat{V}_2 \\hat{V}_2\\right) \\hat{r} \\left(\\frac{1}{2 P_{2} \\alpha \\lambda_{1} \\pi} \\left(- R_{0} \\hat{R}_0 + \\frac{R_{0} v_{1}}{c} \\hat{V}_1\\right) \\left(One + 0 \\hat{V}_2 \\hat{V}_2\\right) \\left(- R_{0} \\hat{R}_0 + \\frac{R_{0} v_{1}}{c} \\hat{V}_1\\right)\\right)^{-2} \\left(\\frac{8 R_{0}^{2} \\pi^{2} v_{1}^{2}}{P_{1}^{2} c^{2} \\lambda_{1}^{2}} \\hat{V}_1 \\left(\\left(\\gamma_{v1} - 1\\right) \\hat{V}_1 \\hat{V}_1 + One\\right) \\hat{V}_1 \\hat{r} \\left(\\left(\\gamma_{v1} - 1\\right) \\hat{V}_1 \\hat{V}_1 + One\\right) \\hat{r}\\right)^{-1}\n"
     ]
    }
   ],
   "source": [
    "cleanForce(Force_G)"
   ]
  },
  {
   "cell_type": "code",
   "execution_count": 13,
   "id": "fd0305cd-461e-4827-bee2-17ea14e1f0a5",
   "metadata": {},
   "outputs": [
    {
     "data": {
      "text/latex": [
       "$81489.699 \\; \\mathrm{}$"
      ],
      "text/plain": [
       "<Quantity 81489.69936511>"
      ]
     },
     "execution_count": 13,
     "metadata": {},
     "output_type": "execute_result"
    }
   ],
   "source": [
    "from astropy import units as uu, constants as cc\n",
    "import numpy as np\n",
    "\n",
    "# NOTICE THAT I AM USING THE ACTUAL MASS OF A HYDROGEN ATOM HERE AS OPPOSED TO HALF-MASS AS I DID FOR THE \n",
    "# ELECTROMAGNETIC FUNDAMENTAL DILATOR\n",
    "\n",
    "m_H=cc.m_p+cc.m_e\n",
    "N_= (uu.kg/m_H).si\n",
    "# So 1kg_4D is equivalent to 5.9753831E26 Fundamental Dilators \n",
    "# or 5.9753831E26 electron charges or 95736192 Coulombs\n",
    "R_4D= (14.04E9*uu.lyr).si\n",
    "lambda_1 = (cc.h/m_H/cc.c).si\n",
    "lambda_1\n",
    "dt = lambda_1/cc.c\n",
    "G_HU =  (N_*cc.h*cc.c*cc.alpha*lambda_1/R_4D/(2 *np.pi))\n",
    "\n",
    "G_HU =(N_**2* cc.h*cc.c*cc.alpha*lambda_1)/(2*np.pi*R_4D*uu.kg**2) \n",
    "G_delta = cc.G/G_HU.si\n",
    "G_delta"
   ]
  },
  {
   "cell_type": "code",
   "execution_count": null,
   "id": "6c5b195e",
   "metadata": {},
   "outputs": [],
   "source": []
  },
  {
   "cell_type": "code",
   "execution_count": 14,
   "id": "89b40cea-1cca-4463-87bd-7733a3b00b2f",
   "metadata": {},
   "outputs": [],
   "source": [
    "latex_str = sp.latex(Force_G, mode='plain')\n",
    "# Write to a file\n",
    "with open('./Drawing_For_Publications/ForceG.tex', 'w') as file:\n",
    "    file.write(latex_str)"
   ]
  },
  {
   "cell_type": "code",
   "execution_count": 15,
   "id": "5d43a9fa-f272-4fcf-9ce5-8bb0280dd705",
   "metadata": {},
   "outputs": [],
   "source": [
    "# # Expand in Taylor series with respect to v1 and then v2\n",
    "# taylor_v1 = Force.series(v1, n=1).removeO()  # Expand to v1^2 and remove the Big O notation\n",
    "# final_taylor = taylor_v1.series(v2, n=1).removeO()  # Now expand to v2^2\n",
    "\n",
    "# # Simplify the expression (this step is optional but recommended for cleaner output)\n",
    "# final_taylor_simplified = sp.simplify(final_taylor)\n",
    "\n",
    "# # Display the final expanded Taylor series\n",
    "# print(final_taylor_simplified)\n"
   ]
  },
  {
   "cell_type": "markdown",
   "id": "2af0b786-e520-4c93-812b-9d63cea0f471",
   "metadata": {},
   "source": [
    "# NOTICE THAT I AM USING THE ACTUAL MASS OF A HYDROGEN ATOM HERE AS OPPOSED TO HALF-MASS AS I DID FOR THE ELECTROMAGNETIC FUNDAMENTAL DILATOR"
   ]
  },
  {
   "cell_type": "code",
   "execution_count": 16,
   "id": "d98882ea-7abd-42c5-8c5c-67fd5a286876",
   "metadata": {},
   "outputs": [
    {
     "data": {
      "text/latex": [
       "$\\displaystyle \\frac{N^{2} \\alpha c h \\lambda_{1}}{2 R_{0} \\pi}$"
      ],
      "text/plain": [
       "N**2*alpha*c*h*lambda1/(2*R0*pi)"
      ]
     },
     "execution_count": 16,
     "metadata": {},
     "output_type": "execute_result"
    }
   ],
   "source": [
    "m0_,  c, pi, alpha_, N_ ,R0_ ,lambda1_, h = sp.symbols(\"m0 c pi alpha N R0 lambda1 h\")\n",
    "G_HU_ =  (N_**2*h*c*alpha*lambda1_/R0_/(2 *pi))\n",
    "G_HU_"
   ]
  },
  {
   "cell_type": "markdown",
   "id": "ae865d86-c459-45fe-9d3e-bd136ea0253e",
   "metadata": {},
   "source": [
    "# Notice that for the Gravitational Fundamental Dilator, the 4D mass is 1 Hydrogen atom\n",
    "# Notice that for electromagnetism, the Fundamental Dilator has a 4D mass of HALF Hydrogen Atom"
   ]
  },
  {
   "cell_type": "markdown",
   "id": "73ec5718-40a3-4deb-b17c-9072c1351d5a",
   "metadata": {},
   "source": [
    "# Natural Frequency of Gravitational Waves is given by this simple model\n",
    "$$ F = mc^2 \\frac{dtan(\\alpha_0)}{dr}=mc^2 \\frac{\\frac{\\delta x}{R_0}}{\\lambda_1} = m (2 \\pi f)^2 x $$\n",
    "\n",
    "$$ f = \\frac{c}{2 \\pi} \\sqrt{ \\frac{\\delta}{\\lambda_1R_0}    } $$"
   ]
  },
  {
   "cell_type": "code",
   "execution_count": 17,
   "id": "e8bb7ac9-d027-408b-9d0a-c7ae8874c619",
   "metadata": {},
   "outputs": [
    {
     "data": {
      "text/latex": [
       "$32519.642 \\; \\mathrm{\\frac{1}{s}}$"
      ],
      "text/plain": [
       "<Quantity 32519.64249857 1 / s>"
      ]
     },
     "execution_count": 17,
     "metadata": {},
     "output_type": "execute_result"
    }
   ],
   "source": [
    "frequency = cc.c/(2*np.pi) *np.sqrt( G_delta/R_4D/lambda_1)\n",
    "frequency.si"
   ]
  },
  {
   "cell_type": "markdown",
   "id": "972e5326-558f-4fed-9596-0c241da7265f",
   "metadata": {},
   "source": [
    "# The Natural Frequency of Gravitational Waves is almost 32519.642 Hertz\n",
    "# Since the Q of Space is extremely high, the resonant excitation of Gravitational WaveS will require some precise mechanics"
   ]
  },
  {
   "cell_type": "code",
   "execution_count": 18,
   "id": "75baea4b-fb7c-43ff-88e6-4e36ff860192",
   "metadata": {},
   "outputs": [
    {
     "data": {
      "text/plain": [
       "(<Quantity 81489.69936511>, R0, <Quantity 1.32069058e-15 m>)"
      ]
     },
     "execution_count": 18,
     "metadata": {},
     "output_type": "execute_result"
    }
   ],
   "source": [
    " G_delta,  R0, lambda_1"
   ]
  },
  {
   "cell_type": "markdown",
   "id": "e2fba844-955a-4ecb-9790-a7061efff06a",
   "metadata": {},
   "source": [
    "# WHAT CAN ONE DO WITH GRAVITATIONAL WAVES?\n",
    "# ONE CAN MAKE A GRAVITATIONAL ACCELERATOR WHERE NEUTRAL MATTER IS ACCELERATED TO THE SPEED OF LIGHT INSTANTANEOUSLY\n",
    "# THIS IS HOW ONE CREATES A REAL WARP DRIVE"
   ]
  },
  {
   "cell_type": "markdown",
   "id": "32995618-1913-4894-827d-13a9b633592b",
   "metadata": {},
   "source": [
    "One of the most famous observations of neutron star orbits via gravitational waves is from the event GW170817. This event was the first-ever detection of gravitational waves from a binary neutron star merger, observed by LIGO and its sister observatory, Virgo, on August 17, 2017. \n",
    "\n",
    "During the final minutes before the merger, the neutron stars were orbiting each other at an incredibly high speed. To give you a sense of how fast they were orbiting, let's use the fact that the gravitational wave frequency is twice the orbital frequency of the binary system due to the quadrupole nature of gravitational radiation.\n",
    "\n",
    "At the point of the last observable orbit before merger, the gravitational wave frequency was about 1500 Hz. Therefore, the orbital frequency $ ( f_{\\text{orb}} ) $ of the neutron stars was approximately half of that, which is 750 Hz. This means the neutron stars were completing 750 orbits around each other every second just before they merged.\n",
    "\n",
    "Using the formula for the orbital frequency of two objects in a circular orbit:\n",
    "$$  f_{\\text{orb}} = \\frac{1}{2\\pi} \\sqrt{\\frac{G(M_1 + M_2)}{r^3}}  $$\n",
    "\n",
    "where \\( G \\) is the gravitational constant, \\( M_1 \\) and \\( M_2 \\) are the masses of the two neutron stars, and $ r $ is the distance between their centers, we could technically work backwards to find $ r $ if we knew the masses. However, it's simpler to state that, as they approached merger, their separation was just a few tens of kilometers, and they were moving at a significant fraction of the speed of light.\n",
    "\n",
    "To summarize, the neutron stars in the event GW170817 were orbiting each other at an orbital frequency of approximately 750 Hz, which means they were orbiting each other 750 times per second just before merging. This is an astonishingly rapid orbit, showcasing the extreme conditions under which these cosmic events occur."
   ]
  },
  {
   "cell_type": "markdown",
   "id": "e45572f9-e367-4a3c-91d3-a1b7bffda473",
   "metadata": {},
   "source": [
    "Yes, LIGO (Laser Interferometer Gravitational-Wave Observatory) and other gravitational wave detectors like Virgo have to contend with a wide range of noise sources that can affect their ability to detect gravitational waves. These noises come from various sources, including seismic activity, thermal vibrations, and human-made noise. Human-made or \"anthropogenic\" noise can include frequencies that are harmonics of electrical supply systems (like 60 Hz in the United States and 50 Hz in many other countries) and its multiples, which would include 240 Hz.\n",
    "\n",
    "LIGO's sensitivity to gravitational waves is highest in a band roughly between 10 Hz and a few kHz, which means it must be capable of distinguishing gravitational wave signals from noise across this range. To achieve this, LIGO uses a combination of physical isolation techniques for its mirrors and laser equipment, sophisticated vibration damping systems, and noise-cancellation techniques akin to noise-cancelling headphones, but much more advanced.\n",
    "\n",
    "Specific issues with noise at 240 Hz could arise from electronic equipment, including motors, transformers, and other devices that operate with frequencies that are harmonics of the main electrical supply frequency. LIGO scientists and engineers work continuously to identify the sources of such noise and mitigate them, either by physically removing or isolating the source, using active noise cancellation, or by filtering out these frequencies during data analysis.\n",
    "\n",
    "While I don't have specific instances where 240 Hz noise was highlighted as a problem for LIGO, it's reasonable to assume that any persistent, specific noise frequency within LIGO's sensitivity range would need to be addressed as part of their ongoing efforts to improve the observatory's sensitivity and reliability in detecting gravitational waves."
   ]
  },
  {
   "cell_type": "code",
   "execution_count": 19,
   "id": "a1b84395-114d-450a-9a79-7e808280c07d",
   "metadata": {},
   "outputs": [
    {
     "data": {
      "text/plain": [
       "(<Quantity 8.10236899e-37>, <Quantity 8.10236903e-37>)"
      ]
     },
     "execution_count": 19,
     "metadata": {},
     "output_type": "execute_result"
    }
   ],
   "source": [
    "from astropy import units as uu, constants as cc\n",
    "m_H = cc.m_e + cc.m_p\n",
    "lambda1 = (cc.h/(m_H*cc.c)).si\n",
    "R0_4D = (14.04E9*uu.lyr).si\n",
    "ratio = lambda1*81489.699/R0_4D # 1.62E-36\n",
    "# Ratio between Gravitational and EM Forces, considering that the 4D mass of EM Fundamental Dilator is 0.5 the mass of a hydrogen atom\n",
    "# The Hydrogen Atom is the Gravitational Fundamental Dilator\n",
    "ratio, (cc.G*m_H**2/(cc.e.si**2/(4*np.pi*cc.eps0))).si\n"
   ]
  },
  {
   "cell_type": "code",
   "execution_count": 20,
   "id": "4fc66de5-5815-4dfa-8653-356fa367c87f",
   "metadata": {},
   "outputs": [
    {
     "data": {
      "text/latex": [
       "$1.7822266 \\times 10^{69} \\; \\mathrm{}$"
      ],
      "text/plain": [
       "<Quantity 1.78222661e+69>"
      ]
     },
     "execution_count": 20,
     "metadata": {},
     "output_type": "execute_result"
    }
   ],
   "source": [
    "#Mass of Milky Way 1.5 trillion Solar Masses\n",
    "NumberOfDilators = (1.5E12*cc.M_sun)/m_H\n",
    "NumberOfDilators"
   ]
  },
  {
   "cell_type": "code",
   "execution_count": 21,
   "id": "684eab4c",
   "metadata": {},
   "outputs": [
    {
     "data": {
      "text/plain": [
       "(<Quantity 81489.69936511>, <Quantity 8.19036032e-16 m2 N / kg2>)"
      ]
     },
     "execution_count": 21,
     "metadata": {},
     "output_type": "execute_result"
    }
   ],
   "source": [
    "NN = (uu.kg/m_H).si\n",
    "G_HU = (m_H*cc.c**2*NN**2*cc.alpha*lambda1**2/(2*np.pi*R0_4D)/uu.kg**2).to(uu.N*uu.m**2/uu.kg**2)\n",
    "(cc.G/G_HU).si, G_HU"
   ]
  },
  {
   "cell_type": "code",
   "execution_count": null,
   "id": "629696b2-6f8a-48ea-b539-a764261ede4b",
   "metadata": {},
   "outputs": [],
   "source": []
  },
  {
   "cell_type": "code",
   "execution_count": null,
   "id": "90809d21-2142-4eae-a0d4-0655671455eb",
   "metadata": {},
   "outputs": [],
   "source": []
  },
  {
   "cell_type": "code",
   "execution_count": null,
   "id": "6817e82d-38fe-41b1-8e65-fe7fdbd44cf1",
   "metadata": {},
   "outputs": [],
   "source": []
  },
  {
   "cell_type": "code",
   "execution_count": null,
   "id": "1d1a58f6-1a8c-472e-b27a-82862362b2a1",
   "metadata": {},
   "outputs": [],
   "source": []
  },
  {
   "cell_type": "code",
   "execution_count": null,
   "id": "171f9fa1-df22-4b28-8343-5a0e630eacf8",
   "metadata": {},
   "outputs": [],
   "source": []
  }
 ],
 "metadata": {
  "kernelspec": {
   "display_name": "Python [conda env:HU_Galaxy_Package]",
   "language": "python",
   "name": "conda-env-HU_Galaxy_Package-py"
  },
  "language_info": {
   "codemirror_mode": {
    "name": "ipython",
    "version": 3
   },
   "file_extension": ".py",
   "mimetype": "text/x-python",
   "name": "python",
   "nbconvert_exporter": "python",
   "pygments_lexer": "ipython3",
   "version": "3.11.10"
  }
 },
 "nbformat": 4,
 "nbformat_minor": 5
}
