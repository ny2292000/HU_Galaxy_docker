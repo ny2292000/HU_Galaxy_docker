{
 "cells": [
  {
   "cell_type": "code",
   "execution_count": null,
   "id": "5735594d-2783-40ad-9e74-fbb62b8de99f",
   "metadata": {},
   "outputs": [],
   "source": [
    "import requests, os\n",
    "\n",
    "# URLs of the files to download\n",
    "urls = [\n",
    "    'https://irsa.ipac.caltech.edu/data/Planck/release_3/ancillary-data/cosmoparams/COM_PowerSpect_CMB-base-plikHM-TTTEEE-lowl-lowE-lensing-minimum-theory_R3.01.txt',\n",
    "    'https://irsa.ipac.caltech.edu/data/Planck/release_2/all-sky-maps/maps/component-maps/cmb/COM_CMB_IQU-smica_1024_R2.02_full.fits'\n",
    "]\n",
    "\n",
    "# Directory to which we want to save the files\n",
    "directory = './DataSupernovaLBLgov'\n",
    "\n",
    "# Creating the directory if it does not exist\n",
    "os.makedirs(directory, exist_ok=True)\n",
    "\n",
    "# Function to download and save a file\n",
    "def download_file(url, directory):\n",
    "    try:\n",
    "        local_filename = url.split('/')[-1]  # Extract the file name from the URL\n",
    "        local_filepath = os.path.join(directory, local_filename)  # Create a local file path\n",
    "        with requests.get(url, stream=True) as r:  # Stream the download to reduce memory usage\n",
    "            r.raise_for_status()\n",
    "            with open(local_filepath, 'wb') as f:\n",
    "                for chunk in r.iter_content(chunk_size=8192):  # Download the file in chunks\n",
    "                    f.write(chunk)\n",
    "        return local_filepath  # Return the path to the downloaded file\n",
    "    except Exception as e:\n",
    "        return str(e)  # Return the error message\n",
    "\n",
    "# Download the files\n",
    "downloaded_files = [download_file(url, directory) for url in urls]\n",
    "downloaded_files\n"
   ]
  },
  {
   "cell_type": "code",
   "execution_count": null,
   "id": "0d42d044-017a-4e8a-82c2-408a4ab641eb",
   "metadata": {},
   "outputs": [],
   "source": []
  }
 ],
 "metadata": {
  "kernelspec": {
   "display_name": "Python 3 (ipykernel)",
   "language": "python",
   "name": "python3"
  },
  "language_info": {
   "codemirror_mode": {
    "name": "ipython",
    "version": 3
   },
   "file_extension": ".py",
   "mimetype": "text/x-python",
   "name": "python",
   "nbconvert_exporter": "python",
   "pygments_lexer": "ipython3",
   "version": "3.11.5"
  }
 },
 "nbformat": 4,
 "nbformat_minor": 5
}
