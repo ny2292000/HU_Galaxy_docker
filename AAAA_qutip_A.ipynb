{
 "cells": [
  {
   "cell_type": "code",
   "execution_count": null,
   "metadata": {},
   "outputs": [],
   "source": [
    "# https://github.com/qutip/qutip-cupy\n",
    "\n",
    "import qutip \n",
    "import qutip_cupy\n",
    "\n",
    "qobj = qutip.Qobj([0, 1], type=\"cupyd\")\n",
    "qobj.data"
   ]
  },
  {
   "cell_type": "code",
   "execution_count": null,
   "metadata": {},
   "outputs": [],
   "source": [
    "import numpy as np \n",
    "theta = (1/2)*np.pi\n",
    "\n",
    "U = qutip.Qobj([[np.cos(theta), 1.j*np.sin(theta)],[-1.j*np.sin(theta),np.cos(theta) ]]).to('cupyd')\n",
    "\n",
    "qobj_end = U @ qobj\n",
    "\n",
    "qobj_end.data"
   ]
  },
  {
   "cell_type": "code",
   "execution_count": null,
   "metadata": {},
   "outputs": [],
   "source": [
    "overlap = qobj_end.overlap(qobj)\n",
    "np.linalg.norm(overlap)**2"
   ]
  },
  {
   "cell_type": "code",
   "execution_count": null,
   "metadata": {},
   "outputs": [],
   "source": [
    "# Visualization of quantum spin states and state vectors\n",
    "# https://qutip.org/docs/latest/guide/guide-visualization.html\n",
    "import numpy as np\n",
    "from qutip import *\n",
    "import matplotlib.pyplot as plt"
   ]
  },
  {
   "cell_type": "code",
   "execution_count": null,
   "metadata": {},
   "outputs": [],
   "source": [
    "print(Qobj())"
   ]
  },
  {
   "cell_type": "code",
   "execution_count": null,
   "metadata": {},
   "outputs": [],
   "source": [
    "print(Qobj([[1],[2],[3],[4],[5]]))"
   ]
  },
  {
   "cell_type": "code",
   "execution_count": null,
   "metadata": {},
   "outputs": [],
   "source": [
    "x = np.array([[1, 2, 3, 4, 5]])\n",
    "print(Qobj(x))"
   ]
  },
  {
   "cell_type": "code",
   "execution_count": null,
   "metadata": {},
   "outputs": [],
   "source": [
    "r = np.random.rand(4, 4)\n",
    "print(Qobj(r))"
   ]
  },
  {
   "cell_type": "code",
   "execution_count": null,
   "metadata": {},
   "outputs": [],
   "source": [
    "print(sigmax(),sigmay(),sigmaz(),sigmap(), sigmam())"
   ]
  },
  {
   "cell_type": "code",
   "execution_count": null,
   "metadata": {},
   "outputs": [],
   "source": [
    "sigmax()*sigmay()+ sigmay()*sigmax() "
   ]
  },
  {
   "cell_type": "code",
   "execution_count": null,
   "metadata": {},
   "outputs": [],
   "source": [
    "basis(5,3)"
   ]
  },
  {
   "cell_type": "code",
   "execution_count": null,
   "metadata": {},
   "outputs": [],
   "source": [
    "coherent(5,0.5-0.5j)"
   ]
  },
  {
   "cell_type": "code",
   "execution_count": null,
   "metadata": {},
   "outputs": [],
   "source": [
    "destroy(4)"
   ]
  },
  {
   "cell_type": "code",
   "execution_count": null,
   "metadata": {},
   "outputs": [],
   "source": [
    "jmat(5/2.0,'+')"
   ]
  },
  {
   "cell_type": "code",
   "execution_count": null,
   "metadata": {},
   "outputs": [],
   "source": [
    "q = destroy(4)\n",
    "q.dims, q.shape"
   ]
  },
  {
   "cell_type": "code",
   "execution_count": null,
   "metadata": {},
   "outputs": [],
   "source": [
    "q.type, q.isherm, q.data"
   ]
  },
  {
   "cell_type": "code",
   "execution_count": null,
   "metadata": {},
   "outputs": [],
   "source": [
    "q = destroy(4)\n",
    "print(q + 5)\n"
   ]
  },
  {
   "cell_type": "code",
   "execution_count": null,
   "metadata": {},
   "outputs": [],
   "source": [
    "x = sigmax()\n",
    "print(x*x)"
   ]
  },
  {
   "cell_type": "code",
   "execution_count": null,
   "metadata": {},
   "outputs": [],
   "source": [
    "q**3"
   ]
  },
  {
   "cell_type": "code",
   "execution_count": null,
   "metadata": {},
   "outputs": [],
   "source": [
    "x / np.sqrt(2)"
   ]
  },
  {
   "cell_type": "code",
   "execution_count": null,
   "metadata": {},
   "outputs": [],
   "source": [
    "basis(5, 3)"
   ]
  },
  {
   "cell_type": "code",
   "execution_count": null,
   "metadata": {},
   "outputs": [],
   "source": [
    "basis(5,3).dag()"
   ]
  },
  {
   "cell_type": "code",
   "execution_count": null,
   "metadata": {},
   "outputs": [],
   "source": [
    "basis(5, 3)* basis(5, 3).dag()"
   ]
  },
  {
   "cell_type": "code",
   "execution_count": null,
   "metadata": {},
   "outputs": [],
   "source": [
    "coherent_dm(5, 1)"
   ]
  },
  {
   "cell_type": "code",
   "execution_count": null,
   "metadata": {},
   "outputs": [],
   "source": [
    "coherent_dm(5, 1).diag()"
   ]
  },
  {
   "cell_type": "code",
   "execution_count": null,
   "metadata": {},
   "outputs": [],
   "source": [
    "coherent_dm(5, 1).full()"
   ]
  },
  {
   "cell_type": "code",
   "execution_count": null,
   "metadata": {},
   "outputs": [],
   "source": [
    "coherent_dm(5, 1).norm()"
   ]
  },
  {
   "cell_type": "code",
   "execution_count": null,
   "metadata": {},
   "outputs": [],
   "source": [
    "coherent_dm(5, 1).sqrtm()"
   ]
  },
  {
   "cell_type": "code",
   "execution_count": null,
   "metadata": {},
   "outputs": [],
   "source": []
  },
  {
   "cell_type": "code",
   "execution_count": null,
   "metadata": {},
   "outputs": [],
   "source": []
  },
  {
   "cell_type": "code",
   "execution_count": null,
   "metadata": {},
   "outputs": [],
   "source": [
    "coherent_dm(5, 1).tr()"
   ]
  },
  {
   "cell_type": "code",
   "execution_count": null,
   "metadata": {},
   "outputs": [],
   "source": [
    "(basis(4, 2) + basis(4, 1)).unit()"
   ]
  },
  {
   "cell_type": "code",
   "execution_count": null,
   "metadata": {},
   "outputs": [],
   "source": [
    "vac = basis(5, 0)\n",
    "\n",
    "print(vac)"
   ]
  },
  {
   "cell_type": "code",
   "execution_count": null,
   "metadata": {},
   "outputs": [],
   "source": [
    "a = destroy(5)\n",
    "\n",
    "print(a)"
   ]
  },
  {
   "cell_type": "code",
   "execution_count": null,
   "metadata": {},
   "outputs": [],
   "source": [
    "print(a * vac)"
   ]
  },
  {
   "cell_type": "code",
   "execution_count": null,
   "metadata": {},
   "outputs": [],
   "source": [
    "print(a.dag() * vac)"
   ]
  },
  {
   "cell_type": "code",
   "execution_count": null,
   "metadata": {},
   "outputs": [],
   "source": [
    "c = create(5)\n",
    "\n",
    "print(c * vac)"
   ]
  },
  {
   "cell_type": "code",
   "execution_count": null,
   "metadata": {},
   "outputs": [],
   "source": [
    "print(c * c * vac)"
   ]
  },
  {
   "cell_type": "code",
   "execution_count": null,
   "metadata": {},
   "outputs": [],
   "source": [
    "print(c*a* vac)"
   ]
  },
  {
   "cell_type": "code",
   "execution_count": null,
   "metadata": {},
   "outputs": [],
   "source": [
    "print(c * a * (c * vac))"
   ]
  },
  {
   "cell_type": "code",
   "execution_count": null,
   "metadata": {},
   "outputs": [],
   "source": [
    "print(c * a * (c**2 * vac))"
   ]
  },
  {
   "cell_type": "code",
   "execution_count": null,
   "metadata": {},
   "outputs": [],
   "source": [
    "print(c * a * (c**4 * vac).unit())"
   ]
  },
  {
   "cell_type": "code",
   "execution_count": null,
   "metadata": {},
   "outputs": [],
   "source": [
    "ket = basis(5, 2)\n",
    "\n",
    "print(ket)"
   ]
  },
  {
   "cell_type": "code",
   "execution_count": null,
   "metadata": {},
   "outputs": [],
   "source": [
    "n = num(5)\n",
    "\n",
    "print(n)"
   ]
  },
  {
   "cell_type": "code",
   "execution_count": null,
   "metadata": {},
   "outputs": [],
   "source": [
    "print(n * ket)"
   ]
  },
  {
   "cell_type": "code",
   "execution_count": null,
   "metadata": {},
   "outputs": [],
   "source": [
    "ket = (basis(5, 0) + basis(5, 1)).unit()\n",
    "\n",
    "print(ket)"
   ]
  },
  {
   "cell_type": "code",
   "execution_count": null,
   "metadata": {},
   "outputs": [],
   "source": [
    "print(n * ket)"
   ]
  },
  {
   "cell_type": "code",
   "execution_count": null,
   "metadata": {},
   "outputs": [],
   "source": [
    "vac = basis(5, 0)\n",
    "\n",
    "d = displace(5, 1j)\n",
    "\n",
    "s = squeeze(5, complex(0.25, 0.25))\n",
    "\n",
    "print(d * vac)"
   ]
  },
  {
   "cell_type": "code",
   "execution_count": null,
   "metadata": {},
   "outputs": [],
   "source": [
    "print(d * s * vac)"
   ]
  },
  {
   "cell_type": "code",
   "execution_count": null,
   "metadata": {},
   "outputs": [],
   "source": [
    "ket = basis(5, 2)\n",
    "\n",
    "print(ket * ket.dag())"
   ]
  },
  {
   "cell_type": "code",
   "execution_count": null,
   "metadata": {},
   "outputs": [],
   "source": [
    "print(fock_dm(5, 2))"
   ]
  },
  {
   "cell_type": "code",
   "execution_count": null,
   "metadata": {},
   "outputs": [],
   "source": [
    "print(ket2dm(ket))"
   ]
  },
  {
   "cell_type": "code",
   "execution_count": null,
   "metadata": {},
   "outputs": [],
   "source": [
    "print(0.5 * ket2dm(basis(5, 4)) + 0.5 * ket2dm(basis(5, 2)))"
   ]
  },
  {
   "cell_type": "code",
   "execution_count": null,
   "metadata": {},
   "outputs": [],
   "source": [
    "print(coherent_dm(5, 1.25))"
   ]
  },
  {
   "cell_type": "code",
   "execution_count": null,
   "metadata": {},
   "outputs": [],
   "source": [
    "print(thermal_dm(5, 1.25))"
   ]
  },
  {
   "cell_type": "code",
   "execution_count": null,
   "metadata": {},
   "outputs": [],
   "source": [
    "x = coherent_dm(5, 1.25)\n",
    "\n",
    "y = coherent_dm(5, complex(0, 1.25))  # <-- note the 'j'\n",
    "\n",
    "z = thermal_dm(5, 0.125)\n",
    "\n",
    "np.testing.assert_almost_equal(fidelity(x, x), 1)\n",
    "\n",
    "np.testing.assert_almost_equal(hellinger_dist(x, y), 1.3819080728932833)"
   ]
  },
  {
   "cell_type": "code",
   "execution_count": null,
   "metadata": {},
   "outputs": [],
   "source": [
    "np.testing.assert_almost_equal(tracedist(y, x), np.sqrt(1 - fidelity(y, x) ** 2))"
   ]
  },
  {
   "cell_type": "code",
   "execution_count": null,
   "metadata": {},
   "outputs": [],
   "source": [
    "spin = basis(2, 0)"
   ]
  },
  {
   "cell_type": "code",
   "execution_count": null,
   "metadata": {},
   "outputs": [],
   "source": [
    "vac = basis(2, 0)"
   ]
  },
  {
   "cell_type": "code",
   "execution_count": null,
   "metadata": {},
   "outputs": [],
   "source": [
    "spin"
   ]
  },
  {
   "cell_type": "code",
   "execution_count": null,
   "metadata": {},
   "outputs": [],
   "source": [
    "vac"
   ]
  },
  {
   "cell_type": "code",
   "execution_count": null,
   "metadata": {},
   "outputs": [],
   "source": [
    "print(sigmap() * spin)"
   ]
  },
  {
   "cell_type": "code",
   "execution_count": null,
   "metadata": {},
   "outputs": [],
   "source": [
    "print(sigmaz())"
   ]
  },
  {
   "cell_type": "code",
   "execution_count": null,
   "metadata": {},
   "outputs": [],
   "source": [
    "spin2 = basis(2, 1)\n",
    "\n",
    "print(spin2)"
   ]
  },
  {
   "cell_type": "code",
   "execution_count": null,
   "metadata": {},
   "outputs": [],
   "source": [
    "print(sigmaz() * spin2)"
   ]
  },
  {
   "cell_type": "code",
   "execution_count": null,
   "metadata": {},
   "outputs": [],
   "source": [
    "vac = basis(5, 0)\n",
    "\n",
    "one = basis(5, 1)\n",
    "\n",
    "c = create(5)\n",
    "\n",
    "N = num(5)\n",
    "\n",
    "np.testing.assert_almost_equal(expect(N, vac), 0)\n",
    "\n",
    "np.testing.assert_almost_equal(expect(N, one), 1)\n",
    "\n",
    "coh = coherent_dm(5, 1.0j)\n",
    "\n",
    "np.testing.assert_almost_equal(expect(N, coh), 0.9970555745806597)\n",
    "\n",
    "cat = (basis(5, 4) + 1.0j * basis(5, 3)).unit()\n",
    "\n",
    "np.testing.assert_almost_equal(expect(c, cat), 0.9999999999999998j)"
   ]
  },
  {
   "cell_type": "code",
   "execution_count": null,
   "metadata": {},
   "outputs": [],
   "source": [
    "states = [(c**k * vac).unit() for k in range(5)]  # must normalize\n",
    "\n",
    "print(expect(N, states))\n"
   ]
  },
  {
   "cell_type": "code",
   "execution_count": null,
   "metadata": {},
   "outputs": [],
   "source": [
    "cat_list = [(basis(5, 4) + x * basis(5, 3)).unit() for x in [0, 1.0j, -1.0, -1.0j]]\n",
    "\n",
    "print(expect(c, cat_list))"
   ]
  },
  {
   "cell_type": "code",
   "execution_count": null,
   "metadata": {},
   "outputs": [],
   "source": [
    "up = basis(2, 0)\n",
    "\n",
    "down = basis(2, 1)\n",
    "\n",
    "np.testing.assert_almost_equal(expect(sigmaz(), up), 1)\n",
    "\n",
    "np.testing.assert_almost_equal(expect(sigmaz(), down), -1)"
   ]
  },
  {
   "cell_type": "code",
   "execution_count": null,
   "metadata": {},
   "outputs": [],
   "source": [
    "spin1 = basis(2, 0)\n",
    "\n",
    "spin2 = basis(2, 1)\n",
    "\n",
    "two_spins = tensor(spin1, spin2)\n",
    "\n",
    "sz1 = tensor(sigmaz(), qeye(2))\n",
    "\n",
    "sz2 = tensor(qeye(2), sigmaz())\n",
    "\n",
    "np.testing.assert_almost_equal(expect(sz1, two_spins), 1)\n",
    "\n",
    "np.testing.assert_almost_equal(expect(sz2, two_spins), -1)"
   ]
  },
  {
   "cell_type": "code",
   "execution_count": null,
   "metadata": {},
   "outputs": [],
   "source": [
    "psi = basis(2, 0)\n",
    "\n",
    "rho = ket2dm(psi)\n",
    "\n",
    "print(rho)"
   ]
  },
  {
   "cell_type": "code",
   "execution_count": null,
   "metadata": {},
   "outputs": [],
   "source": [
    "psi = basis(2, 1)\n",
    "\n",
    "rho = ket2dm(psi)\n",
    "\n",
    "print(rho)"
   ]
  },
  {
   "cell_type": "code",
   "execution_count": null,
   "metadata": {},
   "outputs": [],
   "source": [
    "vec_rho = operator_to_vector(rho)\n",
    "\n",
    "print(vec_rho)"
   ]
  },
  {
   "cell_type": "code",
   "execution_count": null,
   "metadata": {},
   "outputs": [],
   "source": [
    "rho2 = vector_to_operator(vec_rho)\n",
    "\n",
    "np.testing.assert_almost_equal((rho - rho2).norm(), 0)"
   ]
  },
  {
   "cell_type": "code",
   "execution_count": null,
   "metadata": {},
   "outputs": [],
   "source": [
    "A = Qobj(np.arange(4).reshape((2, 2)))\n",
    "\n",
    "print(A)"
   ]
  },
  {
   "cell_type": "code",
   "execution_count": null,
   "metadata": {},
   "outputs": [],
   "source": [
    "print(operator_to_vector(A))"
   ]
  },
  {
   "cell_type": "code",
   "execution_count": null,
   "metadata": {},
   "outputs": [],
   "source": [
    "X = sigmax()\n",
    "\n",
    "S = spre(X) * spost(X.dag()) # Represents conjugation by X."
   ]
  },
  {
   "cell_type": "code",
   "execution_count": null,
   "metadata": {},
   "outputs": [],
   "source": [
    "S2 = to_super(X)\n",
    "\n",
    "np.testing.assert_almost_equal((S - S2).norm(), 0)"
   ]
  },
  {
   "cell_type": "code",
   "execution_count": null,
   "metadata": {},
   "outputs": [],
   "source": [
    "print(S)"
   ]
  },
  {
   "cell_type": "code",
   "execution_count": null,
   "metadata": {},
   "outputs": [],
   "source": [
    "print(S.iscp, S.istp, S.iscptp)"
   ]
  },
  {
   "cell_type": "code",
   "execution_count": null,
   "metadata": {},
   "outputs": [],
   "source": [
    "H = 10 * sigmaz()\n",
    "\n",
    "c1 = destroy(2)\n",
    "\n",
    "L = liouvillian(H, [c1])\n",
    "\n",
    "print(L)\n",
    "\n",
    "S = (12 * L).expm()"
   ]
  },
  {
   "cell_type": "code",
   "execution_count": null,
   "metadata": {},
   "outputs": [],
   "source": [
    "settings.colorblind_safe = True\n",
    "\n",
    "plt.rcParams['savefig.transparent'] = True\n",
    "\n",
    "X = sigmax()\n",
    "S = spre(X) * spost(X.dag())\n",
    "\n",
    "hinton(S)"
   ]
  },
  {
   "cell_type": "code",
   "execution_count": null,
   "metadata": {},
   "outputs": [],
   "source": [
    "X = sigmax()\n",
    "\n",
    "S = sprepost(X, X)\n",
    "\n",
    "J = to_choi(S)\n",
    "\n",
    "print(J)"
   ]
  },
  {
   "cell_type": "code",
   "execution_count": null,
   "metadata": {},
   "outputs": [],
   "source": [
    "print(to_choi(spre(qeye(2))))"
   ]
  },
  {
   "cell_type": "code",
   "execution_count": null,
   "metadata": {},
   "outputs": [],
   "source": [
    "print(spre(qeye(2)))"
   ]
  },
  {
   "cell_type": "code",
   "execution_count": null,
   "metadata": {},
   "outputs": [],
   "source": [
    "print(to_choi(J))"
   ]
  },
  {
   "cell_type": "code",
   "execution_count": null,
   "metadata": {},
   "outputs": [],
   "source": [
    "print(to_super(J) - S)"
   ]
  },
  {
   "cell_type": "code",
   "execution_count": null,
   "metadata": {},
   "outputs": [],
   "source": [
    "print(to_super(S))"
   ]
  },
  {
   "cell_type": "code",
   "execution_count": null,
   "metadata": {},
   "outputs": [],
   "source": [
    "# del np.sum # np.sum overwrote sum and caused a bug."
   ]
  },
  {
   "cell_type": "code",
   "execution_count": null,
   "metadata": {},
   "outputs": [],
   "source": [
    "I, X, Y, Z = qeye(2), sigmax(), sigmay(), sigmaz()"
   ]
  },
  {
   "cell_type": "code",
   "execution_count": null,
   "metadata": {},
   "outputs": [],
   "source": [
    "S = sum([sprepost(P, P) for P in (I, X, Y, Z)]) / 4\n",
    "print(S)"
   ]
  },
  {
   "cell_type": "code",
   "execution_count": null,
   "metadata": {},
   "outputs": [],
   "source": [
    "J = to_choi(S)\n",
    "print(J)\n",
    "\n"
   ]
  },
  {
   "cell_type": "code",
   "execution_count": null,
   "metadata": {},
   "outputs": [],
   "source": [
    "N=10\n",
    "a = tensor (destroy(N), qeye(2))\n",
    "sz = tensor(qeye(N), sigmaz())\n",
    "s = tensor (qeye(N), destroy(2))\n",
    "wc= wq= 1.0 * 2 * np.pi\n",
    "g = 0.5 * 2 * np.pi\n",
    "H = wc*a.dag()*a - 0.5 * wq + sz + 0.5 * g * (a*s.dag()+ a.dag()*s)\n",
    "psi0 = tensor(basis(N,0),basis(2,0))\n",
    "tlist = np.linspace(0,10,100)\n",
    "out = mesolve(H,  psi0, tlist, [], [a.dag()*a])\n",
    "plt.plot(tlist, out.expect[0])\n",
    "plt.show()"
   ]
  },
  {
   "cell_type": "code",
   "execution_count": null,
   "metadata": {},
   "outputs": [],
   "source": [
    "out.expect"
   ]
  },
  {
   "cell_type": "code",
   "execution_count": null,
   "metadata": {},
   "outputs": [],
   "source": []
  },
  {
   "cell_type": "code",
   "execution_count": null,
   "metadata": {},
   "outputs": [],
   "source": []
  },
  {
   "cell_type": "code",
   "execution_count": null,
   "metadata": {},
   "outputs": [],
   "source": []
  },
  {
   "cell_type": "code",
   "execution_count": null,
   "metadata": {},
   "outputs": [],
   "source": []
  },
  {
   "cell_type": "code",
   "execution_count": null,
   "metadata": {},
   "outputs": [],
   "source": []
  },
  {
   "cell_type": "code",
   "execution_count": null,
   "metadata": {},
   "outputs": [],
   "source": []
  },
  {
   "cell_type": "code",
   "execution_count": null,
   "metadata": {},
   "outputs": [],
   "source": [
    "N = 20\n",
    "\n",
    "rho_coherent = coherent_dm(N, np.sqrt(2))\n",
    "\n",
    "rho_thermal = thermal_dm(N, 2)\n",
    "\n",
    "rho_fock = fock_dm(N, 2)\n",
    "\n",
    "fig, axes = plt.subplots(1, 3, figsize=(12,3))\n",
    "\n",
    "bar0 = axes[0].bar(np.arange(0, N)-.5, rho_coherent.diag())\n",
    "\n",
    "lbl0 = axes[0].set_title(\"Coherent state\")\n",
    "\n",
    "lim0 = axes[0].set_xlim([-.5, N])\n",
    "\n",
    "bar1 = axes[1].bar(np.arange(0, N)-.5, rho_thermal.diag())\n",
    "\n",
    "lbl1 = axes[1].set_title(\"Thermal state\")\n",
    "\n",
    "lim1 = axes[1].set_xlim([-.5, N])\n",
    "\n",
    "bar2 = axes[2].bar(np.arange(0, N)-.5, rho_fock.diag())\n",
    "\n",
    "lbl2 = axes[2].set_title(\"Fock state\")\n",
    "\n",
    "lim2 = axes[2].set_xlim([-.5, N])\n",
    "\n",
    "plt.show()"
   ]
  },
  {
   "cell_type": "code",
   "execution_count": null,
   "metadata": {},
   "outputs": [],
   "source": [
    "\n",
    "N = 20\n",
    "\n",
    "rho_coherent = coherent_dm(N, np.sqrt(2))\n",
    "\n",
    "rho_thermal = thermal_dm(N, 2)\n",
    "\n",
    "rho_fock = fock_dm(N, 2)"
   ]
  },
  {
   "cell_type": "code",
   "execution_count": null,
   "metadata": {},
   "outputs": [],
   "source": [
    "fig, axes = plt.subplots(1, 3, figsize=(12,3))\n",
    "\n",
    "plot_fock_distribution(rho_coherent, fig=fig, ax=axes[0], title=\"Coherent state\");\n",
    "\n",
    "plot_fock_distribution(rho_thermal, fig=fig, ax=axes[1], title=\"Thermal state\");\n",
    "\n",
    "plot_fock_distribution(rho_fock, fig=fig, ax=axes[2], title=\"Fock state\");\n",
    "\n",
    "fig.tight_layout()\n",
    "\n",
    "plt.show()"
   ]
  },
  {
   "cell_type": "code",
   "execution_count": null,
   "metadata": {},
   "outputs": [],
   "source": [
    "xvec = np.linspace(-5,5,200)\n",
    "\n",
    "W_coherent = wigner(rho_coherent, xvec, xvec)\n",
    "\n",
    "W_thermal = wigner(rho_thermal, xvec, xvec)\n",
    "\n",
    "W_fock = wigner(rho_fock, xvec, xvec)\n",
    "\n",
    "# plot the results\n",
    "\n",
    "fig, axes = plt.subplots(1, 3, figsize=(12,3))\n",
    "\n",
    "cont0 = axes[0].contourf(xvec, xvec, W_coherent, 100)\n",
    "\n",
    "lbl0 = axes[0].set_title(\"Coherent state\")\n",
    "\n",
    "cont1 = axes[1].contourf(xvec, xvec, W_thermal, 100)\n",
    "\n",
    "lbl1 = axes[1].set_title(\"Thermal state\")\n",
    "\n",
    "cont0 = axes[2].contourf(xvec, xvec, W_fock, 100)\n",
    "\n",
    "lbl2 = axes[2].set_title(\"Fock state\")\n",
    "\n",
    "plt.show()"
   ]
  },
  {
   "cell_type": "code",
   "execution_count": null,
   "metadata": {},
   "outputs": [],
   "source": [
    "import matplotlib as mpl\n",
    "\n",
    "from matplotlib import cm\n",
    "\n",
    "psi = (basis(10, 0) + basis(10, 3) + basis(10, 9)).unit()\n",
    "\n",
    "xvec = np.linspace(-5, 5, 500)\n",
    "\n",
    "W = wigner(psi, xvec, xvec)\n",
    "\n",
    "wmap = wigner_cmap(W)  # Generate Wigner colormap\n",
    "\n",
    "nrm = mpl.colors.Normalize(-W.max(), W.max())\n",
    "\n",
    "fig, axes = plt.subplots(1, 2, figsize=(10, 4))\n",
    "\n",
    "plt1 = axes[0].contourf(xvec, xvec, W, 100, cmap=cm.RdBu, norm=nrm)\n",
    "\n",
    "axes[0].set_title(\"Standard Colormap\");\n",
    "\n",
    "cb1 = fig.colorbar(plt1, ax=axes[0])\n",
    "\n",
    "plt2 = axes[1].contourf(xvec, xvec, W, 100, cmap=wmap)  # Apply Wigner colormap\n",
    "\n",
    "axes[1].set_title(\"Wigner Colormap\");\n",
    "\n",
    "cb2 = fig.colorbar(plt2, ax=axes[1])\n",
    "\n",
    "fig.tight_layout()\n",
    "\n",
    "plt.show()"
   ]
  },
  {
   "cell_type": "code",
   "execution_count": null,
   "metadata": {},
   "outputs": [],
   "source": [
    "Q_coherent = qfunc(rho_coherent, xvec, xvec)\n",
    "\n",
    "Q_thermal = qfunc(rho_thermal, xvec, xvec)\n",
    "\n",
    "Q_fock = qfunc(rho_fock, xvec, xvec)\n",
    "\n",
    "fig, axes = plt.subplots(1, 3, figsize=(12,3))\n",
    "\n",
    "cont0 = axes[0].contourf(xvec, xvec, Q_coherent, 100)\n",
    "\n",
    "lbl0 = axes[0].set_title(\"Coherent state\")\n",
    "\n",
    "cont1 = axes[1].contourf(xvec, xvec, Q_thermal, 100)\n",
    "\n",
    "lbl1 = axes[1].set_title(\"Thermal state\")\n",
    "\n",
    "cont0 = axes[2].contourf(xvec, xvec, Q_fock, 100)\n",
    "\n",
    "lbl2 = axes[2].set_title(\"Fock state\")\n",
    "\n",
    "plt.show()\n"
   ]
  },
  {
   "cell_type": "code",
   "execution_count": null,
   "metadata": {},
   "outputs": [],
   "source": [
    "N = 5\n",
    "\n",
    "a = tensor(destroy(N), qeye(2))\n",
    "\n",
    "b = tensor(qeye(N), destroy(2))\n",
    "\n",
    "sx = tensor(qeye(N), sigmax())\n",
    "\n",
    "H = a.dag() * a + sx - 0.5 * (a * b.dag() + a.dag() * b)\n",
    "\n",
    "# visualize H\n",
    "\n",
    "lbls_list = [[str(d) for d in range(N)], [\"u\", \"d\"]]\n",
    "\n",
    "xlabels = []\n",
    "\n",
    "for inds in tomography._index_permutations([len(lbls) for lbls in lbls_list]):\n",
    "   xlabels.append(\"\".join([lbls_list[k][inds[k]] for k in range(len(lbls_list))]))\n",
    "\n",
    "fig, ax = matrix_histogram(H, xlabels, xlabels, limits=[-4,4])\n",
    "\n",
    "ax.view_init(azim=-55, elev=45)\n",
    "\n",
    "plt.show()"
   ]
  },
  {
   "cell_type": "code",
   "execution_count": null,
   "metadata": {},
   "outputs": [],
   "source": [
    "rho_ss = steadystate(H, [np.sqrt(0.1) * a, np.sqrt(0.4) * b.dag()])\n",
    "\n",
    "hinton(rho_ss)\n",
    "\n",
    "plt.show()"
   ]
  },
  {
   "cell_type": "code",
   "execution_count": null,
   "metadata": {},
   "outputs": [],
   "source": [
    "from qutip.qip.operations import iswap\n",
    "\n",
    "U_psi = iswap()"
   ]
  },
  {
   "cell_type": "code",
   "execution_count": null,
   "metadata": {},
   "outputs": [],
   "source": [
    "U_rho = spre(U_psi) * spost(U_psi.dag())"
   ]
  },
  {
   "cell_type": "code",
   "execution_count": null,
   "metadata": {},
   "outputs": [],
   "source": [
    "op_basis = [[qeye(2), sigmax(), sigmay(), sigmaz()]] * 2\n",
    "op_label = [[\"i\", \"x\", \"y\", \"z\"]] * 2"
   ]
  },
  {
   "cell_type": "code",
   "execution_count": null,
   "metadata": {},
   "outputs": [],
   "source": [
    "chi = qpt(U_rho, op_basis)\n",
    "\n",
    "fig = qpt_plot_combined(chi, op_label, r'$i$SWAP')\n",
    "\n",
    "plt.show()"
   ]
  },
  {
   "cell_type": "code",
   "execution_count": null,
   "metadata": {},
   "outputs": [],
   "source": []
  },
  {
   "cell_type": "code",
   "execution_count": null,
   "metadata": {},
   "outputs": [],
   "source": []
  },
  {
   "cell_type": "code",
   "execution_count": null,
   "metadata": {},
   "outputs": [],
   "source": []
  },
  {
   "cell_type": "code",
   "execution_count": null,
   "metadata": {},
   "outputs": [],
   "source": []
  },
  {
   "cell_type": "code",
   "execution_count": null,
   "metadata": {},
   "outputs": [],
   "source": []
  },
  {
   "cell_type": "code",
   "execution_count": null,
   "metadata": {},
   "outputs": [],
   "source": []
  },
  {
   "cell_type": "code",
   "execution_count": null,
   "metadata": {},
   "outputs": [],
   "source": []
  }
 ],
 "metadata": {
  "anaconda-cloud": {},
  "kernelspec": {
   "display_name": "Python 3 (ipykernel)",
   "language": "python",
   "name": "python3"
  },
  "language_info": {
   "codemirror_mode": {
    "name": "ipython",
    "version": 3
   },
   "file_extension": ".py",
   "mimetype": "text/x-python",
   "name": "python",
   "nbconvert_exporter": "python",
   "pygments_lexer": "ipython3",
   "version": "3.11.5"
  }
 },
 "nbformat": 4,
 "nbformat_minor": 4
}
