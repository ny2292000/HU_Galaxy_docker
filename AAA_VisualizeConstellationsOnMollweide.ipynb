{
 "cells": [
  {
   "cell_type": "code",
   "execution_count": null,
   "id": "8ea70297",
   "metadata": {},
   "outputs": [],
   "source": [
    "%matplotlib notebook\n",
    "from matplotlib import pyplot as plt\n",
    "from mpl_toolkits.mplot3d import Axes3D"
   ]
  },
  {
   "cell_type": "code",
   "execution_count": null,
   "id": "d6e32b31",
   "metadata": {},
   "outputs": [],
   "source": [
    "# Orion\n",
    "x = [-0.41, 0.57, 0.07, 0.00, -0.29, -0.32,-0.50,-0.23, -0.23]\n",
    "y = [4.12, 7.71, 2.36, 9.10, 13.35, 8.13, 7.19, 13.25,13.43]\n",
    "z = [2.06, 0.84, 1.56, 2.07, 2.36, 1.72, 0.66, 1.25,1.38]"
   ]
  },
  {
   "cell_type": "code",
   "execution_count": null,
   "id": "046d4d2a",
   "metadata": {},
   "outputs": [],
   "source": [
    "fig_2d = plt.figure()\n",
    "ax = fig_2d.add_subplot(1,1,1)\n",
    "plt.scatter(x,y, color = 'yellow', marker = '*')\n",
    "plt.title('2D Visualization of the Orion Constellation')\n",
    "plt.xlabel('Orion x Coordinates')\n",
    "plt.ylabel('Orion y Coordinates')\n",
    "ax.set_facecolor('xkcd:black')\n",
    "plt.show()\n"
   ]
  },
  {
   "cell_type": "code",
   "execution_count": null,
   "id": "eba329e6",
   "metadata": {},
   "outputs": [],
   "source": [
    "projection=\"3d\"\n",
    "fig_3d = plt.figure()\n",
    "constellation3d = fig_3d.add_subplot(1,1,1,projection=\"3d\")\n",
    "constellation3d.scatter(x,y,z, color = 'yellow', marker = '*', s=50)\n",
    "plt.title('3D Visualization of the Orion Constellation')\n",
    "constellation3d.set_xlabel('Orion x Coordinates')\n",
    "constellation3d.set_ylabel('Orion y Coordinates')\n",
    "constellation3d.set_zlabel('Orion z Coordinates')\n",
    "plt.gca().patch.set_facecolor('white')\n",
    "constellation3d.w_xaxis.set_pane_color((0, 0, 0, 1.0))\n",
    "constellation3d.w_yaxis.set_pane_color((0, 0, 0, 1.0))\n",
    "constellation3d.w_zaxis.set_pane_color((0, 0, 0, 1.0))\n",
    "plt.show()"
   ]
  },
  {
   "cell_type": "code",
   "execution_count": null,
   "id": "8af68611",
   "metadata": {},
   "outputs": [],
   "source": [
    "%matplotlib inline\n",
    "import numpy as np\n",
    "from matplotlib.projections import get_projection_names\n",
    "from astropy.coordinates import ICRS"
   ]
  },
  {
   "cell_type": "code",
   "execution_count": null,
   "id": "6d811402",
   "metadata": {},
   "outputs": [],
   "source": [
    "from desiutil.plots import prepare_data, init_sky, plot_grid_map, plot_healpix_map, plot_sky_circles, plot_sky_binned"
   ]
  },
  {
   "cell_type": "code",
   "execution_count": null,
   "id": "73782299",
   "metadata": {},
   "outputs": [],
   "source": [
    "stars = ICRS(['05h14m32.27s', '05h55m10.29s', '05h25m07.87s', '05h36m12.81s', '05h40m45.52s', '05h47m45.39s', '05h32m00.40s',\n",
    "              '06h45m09.25s', '06h58m37.55s', '07h08m23.49s', '06h22m41.99s', '07h24m05.71s',\n",
    "              '02h31m47.08s', '14h50m42.40s', '15h20m43.75s', '16h45m58.16s', '15h44m03.46s', '17h32m12.90s', '16h17m30.50s',\n",
    "              '12h54m01.63s', '11h03m43.84s', '13h47m32.55s', '13h23m55.54s', '11h01m50.39s', '11h53m49.74s', '12h15m25.45s',],\n",
    "             ['−08d12m05.9s', '+07d24m25.3s', '+06d20m59.0s', '−01d12m06.9s', '−01d56m33.3s', '−09d40m10.6s', '−00d17m56.7s',\n",
    "              '-16d42m47.3s', '-28d58m19.5s', '−26d23m35.5s', '−17d57m21.3s', '−29d18m11.2s',\n",
    "              '+89d15m50.9s', '+74d09m19.7s', '+71d50m02.3s', '+82d02m14.1s', '+77d47m40.2s', '+86d35m10.8s', '+75d45m16.9s',\n",
    "              '+55d57m35.4s', '+61d45m04.0s', '+49d18m47.9s', '+54d55m31.3s', '+56d22m56.4s', '+53d41m41.0s', '+57d01m57.4s'])"
   ]
  },
  {
   "cell_type": "code",
   "execution_count": null,
   "id": "286250c6",
   "metadata": {},
   "outputs": [],
   "source": [
    "ax = init_sky()\n",
    "p = ax.scatter(ax.projection_ra(stars.ra.degree), ax.projection_dec(stars.dec.degree), marker='.', color='black')"
   ]
  },
  {
   "cell_type": "code",
   "execution_count": null,
   "id": "9a2cefeb",
   "metadata": {},
   "outputs": [],
   "source": [
    "ax = init_sky(projection='hammer', ra_center=0, galactic_plane_color=None)\n",
    "p = ax.scatter(ax.projection_ra(stars.ra.degree), ax.projection_dec(stars.dec.degree), marker='.', color='black')"
   ]
  },
  {
   "cell_type": "code",
   "execution_count": null,
   "id": "3fa14866",
   "metadata": {},
   "outputs": [],
   "source": [
    "get_projection_names()"
   ]
  },
  {
   "cell_type": "code",
   "execution_count": null,
   "id": "37fb1bbd",
   "metadata": {},
   "outputs": [],
   "source": [
    "ax = init_sky(projection='mollweide', ra_center=0, galactic_plane_color=\"blue\")\n",
    "p = ax.scatter(ax.projection_ra(stars.ra.degree), ax.projection_dec(stars.dec.degree), marker='.', color='black')"
   ]
  },
  {
   "cell_type": "code",
   "execution_count": null,
   "id": "032730f3",
   "metadata": {},
   "outputs": [],
   "source": [
    "np.random.seed(20200415)  # For reproducible maps.\n",
    "n_ra, n_dec = 15, 10\n",
    "ra_edges = np.linspace(0., 360., n_ra + 1)\n",
    "dec_edges = np.linspace(-60., 60., n_dec + 1)\n",
    "data = np.random.uniform(size=(n_dec, n_ra))\n",
    "ax = plot_grid_map(data, ra_edges, dec_edges, label='Value',\n",
    "                   galactic_plane_color=\"red\", ecliptic_plane_color=None)\n"
   ]
  },
  {
   "cell_type": "code",
   "execution_count": null,
   "id": "f4c3e10b",
   "metadata": {},
   "outputs": [],
   "source": [
    "import healpy as hp\n",
    "nside, nest = 32, False\n",
    "data = np.random.uniform(size=hp.nside2npix(nside))\n",
    "ax = plot_healpix_map(data, nest, galactic_plane_color=\"blue\", ecliptic_plane_color=None)"
   ]
  },
  {
   "cell_type": "code",
   "execution_count": null,
   "id": "b38bde73",
   "metadata": {},
   "outputs": [],
   "source": [
    "ax = plot_sky_circles(ra_center=[0, 30, 60, 90, 120, 150, 180, 210, 240],\n",
    "                      dec_center=[-60, -45, -30, -15, 0, 15, 30, 45, 60],\n",
    "                      field_of_view=10)"
   ]
  },
  {
   "cell_type": "code",
   "execution_count": null,
   "id": "6a18702d",
   "metadata": {},
   "outputs": [],
   "source": [
    "ax = plot_sky_circles(ra_center=[60, 90, 120, 150],\n",
    "                      dec_center=[-30, -15, 0, 15],\n",
    "                      field_of_view=30,\n",
    "                      facecolors=['r', 'g', 'b', 'k'])"
   ]
  },
  {
   "cell_type": "code",
   "execution_count": null,
   "id": "f4202a19",
   "metadata": {},
   "outputs": [],
   "source": [
    "ax = plot_sky_circles(ra_center=[0, 60, 120, 180],\n",
    "                      dec_center=[-30, 0, 30, 60],\n",
    "                      field_of_view=30,\n",
    "                      data=[0, 1, 2, 3], cmap='gray', edgecolor='r');"
   ]
  },
  {
   "cell_type": "code",
   "execution_count": null,
   "id": "4e18f41a",
   "metadata": {},
   "outputs": [],
   "source": [
    "n = 50000\n",
    "ra = 360 * np.random.uniform(size=n)\n",
    "dec = np.clip(20 * np.random.normal(size=n), -90, +90)\n",
    "ax = plot_sky_binned(ra, dec)"
   ]
  },
  {
   "cell_type": "code",
   "execution_count": null,
   "id": "9349f45a",
   "metadata": {},
   "outputs": [],
   "source": [
    "ax = plot_sky_binned(ra, dec, plot_type='healpix')"
   ]
  },
  {
   "cell_type": "code",
   "execution_count": null,
   "id": "09fe03d1",
   "metadata": {},
   "outputs": [],
   "source": [
    "ax = plot_sky_binned(ra, dec, max_bin_area=50, verbose=True)"
   ]
  },
  {
   "cell_type": "code",
   "execution_count": null,
   "id": "3f5e4adc",
   "metadata": {},
   "outputs": [],
   "source": [
    "ax = plot_sky_binned(ra, dec, plot_type='healpix', max_bin_area=50, verbose=True)"
   ]
  },
  {
   "cell_type": "code",
   "execution_count": null,
   "id": "2366e3b1",
   "metadata": {},
   "outputs": [],
   "source": [
    "ax = plot_sky_binned(ra, dec, data=ra)"
   ]
  },
  {
   "cell_type": "code",
   "execution_count": null,
   "id": "5f67b7bf",
   "metadata": {},
   "outputs": [],
   "source": [
    "ra_source = np.random.normal(loc=0.0, scale=5.0, size=(10000,))\n",
    "dec_source = np.random.normal(loc=30.0, scale=5.0, size=(10000,))\n",
    "ra_source[ra_source < 0] += 360.0\n",
    "ax = plot_sky_binned(ra_source, dec_source, max_bin_area=2.0, verbose=True)"
   ]
  },
  {
   "cell_type": "code",
   "execution_count": null,
   "id": "29d2dade",
   "metadata": {},
   "outputs": [],
   "source": [
    "n_ra, n_dec = 15, 10\n",
    "ra_edges = np.linspace(0., 360., n_ra + 1)\n",
    "dec_edges = np.linspace(-60., 60., n_dec + 1)\n",
    "data = np.random.uniform(size=(n_dec, n_ra))\n",
    "ax = plot_grid_map(data, ra_edges, dec_edges)"
   ]
  },
  {
   "cell_type": "code",
   "execution_count": null,
   "id": "813f786e",
   "metadata": {},
   "outputs": [],
   "source": [
    "data2 = prepare_data(data, mask=(0.4 < data) & (data < 0.6))\n",
    "ax = plot_grid_map(data2, ra_edges, dec_edges)"
   ]
  },
  {
   "cell_type": "code",
   "execution_count": null,
   "id": "ab6dfe3a",
   "metadata": {},
   "outputs": [],
   "source": [
    "data2 = prepare_data(data, clip_lo='20%', clip_hi=0.8)\n",
    "ax = plot_grid_map(data2, ra_edges, dec_edges)"
   ]
  },
  {
   "cell_type": "code",
   "execution_count": null,
   "id": "07a8d079",
   "metadata": {},
   "outputs": [],
   "source": [
    "data2 = prepare_data(data, clip_lo='!20%', clip_hi='!0.8')\n",
    "ax = plot_grid_map(data2, ra_edges, dec_edges)"
   ]
  },
  {
   "cell_type": "code",
   "execution_count": null,
   "id": "f42ce851",
   "metadata": {},
   "outputs": [],
   "source": [
    "data2 = prepare_data(data, clip_lo=-0.5, clip_hi=1.5)\n",
    "ax = plot_grid_map(data2, ra_edges, dec_edges)"
   ]
  },
  {
   "cell_type": "code",
   "execution_count": null,
   "id": "d63a7f3c",
   "metadata": {},
   "outputs": [],
   "source": []
  },
  {
   "cell_type": "code",
   "execution_count": null,
   "id": "1b2d85c7",
   "metadata": {},
   "outputs": [],
   "source": []
  }
 ],
 "metadata": {
  "kernelspec": {
   "display_name": "Python [conda env:AAAA_CMB_HU] *",
   "language": "python",
   "name": "conda-env-AAAA_CMB_HU-py"
  },
  "language_info": {
   "codemirror_mode": {
    "name": "ipython",
    "version": 3
   },
   "file_extension": ".py",
   "mimetype": "text/x-python",
   "name": "python",
   "nbconvert_exporter": "python",
   "pygments_lexer": "ipython3",
   "version": "3.9.7"
  }
 },
 "nbformat": 4,
 "nbformat_minor": 5
}
