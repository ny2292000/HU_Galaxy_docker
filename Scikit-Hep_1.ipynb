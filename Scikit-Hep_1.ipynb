{
 "cells": [
  {
   "cell_type": "code",
   "execution_count": null,
   "id": "2bba72d8",
   "metadata": {},
   "outputs": [],
   "source": [
    "import formulate\n",
    "from itertools import product,chain\n",
    "import numpy as np\n",
    "momentum = formulate.from_root('TMath::Sqrt(X_PX**2 + X_PY**2 + X_PZ**2)')\n",
    "momentum"
   ]
  },
  {
   "cell_type": "code",
   "execution_count": null,
   "id": "b8bca65d",
   "metadata": {},
   "outputs": [],
   "source": [
    "momentum.to_numexpr() "
   ]
  },
  {
   "cell_type": "code",
   "execution_count": null,
   "id": "583b85aa",
   "metadata": {},
   "outputs": [],
   "source": [
    "momentum.to_root() "
   ]
  },
  {
   "cell_type": "code",
   "execution_count": null,
   "id": "cd2370c9",
   "metadata": {},
   "outputs": [],
   "source": []
  },
  {
   "cell_type": "code",
   "execution_count": null,
   "id": "dc068816",
   "metadata": {},
   "outputs": [],
   "source": [
    "# Particle\n",
    "\n",
    "from particle import Particle\n",
    "\n",
    "piplus = Particle.from_pdgid(211)"
   ]
  },
  {
   "cell_type": "code",
   "execution_count": null,
   "id": "21091738",
   "metadata": {},
   "outputs": [],
   "source": [
    "piplus.mass, piplus.charge"
   ]
  },
  {
   "cell_type": "code",
   "execution_count": null,
   "id": "79624c7c",
   "metadata": {},
   "outputs": [],
   "source": [
    "piplus"
   ]
  },
  {
   "cell_type": "code",
   "execution_count": null,
   "id": "b805bdaf",
   "metadata": {},
   "outputs": [],
   "source": [
    "Particle.from_pdgid(531)"
   ]
  },
  {
   "cell_type": "code",
   "execution_count": null,
   "id": "752c8a9b",
   "metadata": {},
   "outputs": [],
   "source": [
    "from particle import Particle\n",
    "import numpy as np\n",
    "\n",
    "def masterQuery(particleContent, particleCharge):\n",
    "    allparticles ={}\n",
    "    result_list = [*map(list,map(chain.from_iterable,product(particleContent,particleCharge)))]\n",
    "    for quark, charge in result_list:\n",
    "        print(quark, charge)\n",
    "        allparticles[ (quark.replace('has_',\"\"), charge) ] = [Particle.findall(lambda p: eval(\"p.pdgid.\" + quark) and p.charge==charge)]\n",
    "    return allparticles #[('bottom', -1)]\n",
    "        \n",
    "particleContentWords= [ [\"has_bottom\"], [\"has_top\"], [\"has_up\"], [\"has_down\"], [\"has_charm\"], [\"has_strange\"]]\n",
    "particleContent =  list([x] for x in np.arange(len(particleContentWords)))\n",
    "particleCharge = [[-1],[0],[1]]\n",
    "myparticles = masterQuery(particleContentWords, particleCharge)\n"
   ]
  },
  {
   "cell_type": "code",
   "execution_count": null,
   "id": "e47bd87b",
   "metadata": {},
   "outputs": [],
   "source": [
    "myparticles"
   ]
  },
  {
   "cell_type": "code",
   "execution_count": null,
   "id": "1c152722",
   "metadata": {},
   "outputs": [],
   "source": [
    "import vector\n",
    "# NumPy-like arguments (literally passed through to NumPy)\n",
    "vector.array([\n",
    "    (1.1, 2.1), (1.2, 2.2), (1.3, 2.3), (1.4, 2.4), (1.5, 2.5)\n",
    "], dtype=[(\"x\", float), (\"y\", float)])\n",
    "\n",
    "# Pandas-like arguments (dict from names to column arrays)\n",
    "vector.array({\"x\": [1.1, 1.2, 1.3, 1.4, 1.5], \"y\": [2.1, 2.2, 2.3, 2.4, 2.5]})\n",
    "\n",
    "# As with objects, the coordinate system and dimension is taken from the names of the fields.\n",
    "vec1 = vector.array({\n",
    "    \"x\": [1.1, 1.2, 1.3, 1.4, 1.5],\n",
    "    \"y\": [2.1, 2.2, 2.3, 2.4, 2.5],\n",
    "    \"z\": [3.1, 3.2, 3.3, 3.4, 3.5],\n",
    "    \"t\": [4.1, 4.2, 4.3, 4.4, 4.5],\n",
    "})\n",
    "\n",
    "vector.array({\n",
    "    \"pt\": [1.1, 1.2, 1.3, 1.4, 1.5],\n",
    "    \"phi\": [2.1, 2.2, 2.3, 2.4, 2.5],\n",
    "    \"eta\": [3.1, 3.2, 3.3, 3.4, 3.5],\n",
    "    \"M\": [4.1, 4.2, 4.3, 4.4, 4.5],\n",
    "})\n"
   ]
  },
  {
   "cell_type": "code",
   "execution_count": null,
   "id": "18da6b5d",
   "metadata": {},
   "outputs": [],
   "source": [
    "vector.obj(x=1, y=2, z=3).theta, vector.obj(x=1, y=2, z=3).eta, vector.obj(x=1, y=2, z=3).phi"
   ]
  },
  {
   "cell_type": "code",
   "execution_count": null,
   "id": "20e21a83",
   "metadata": {},
   "outputs": [],
   "source": [
    "vector.obj(x=1, y=2, z=3).to_Vector4D()"
   ]
  },
  {
   "cell_type": "code",
   "execution_count": null,
   "id": "c04dcac8",
   "metadata": {},
   "outputs": [],
   "source": [
    "!pip --verbose install goofit"
   ]
  },
  {
   "cell_type": "code",
   "execution_count": null,
   "id": "3d6ec393",
   "metadata": {},
   "outputs": [],
   "source": []
  },
  {
   "cell_type": "code",
   "execution_count": null,
   "id": "b78b763e",
   "metadata": {},
   "outputs": [],
   "source": [
    "vector.obj(x=3, y=4, z=-2, t=10)   # Cartesian 4D vector"
   ]
  },
  {
   "cell_type": "code",
   "execution_count": null,
   "id": "6526cd2f",
   "metadata": {},
   "outputs": [],
   "source": []
  },
  {
   "cell_type": "code",
   "execution_count": null,
   "id": "1b98482e",
   "metadata": {},
   "outputs": [],
   "source": []
  },
  {
   "cell_type": "code",
   "execution_count": null,
   "id": "bddb5300",
   "metadata": {},
   "outputs": [],
   "source": []
  },
  {
   "cell_type": "code",
   "execution_count": null,
   "id": "34debc0f",
   "metadata": {},
   "outputs": [],
   "source": []
  },
  {
   "cell_type": "code",
   "execution_count": null,
   "id": "3054feb8",
   "metadata": {},
   "outputs": [],
   "source": []
  },
  {
   "cell_type": "code",
   "execution_count": null,
   "id": "08cf11cc",
   "metadata": {},
   "outputs": [],
   "source": []
  },
  {
   "cell_type": "code",
   "execution_count": null,
   "id": "128ecb61",
   "metadata": {},
   "outputs": [],
   "source": []
  },
  {
   "cell_type": "code",
   "execution_count": null,
   "id": "6d3cb37a",
   "metadata": {},
   "outputs": [],
   "source": [
    "Particle.findall(lambda p: p.pdgid.has_down and p.charge==-1)"
   ]
  },
  {
   "cell_type": "code",
   "execution_count": null,
   "id": "ca1a20bd",
   "metadata": {},
   "outputs": [],
   "source": [
    "Particle.findall(lambda p: p.pdgid.has_bottom and p.charge==-1)"
   ]
  },
  {
   "cell_type": "code",
   "execution_count": null,
   "id": "bab9d9e2",
   "metadata": {},
   "outputs": [],
   "source": []
  },
  {
   "cell_type": "code",
   "execution_count": null,
   "id": "c2313547",
   "metadata": {},
   "outputs": [],
   "source": []
  },
  {
   "cell_type": "code",
   "execution_count": null,
   "id": "a6043b22",
   "metadata": {},
   "outputs": [],
   "source": []
  },
  {
   "cell_type": "code",
   "execution_count": null,
   "id": "8642ad54",
   "metadata": {},
   "outputs": [],
   "source": []
  },
  {
   "cell_type": "code",
   "execution_count": null,
   "id": "f123004e",
   "metadata": {},
   "outputs": [],
   "source": []
  },
  {
   "cell_type": "code",
   "execution_count": null,
   "id": "237c9b76",
   "metadata": {},
   "outputs": [],
   "source": []
  },
  {
   "cell_type": "code",
   "execution_count": null,
   "id": "143ec235",
   "metadata": {},
   "outputs": [],
   "source": [
    "from hepunits.constants import c_light\n",
    "\n",
    "c_light"
   ]
  },
  {
   "cell_type": "code",
   "execution_count": null,
   "id": "f807b780",
   "metadata": {},
   "outputs": [],
   "source": []
  },
  {
   "cell_type": "code",
   "execution_count": null,
   "id": "9c675a79",
   "metadata": {},
   "outputs": [],
   "source": []
  },
  {
   "cell_type": "code",
   "execution_count": null,
   "id": "bea0c258",
   "metadata": {},
   "outputs": [],
   "source": []
  },
  {
   "cell_type": "code",
   "execution_count": null,
   "id": "534a07dd",
   "metadata": {},
   "outputs": [],
   "source": []
  },
  {
   "cell_type": "code",
   "execution_count": null,
   "id": "f7fa5cce",
   "metadata": {},
   "outputs": [],
   "source": []
  },
  {
   "cell_type": "code",
   "execution_count": null,
   "id": "1896e249",
   "metadata": {},
   "outputs": [],
   "source": [
    "!pip install formulate"
   ]
  },
  {
   "cell_type": "code",
   "execution_count": null,
   "id": "8c2a4cd5",
   "metadata": {},
   "outputs": [],
   "source": []
  }
 ],
 "metadata": {
  "kernelspec": {
   "display_name": "Python [conda env:AAAA_CMB_HU] *",
   "language": "python",
   "name": "conda-env-AAAA_CMB_HU-py"
  },
  "language_info": {
   "codemirror_mode": {
    "name": "ipython",
    "version": 3
   },
   "file_extension": ".py",
   "mimetype": "text/x-python",
   "name": "python",
   "nbconvert_exporter": "python",
   "pygments_lexer": "ipython3",
   "version": "3.9.7"
  }
 },
 "nbformat": 4,
 "nbformat_minor": 5
}
