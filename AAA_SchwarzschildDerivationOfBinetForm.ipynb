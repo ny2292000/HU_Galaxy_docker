{
 "cells": [
  {
   "cell_type": "markdown",
   "id": "d629149d",
   "metadata": {},
   "source": [
    "The terms \"hyperbolic\" and \"Cartesian\" in the context of spacetime geometry and special relativity indeed relate to different ways of representing the same underlying physics, and they correspond to different coordinate systems or geometric interpretations.\n",
    "\n",
    "In special relativity:\n",
    "\n",
    "- **Hyperbolic geometry** is often used when discussing rapidities and the Minkowski spacetime metric, especially in the context of Lorentz transformations. Rapidities are additive and correspond to a hyperbolic angle, and this is where the hyperbolic functions like $ \\tanh $ come into play. For instance, the velocity addition formula in special relativity uses hyperbolic tangent:\n",
    "\n",
    "  $$ \\tanh(\\alpha) = \\frac{v}{c} $$\n",
    "\n",
    "  where $ \\alpha $ is the rapidity, and $ v $ is the velocity of an object. The rapidity is related to the Lorentz factor $ \\gamma $ by:\n",
    "\n",
    "  $$ \\alpha = \\tanh^{-1}\\left(\\frac{v}{c}\\right) $$\n",
    "\n",
    "  This relation arises from the hyperbolic nature of the Lorentz boost transformations in Minkowski spacetime, which are analogous to rotations in a space with hyperbolic geometry.\n",
    "\n",
    "- **Cartesian coordinates** are the regular spatial coordinates we are familiar with from Euclidean geometry, typically used in Newtonian mechanics. In the context of spacetime diagrams and the Lorentz transformations, one might refer to the Cartesian-like components of spacetime vectors, with time usually plotted as a vertical axis and space as a horizontal axis. The slope of a worldline in such a diagram would be $ \\tan(\\alpha) = \\frac{v}{c} $, which corresponds to the velocity of an object divided by the speed of light.\n",
    "\n",
    "The choice between hyperbolic and Cartesian coordinates doesn't change the physics; it only changes the way the mathematics is presented. The fundamental relations and invariant quantities like the spacetime interval remain unchanged. The distinction is mainly in how we choose to parameterize and visualize the transformations and intervals.\n",
    "\n",
    "When we talk about the \"final result,\" whether we're dealing with equations in special relativity or any other physical theory, we're referring to the observable predictions and invariant quantities that must be independent of the coordinate system. Both hyperbolic and Cartesian representations can be used to arrive at the same physical predictions, confirming the principle of relativity."
   ]
  },
  {
   "cell_type": "code",
   "execution_count": null,
   "id": "45de264d",
   "metadata": {},
   "outputs": [],
   "source": [
    "import sympy as sp\n",
    "\n",
    "# Define the symbols\n",
    "G, M, c, E, L, tau = sp.symbols('G M c E L tau', positive=True, real=True)\n",
    "phi = sp.symbols('phi')\n",
    "\n",
    "# Define u as 1/r, where r is a function of phi\n",
    "u = sp.Function('u')(phi)\n",
    "r = 1/u\n",
    "\n",
    "# Express dt/dtau and dphi/dtau in terms of E and L\n",
    "dt_dtau = E / (c**2 * (1 - 2*G*M*r/c**2))\n",
    "dphi_dtau = L / r**2\n",
    "\n",
    "# Now express dr/dtau in terms of u and phi\n",
    "dr_dtau = sp.diff(r, tau).subs(sp.diff(phi, tau), dphi_dtau)\n",
    "\n",
    "# Use the Schwarzschild metric relation, setting ds^2 = -c^2 dtau^2 for a massive particle like Mercury\n",
    "metric_relation = sp.Eq(-c**2, (-c**2 * (1 - 2*G*M*r/c**2) * dt_dtau**2 +\n",
    "                                (1 - 2*G*M*r/c**2)**-1 * dr_dtau**2 +\n",
    "                                r**2 * dphi_dtau**2))\n",
    "\n",
    "# Solve for (dr/dtau)^2\n",
    "dr_dtau_sq = sp.solve(metric_relation, dr_dtau**2)[0]\n",
    "\n",
    "# Substitute dphi/dtau in terms of L and r (or u)\n",
    "dr_dtau_sq = dr_dtau_sq.subs(dphi_dtau, L * u**2)\n",
    "\n",
    "# Express dr/dtau as dr/dphi times dphi/dtau, which is already known\n",
    "dr_dphi = sp.diff(r, phi)  # dr/dphi\n",
    "dr_dtau_sq = dr_dtau_sq.subs(sp.diff(r, tau), dr_dphi * dphi_dtau)\n",
    "\n",
    "# Solve for dr/dphi in terms of u and phi\n",
    "dr_dphi_eq = sp.Eq(sp.solve(sp.Eq(dr_dtau_sq, dr_dphi * dphi_dtau))[0], dr_dphi)\n",
    "\n",
    "# Next, differentiate dr/dphi with respect to phi to get the second derivative d^2r/dphi^2\n",
    "d2r_dphi2 = sp.diff(dr_dphi_eq.rhs, phi)\n",
    "\n",
    "# Since dr/dphi = d/dr(1/u) = -1/u^2 * du/dphi, we need to replace dr/dphi and d^2r/dphi^2\n",
    "# with expressions involving u and its derivatives\n",
    "d2r_dphi2 = d2r_dphi2.subs(dr_dphi, -1/u**2 * sp.diff(u, phi))\n",
    "\n",
    "# Now solve for d^2u/dphi^2\n",
    "d2u_dphi2_eq = sp.Eq(sp.diff(u, phi, phi)*u**2, (d2r_dphi2*u**2).simplify().doit())\n",
    "\n",
    "# Display the final equation for d^2u/dphi^2\n",
    "d2u_dphi2_eq.simplify()\n",
    "\n",
    "\n",
    "\n"
   ]
  },
  {
   "cell_type": "code",
   "execution_count": null,
   "id": "84c67a74",
   "metadata": {},
   "outputs": [],
   "source": []
  }
 ],
 "metadata": {
  "kernelspec": {
   "display_name": "Python [conda env:Cosmos3020]",
   "language": "python",
   "name": "conda-env-Cosmos3020-py"
  },
  "language_info": {
   "codemirror_mode": {
    "name": "ipython",
    "version": 3
   },
   "file_extension": ".py",
   "mimetype": "text/x-python",
   "name": "python",
   "nbconvert_exporter": "python",
   "pygments_lexer": "ipython3",
   "version": "3.11.8"
  }
 },
 "nbformat": 4,
 "nbformat_minor": 5
}
