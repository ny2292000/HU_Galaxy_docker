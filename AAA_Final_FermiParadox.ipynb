{
 "cells": [
  {
   "cell_type": "markdown",
   "metadata": {},
   "source": [
    "# CONTENT\n",
    "\n",
    "## Derivation of Fermi Paradox Epoch-Dependent G Explanation\n"
   ]
  },
  {
   "cell_type": "code",
   "execution_count": null,
   "metadata": {},
   "outputs": [],
   "source": [
    "# Plot D\n",
    "import matplotlib.pyplot as plt\n",
    "import numpy as np\n",
    "from parameters import *\n",
    "\n",
    "fig, ax = plt.subplots()\n",
    "for initialT in range(2,10,2):\n",
    "    t=np.linspace(initialT, initialT+4.5,100)\n",
    "    GG=initialT/t\n",
    "    ax.plot(t,GG,label=str(initialT) + \"GY\")\n",
    "    ax.legend()\n",
    "    ax.set_ylabel(\"G/G0\")\n",
    "    ax.set_xlabel(\"Age of the Universe\")\n",
    "plt.savefig(imgAddress + \"G_Decay.png\", dpi=300)"
   ]
  },
  {
   "cell_type": "code",
   "execution_count": null,
   "metadata": {},
   "outputs": [],
   "source": []
  }
 ],
 "metadata": {
  "anaconda-cloud": {},
  "kernelspec": {
   "display_name": "Python [conda env:Cosmos3020]",
   "language": "python",
   "name": "conda-env-Cosmos3020-py"
  },
  "language_info": {
   "codemirror_mode": {
    "name": "ipython",
    "version": 3
   },
   "file_extension": ".py",
   "mimetype": "text/x-python",
   "name": "python",
   "nbconvert_exporter": "python",
   "pygments_lexer": "ipython3",
   "version": "3.11.8"
  }
 },
 "nbformat": 4,
 "nbformat_minor": 4
}
