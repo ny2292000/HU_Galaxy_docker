{
 "cells": [
  {
   "cell_type": "code",
   "execution_count": null,
   "id": "aa4d504b-b92a-4f17-8df1-399ca25f09d2",
   "metadata": {
    "tags": []
   },
   "outputs": [],
   "source": [
    "import sympy as ss\n",
    "ss.var(\"omega_C, pi, m_H, c h r m_neutron\")\n",
    "# Redefining the angular frequency based on your theoretical model\n",
    "omega_C = 2 * pi * m_H * c**2 / h\n",
    "\n",
    "# Redefining the tangential velocity based on angular frequency and radius\n",
    "v_t_model = omega_C * r\n",
    "\n",
    "# Relativistic mass equation with new v_t\n",
    "m_neutron_model = m_H / ss.sqrt(1 - (v_t_model / c)**2)\n",
    "\n",
    "# Solving the relativistic mass equation for r based on your model\n",
    "r_solutions_model = ss.solve(m_neutron_model - m_neutron, r)\n",
    "\n",
    "r_solutions_model\n"
   ]
  },
  {
   "cell_type": "code",
   "execution_count": null,
   "id": "a29a1fb1-eedc-445b-a8da-525ed7872fa4",
   "metadata": {
    "tags": []
   },
   "outputs": [],
   "source": [
    "ss.pprint(r_solutions_model)"
   ]
  },
  {
   "cell_type": "code",
   "execution_count": null,
   "id": "957c90c9-2648-4970-8d58-8fc1c662ac71",
   "metadata": {
    "tags": []
   },
   "outputs": [],
   "source": [
    "from astropy.constants import h, c, m_p, m_n, m_e  # Planck constant, speed of light, proton mass, neutron mass\n",
    "from astropy import units as uu, constants as cc\n",
    "import numpy as np\n",
    "\n",
    "def calculate_radius(m_H, m_neutron):\n",
    "    \"\"\"\n",
    "    Calculate the radius based on the theoretical model.\n",
    "\n",
    "    Parameters:\n",
    "    m_H (Quantity): Mass of the hydrogen atom (approximated by the proton mass).\n",
    "    m_neutron (Quantity): Mass of the neutron.\n",
    "\n",
    "    Returns:\n",
    "    Quantity: Radius based on the model.\n",
    "    \"\"\"\n",
    "    # Ensure the masses are in the correct units (kilograms)\n",
    "    m_H = m_H.to(uu.kg)\n",
    "    m_neutron = m_neutron.to(uu.kg)\n",
    "    \n",
    "    # Calculate the radius based on the provided formula\n",
    "    radius = (h * np.sqrt(-m_H**2 / m_neutron**2 + 1)) / (2 * np.pi * c * m_H)\n",
    "    \n",
    "    # Convert the radius to meters\n",
    "    radius = radius.to(uu.m)\n",
    "    \n",
    "    return radius\n",
    "\n",
    "# Using proton mass for hydrogen atom mass as approximation\n",
    "m_H_approx = m_p + m_e\n",
    "\n",
    "# Calculate the radius using the mass of the proton and the mass of the neutron\n",
    "r = calculate_radius(m_H_approx, m_n)\n",
    "omega_C1 = (2 * np.pi * m_H_approx * cc.c**2 / cc.h).si\n",
    "v1 = omega_C1*r\n",
    "r, omega_C1, v1, v1/cc.c\n"
   ]
  },
  {
   "cell_type": "code",
   "execution_count": null,
   "id": "d015b5a7-f1ae-416f-8d74-6aedcd4ef24a",
   "metadata": {
    "tags": []
   },
   "outputs": [],
   "source": [
    "omega_C1 = (2 * np.pi * m_H_approx * cc.c**2 / cc.h).si"
   ]
  },
  {
   "cell_type": "code",
   "execution_count": null,
   "id": "46c64629-e9b2-4b10-8f7a-2419e4e29cb0",
   "metadata": {
    "tags": []
   },
   "outputs": [],
   "source": [
    "(omega_C1*r/cc.c).si"
   ]
  },
  {
   "cell_type": "code",
   "execution_count": null,
   "id": "2b02f325-54c3-4383-a2a4-017e2fb07262",
   "metadata": {
    "tags": []
   },
   "outputs": [],
   "source": [
    "((cc.m_n - m_H_approx)*cc.c**2).to(uu.MeV)"
   ]
  },
  {
   "cell_type": "code",
   "execution_count": null,
   "id": "b91081c0-2bfa-4bd5-af2f-903ffd687a94",
   "metadata": {
    "tags": []
   },
   "outputs": [],
   "source": [
    "((m_H_approx)*v1**2/2).to(uu.MeV)"
   ]
  },
  {
   "cell_type": "code",
   "execution_count": null,
   "id": "e5caf44a-71ab-4760-9057-b5247b8afaf4",
   "metadata": {
    "tags": []
   },
   "outputs": [],
   "source": [
    "from sympy import symbols, solve, Eq\n",
    "\n",
    "# Define symbols\n",
    "r_p, r_e, m_p, m_e, e, m_H, omega, h, mu_net, mu_N,  c = symbols('r_p r_e m_p m_e e m_H omega h mu_net mu_N c')\n",
    "\n",
    "# Define equations based on model and given relationships\n",
    "re_expr = r_p * m_p / m_e  # Relation between re and rp from the model\n",
    "omega_expr = m_H * c**2 / h  # Angular velocity as Compton frequency of a hydrogen atom\n",
    "\n",
    "# Expression for net magnetic dipole moment using rp and relationship between re and rp\n",
    "mu_net_expr = (e * omega * re_expr**2 / 2) - (e * omega * r_p**2 / 2)\n",
    "# Substitute known values of mu_net (neutron magnetic moment) and mu_N (nuclear magneton)\n",
    "mu_net_sub = -1.913 * (e * h / (2 * m_p))  # Express neutron magnetic moment in terms of e, h, and m_p\n",
    "\n",
    "# Solve for rp\n",
    "rp_solution = solve(Eq(mu_net_expr, mu_net_sub), r_p)\n",
    "\n",
    "# Since re = rp * (mp/me), calculate re for each rp solution\n",
    "re_solutions = [sol * m_p / m_e for sol in rp_solution]\n",
    "\n",
    "rp_solution, re_solutions\n"
   ]
  },
  {
   "cell_type": "code",
   "execution_count": null,
   "id": "38d11a90-66a6-4853-be08-e123c91b61d5",
   "metadata": {
    "tags": []
   },
   "outputs": [],
   "source": [
    "import numpy as np\n",
    "from astropy.constants import h, c, m_e, m_p, e\n",
    "from astropy import units as u\n",
    "\n",
    "# Constants\n",
    "lambda_compton_hydrogen = (h/(m_p * c)).si\n",
    "# print(lambda_compton_hydrogen)\n",
    "omega_compton_hydrogen = (m_p * c**2 / h).to(1/u.s)  # Angular frequency for hydrogen\n",
    "mu_net = -1.913 * (e.si * h / (2 * m_p)).to(u.J / u.T)  # Neutron magnetic moment in SI units\n",
    "\n",
    "# Function to calculate rp based on mu_net and other constants\n",
    "def calculate_rp(mu_net, omega, m_e, m_p):\n",
    "    # Ensure all variables are in the correct units\n",
    "    omega = omega.to(1/u.s)\n",
    "    mu_net = mu_net.to(u.J / u.T)\n",
    "    m_e = m_e.to(u.kg)\n",
    "    m_p = m_p.to(u.kg)\n",
    "    \n",
    "    # Coefficient in the equation for rp, derived from model\n",
    "    coeff = -(e.si * omega * (m_p/m_e)**2 / 2).to(u.C / u.s)\n",
    "    # print((np.sqrt(mu_net/coeff).si))\n",
    "    \n",
    "    # Solve the equation for rp (rp^2 = mu_net / coeff)\n",
    "    rp_squared = mu_net / coeff\n",
    "    rp = np.sqrt(rp_squared)   # Ensure we maintain unit correctness\n",
    "    \n",
    "    return rp\n",
    "\n",
    "# Calculate rp and re using the neutron's magnetic moment and Compton frequency\n",
    "rp_value = (calculate_rp(mu_net, omega_compton_hydrogen, m_e, m_p)/lambda_compton_hydrogen).si\n",
    "re_value = rp_value * (m_p / m_e)  # Calculate re using the mass ratio\n",
    "\n",
    "print(f\"Proton equivalent radius: {rp_value:.4e}\")\n",
    "print(f\"Electron equivalent radius: {re_value:.4e}\")\n"
   ]
  },
  {
   "cell_type": "code",
   "execution_count": null,
   "id": "60d08f9a-7408-4882-ad5b-6b260c77097e",
   "metadata": {
    "tags": []
   },
   "outputs": [],
   "source": [
    "# Constants\n",
    "omega_compton_hydrogen = (m_p * c**2 / h).to(1/u.s)  # Angular frequency for hydrogen\n",
    "mu_net = -1.913 * (e.si * h / (2 * m_p)).to(u.J / u.T)  # Neutron magnetic moment in SI units\n"
   ]
  },
  {
   "cell_type": "code",
   "execution_count": null,
   "id": "369746b5-ff88-4828-b920-ccdcb92fb4d9",
   "metadata": {
    "tags": []
   },
   "outputs": [],
   "source": [
    "omega_compton_hydrogen, mu_net, e.si"
   ]
  },
  {
   "cell_type": "code",
   "execution_count": null,
   "id": "5f6b174a-119f-49ca-9259-14709afda297",
   "metadata": {
    "tags": []
   },
   "outputs": [],
   "source": [
    "omega = omega_compton_hydrogen.to(1/u.s)\n",
    "mu_net = mu_net.to(u.J / u.T)\n",
    "m_e = m_e.to(u.kg)\n",
    "m_p = m_p.to(u.kg)\n",
    "\n",
    "# Coefficient in the equation for rp, derived from model\n",
    "coeff = -(e.si * omega * (m_p/m_e)**2 / 2).to(u.C / u.s)\n",
    "\n",
    "# Solve the equation for rp (rp^2 = mu_net / coeff)\n",
    "rp_squared = mu_net / coeff\n",
    "rp = np.sqrt(rp_squared).si   # Ensure we maintain unit correctness\n",
    "rp, lambda_compton_hydrogen   "
   ]
  },
  {
   "cell_type": "code",
   "execution_count": null,
   "id": "829d05cb-705b-4e4e-974a-ccb4afa32837",
   "metadata": {},
   "outputs": [],
   "source": []
  }
 ],
 "metadata": {
  "kernelspec": {
   "display_name": "Python [conda env:Cosmos3020]",
   "language": "python",
   "name": "conda-env-Cosmos3020-py"
  },
  "language_info": {
   "codemirror_mode": {
    "name": "ipython",
    "version": 3
   },
   "file_extension": ".py",
   "mimetype": "text/x-python",
   "name": "python",
   "nbconvert_exporter": "python",
   "pygments_lexer": "ipython3",
   "version": "3.10.13"
  }
 },
 "nbformat": 4,
 "nbformat_minor": 5
}
