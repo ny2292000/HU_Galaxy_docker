{
 "cells": [
  {
   "cell_type": "code",
   "execution_count": null,
   "id": "c0e9c887-6487-4802-a5bd-052c23adc3c2",
   "metadata": {},
   "outputs": [],
   "source": [
    "import numpy as np\n",
    "import sympy as sp\n",
    "\n",
    "# Symbolic variables for coefficients and angles\n",
    "a, b, c, theta = sp.symbols('a b c theta')\n",
    "\n",
    "v1 = np.array([sp.symbols('v1_x'), sp.symbols('v1_y'), sp.symbols('v1_z'), sp.symbols('v1_w')])\n",
    "v2 = np.array([sp.symbols('v2_x'), sp.symbols('v2_y'), sp.symbols('v2_z'), sp.symbols('v2_w')])\n",
    "v3 = np.array([sp.symbols('v3_x'), sp.symbols('v3_y'), sp.symbols('v3_z'), sp.symbols('v3_w')])\n",
    "\n",
    "# Define the rotation axis as a linear combination of the subspace basis vectors\n",
    "v = a * v1 + b * v2 + c * v3\n",
    "\n",
    "\n",
    "def cross_product_4d(u, v, w):\n",
    "    # This is a placeholder function; the actual implementation needs to handle 4D cross products\n",
    "    A = np.array([\n",
    "        [0, -u[2], u[1], u[3]],\n",
    "        [u[2], 0, -u[0], -u[3]],\n",
    "        [-u[1], u[0], 0, u[3]],\n",
    "        [-u[3], u[3], -u[3], 0]\n",
    "    ])\n",
    "    return np.dot(A, v) + np.dot(np.dot(A, w), v)  # This is not the actual math\n",
    "\n",
    "# Vector orthogonal to the subspace spanned by v1, v2, v3\n",
    "u = cross_product_4d(v1, v2, v3)\n",
    "sp.pprint(u )"
   ]
  },
  {
   "cell_type": "code",
   "execution_count": null,
   "id": "e350e725-4d86-4bae-9356-e7d199403229",
   "metadata": {},
   "outputs": [],
   "source": [
    "def skew_symmetric(v):\n",
    "    return np.array([\n",
    "        [    0, -v[2],  v[1], -v[3]],\n",
    "        [ v[2],     0, -v[0],  v[3]],\n",
    "        [-v[1],  v[0],     0, -v[3]],\n",
    "        [ v[3], -v[3],  v[3],     0]\n",
    "    ])\n",
    "\n",
    "A = skew_symmetric(u)\n",
    "I = np.eye(4)\n",
    "R = I + sp.sin(theta) * A + (1 - sp.cos(theta)) * A @ A\n",
    "R"
   ]
  },
  {
   "cell_type": "code",
   "execution_count": null,
   "id": "05a61040-8f7c-4937-8862-2605f008293d",
   "metadata": {},
   "outputs": [],
   "source": [
    "p = np.array([sp.symbols('p_x'), sp.symbols('p_y'), sp.symbols('p_z'), sp.symbols('p_w')])\n",
    "p_rotated = R @ p\n",
    "p_rotated"
   ]
  },
  {
   "cell_type": "code",
   "execution_count": null,
   "id": "e2a7319f-aa29-428d-a905-3e1e77ae61e4",
   "metadata": {},
   "outputs": [],
   "source": []
  },
  {
   "cell_type": "code",
   "execution_count": null,
   "id": "d2ad362b-2332-46d0-ae50-7a44356b8c40",
   "metadata": {},
   "outputs": [],
   "source": []
  },
  {
   "cell_type": "code",
   "execution_count": null,
   "id": "229ea48c-b67a-4693-9af3-7c4ff7fad7f1",
   "metadata": {},
   "outputs": [],
   "source": []
  },
  {
   "cell_type": "code",
   "execution_count": null,
   "id": "f8c93c3b-fc3e-46af-a46f-a0681ce554bf",
   "metadata": {},
   "outputs": [],
   "source": []
  },
  {
   "cell_type": "code",
   "execution_count": null,
   "id": "31db443e-92f7-49bd-9d4f-4fa0a6c1ddb5",
   "metadata": {},
   "outputs": [],
   "source": []
  }
 ],
 "metadata": {
  "kernelspec": {
   "display_name": "Python [conda env:Cosmos3020]",
   "language": "python",
   "name": "conda-env-Cosmos3020-py"
  },
  "language_info": {
   "codemirror_mode": {
    "name": "ipython",
    "version": 3
   },
   "file_extension": ".py",
   "mimetype": "text/x-python",
   "name": "python",
   "nbconvert_exporter": "python",
   "pygments_lexer": "ipython3",
   "version": "3.11.9"
  }
 },
 "nbformat": 4,
 "nbformat_minor": 5
}
