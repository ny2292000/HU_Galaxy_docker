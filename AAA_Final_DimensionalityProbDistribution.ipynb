{
 "cells": [
  {
   "cell_type": "code",
   "execution_count": null,
   "metadata": {},
   "outputs": [],
   "source": [
    "import numpy as np\n",
    "import matplotlib.pyplot as plt\n",
    "from scipy.special import gamma\n",
    "\n",
    "# Define the dimensions range from 3 to 20\n",
    "n_dimensions = np.arange(3, 21)\n",
    "\n",
    "# Calculate the surface area for unitary radius (r=1) across different dimensions\n",
    "surface_areas = [2 * np.pi ** (n / 2) / gamma(n / 2) for n in n_dimensions]\n",
    "\n",
    "# Plotting\n",
    "plt.figure(figsize=(10, 6))\n",
    "plt.plot(n_dimensions, surface_areas, marker='o', linestyle='-', color='b')\n",
    "plt.title('Surface Area of a Unitary Radius Hypersphere (n=3 to n=20)')\n",
    "plt.xlabel('Dimension (n)')\n",
    "plt.ylabel('Surface Area')\n",
    "plt.grid(True)\n",
    "plt.xticks(n_dimensions)\n",
    "plt.show()\n",
    "\n",
    "\n"
   ]
  },
  {
   "cell_type": "code",
   "execution_count": null,
   "metadata": {},
   "outputs": [],
   "source": []
  },
  {
   "cell_type": "code",
   "execution_count": null,
   "metadata": {},
   "outputs": [],
   "source": []
  }
 ],
 "metadata": {
  "anaconda-cloud": {},
  "kernelspec": {
   "display_name": "Python [conda env:Cosmos3020]",
   "language": "python",
   "name": "conda-env-Cosmos3020-py"
  },
  "language_info": {
   "codemirror_mode": {
    "name": "ipython",
    "version": 3
   },
   "file_extension": ".py",
   "mimetype": "text/x-python",
   "name": "python",
   "nbconvert_exporter": "python",
   "pygments_lexer": "ipython3",
   "version": "3.11.8"
  }
 },
 "nbformat": 4,
 "nbformat_minor": 4
}
