{
 "cells": [
  {
   "cell_type": "code",
   "execution_count": null,
   "id": "04fa25ff",
   "metadata": {},
   "outputs": [],
   "source": [
    "import sympy as sp\n",
    "\n",
    "# Define the variables\n",
    "t = sp.symbols('t')\n",
    "r = sp.Function('r')(t)\n",
    "theta = sp.Function('theta')(t)\n",
    "G, M, c = sp.symbols(\"G M c\")\n",
    "\n",
    "# Define u_bar as a constant\n",
    "u_bar = sp.symbols(\"u_bar\", constant=True)\n",
    "\n",
    "# Define the derivatives of r and theta with respect to t\n",
    "dr_dt = r.diff(t)\n",
    "dtheta_dt = theta.diff(t)\n",
    "\n",
    "# The radial distance r is related to u by r = 1/u, so dr/dt can be written in terms of u\n",
    "u = sp.Function('u')(theta)\n",
    "du_dt = sp.Derivative(u, theta) * dtheta_dt\n",
    "\n",
    "# Now express dr/dt in terms of u\n",
    "dr_dt_in_terms_of_u = dr_dt.subs(r, 1/u)\n",
    "\n",
    "# Correcting the expression for dr/dt using conservation of angular momentum without the incorrect u^2 term in the denominator\n",
    "\n",
    "# Define the symbols and function\n",
    "theta = sp.symbols('theta')\n",
    "u = sp.Function('u')(theta)\n",
    "h = sp.symbols('h', positive=True, real=True)  # specific angular momentum\n",
    "\n",
    "# The derivative of theta with respect to time (angular velocity) can be expressed as:\n",
    "# d(theta)/dt = h * u(theta)^2 due to the conservation of angular momentum\n",
    "dtheta_dt = h * u**2\n",
    "\n",
    "# The derivative of r with respect to time in terms of u and theta using the chain rule is:\n",
    "# dr/dt = -1/u^2 * du/dtheta * d(theta)/dt\n",
    "# Substituting d(theta)/dt from the angular momentum conservation\n",
    "dr_dt = -1/u**2 * sp.diff(u, theta) * dtheta_dt\n",
    "\n",
    "# Now, simplify dr/dt by canceling the u^2 terms\n",
    "dr_dt_simplified = sp.simplify(dr_dt)\n",
    "\n",
    "# Redoing the calculation for the second derivative of r with respect to time in terms of u and theta\n",
    "# We have the first derivative dr_dt = -h * du/dtheta\n",
    "\n",
    "# The second derivative of r with respect to time (d^2r/dt^2) involves differentiating dr_dt with respect to time\n",
    "# Using the chain rule, differentiate du/dtheta with respect to theta, and then multiply by dtheta/dt\n",
    "\n",
    "# Differentiate du/dtheta with respect to theta\n",
    "du_dtheta = sp.diff(u, theta)\n",
    "d2u_dtheta2 = sp.diff(u, theta, theta)\n",
    "\n",
    "# Now apply the chain rule to get the second derivative of r with respect to time\n",
    "d2r_dt2 = -h * (d2u_dtheta2 * dtheta_dt + du_dtheta * sp.diff(dtheta_dt, t))\n",
    "\n",
    "# Since dtheta/dt = h * u^2, differentiate this with respect to t (which includes differentiating u with respect to theta)\n",
    "d2theta_dt2 = h * sp.diff(u**2, theta) * dtheta_dt\n",
    "\n",
    "# Substitute d2theta_dt2 and dtheta_dt into the expression for d2r_dt2\n",
    "d2r_dt2 = d2r_dt2.subs(sp.diff(dtheta_dt, t), d2theta_dt2)\n",
    "\n",
    "# Simplify the expression\n",
    "d2r_dt2_simplified = sp.simplify(d2r_dt2)\n",
    "\n",
    "\n",
    "dr_dt_simplified\n",
    "\n"
   ]
  },
  {
   "cell_type": "code",
   "execution_count": null,
   "id": "9de0a2e6",
   "metadata": {},
   "outputs": [],
   "source": [
    "d2r_dt2_simplified"
   ]
  },
  {
   "cell_type": "code",
   "execution_count": null,
   "id": "69dd2b8a",
   "metadata": {},
   "outputs": [],
   "source": [
    "# Manually rewrite the Newton's second law equation including the centrifugal force term\n",
    "# and solve for the second derivative of u with respect to theta (d2u/dtheta2)\n",
    "# The standard Binet equation in terms of u is given by:\n",
    "# d2u/dtheta2 + u = GM/h^2\n",
    "\n",
    "# Redefine u as a function of theta, not theta(t), to match standard usage in Binet's equation\n",
    "u = sp.Function('u')(theta)\n",
    "du_dtheta = sp.diff(u, theta)\n",
    "d2u_dtheta2 = sp.diff(u, theta, theta)\n",
    "\n",
    "# Express the radial acceleration (second derivative of r w.r.t t) in terms of u and its derivatives\n",
    "radial_acc_in_terms_of_u = -h**2 * u**2 * d2u_dtheta2\n",
    "\n",
    "# Express the centrifugal force term (h^2/r^3) in terms of u\n",
    "centrifugal_force_in_terms_of_u = h**2 * u**3\n",
    "\n",
    "# Write Newton's second law including the gravitational force and the centrifugal force term\n",
    "# newton_with_centrifugal = sp.Eq(radial_acc_in_terms_of_u - centrifugal_force_in_terms_of_u, -G*M*u**2*sp.sqrt(1-G*M*u/c**2))\n",
    "newton_with_centrifugal = sp.Eq(radial_acc_in_terms_of_u - centrifugal_force_in_terms_of_u, -G*M*u**2*(1-6*G*M*u/c**2))\n",
    "\n",
    "left_side = newton_with_centrifugal.lhs / (-h**2 * u**2)\n",
    "right_side = newton_with_centrifugal.rhs / (-h**2 * u**2)\n",
    "\n",
    "right_side = right_side.subs(u, 2*u*u_bar-u_bar**2)\n",
    "left_side = left_side.subs(u, 2*u*u_bar-u_bar**2)\n",
    "\n",
    "left_side = left_side.expand().doit()\n",
    "right_side = right_side.expand().doit()\n",
    "\n",
    "# We divide both sides by -h**2 * u**2 to isolate d2u/dtheta2 and cancel out the common terms\n",
    "eq = left_side = right_side\n",
    "eq_collect = sp.collect(eq, u, evaluate=False)\n",
    "constants = eq_collect.pop(sp.S.One, 0)"
   ]
  },
  {
   "cell_type": "code",
   "execution_count": null,
   "id": "c2499453",
   "metadata": {},
   "outputs": [],
   "source": [
    "constants"
   ]
  },
  {
   "cell_type": "code",
   "execution_count": null,
   "id": "f036e9c2",
   "metadata": {},
   "outputs": [],
   "source": [
    "eq_collect.keys()"
   ]
  },
  {
   "cell_type": "code",
   "execution_count": null,
   "id": "a7320e0e",
   "metadata": {},
   "outputs": [],
   "source": [
    "eq"
   ]
  },
  {
   "cell_type": "code",
   "execution_count": null,
   "id": "2a19beba",
   "metadata": {},
   "outputs": [],
   "source": []
  },
  {
   "cell_type": "code",
   "execution_count": null,
   "id": "0836391d",
   "metadata": {},
   "outputs": [],
   "source": []
  },
  {
   "cell_type": "code",
   "execution_count": null,
   "id": "a4a6cb22",
   "metadata": {},
   "outputs": [],
   "source": [
    "# Based on the keys provided by the user, let's reconstruct the equation.\n",
    "# We have a dictionary with keys for the derivative of u with respect to theta and u(theta),\n",
    "# we can use these to reconstruct the terms in the equation\n",
    "\n",
    "# Recreate the symbols and functions\n",
    "theta = sp.symbols('theta')\n",
    "u = sp.Function('u')(theta)\n",
    "h, G, M, c, u_bar = sp.symbols('h G M c u_bar')\n",
    "\n",
    "# Create the terms based on the keys\n",
    "terms = {\n",
    "    sp.Derivative(u, (theta, 2)): 2*u_bar,\n",
    "    u: (6*G**2*M**2*u_bar/(c**2*h**2) + 2*u_bar)\n",
    "}\n",
    "\n",
    "# Reconstruct the left-hand side of the equation by multiplying the keys by their corresponding coefficients\n",
    "lhs = sum(coeff * term for term, coeff in terms.items())\n",
    "\n",
    "# Calculate the constant term which does not contain u(theta)\n",
    "constant_term = 3*G**2*M**2*u_bar**2/(c**2*h**2) - G*M/h**2 - u_bar**2\n",
    "\n",
    "# Now create the equation by moving all terms to the left-hand side (lhs = 0)\n",
    "equation = sp.Eq((lhs/(2*u_bar)).simplify().doit(), (constant_term/(2*u_bar)).simplify().doit())\n",
    "\n",
    "equation\n"
   ]
  },
  {
   "cell_type": "code",
   "execution_count": null,
   "id": "0cf9d6b8",
   "metadata": {},
   "outputs": [],
   "source": []
  },
  {
   "cell_type": "code",
   "execution_count": null,
   "id": "894aca72",
   "metadata": {},
   "outputs": [],
   "source": []
  },
  {
   "cell_type": "code",
   "execution_count": null,
   "id": "7a082b86",
   "metadata": {},
   "outputs": [],
   "source": [
    "# Correcting the approach by applying collect to the left-hand side expression of the equation\n",
    "\n",
    "\n",
    "\n",
    "# Move all terms to one side (lhs - rhs) to collect terms involving u(theta)\n",
    "equation_collect = sp.collect(eq, u)\n",
    "\n",
    "# Now we can represent the equation in the form lhs = 0 where lhs has the collected terms\n",
    "collected_eq = sp.Eq(equation_collect, G)\n",
    "\n",
    "# Now we separate the terms involving u and the constants\n",
    "terms_involving_u = sp.collect(collected_eq, u, evaluate=False)\n",
    "constants = terms_involving_u.pop(sp.S.One, 0)\n",
    "\n",
    "# The terms_involving_u now contains only the terms that involve u(theta)\n",
    "terms_involving_u\n"
   ]
  },
  {
   "cell_type": "code",
   "execution_count": null,
   "id": "4172cbcb",
   "metadata": {},
   "outputs": [],
   "source": [
    " constants"
   ]
  },
  {
   "cell_type": "code",
   "execution_count": null,
   "id": "470a7592",
   "metadata": {},
   "outputs": [],
   "source": [
    "# Assuming the equation given by the user from the uploaded file is to be processed with sympy\n",
    "# The equation to be rearranged is:\n",
    "# -u_bar**2 + 2*u_bar*u(theta) + 2*u_bar*d^2u/dtheta^2 = -3*G**2*M**2*u_bar**2/(c**2*h**2) - 6*G**2*M**2*u_bar*u(theta)/(c**2*h**2) + GM/h**2\n",
    "\n",
    "# Define symbols and functions\n",
    "theta, G, M, c, h = sp.symbols('theta G M c h')\n",
    "u = sp.Function('u')(theta)\n",
    "u_bar = sp.symbols('u_bar')\n",
    "\n",
    "# Define the equation\n",
    "eq = sp.Eq(-u_bar**2 + 2*u_bar*u + 2*u_bar*sp.diff(u, theta, 2),\n",
    "           -3*G**2*M**2*u_bar**2/(c**2*h**2) - 6*G**2*M**2*u_bar*u/(c**2*h**2) + G*M/h**2)\n",
    "\n",
    "# Rearrange the equation to collect terms dependent on u to the left and constants to the right\n",
    "rearranged_eq = sp.collect(eq.expand(), u, evaluate=False)\n",
    "\n",
    "rearranged_eq\n"
   ]
  },
  {
   "cell_type": "code",
   "execution_count": null,
   "id": "bea1b210",
   "metadata": {},
   "outputs": [],
   "source": [
    "from sympy import symbols, limit, oo, acos, sqrt\n",
    "\n",
    "# Define symbols\n",
    "GM, b, c, e, a = symbols('GM b c e a')\n",
    "b= a*sqrt(e**2-1)\n",
    "# Define the expression inside the limit\n",
    "expression = 2 * 1/(e**2-1) * acos(1 / e)\n",
    "\n",
    "# Calculate the limit as e approaches infinity\n",
    "limit_expression = limit(expression, e, oo)\n",
    "\n",
    "limit_expression.simplify()\n"
   ]
  },
  {
   "cell_type": "code",
   "execution_count": null,
   "id": "6af25bb8",
   "metadata": {},
   "outputs": [],
   "source": [
    "from sympy import symbols, acos, solve, diff, oo\n",
    "\n",
    "# Define symbols\n",
    "e = symbols('e', real=True, positive=True)\n",
    "\n",
    "# Define the expression for the deflection angle as a function of e\n",
    "expression = 2 / (e**2 - 1) * acos(1 / e)\n",
    "\n",
    "# Take the derivative of the expression with respect to e to find the extremum points\n",
    "derivative = diff(expression, e)\n",
    "\n",
    "# Find critical points where the first derivative is zero\n",
    "critical_points = solve(derivative, e)\n",
    "\n",
    "# We only consider the critical points where e is greater than 1 (since it's a hyperbola)\n",
    "valid_critical_points = [cp for cp in critical_points if cp > 1]\n",
    "\n",
    "# Calculate the second derivative to test for concavity and find the maximum\n",
    "second_derivative = diff(derivative, e)\n",
    "\n",
    "# Evaluate the second derivative at the critical points to determine if they are maxima\n",
    "maxima_tests = [second_derivative.subs(e, cp).evalf() for cp in valid_critical_points]\n",
    "\n",
    "# Compile the critical points and their second derivative tests\n",
    "extrema = list(zip(valid_critical_points, maxima_tests))\n",
    "\n",
    "# Calculate the maximum deviation by evaluating the expression at the valid critical points\n",
    "max_deviation = [expression.subs(e, cp).evalf() for cp, test in extrema if test < 0]\n",
    "\n",
    "max_deviation, extrema\n"
   ]
  },
  {
   "cell_type": "code",
   "execution_count": null,
   "id": "c9f436fd",
   "metadata": {},
   "outputs": [],
   "source": [
    "import numpy as np\n",
    "from scipy.optimize import minimize_scalar\n",
    "\n",
    "# Define the function for the deflection angle as a function of e\n",
    "def deflection_angle(e):\n",
    "    if e <= 1:\n",
    "        return np.inf  # The deflection angle is undefined for e <= 1\n",
    "    return 2 / (e**2 - 1) * np.arccos(1 / e)\n",
    "\n",
    "# Find the maximum deviation by minimizing the negative of the function\n",
    "result = minimize_scalar(lambda e: -deflection_angle(e), bounds=(1, np.inf), method='bounded')\n",
    "\n",
    "# The maximum deviation is the negative of the minimum value found\n",
    "max_deviation = -result.fun\n",
    "max_deviation_value = max_deviation\n",
    "max_deviation_e = result.x\n",
    "\n",
    "max_deviation_value, max_deviation_e\n"
   ]
  },
  {
   "cell_type": "code",
   "execution_count": null,
   "id": "c8bed7fa",
   "metadata": {},
   "outputs": [],
   "source": [
    "import numpy as np\n",
    "from scipy.optimize import minimize_scalar\n",
    "\n",
    "# Define the function for the deflection angle as a function of e\n",
    "def deflection_angle(e):\n",
    "    if e <= 1:\n",
    "        return np.inf  # The deflection angle is undefined for e <= 1\n",
    "    return 2 / (e**2 - 1) * np.arccos(1 / e)\n",
    "\n",
    "# Find the maximum deviation by minimizing the negative of the function\n",
    "# Set a large upper bound instead of infinity for numerical optimization\n",
    "large_number = 1000\n",
    "result = minimize_scalar(lambda e: -deflection_angle(e), bounds=(1, large_number), method='bounded')\n",
    "\n",
    "# The maximum deviation is the negative of the minimum value found\n",
    "max_deviation = -result.fun\n",
    "max_deviation_e = result.x\n"
   ]
  },
  {
   "cell_type": "code",
   "execution_count": null,
   "id": "5b58a405",
   "metadata": {},
   "outputs": [],
   "source": [
    "max_deviation_e"
   ]
  },
  {
   "cell_type": "code",
   "execution_count": null,
   "id": "c372b907",
   "metadata": {},
   "outputs": [],
   "source": [
    "from astropy import units as uu, constants as cc\n",
    "AA = \n",
    "deflection = 2(4*cc.G*cc.M_sun/cc.c**2/cc.R_sun)*180/np.pi*3600\n",
    "deflection"
   ]
  },
  {
   "cell_type": "code",
   "execution_count": null,
   "id": "9d894544",
   "metadata": {},
   "outputs": [],
   "source": [
    "AA = (cc.G*cc.M_sun/cc.c**2/cc.R_sun)\n",
    "LL = (cc.G*cc.M_sun/cc.c**2/cc.R_sun**2)\n",
    "BB = 2\n",
    "deflection = 2*AA*BB*180/np.pi*3600\n",
    "deflection, AA, BB, LL\n"
   ]
  },
  {
   "cell_type": "code",
   "execution_count": null,
   "id": "d1335489",
   "metadata": {},
   "outputs": [],
   "source": []
  },
  {
   "cell_type": "code",
   "execution_count": null,
   "id": "7d19a3fa",
   "metadata": {},
   "outputs": [],
   "source": []
  },
  {
   "cell_type": "code",
   "execution_count": null,
   "id": "d2e7048d",
   "metadata": {},
   "outputs": [],
   "source": []
  },
  {
   "cell_type": "code",
   "execution_count": null,
   "id": "8cc61393",
   "metadata": {},
   "outputs": [],
   "source": [
    "# Constants\n",
    "G = 6.67430e-11  # gravitational constant in m^3 kg^-1 s^-2\n",
    "M_sun = 1.989e30  # mass of the Sun in kg\n",
    "c = 2.998e8  # speed of light in m/s\n",
    "R_sun = 6.96e8  # radius of the Sun in meters\n",
    "\n",
    "# Deflection angle formula for light just grazing the Sun, where arccos(1/e) -> 0 as e -> infinity\n",
    "deflection_angle = 2 * (G * M_sun / (R_sun * c**2))\n",
    "\n",
    "deflection_angle\n"
   ]
  },
  {
   "cell_type": "code",
   "execution_count": null,
   "id": "1decd870",
   "metadata": {},
   "outputs": [],
   "source": []
  },
  {
   "cell_type": "code",
   "execution_count": null,
   "id": "5fd3bc9c",
   "metadata": {},
   "outputs": [],
   "source": []
  },
  {
   "cell_type": "code",
   "execution_count": null,
   "id": "58a186b0",
   "metadata": {},
   "outputs": [],
   "source": []
  }
 ],
 "metadata": {
  "kernelspec": {
   "display_name": "Python [conda env:Cosmos3020]",
   "language": "python",
   "name": "conda-env-Cosmos3020-py"
  },
  "language_info": {
   "codemirror_mode": {
    "name": "ipython",
    "version": 3
   },
   "file_extension": ".py",
   "mimetype": "text/x-python",
   "name": "python",
   "nbconvert_exporter": "python",
   "pygments_lexer": "ipython3",
   "version": "3.10.13"
  }
 },
 "nbformat": 4,
 "nbformat_minor": 5
}
