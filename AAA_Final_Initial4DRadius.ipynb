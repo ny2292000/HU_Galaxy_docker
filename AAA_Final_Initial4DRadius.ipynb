{
 "cells": [
  {
   "cell_type": "markdown",
   "metadata": {},
   "source": [
    "# CONTENT\n",
    "\n",
    "## Derivation of Black Hole density\n",
    "## Derivation of Initial 4D radius"
   ]
  },
  {
   "cell_type": "markdown",
   "metadata": {},
   "source": [
    "################################################################################\n",
    "################################################################################\n",
    "################################################################################\n",
    "# Initial Radius is related to the speed of light by Energy Conservation:\n",
    "# Energy of m-equivalent on the Inner Dilation Layer traveling at the speed of light\n",
    "$$\\frac{mc^2}{2} $$\n",
    "# Energy of m-equivalent on the Outermost Contraction Layer traveling at the speed of light\n",
    "$$ \\frac{mc^2}{2} $$\n",
    "# Gravitational Potential energy in the Outermost Contraction Layer\n",
    "$$-\\int_{0}^{R_{initial}}{\\frac {G 4\\pi m r^2 \\rho_{current}}{r}}dr$$\n",
    "\n",
    "# So\n",
    "$$\\frac{mc^2}{2}  + \\frac{mc^2}{2} -4 \\pi m G \\int_{0}^{R_{current}}{\\rho_{current}r}dr = 0 $$\n",
    "\n",
    "# Resulting in:\n",
    "$$ \\rho_{current} =\\frac{c^2}{G  *4 \\pi R_{current}^2 } $$\n",
    "\n",
    "$$ TotalMass = \\frac{4 \\pi R_{current}^3}{3} \\rho_{current}  $$\n",
    "\n",
    "$$ R_{initial}=(\\frac{TotalMass}{\\frac{4\\pi  \\rho_{initial}}{3} })^{1/3}$$\n",
    "################################################################################\n",
    "################################################################################\n",
    "################################################################################"
   ]
  },
  {
   "cell_type": "markdown",
   "metadata": {},
   "source": [
    "################################################################################\n",
    "################################################################################\n",
    "################################################################################\n",
    "\n",
    "# Initial Radius is related to the speed of light by Energy Conservation:\n",
    "\n",
    "# Energy of 4D mass on the Outermost Contraction Layer traveling at the speed of light\n",
    "$$ \\frac{2mc^2}{2} $$\n",
    "# Gravitational Potential energy in the Outermost Contraction Layer\n",
    "$$-\\int_{0}^{R_{initial}}{\\frac {G 4\\pi m r^2 \\rho_{current}}{r}}dr$$\n",
    "\n",
    "# So\n",
    "$$ \\frac{2mc^2}{2} -4 \\pi m G \\int_{0}^{R_{current}}{\\rho_{current}r}dr = 0 $$\n",
    "\n",
    "# Resulting in:\n",
    "$$ \\rho_{current} =\\frac{c^2}{G  *4 \\pi R_{current}^2 } $$\n",
    "\n",
    "$$ TotalMass = \\frac{4 \\pi R_{current}^3}{3} \\rho_{current}  $$\n",
    "\n",
    "$$ R_{initial}=(\\frac{TotalMass}{\\frac{4\\pi  \\rho_{initial}}{3} })^{1/3}$$\n",
    "################################################################################\n",
    "################################################################################\n",
    "################################################################################"
   ]
  },
  {
   "cell_type": "code",
   "execution_count": 1,
   "metadata": {},
   "outputs": [
    {
     "data": {
      "text/plain": [
       "(<Quantity 1.32069058e-15 m>,\n",
       " <Quantity 3.63246136e+18 kg / m3>,\n",
       " <Quantity 3.7e+17 kg / m3>,\n",
       " <Quantity 525.51784466 3.17098e-08 lyr>,\n",
       " <Quantity 5.9621954e+52 kg>,\n",
       " <Quantity 3.63246136e+18 kg / m3>,\n",
       " <Quantity 3.63246136e+18 kg / m3>)"
      ]
     },
     "execution_count": 1,
     "metadata": {},
     "output_type": "execute_result"
    }
   ],
   "source": [
    "from astropy import units as uu, constants as cc\n",
    "import numpy as np\n",
    "from parameters import *\n",
    "\n",
    "l_second = uu.lyr/(365*24*3600)\n",
    "# the initial density was 6 halves + 8 1/eight per cubic centered face cell + 1 centered\n",
    "FD_mass = cc.m_p+cc.m_e\n",
    "cell_length = (cc.h/(FD_mass*cc.c)).si\n",
    "BlackHole_density = (5*FD_mass/cell_length**3).si\n",
    "NeutronStar_density = 3.7E17*uu.kg/uu.m**3\n",
    "R_0 = (14.04E9*uu.lyr).si\n",
    "density_now = (cc.c**2/(cc.G*4*np.pi*R_0**2)).to(uu.kg/uu.m**3)\n",
    "TotalMass = (4/3*np.pi*R_0**3*density_now).si\n",
    "R_initial = ((3*TotalMass/(4*np.pi*BlackHole_density))**(1/3)).to(l_second)\n",
    "cell_length,BlackHole_density, NeutronStar_density, R_initial, TotalMass, BlackHole_density, dbh"
   ]
  },
  {
   "cell_type": "code",
   "execution_count": 3,
   "metadata": {},
   "outputs": [
    {
     "data": {
      "text/plain": [
       "(<Quantity 525.51784466 3.17098e-08 lyr>,\n",
       " <Quantity 3.63246136e+18 kg / m3>,\n",
       " <Quantity 3.63246136e+18 kg / m3>)"
      ]
     },
     "execution_count": 3,
     "metadata": {},
     "output_type": "execute_result"
    }
   ],
   "source": [
    "R_initial, BlackHole_density, dbh"
   ]
  },
  {
   "cell_type": "markdown",
   "metadata": {},
   "source": [
    "# Initial 4D radius of the Universe was 525 light-seconds"
   ]
  }
 ],
 "metadata": {
  "anaconda-cloud": {},
  "kernelspec": {
   "display_name": "Python [conda env:Cosmos3020]",
   "language": "python",
   "name": "conda-env-Cosmos3020-py"
  },
  "language_info": {
   "codemirror_mode": {
    "name": "ipython",
    "version": 3
   },
   "file_extension": ".py",
   "mimetype": "text/x-python",
   "name": "python",
   "nbconvert_exporter": "python",
   "pygments_lexer": "ipython3",
   "version": "3.11.9"
  }
 },
 "nbformat": 4,
 "nbformat_minor": 4
}
