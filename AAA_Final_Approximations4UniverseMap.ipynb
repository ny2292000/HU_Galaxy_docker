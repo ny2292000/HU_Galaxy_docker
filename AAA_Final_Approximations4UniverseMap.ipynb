{
 "cells": [
  {
   "cell_type": "code",
   "execution_count": null,
   "id": "2064e74b",
   "metadata": {},
   "outputs": [],
   "source": [
    "import healpy as hp\n",
    "import numpy as np\n",
    "from numba import jit\n",
    "\n",
    "@jit\n",
    "def numberOfBaseFunctions(kk):\n",
    "    count=0\n",
    "    for k in np.arange(kk+1):\n",
    "        for l in np.arange(k+1):\n",
    "            for m in np.arange(-l-1,l+1):\n",
    "                count += 1\n",
    "    return count\n",
    "        "
   ]
  },
  {
   "cell_type": "code",
   "execution_count": null,
   "id": "bda0a888",
   "metadata": {},
   "outputs": [],
   "source": [
    "# Problem dimensions\n",
    "numberOfBaseFunctions(48),hp.nside2npix(nside=1024)"
   ]
  },
  {
   "cell_type": "code",
   "execution_count": null,
   "id": "da64549f",
   "metadata": {},
   "outputs": [],
   "source": [
    "# Approximate Solution\n",
    "numberOfBaseFunctions(49),hp.nside2npix(nside=64)"
   ]
  },
  {
   "cell_type": "code",
   "execution_count": null,
   "id": "52fe7138-2287-41a1-a659-ca89bee854e1",
   "metadata": {},
   "outputs": [],
   "source": []
  }
 ],
 "metadata": {
  "kernelspec": {
   "display_name": "Python [conda env:Cosmos3020]",
   "language": "python",
   "name": "conda-env-Cosmos3020-py"
  },
  "language_info": {
   "codemirror_mode": {
    "name": "ipython",
    "version": 3
   },
   "file_extension": ".py",
   "mimetype": "text/x-python",
   "name": "python",
   "nbconvert_exporter": "python",
   "pygments_lexer": "ipython3",
   "version": "3.11.8"
  }
 },
 "nbformat": 4,
 "nbformat_minor": 5
}
